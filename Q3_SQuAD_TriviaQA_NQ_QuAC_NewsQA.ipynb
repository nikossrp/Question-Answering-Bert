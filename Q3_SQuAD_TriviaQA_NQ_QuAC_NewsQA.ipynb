{
  "cells": [
    {
      "cell_type": "code",
      "execution_count": 1,
      "metadata": {
        "colab": {
          "base_uri": "https://localhost:8080/"
        },
        "id": "GrH5gHIO9k_X",
        "outputId": "959d02d3-744c-46c4-b2a5-967ae08ae75f"
      },
      "outputs": [
        {
          "name": "stdout",
          "output_type": "stream",
          "text": [
            "Mounted at /content/drive\n"
          ]
        }
      ],
      "source": [
        "from google.colab import drive\n",
        "drive.mount('/content/drive')"
      ]
    },
    {
      "cell_type": "code",
      "execution_count": null,
      "metadata": {
        "colab": {
          "base_uri": "https://localhost:8080/"
        },
        "id": "me5CJv2XCCgV",
        "outputId": "ceb52478-874a-496c-f9bb-694fdc50c99f"
      },
      "outputs": [],
      "source": [
        "! pip install transformers"
      ]
    },
    {
      "cell_type": "markdown",
      "metadata": {
        "id": "fhXV4w4W-FPF"
      },
      "source": [
        "# Needed for Kaggle - import datasets from Drive - (links are probably still available)\n"
      ]
    },
    {
      "cell_type": "markdown",
      "metadata": {
        "id": "6YpYYsxK0o55"
      },
      "source": [
        "## Import Datasets from Drive"
      ]
    },
    {
      "cell_type": "code",
      "execution_count": null,
      "metadata": {
        "colab": {
          "base_uri": "https://localhost:8080/"
        },
        "execution": {
          "iopub.execute_input": "2022-03-10T21:30:45.243346Z",
          "iopub.status.busy": "2022-03-10T21:30:45.243065Z",
          "iopub.status.idle": "2022-03-10T21:31:46.302644Z",
          "shell.execute_reply": "2022-03-10T21:31:46.301828Z",
          "shell.execute_reply.started": "2022-03-10T21:30:45.243296Z"
        },
        "id": "FnapB6lr0o59",
        "outputId": "fc4e8dba-366e-4ace-8003-f12c2a48b3a8",
        "trusted": true
      },
      "outputs": [
        {
          "name": "stdout",
          "output_type": "stream",
          "text": [
            "/bin/bash: conda: command not found\n"
          ]
        }
      ],
      "source": [
        "# just import datasets from my drive (source: https://www.youtube.com/watch?v=rzz0uaNKAJY&ab_channel=ChafikBlm)\n",
        "! conda install -y gdown # needed for kaggle"
      ]
    },
    {
      "cell_type": "markdown",
      "metadata": {
        "id": "_M4QDhTF0o5_"
      },
      "source": [
        "## import SQuAD"
      ]
    },
    {
      "cell_type": "code",
      "execution_count": null,
      "metadata": {
        "execution": {
          "iopub.execute_input": "2022-03-10T21:31:46.305293Z",
          "iopub.status.busy": "2022-03-10T21:31:46.305001Z",
          "iopub.status.idle": "2022-03-10T21:31:57.537883Z",
          "shell.execute_reply": "2022-03-10T21:31:57.537105Z",
          "shell.execute_reply.started": "2022-03-10T21:31:46.305258Z"
        },
        "id": "pX6vHtTQ0o5_",
        "trusted": true
      },
      "outputs": [],
      "source": [
        "# for kaggle\n",
        "!gdown 1bgkt-gBTVhM8LgvTvkZ_tItyiEGEJXOI  # get the data from drive (check the video above)\n",
        "!unzip \"./SQuAD.zip\"\n",
        "\n"
      ]
    },
    {
      "cell_type": "markdown",
      "metadata": {
        "id": "ITDwvOuy0o6A"
      },
      "source": [
        "## import TriviaQA "
      ]
    },
    {
      "cell_type": "code",
      "execution_count": null,
      "metadata": {
        "execution": {
          "iopub.execute_input": "2022-03-10T21:31:57.539749Z",
          "iopub.status.busy": "2022-03-10T21:31:57.539458Z",
          "iopub.status.idle": "2022-03-10T21:32:06.816811Z",
          "shell.execute_reply": "2022-03-10T21:32:06.815751Z",
          "shell.execute_reply.started": "2022-03-10T21:31:57.539711Z"
        },
        "id": "7617Pmvm0o6A",
        "trusted": true
      },
      "outputs": [],
      "source": [
        "!gdown 1fTjdYW_1JO0XyO8Sq-SoCZOXwpiLSNm9\n",
        "!unzip \"./TriviaQA.zip\""
      ]
    },
    {
      "cell_type": "markdown",
      "metadata": {
        "id": "r5Y0FVY-0o6B"
      },
      "source": [
        "## import NQ"
      ]
    },
    {
      "cell_type": "code",
      "execution_count": null,
      "metadata": {
        "execution": {
          "iopub.execute_input": "2022-03-10T21:32:06.822608Z",
          "iopub.status.busy": "2022-03-10T21:32:06.822245Z",
          "iopub.status.idle": "2022-03-10T21:32:11.067625Z",
          "shell.execute_reply": "2022-03-10T21:32:11.066869Z",
          "shell.execute_reply.started": "2022-03-10T21:32:06.822563Z"
        },
        "id": "NsFrevqG0o6B",
        "trusted": true
      },
      "outputs": [],
      "source": [
        "!gdown 16PKZN2Bx7vrgHSL1hg-n2P5XWfSndcR7\n",
        "!unzip \"./NQ.zip\""
      ]
    },
    {
      "cell_type": "markdown",
      "metadata": {
        "id": "-TWgRUMP0o6C"
      },
      "source": [
        "## import QuAC"
      ]
    },
    {
      "cell_type": "code",
      "execution_count": null,
      "metadata": {
        "execution": {
          "iopub.execute_input": "2022-03-10T21:32:11.072477Z",
          "iopub.status.busy": "2022-03-10T21:32:11.071904Z",
          "iopub.status.idle": "2022-03-10T21:32:29.419232Z",
          "shell.execute_reply": "2022-03-10T21:32:29.418438Z",
          "shell.execute_reply.started": "2022-03-10T21:32:11.072430Z"
        },
        "id": "Jcc1kuQn0o6C",
        "trusted": true
      },
      "outputs": [],
      "source": [
        "!gdown 1_Mkd_huzYSiIvv73e_t2Vj04Cb5ko-eo\n",
        "!unzip \"./QuAC.zip\""
      ]
    },
    {
      "cell_type": "markdown",
      "metadata": {
        "id": "FKim31V70o6D"
      },
      "source": [
        "## import NewsQA"
      ]
    },
    {
      "cell_type": "code",
      "execution_count": null,
      "metadata": {
        "execution": {
          "iopub.execute_input": "2022-03-10T21:32:29.422418Z",
          "iopub.status.busy": "2022-03-10T21:32:29.422098Z",
          "iopub.status.idle": "2022-03-10T21:32:36.638842Z",
          "shell.execute_reply": "2022-03-10T21:32:36.638046Z",
          "shell.execute_reply.started": "2022-03-10T21:32:29.422377Z"
        },
        "id": "kXUvAdIS0o6D",
        "trusted": true
      },
      "outputs": [],
      "source": [
        "!gdown  1WHEAPldWLWhbh1J0ypZN6ECj7YpgLeSp\n",
        "!unzip \"./NewsQA.zip\""
      ]
    },
    {
      "cell_type": "markdown",
      "metadata": {
        "id": "9r9nl83L6DUB"
      },
      "source": [
        "# Paths for datasets"
      ]
    },
    {
      "cell_type": "code",
      "execution_count": 2,
      "metadata": {
        "execution": {
          "iopub.execute_input": "2022-03-10T21:32:36.642305Z",
          "iopub.status.busy": "2022-03-10T21:32:36.642086Z",
          "iopub.status.idle": "2022-03-10T21:32:36.647792Z",
          "shell.execute_reply": "2022-03-10T21:32:36.647040Z",
          "shell.execute_reply.started": "2022-03-10T21:32:36.642278Z"
        },
        "id": "rP6GGdSn6hi9",
        "trusted": true
      },
      "outputs": [],
      "source": [
        "# SQuAD\n",
        "Location_squad_train = '/content/drive/MyDrive/AI_2/project4/Squad2.0/train-v2.0.json'\n",
        "Location_squad_dev = '/content/drive/MyDrive/AI_2/project4/Squad2.0/dev-v2.0.json'\n",
        "\n",
        "\n",
        "# TriviaQA\n",
        "Location_trivia_train = '/content/drive/MyDrive/AI_2/project4/TrivialQA/triviaqa_train.json'\n",
        "Location_trivia_dev = '/content/drive/MyDrive/AI_2/project4/TrivialQA/triviaqa_dev.json'\n",
        "\n",
        "\n",
        "# Natural Questions\n",
        "Location_nq_train = '/content/drive/MyDrive/AI_2/project4/NQ/nq_train.json'\n",
        "Location_nq_dev = '/content/drive/MyDrive/AI_2/project4/NQ/nq_dev.json'\n",
        "\n",
        "\n",
        "# QuAC\n",
        "Location_quac_train = '/content/drive/MyDrive/AI_2/project4/QuAC/quac_train.json'\n",
        "Location_quac_dev = '/content/drive/MyDrive/AI_2/project4/QuAC/quac_dev.json'\n",
        "\n",
        "\n",
        "# NewsQA\n",
        "Location_newsqa_train = '/content/drive/MyDrive/AI_2/project4/NewsQA/newsqa_train.json'\n",
        "Location_newsqa_dev = '/content/drive/MyDrive/AI_2/project4/NewsQA/newsqa_dev.json'"
      ]
    },
    {
      "cell_type": "markdown",
      "metadata": {
        "id": "Y4t41SqfyFU_"
      },
      "source": [
        "# Import necessary libraries and set seeds"
      ]
    },
    {
      "cell_type": "code",
      "execution_count": 3,
      "metadata": {
        "colab": {
          "base_uri": "https://localhost:8080/"
        },
        "execution": {
          "iopub.execute_input": "2022-03-10T21:32:36.650096Z",
          "iopub.status.busy": "2022-03-10T21:32:36.649387Z",
          "iopub.status.idle": "2022-03-10T21:32:38.117078Z",
          "shell.execute_reply": "2022-03-10T21:32:38.116293Z",
          "shell.execute_reply.started": "2022-03-10T21:32:36.650058Z"
        },
        "id": "cRLV184nD09M",
        "outputId": "c4d1e639-7593-442f-a02a-7ee9f4a0f033",
        "trusted": true
      },
      "outputs": [
        {
          "name": "stdout",
          "output_type": "stream",
          "text": [
            "Working on: cuda\n"
          ]
        }
      ],
      "source": [
        "import torch\n",
        "from tqdm.notebook import tqdm\n",
        "\n",
        "# from transformers import BertTokenizer\n",
        "# from torch.utils.data import TensorDataset\n",
        "# from transformers import BertForSequenceClassification\n",
        "\n",
        "# OPTIONAL: if you want to have more information on what's happening, activate the logger as follows\n",
        "import logging\n",
        "#logging.basicConfig(level=logging.INFO)\n",
        "\n",
        "import matplotlib.pyplot as plt\n",
        "import pandas as pd\n",
        "import random\n",
        "import numpy as np\n",
        "import os\n",
        "import time # time module \n",
        "\n",
        "import json\n",
        "\n",
        "\n",
        "\n",
        "def set_seed(seed = 1234):\n",
        "    '''Sets the seed of the entire notebook so results are the same every time we run.\n",
        "    This is for REPRODUCIBILITY.'''\n",
        "    np.random.seed(seed)\n",
        "    random.seed(seed)\n",
        "    torch.manual_seed(seed)\n",
        "    torch.cuda.manual_seed(seed)\n",
        "    # When running on the CuDNN backend, two further options must be set\n",
        "    torch.backends.cudnn.deterministic = True\n",
        "    # Set a fixed value for the hash seed\n",
        "    os.environ['PYTHONHASHSEED'] = str(seed)\n",
        "    \n",
        "set_seed(23456)\n",
        "\n",
        "device = torch.device('cuda' if torch.cuda.is_available() else 'cpu') # use 'cuda' if available else 'cpu'\n",
        "print('Working on:', device)"
      ]
    },
    {
      "cell_type": "markdown",
      "metadata": {
        "id": "a--Qcnqb8rA0"
      },
      "source": [
        "# Prepare train and test set"
      ]
    },
    {
      "cell_type": "code",
      "execution_count": 4,
      "metadata": {
        "execution": {
          "iopub.execute_input": "2022-03-12T15:28:43.886274Z",
          "iopub.status.busy": "2022-03-12T15:28:43.886020Z",
          "iopub.status.idle": "2022-03-12T15:28:43.898354Z",
          "shell.execute_reply": "2022-03-12T15:28:43.897418Z",
          "shell.execute_reply.started": "2022-03-12T15:28:43.886247Z"
        },
        "id": "_LR_eqfDcQNF",
        "trusted": true
      },
      "outputs": [],
      "source": [
        "# num_groups_prec will tell us how much data we take from dataset \n",
        "# if num_groups_precent = -1 then we take all the data\n",
        "# if remove_no_answer == False, we will train model with all questions otherwise we will remove the questions without answer\n",
        "\n",
        "\n",
        "def read_dataset(path, num_groups_percent=-1, remove_no_answers = False):\n",
        "    num_groups = -1\n",
        "\n",
        "    # open JSON file and load intro dictionary\n",
        "    with open(path, 'rb') as f:\n",
        "        squad_dict = json.load(f)\n",
        "        \n",
        "    no_answer = 0\n",
        "\n",
        "    # initialize lists for contexts, questions, anLd answers\n",
        "    contexts = []\n",
        "    questions = []\n",
        "    answers = []\n",
        "    \n",
        "    if num_groups_percent != -1:\n",
        "        num_groups = len(squad_dict['data']) * num_groups_percent   # take the selected number of the whole dataset\n",
        "    \n",
        "    \n",
        "    # iterate through all data in squad data\n",
        "    for group in squad_dict['data']:\n",
        "        \n",
        "        if num_groups <= 0 and num_groups != -1:   # take only the selected groups if there are\n",
        "          break \n",
        "        \n",
        "\n",
        "        for passage in group['paragraphs']:\n",
        "            context = passage['context']\n",
        "\n",
        "            for qa in passage['qas']:\n",
        "                question = qa['question']\n",
        "                # check if we need to be extracting from 'answers' or 'plausible_answers'\n",
        "                if 'plausible_answers' in qa.keys():\n",
        "                    access = 'plausible_answers'\n",
        "                else:\n",
        "                    access = 'answers'\n",
        "                \n",
        "                if qa[access] != []:             # question with answers\n",
        "                    for answer in qa[access]:\n",
        "                        # append data to lists\n",
        "                        contexts.append(context)\n",
        "                        questions.append(question)\n",
        "                        answers.append(answer)\n",
        "                        \n",
        "                elif qa[access] == []:             # questions without answers\n",
        "                    if remove_no_answers == True:                             # questios without answers\n",
        "                            no_answer += 1\n",
        "                    elif remove_no_answers == False:\n",
        "                            # append data to lists\n",
        "                            contexts.append(context)\n",
        "                            questions.append(question)\n",
        "                            answers.append({'answer_start': 0, 'text': '-', 'answer_end': 1})\n",
        "                    \n",
        "\n",
        "        if num_groups != -1:\n",
        "          num_groups -= 1\n",
        "        \n",
        "    \n",
        "    # return formatted data lists\n",
        "    if remove_no_answers == True:\n",
        "        return contexts, questions, answers, no_answer\n",
        "    \n",
        "    return contexts, questions, answers\n",
        "        "
      ]
    },
    {
      "cell_type": "markdown",
      "metadata": {
        "id": "1E4NK8JQCzRI"
      },
      "source": [
        "## Indicate the start and the end of each answer within the context"
      ]
    },
    {
      "cell_type": "code",
      "execution_count": 5,
      "metadata": {
        "execution": {
          "iopub.execute_input": "2022-03-10T21:32:38.132103Z",
          "iopub.status.busy": "2022-03-10T21:32:38.131342Z",
          "iopub.status.idle": "2022-03-10T21:32:38.143166Z",
          "shell.execute_reply": "2022-03-10T21:32:38.142407Z",
          "shell.execute_reply.started": "2022-03-10T21:32:38.132059Z"
        },
        "id": "hCPZjE68C7E4",
        "trusted": true
      },
      "outputs": [],
      "source": [
        "def add_end_idx(answers, contexts):\n",
        "    # loop through each answer-context pair\n",
        "    for answer, context in zip(answers, contexts):\n",
        "        # gold_text refers to the answer we are expecting to find in context\n",
        "        gold_text = answer['text']\n",
        "        # we already know the start index\n",
        "        start_idx = answer['answer_start']\n",
        "        # and ideally this would be the end index...\n",
        "        end_idx = start_idx + len(gold_text)\n",
        "\n",
        "        # ...however, sometimes squad answers are off by a character or two\n",
        "        if context[start_idx:end_idx] == gold_text:\n",
        "            # if the answer is not off :)\n",
        "            answer['answer_end'] = end_idx\n",
        "        else:\n",
        "            # this means the answer is off by 1-2 tokens\n",
        "            for n in [1, 2]:\n",
        "                if context[start_idx-n:end_idx-n] == gold_text:\n",
        "                    answer['answer_start'] = start_idx - n\n",
        "                    answer['answer_end'] = end_idx - n\n",
        "            "
      ]
    },
    {
      "cell_type": "markdown",
      "metadata": {
        "id": "NJmOe9lDxN-G"
      },
      "source": [
        "## Tokenization function for Bert "
      ]
    },
    {
      "cell_type": "code",
      "execution_count": 6,
      "metadata": {
        "execution": {
          "iopub.execute_input": "2022-03-10T21:32:38.144842Z",
          "iopub.status.busy": "2022-03-10T21:32:38.144561Z",
          "iopub.status.idle": "2022-03-10T21:32:38.155065Z",
          "shell.execute_reply": "2022-03-10T21:32:38.154275Z",
          "shell.execute_reply.started": "2022-03-10T21:32:38.144804Z"
        },
        "id": "3R5GTtJAxKen",
        "trusted": true
      },
      "outputs": [],
      "source": [
        "def add_token_positions(encodings, answers):\n",
        "    # initialize lists to contain the token indices of answer start/end\n",
        "    start_positions = []\n",
        "    end_positions = []\n",
        "    for i in range(len(answers)):\n",
        "\n",
        "        # append start/end token position using char_to_token method\n",
        "        start_positions.append(encodings.char_to_token(i, answers[i]['answer_start'])) # each number has a word from answer\n",
        "        end_positions.append(encodings.char_to_token(i, answers[i]['answer_end']))\n",
        "\n",
        "        # print(i, ') ', answers[i], 'start_positions: ', start_positions[-1], 'end_position: ', end_positions[-1], ' -- ', answers[i]['answer_end'], answers[i]['answer_start'])\n",
        "\n",
        "        # if start position is None, the answer passage has been truncated\n",
        "        if start_positions[-1] is None:\n",
        "            start_positions[-1] = tokenizer.model_max_length\n",
        "\n",
        "        # if i == 1541:\n",
        "        shift = 1\n",
        "        # end position cannot be found, char_to_token found space, so shift position until found ( little cheat :P )  \n",
        "        while end_positions[-1] is None:\n",
        "            end_positions[-1] = encodings.char_to_token(i, answers[i]['answer_end'] - shift)\n",
        "            shift += 1\n",
        "\n",
        " \n",
        "    # update our encodings object with the new token-based start/end positions\n",
        "    encodings.update({'start_positions': start_positions, 'end_positions': end_positions})"
      ]
    },
    {
      "cell_type": "markdown",
      "metadata": {
        "id": "TbfrSLIIwofa"
      },
      "source": [
        "## Initializing the Dataset Squad "
      ]
    },
    {
      "cell_type": "code",
      "execution_count": 7,
      "metadata": {
        "execution": {
          "iopub.execute_input": "2022-03-10T21:32:38.157029Z",
          "iopub.status.busy": "2022-03-10T21:32:38.156534Z",
          "iopub.status.idle": "2022-03-10T21:32:38.163933Z",
          "shell.execute_reply": "2022-03-10T21:32:38.163219Z",
          "shell.execute_reply.started": "2022-03-10T21:32:38.156993Z"
        },
        "id": "QCoNss_DxZtn",
        "trusted": true
      },
      "outputs": [],
      "source": [
        "import torch\n",
        "\n",
        "class SquadDataset(torch.utils.data.Dataset):\n",
        "    def __init__(self, encodings):\n",
        "        self.encodings = encodings\n",
        "\n",
        "    def __getitem__(self, idx):\n",
        "        return {key: torch.tensor(val[idx]) for key, val in self.encodings.items()}\n",
        "\n",
        "    def __len__(self):\n",
        "        return len(self.encodings.input_ids)"
      ]
    },
    {
      "cell_type": "markdown",
      "metadata": {
        "id": "urr1hnYZnqvu"
      },
      "source": [
        "# Bert model"
      ]
    },
    {
      "cell_type": "markdown",
      "metadata": {
        "id": "TNcxLRygxqQN"
      },
      "source": [
        "## Tokenization with BertTokenizer and Encoding the data"
      ]
    },
    {
      "cell_type": "code",
      "execution_count": 8,
      "metadata": {
        "execution": {
          "iopub.execute_input": "2022-03-10T21:32:38.197267Z",
          "iopub.status.busy": "2022-03-10T21:32:38.196728Z",
          "iopub.status.idle": "2022-03-10T21:32:46.276784Z",
          "shell.execute_reply": "2022-03-10T21:32:46.275943Z",
          "shell.execute_reply.started": "2022-03-10T21:32:38.197230Z"
        },
        "id": "cBwTsUHfxqQN",
        "trusted": true
      },
      "outputs": [],
      "source": [
        "from transformers import AutoTokenizer, BertForQuestionAnswering\n",
        "\n",
        "# initialize the tokenizer\n",
        "tokenizer = AutoTokenizer.from_pretrained(\"bert-base-uncased\",\n",
        "                                                      do_lower_case=True)"
      ]
    },
    {
      "cell_type": "markdown",
      "metadata": {
        "id": "_ccskoxvyBZj"
      },
      "source": [
        "# f1_score and exact_score from https://rajpurkar.github.io/SQuAD-explorer/"
      ]
    },
    {
      "cell_type": "code",
      "execution_count": 9,
      "metadata": {
        "execution": {
          "iopub.execute_input": "2022-03-10T21:32:38.165677Z",
          "iopub.status.busy": "2022-03-10T21:32:38.165247Z",
          "iopub.status.idle": "2022-03-10T21:32:38.175720Z",
          "shell.execute_reply": "2022-03-10T21:32:38.175032Z",
          "shell.execute_reply.started": "2022-03-10T21:32:38.165624Z"
        },
        "id": "xCRbnuBA1Z9_",
        "trusted": true
      },
      "outputs": [],
      "source": [
        "# Function for exc\n",
        "def extract_tokens(compressed_tokens, positions):\n",
        "  tokens = dict()\n",
        "\n",
        "  sp = positions[0]     # start positions for each answer\n",
        "  ep = positions[1]     # end positions for each answer (it's not actually the start position, is the first token for the answer)\n",
        "  \n",
        "  num_answers = len(sp)\n",
        "  index = 0\n",
        "  max_length = len(compressed_tokens['input_ids'][index])   # this is the max_length from tokenizer !\n",
        "  \n",
        "  for start, end in zip(sp, ep):  \n",
        "    tokens[index] = []          # we will fill this list with tokens for each question\n",
        "    \n",
        "    start = int(start)\n",
        "    end = int(end)\n",
        "\n",
        "    if start > end:\n",
        "      # print('index: ', index)\n",
        "      if end <= max_length:    # we have to check it if we have argument max_length in tokenizer\n",
        "        tokens[index].append(tokenizer.decode(compressed_tokens['input_ids'][index][end]))\n",
        "      if start <= max_length :\n",
        "        tokens[index].append(tokenizer.decode(compressed_tokens['input_ids'][index][start]))\n",
        "    else:\n",
        "      for i in range(start, end+1):\n",
        "        # print(i)\n",
        "        if i <= max_length:\n",
        "          tokens[index].append(tokenizer.decode(compressed_tokens['input_ids'][index][i]))\n",
        "    index += 1\n",
        "\n",
        "  return tokens"
      ]
    },
    {
      "cell_type": "code",
      "execution_count": 10,
      "metadata": {
        "execution": {
          "iopub.execute_input": "2022-03-10T21:32:38.177746Z",
          "iopub.status.busy": "2022-03-10T21:32:38.177177Z",
          "iopub.status.idle": "2022-03-10T21:32:38.193711Z",
          "shell.execute_reply": "2022-03-10T21:32:38.193021Z",
          "shell.execute_reply.started": "2022-03-10T21:32:38.177711Z"
        },
        "id": "OH152hxowJX9",
        "trusted": true
      },
      "outputs": [],
      "source": [
        "import argparse\n",
        "import collections\n",
        "import json\n",
        "import numpy as np\n",
        "import os\n",
        "import re\n",
        "import string\n",
        "import sys\n",
        "\n",
        "\n",
        "def normalize_answer(s):\n",
        "  \"\"\"Lower text and remove punctuation, articles and extra whitespace.\"\"\"\n",
        "  def remove_articles(text):\n",
        "    regex = re.compile(r'\\b(a|an|the)\\b', re.UNICODE)\n",
        "    return re.sub(regex, ' ', text)\n",
        "  def white_space_fix(text):\n",
        "    return ' '.join(text.split())\n",
        "  def remove_punc(text):\n",
        "    exclude = set(string.punctuation)\n",
        "    return ''.join(ch for ch in text if ch not in exclude)\n",
        "  def lower(text):\n",
        "    return text.lower()\n",
        "  return white_space_fix(remove_articles(remove_punc(lower(s))))\n",
        "\n",
        "  \n",
        "def get_tokens(s):\n",
        "  if not s: return []\n",
        "  return normalize_answer(s).split()\n",
        "\n",
        "\n",
        "\n",
        "def compute_f1(a_gold, a_pred):\n",
        "    gold_toks = get_tokens(a_gold)\n",
        "    pred_toks = get_tokens(a_pred)\n",
        "    common = collections.Counter(gold_toks) & collections.Counter(pred_toks)\n",
        "    num_same = sum(common.values())\n",
        "    if len(gold_toks) == 0 or len(pred_toks) == 0:\n",
        "      # If either is no-answer, then F1 is 1 if they agree, 0 otherwise\n",
        "      return int(gold_toks == pred_toks)\n",
        "    if num_same == 0:\n",
        "      return 0\n",
        "    precision = 1.0 * num_same / len(pred_toks)\n",
        "    recall = 1.0 * num_same / len(gold_toks)\n",
        "    f1 = (2 * precision * recall) / (precision + recall)\n",
        "    return f1\n",
        "\n",
        "\n",
        "def compute_f1_score(truth_answers, pred_answers):\n",
        "    num_answers = len(truth_answers)   # number of answers for batch ( == batch_size)\n",
        "    total_f1_score = 0\n",
        "\n",
        "    for curr_answer in range(0, num_answers):    # for each answer compute f1 score\n",
        "      a_gold = ' '.join(truth_answers[curr_answer])     # get the current truth answer\n",
        "      a_pred = ' '.join(pred_answers[curr_answer])      # get the current predicted answer\n",
        "\n",
        "      total_f1_score += compute_f1(a_gold, a_pred)\n",
        "\n",
        "    return total_f1_score / num_answers\n",
        "\n",
        "\n",
        "def compute_exact(a_gold, a_pred):\n",
        "  return int(normalize_answer(a_gold) == normalize_answer(a_pred))\n",
        "\n",
        "\n",
        "def compute_exact_score(truth_answers, pred_answers):\n",
        "    num_answers = len(truth_answers)   # number of answers for batch ( == batch_size)\n",
        "    total_exact_score = 0\n",
        "\n",
        "    for curr_answer in range(0, num_answers):    # for each answer compute f1 score\n",
        "      a_gold = ' '.join(truth_answers[curr_answer])     # get the current truth answer\n",
        "      a_pred = ' '.join(pred_answers[curr_answer])      # get the current predicted answer\n",
        "\n",
        "      total_exact_score += compute_exact(a_gold, a_pred)\n",
        "\n",
        "    return total_exact_score / num_answers\n",
        "\n"
      ]
    },
    {
      "cell_type": "markdown",
      "metadata": {
        "id": "uLv4qHai0o6J"
      },
      "source": [
        "## Define Bert-model"
      ]
    },
    {
      "cell_type": "code",
      "execution_count": 11,
      "metadata": {
        "colab": {
          "base_uri": "https://localhost:8080/"
        },
        "execution": {
          "iopub.execute_input": "2022-03-10T21:32:46.280581Z",
          "iopub.status.busy": "2022-03-10T21:32:46.280242Z",
          "iopub.status.idle": "2022-03-10T21:33:07.973939Z",
          "shell.execute_reply": "2022-03-10T21:33:07.973144Z",
          "shell.execute_reply.started": "2022-03-10T21:32:46.280548Z"
        },
        "id": "mvAQc9WnxqQO",
        "outputId": "f10359fa-d36a-46dd-fddb-8487e25795aa",
        "trusted": true
      },
      "outputs": [
        {
          "name": "stderr",
          "output_type": "stream",
          "text": [
            "Some weights of the model checkpoint at bert-base-uncased were not used when initializing BertForQuestionAnswering: ['cls.predictions.bias', 'cls.seq_relationship.bias', 'cls.predictions.transform.dense.weight', 'cls.seq_relationship.weight', 'cls.predictions.transform.dense.bias', 'cls.predictions.transform.LayerNorm.bias', 'cls.predictions.transform.LayerNorm.weight', 'cls.predictions.decoder.weight']\n",
            "- This IS expected if you are initializing BertForQuestionAnswering from the checkpoint of a model trained on another task or with another architecture (e.g. initializing a BertForSequenceClassification model from a BertForPreTraining model).\n",
            "- This IS NOT expected if you are initializing BertForQuestionAnswering from the checkpoint of a model that you expect to be exactly identical (initializing a BertForSequenceClassification model from a BertForSequenceClassification model).\n",
            "Some weights of BertForQuestionAnswering were not initialized from the model checkpoint at bert-base-uncased and are newly initialized: ['qa_outputs.weight', 'qa_outputs.bias']\n",
            "You should probably TRAIN this model on a down-stream task to be able to use it for predictions and inference.\n"
          ]
        }
      ],
      "source": [
        "from transformers import BertForQuestionAnswering\n",
        "from torch.utils.data import DataLoader\n",
        "\n",
        "\n",
        "\n",
        "model_Bert = BertForQuestionAnswering.from_pretrained('bert-base-uncased').to(device)"
      ]
    },
    {
      "cell_type": "markdown",
      "metadata": {
        "id": "UOSOQaq30o6J"
      },
      "source": [
        "# Evaluate Function"
      ]
    },
    {
      "cell_type": "code",
      "execution_count": 12,
      "metadata": {
        "execution": {
          "iopub.execute_input": "2022-03-10T21:33:07.975486Z",
          "iopub.status.busy": "2022-03-10T21:33:07.975207Z",
          "iopub.status.idle": "2022-03-10T21:33:07.992240Z",
          "shell.execute_reply": "2022-03-10T21:33:07.991535Z",
          "shell.execute_reply.started": "2022-03-10T21:33:07.975453Z"
        },
        "id": "3dGwpZD60o6J",
        "trusted": true
      },
      "outputs": [],
      "source": [
        "from torch.utils.data import DataLoader\n",
        "\n",
        "\n",
        "# returns validation losses, accuracy, exact, f1 scores\n",
        "def evaluate(model, dataloader_val):\n",
        "    test_loss = []\n",
        "    acc_train = []\n",
        "    acc_test = []\n",
        "    pred_start = []\n",
        "    pred_end = []\n",
        "    true_start = []\n",
        "    true_end = []\n",
        "    f1_scores = []\n",
        "    exact_scores = []\n",
        "\n",
        "    model.eval()  # switch model out of training mode\n",
        "    for batch in tqdm(dataloader_val):\n",
        "        # we don't need to calculate gradients as we're not training\n",
        "        with torch.no_grad():\n",
        "            # pull all the tensor batches required for training\n",
        "            input_ids = batch['input_ids'].to(device)\n",
        "            attention_mask = batch['attention_mask'].to(device)\n",
        "\n",
        "            # we will use true positions for accuracy calc\n",
        "            start_true = batch['start_positions'].to(device)\n",
        "            end_true = batch['end_positions'].to(device)\n",
        "\n",
        "\n",
        "            # train model on batch and return outputs (incl. loss)\n",
        "            outputs = model(input_ids, attention_mask=attention_mask,\n",
        "                                start_positions=start_true,\n",
        "                                end_positions=end_true)\n",
        "            \n",
        "            # extract loss\n",
        "            loss = outputs[0]\n",
        "\n",
        "            # pull prediction tensors out and argmax to get predicted tokens\n",
        "            start_pred = torch.argmax(outputs['start_logits'], dim=1)\n",
        "            end_pred = torch.argmax(outputs['end_logits'], dim=1)\n",
        "\n",
        "            # ~~~ Compute F1 score with tokens ~~~~\n",
        "            # extract truth tokens\n",
        "            truth_positions = [start_true.detach().cpu(), end_true.detach().cpu()]\n",
        "            truth_tokens = extract_tokens(batch, truth_positions)\n",
        "\n",
        "            # extract predicted tokens\n",
        "            pred_positions = [start_pred, end_pred]\n",
        "            pred_tokens = extract_tokens(batch, pred_positions)\n",
        "\n",
        "            f1_scores.append (compute_f1_score(truth_tokens, pred_tokens))\n",
        "            exact_scores.append(compute_exact_score(truth_tokens, pred_tokens))\n",
        "\n",
        "\n",
        "                      \n",
        "            test_loss.append(loss.item())\n",
        "\n",
        "\n",
        "\n",
        "            # calculate accuracy for both and append to accuracy list\n",
        "            acc_test.append(((start_pred == start_true).sum()/len(start_pred)).item())\n",
        "            acc_test.append(((end_pred == end_true).sum()/len(end_pred)).item())\n",
        "    \n",
        "    # calculate the average test loss\n",
        "    test_loss_temp = np.mean(test_loss)\n",
        "\n",
        "    # calculate average accuracy in total\n",
        "    acc_test_temp = np.mean(acc_test)\n",
        "    f1_score_temp = np.mean(f1_scores)\n",
        "    exact_score_temp = np.mean(exact_scores)\n",
        "    \n",
        "    return test_loss_temp, acc_test_temp, exact_score_temp, f1_score_temp \n",
        "\n",
        "\n",
        "\n",
        "\n",
        "# Evaluate the current pre-trained model with dev in given location\n",
        "def Evaluate_on(model, Location_datasetName_dev, remove_no_answers=True):\n",
        "    \n",
        "    # Prepare the validation data from dataset in Location_datasetName_dev\n",
        "    num_groups = -1  # getting all data\n",
        "    \n",
        "    if remove_no_answers == True:\n",
        "      val_contexts, val_questions, val_answers, no_answers_counter = read_dataset(Location_datasetName_dev, num_groups, remove_no_answers) # convert data to lists\n",
        "    else:\n",
        "      val_contexts, val_questions, val_answers = read_dataset(Location_datasetName_dev, num_groups, remove_no_answers) # convert data to lists\n",
        "    \n",
        "    add_end_idx(val_answers, val_contexts)   # indicate each answer\n",
        "    val_encodings = tokenizer(val_contexts,  # encoding context and questions\n",
        "                              val_questions, \n",
        "                              truncation=True, \n",
        "                              max_length=324,\n",
        "                              padding=True)\n",
        "\n",
        "    add_token_positions(val_encodings, val_answers) # find the answer and keep the start and end position\n",
        "    val_dataset = SquadDataset(val_encodings)\n",
        "\n",
        "    BATCH_SIZE = 8\n",
        "    val_loader = DataLoader(val_dataset, batch_size=BATCH_SIZE) # create the batches for validation set\n",
        "\n",
        "    # Get  status\n",
        "    test_loss, Val_Acc, exact_score, f1_score = evaluate (model, val_loader)  #  evaluate the model and get scores\n",
        "    \n",
        "    return test_loss, Val_Acc, exact_score, f1_score\n",
        "    "
      ]
    },
    {
      "cell_type": "markdown",
      "metadata": {
        "id": "vSBtgc8u0o6K"
      },
      "source": [
        "# SQuAD"
      ]
    },
    {
      "cell_type": "markdown",
      "metadata": {
        "id": "3Fv7o5F4xqQO"
      },
      "source": [
        "## Fine-tuning Bert model with SQuAD dataset"
      ]
    },
    {
      "cell_type": "code",
      "execution_count": 13,
      "metadata": {
        "colab": {
          "base_uri": "https://localhost:8080/"
        },
        "id": "VW3J0MuD0o6K",
        "outputId": "d56dfab7-0904-4d01-860e-f6b8d8a4c08e",
        "trusted": true
      },
      "outputs": [
        {
          "name": "stdout",
          "output_type": "stream",
          "text": [
            "130319\n"
          ]
        }
      ],
      "source": [
        "# Prepare the train data from squad\n",
        "train_contexts, train_questions, train_answers = read_dataset(Location_squad_train, \n",
        "                                                              num_groups_percent= -1, \n",
        "                                                              remove_no_answers=False) # get all the data into to lists\n",
        "\n",
        "print(len(train_contexts))  # from https://arxiv.org/pdf/2004.03490.pdf (table 1) this should be 130,319\n",
        "\n",
        "\n",
        "add_end_idx(train_answers, train_contexts) #indicate each answer\n",
        "train_encodings = tokenizer(train_contexts, # encoding context and questions\n",
        "                          train_questions, \n",
        "                          truncation=True, \n",
        "                          max_length=324,\n",
        "                          padding=True)\n",
        "add_token_positions(train_encodings, train_answers)\n",
        "train_dataset = SquadDataset(train_encodings)\n",
        "\n",
        "BATCH_SIZE = 8\n",
        "train_loader = DataLoader(train_dataset, batch_size=BATCH_SIZE)\n"
      ]
    },
    {
      "cell_type": "code",
      "execution_count": null,
      "metadata": {
        "execution": {
          "iopub.execute_input": "2022-03-08T07:31:25.785681Z",
          "iopub.status.busy": "2022-03-08T07:31:25.785411Z",
          "iopub.status.idle": "2022-03-08T10:19:45.851798Z",
          "shell.execute_reply": "2022-03-08T10:19:45.850990Z",
          "shell.execute_reply.started": "2022-03-08T07:31:25.785650Z"
        },
        "id": "2PLXI_9Q1PtK",
        "outputId": "a0cb0bb3-300f-4137-bf2a-64fc67c47e10",
        "trusted": true
      },
      "outputs": [
        {
          "name": "stderr",
          "output_type": "stream",
          "text": [
            "Epoch: 1: 100%|██████████| 16290/16290 [1:24:00<00:00,  3.23it/s, training_loss=1.343]\n"
          ]
        },
        {
          "name": "stdout",
          "output_type": "stream",
          "text": [
            "Epoch: 1 | Train Loss: 1.343 | Train Acc: 61.77%\n"
          ]
        },
        {
          "name": "stderr",
          "output_type": "stream",
          "text": [
            "Epoch: 2: 100%|██████████| 16290/16290 [1:24:19<00:00,  3.22it/s, training_loss=0.833]"
          ]
        },
        {
          "name": "stdout",
          "output_type": "stream",
          "text": [
            "Epoch: 2 | Train Loss: 0.833 | Train Acc: 74.14%\n"
          ]
        },
        {
          "name": "stderr",
          "output_type": "stream",
          "text": [
            "\n"
          ]
        }
      ],
      "source": [
        "from tqdm import tqdm\n",
        "\n",
        "# initialize adam optimizer with weight decay (reduces chance of overfitting)\n",
        "optim = torch.optim.AdamW(model_Bert.parameters(), lr=2e-5)\n",
        "\n",
        "epochs = 2\n",
        "\n",
        "\n",
        "train_losses = []\n",
        "test_losses = []\n",
        "\n",
        "for epoch in range(epochs):\n",
        "    \n",
        "    train_loss = []\n",
        "    test_loss = []\n",
        "    acc_train = []\n",
        "    acc_test = []\n",
        "\n",
        "    # for compute f1\n",
        "    pred_start = []\n",
        "    pred_end = []\n",
        "    true_start = []\n",
        "    true_end = []\n",
        "    f1_scores = []\n",
        "    exact_scores = []\n",
        "\n",
        "    model_Bert.train()   # set model to train mode\n",
        "    with torch.set_grad_enabled(True):\n",
        "      # setup loop (we use tqdm for the progress bar)\n",
        "      progress_bar = tqdm(train_loader, f\"Epoch: {epoch+1}\")\n",
        "      for batch in progress_bar:\n",
        "          # initialize calculated gradients (from prev step)\n",
        "          optim.zero_grad()\n",
        "\n",
        "          # pull all the tensor batches required for training\n",
        "          input_ids = batch['input_ids'].to(device)\n",
        "          attention_mask = batch['attention_mask'].to(device)\n",
        "          start_positions = batch['start_positions'].to(device)\n",
        "          end_positions = batch['end_positions'].to(device)\n",
        "\n",
        "          # print('start_positions', start_positions)\n",
        "          \n",
        "          # train model on batch and return outputs (incl. loss)\n",
        "          outputs = model_Bert(input_ids, attention_mask=attention_mask,\n",
        "                          start_positions=start_positions,\n",
        "                          end_positions=end_positions)\n",
        "          \n",
        "          # get the predictions\n",
        "          start_pred = torch.argmax(outputs['start_logits'], dim=1)\n",
        "          end_pred = torch.argmax(outputs['end_logits'], dim=1)\n",
        "\n",
        "          \n",
        "          # extract loss\n",
        "          loss = outputs[0]\n",
        "\n",
        "          # calculate loss for every parameter that needs grad update\n",
        "          loss.backward()\n",
        "          # update parameters\n",
        "          optim.step()\n",
        "          train_loss.append(loss.item())\n",
        "\n",
        "          # calculate accuracy for both and append to accuracy list\n",
        "          acc_train.append(((start_pred == start_positions).sum()/len(start_pred)).item())\n",
        "          acc_train.append(((end_pred == end_positions).sum()/len(end_pred)).item())\n",
        "\n",
        "          # print relevant info to progress bar\n",
        "          # progress_bar.set_description(f'Epoch {epoch+1}')\n",
        "          progress_bar.set_postfix({'training_loss': '{:.3f}'.format(np.mean(train_loss))})\n",
        "    \n",
        "    # get the average loss\n",
        "    train_loss_temp = np.mean(train_loss)\n",
        "    train_losses.append(train_loss_temp)\n",
        "    \n",
        "    acc_train_temp = np.mean(acc_train)   # average accuracy of the train set\n",
        "\n",
        "\n",
        "    tqdm.write(f'''Epoch: {epoch+1} | Train Loss: {train_loss_temp:.3f} | Train Acc: {acc_train_temp*100:.2f}%''')\n"
      ]
    },
    {
      "cell_type": "code",
      "execution_count": null,
      "metadata": {
        "execution": {
          "iopub.execute_input": "2022-03-10T08:12:40.906894Z",
          "iopub.status.busy": "2022-03-10T08:12:40.906356Z",
          "iopub.status.idle": "2022-03-10T08:12:41.639784Z",
          "shell.execute_reply": "2022-03-10T08:12:41.63901Z",
          "shell.execute_reply.started": "2022-03-10T08:12:40.906856Z"
        },
        "id": "tammblkz0o6L",
        "trusted": true
      },
      "outputs": [],
      "source": [
        "# # Save model \n",
        "# import torch\n",
        "# torch.save(model_Bert.state_dict(), './model_SQuAD.pth')"
      ]
    },
    {
      "cell_type": "markdown",
      "metadata": {
        "id": "P6mK5kd60o6L"
      },
      "source": [
        "<a href=\"./model_TriviaQA\"> Download model</a>"
      ]
    },
    {
      "cell_type": "markdown",
      "metadata": {
        "id": "UQMIT4UZILxd"
      },
      "source": [
        "## Load fine-tuned model from Drive"
      ]
    },
    {
      "cell_type": "code",
      "execution_count": 112,
      "metadata": {
        "colab": {
          "base_uri": "https://localhost:8080/"
        },
        "execution": {
          "iopub.execute_input": "2022-03-10T21:33:07.994190Z",
          "iopub.status.busy": "2022-03-10T21:33:07.993708Z",
          "iopub.status.idle": "2022-03-10T21:33:17.617043Z",
          "shell.execute_reply": "2022-03-10T21:33:17.616268Z",
          "shell.execute_reply.started": "2022-03-10T21:33:07.994152Z"
        },
        "id": "fq5FpsM50o6L",
        "outputId": "a1975bec-a769-47b6-dd47-51a947cc1fd6",
        "trusted": true
      },
      "outputs": [
        {
          "name": "stdout",
          "output_type": "stream",
          "text": [
            "Archive:  /content/drive/MyDrive/AI_2/project4/Models/model_SQuAD.zip\n",
            "  inflating: model_SQuAD.pth         \n"
          ]
        }
      ],
      "source": [
        "# I have upload model in my drive\n",
        "# !gdown 1F9a5vrT5YJHfJoae2OpmnOF-aWjqpdh3    # for kaggle\n",
        "! unzip \"/content/drive/MyDrive/AI_2/project4/Models/model_SQuAD.zip\""
      ]
    },
    {
      "cell_type": "code",
      "execution_count": 113,
      "metadata": {
        "colab": {
          "base_uri": "https://localhost:8080/"
        },
        "execution": {
          "iopub.execute_input": "2022-03-10T21:33:17.621694Z",
          "iopub.status.busy": "2022-03-10T21:33:17.621375Z",
          "iopub.status.idle": "2022-03-10T21:33:17.910230Z",
          "shell.execute_reply": "2022-03-10T21:33:17.909488Z",
          "shell.execute_reply.started": "2022-03-10T21:33:17.621645Z"
        },
        "id": "Bhm9Bc-M0o6L",
        "outputId": "137014b7-a80a-4403-8a33-203075945227",
        "trusted": true
      },
      "outputs": [
        {
          "data": {
            "text/plain": [
              "<All keys matched successfully>"
            ]
          },
          "execution_count": 113,
          "metadata": {},
          "output_type": "execute_result"
        }
      ],
      "source": [
        "# load model\n",
        "from collections import OrderedDict\n",
        "import collections\n",
        "model_check = torch.load('./model_SQuAD.pth')\n",
        "model_Bert.load_state_dict(model_check)"
      ]
    },
    {
      "cell_type": "markdown",
      "metadata": {
        "id": "qKchtvAU0o6L"
      },
      "source": [
        "## Evaluate with SQuAD "
      ]
    },
    {
      "cell_type": "code",
      "execution_count": 115,
      "metadata": {
        "colab": {
          "base_uri": "https://localhost:8080/",
          "height": 49,
          "referenced_widgets": [
            "dcf84970af2a4a2ea16e708e6144731e",
            "2a9f5f89b37a4e019ac10f3c6ef301d2",
            "37753a4726a8482eae280db737411b2c",
            "b278a0c003bb43ed9d8b9c85a1b82739",
            "4ae758137be6491f94a0166aa7a1abdb",
            "a2c33a495eb34f95a16f99480d944f46",
            "9dbdc69f9802439a9a32c3327af9d45e",
            "cba1c9ee2642414ebcadb1e78de0b310",
            "848efe62f0d74de081e692e75f7ed9a0",
            "733e219f09f54e488b50dd964191bde0",
            "bf3e41469f8949bda12498eefa76e17b"
          ]
        },
        "execution": {
          "iopub.execute_input": "2022-03-10T21:33:17.911615Z",
          "iopub.status.busy": "2022-03-10T21:33:17.911362Z"
        },
        "id": "JDWBro4Z0o6L",
        "outputId": "1a47e2e6-ccf6-4b94-d1be-15cd19845177",
        "trusted": true
      },
      "outputs": [
        {
          "data": {
            "application/vnd.jupyter.widget-view+json": {
              "model_id": "dcf84970af2a4a2ea16e708e6144731e",
              "version_major": 2,
              "version_minor": 0
            },
            "text/plain": [
              "  0%|          | 0/3281 [00:00<?, ?it/s]"
            ]
          },
          "metadata": {},
          "output_type": "display_data"
        }
      ],
      "source": [
        "test_loss, Val_Acc, exact_score, f1_score = Evaluate_on(model_Bert, Location_squad_dev, remove_no_answers=True)"
      ]
    },
    {
      "cell_type": "code",
      "execution_count": null,
      "metadata": {
        "colab": {
          "base_uri": "https://localhost:8080/"
        },
        "id": "C8V6-xWJ0o6M",
        "outputId": "e54df892-83a2-4501-a96c-97e593e7f26c",
        "trusted": true
      },
      "outputs": [
        {
          "name": "stdout",
          "output_type": "stream",
          "text": [
            "Test loss:\t 1.261 \n",
            "Val_acc:\t 66.56%  \n",
            "Exact score:\t 59.31%  \n",
            "F1 score:\t 75.38% \n"
          ]
        }
      ],
      "source": [
        "print(f'Test loss:\\t {test_loss:.3f} \\nVal_acc:\\t {Val_Acc*100:.2f}%  \\nExact score:\\t {exact_score*100:.2f}%  \\nF1 score:\\t {f1_score*100:.2f}% ')"
      ]
    },
    {
      "cell_type": "markdown",
      "metadata": {
        "id": "XnDLlLoX0o6M"
      },
      "source": [
        "## Evaluate with TriviaQA"
      ]
    },
    {
      "cell_type": "code",
      "execution_count": null,
      "metadata": {
        "colab": {
          "base_uri": "https://localhost:8080/",
          "height": 49,
          "referenced_widgets": [
            "66d2954eda3844299f9683ca8acabb6d",
            "6028f5a4fcd14338a98e9602d82a6184",
            "2e2f22fc9a5e42149441fea733eb9f20",
            "fcb18986e00c4b1d80863d10a6e45f83",
            "9b668bd389ad48f9a72e4d34c151b6c0",
            "26ce4cda86a74386a053851d7bd54313",
            "d3a96cfe12684e93ac5435643a0ed317",
            "a5ce6782c97c4375b88621d998d13e0e",
            "782d11f240784a45a39d56b2970a90eb",
            "3e667d6e80a842e5bcd4d4dc104c0381",
            "7604fc4860934d1a841ffc3159fdf458"
          ]
        },
        "id": "2ng3oIzm0o6M",
        "outputId": "12d9222c-f806-4c4b-cae5-21a77b62ff17",
        "trusted": true
      },
      "outputs": [
        {
          "data": {
            "application/vnd.jupyter.widget-view+json": {
              "model_id": "66d2954eda3844299f9683ca8acabb6d",
              "version_major": 2,
              "version_minor": 0
            },
            "text/plain": [
              "  0%|          | 0/1230 [00:00<?, ?it/s]"
            ]
          },
          "metadata": {},
          "output_type": "display_data"
        }
      ],
      "source": [
        "test_loss, Val_Acc, exact_score, f1_score = Evaluate_on(model_Bert, Location_trivia_dev, remove_no_answers=True)"
      ]
    },
    {
      "cell_type": "code",
      "execution_count": null,
      "metadata": {
        "colab": {
          "base_uri": "https://localhost:8080/"
        },
        "id": "IDU_W4xp0o6M",
        "outputId": "f40b9e65-f7ee-48f0-a325-3a1540eb27d2",
        "trusted": true
      },
      "outputs": [
        {
          "name": "stdout",
          "output_type": "stream",
          "text": [
            "Test loss:\t 4.445 \n",
            "Val_acc:\t 28.35%  \n",
            "Exact score:\t 33.95%  \n",
            "F1 score:\t 43.39% \n"
          ]
        }
      ],
      "source": [
        "print(f'Test loss:\\t {test_loss:.3f} \\nVal_acc:\\t {Val_Acc*100:.2f}%  \\nExact score:\\t {exact_score*100:.2f}%  \\nF1 score:\\t {f1_score*100:.2f}% ')"
      ]
    },
    {
      "cell_type": "markdown",
      "metadata": {
        "id": "Jg2fiCgF0o6M"
      },
      "source": [
        "## Evaluate with Natural Questions"
      ]
    },
    {
      "cell_type": "code",
      "execution_count": null,
      "metadata": {
        "colab": {
          "base_uri": "https://localhost:8080/",
          "height": 49,
          "referenced_widgets": [
            "f50192bd94df467bb11222872b6bfaa1",
            "c209bd2f83444ebe99ffd8fcd8f3bd2e",
            "5bf5c22cb0244a1d86706f0d6213603f",
            "c0265c48b3104a10b629c5b844b4cfae",
            "533892765bb34382ad749477933878c1",
            "52461c4457fc4d1fa744f4eb86e8e88d",
            "751b0e51f80d4f98812c1c7ae350ad00",
            "6168e3c13ed2403ea119bfdbdd1d3087",
            "88d7e741616041299ff27e9fa3a204bb",
            "a811d8d8c8ed421f99fa7e7caaa58ca6",
            "a0d388882b484da49c52ca9ab3a8bd35"
          ]
        },
        "id": "jl7BlSn20o6M",
        "outputId": "6af51e26-6492-4349-de88-70924c05811f",
        "trusted": true
      },
      "outputs": [
        {
          "data": {
            "application/vnd.jupyter.widget-view+json": {
              "model_id": "f50192bd94df467bb11222872b6bfaa1",
              "version_major": 2,
              "version_minor": 0
            },
            "text/plain": [
              "  0%|          | 0/457 [00:00<?, ?it/s]"
            ]
          },
          "metadata": {},
          "output_type": "display_data"
        }
      ],
      "source": [
        "test_loss, Val_Acc, exact_score, f1_score = Evaluate_on(model_Bert, Location_nq_dev, remove_no_answers=True)"
      ]
    },
    {
      "cell_type": "code",
      "execution_count": null,
      "metadata": {
        "colab": {
          "base_uri": "https://localhost:8080/"
        },
        "id": "WW_8Gkw40o6M",
        "outputId": "4d54df9f-662f-40e3-996a-a5deed4be906",
        "trusted": true
      },
      "outputs": [
        {
          "name": "stdout",
          "output_type": "stream",
          "text": [
            "Test loss:\t 2.310 \n",
            "Val_acc:\t 47.16%  \n",
            "Exact score:\t 37.39%  \n",
            "F1 score:\t 57.61% \n"
          ]
        }
      ],
      "source": [
        "print(f'Test loss:\\t {test_loss:.3f} \\nVal_acc:\\t {Val_Acc*100:.2f}%  \\nExact score:\\t {exact_score*100:.2f}%  \\nF1 score:\\t {f1_score*100:.2f}% ')"
      ]
    },
    {
      "cell_type": "markdown",
      "metadata": {
        "id": "lt3Bi9Xz0o6M"
      },
      "source": [
        "## Evaluate with QuAC"
      ]
    },
    {
      "cell_type": "code",
      "execution_count": null,
      "metadata": {
        "colab": {
          "base_uri": "https://localhost:8080/",
          "height": 49,
          "referenced_widgets": [
            "3dfb489094b54b88b087121a3ac0d814",
            "816daea5ce704e068c17e2b87c75691a",
            "19cb9fc950754dbbb20492504e28a411",
            "e494cb1bcd764873bd5f5e930e251e67",
            "deda9ef12b9c45f69be10a6494709a94",
            "b0d4604acccc49a9a1a5e034b21d6fd9",
            "8c6c81b05a2d4111a37aa3ca3bdbc2f3",
            "2f86b5eeedb5419a9c5c526ec6f7fc21",
            "a31ae84181e34c4e891c7b7b63e5139d",
            "b680a95d84ac47e089c2e273e57e6413",
            "c1aff781dc9843999f2ad3f2630b59b5"
          ]
        },
        "execution": {
          "iopub.execute_input": "2022-03-08T20:53:19.466846Z",
          "iopub.status.busy": "2022-03-08T20:53:19.465981Z",
          "iopub.status.idle": "2022-03-08T20:53:19.507401Z",
          "shell.execute_reply": "2022-03-08T20:53:19.506079Z",
          "shell.execute_reply.started": "2022-03-08T20:53:19.466796Z"
        },
        "id": "4ULgaXCb0o6N",
        "outputId": "ed21f2ef-5d4f-4a11-9278-4c88ab16d8b9",
        "trusted": true
      },
      "outputs": [
        {
          "data": {
            "application/vnd.jupyter.widget-view+json": {
              "model_id": "3dfb489094b54b88b087121a3ac0d814",
              "version_major": 2,
              "version_minor": 0
            },
            "text/plain": [
              "  0%|          | 0/734 [00:00<?, ?it/s]"
            ]
          },
          "metadata": {},
          "output_type": "display_data"
        }
      ],
      "source": [
        "test_loss, Val_Acc, exact_score, f1_score = Evaluate_on(model_Bert, Location_quac_dev, remove_no_answers=True)"
      ]
    },
    {
      "cell_type": "code",
      "execution_count": null,
      "metadata": {
        "colab": {
          "base_uri": "https://localhost:8080/"
        },
        "id": "4nfmYVk20o6N",
        "outputId": "493ed72a-5d88-4b37-e464-3fd1e7d6b45e"
      },
      "outputs": [
        {
          "name": "stdout",
          "output_type": "stream",
          "text": [
            "Test loss:\t 5.941 \n",
            "Val_acc:\t 16.11%  \n",
            "Exact score:\t 5.21%  \n",
            "F1 score:\t 18.32% \n"
          ]
        }
      ],
      "source": [
        "print(f'Test loss:\\t {test_loss:.3f} \\nVal_acc:\\t {Val_Acc*100:.2f}%  \\nExact score:\\t {exact_score*100:.2f}%  \\nF1 score:\\t {f1_score*100:.2f}% ')"
      ]
    },
    {
      "cell_type": "markdown",
      "metadata": {
        "id": "2x0Gzagh0o6N"
      },
      "source": [
        "## Evaluate with NewsQA"
      ]
    },
    {
      "cell_type": "code",
      "execution_count": null,
      "metadata": {
        "colab": {
          "base_uri": "https://localhost:8080/",
          "height": 49,
          "referenced_widgets": [
            "6dd9fbedc1bc4a709810cf393d86a0b6",
            "2b40535f83ed4b48a8e540e95cd30830",
            "173b1a5233e14e968aa3838b28144f51",
            "13dd79a2f5b146f29f2adba09b5a3bf1",
            "e36ae1de00464708859c612b68958534",
            "9487339a1b05478f826e8a349a34a594",
            "dc3c3317fdf54134a5678fa0cb2bcbbe",
            "fb7075dc8a03492f89588071c6fa4765",
            "df1c39bcb33449c3b0af0ac5e64c850f",
            "ddcfa3b563aa46d1b75628cc745a21a9",
            "e0501e7208cf418bb65162ac2d562142"
          ]
        },
        "id": "_sk3Qus80o6N",
        "outputId": "6320b2ba-1deb-48f9-ae31-ad220a6f3b6c"
      },
      "outputs": [
        {
          "data": {
            "application/vnd.jupyter.widget-view+json": {
              "model_id": "6dd9fbedc1bc4a709810cf393d86a0b6",
              "version_major": 2,
              "version_minor": 0
            },
            "text/plain": [
              "  0%|          | 0/646 [00:00<?, ?it/s]"
            ]
          },
          "metadata": {},
          "output_type": "display_data"
        }
      ],
      "source": [
        "test_loss, Val_Acc, exact_score, f1_score = Evaluate_on(model_Bert, Location_newsqa_dev, remove_no_answers=True)"
      ]
    },
    {
      "cell_type": "code",
      "execution_count": null,
      "metadata": {
        "colab": {
          "base_uri": "https://localhost:8080/"
        },
        "id": "e2elQLQj0o6N",
        "outputId": "2c62c86a-2c1c-41cc-e85a-666242fcb16c"
      },
      "outputs": [
        {
          "name": "stdout",
          "output_type": "stream",
          "text": [
            "Test loss:\t 4.639 \n",
            "Val_acc:\t 27.55%  \n",
            "Exact score:\t 27.28%  \n",
            "F1 score:\t 41.53% \n"
          ]
        }
      ],
      "source": [
        "print(f'Test loss:\\t {test_loss:.3f} \\nVal_acc:\\t {Val_Acc*100:.2f}%  \\nExact score:\\t {exact_score*100:.2f}%  \\nF1 score:\\t {f1_score*100:.2f}% ')"
      ]
    },
    {
      "cell_type": "markdown",
      "metadata": {
        "id": "-kTxKDe-0o6N"
      },
      "source": [
        "# TriviaQA"
      ]
    },
    {
      "cell_type": "markdown",
      "metadata": {
        "id": "2FcmJKET0o6N"
      },
      "source": [
        "## Fine-tuning Bert model with TriviaQA dataset"
      ]
    },
    {
      "cell_type": "code",
      "execution_count": null,
      "metadata": {
        "colab": {
          "base_uri": "https://localhost:8080/",
          "height": 234
        },
        "execution": {
          "iopub.execute_input": "2022-03-10T08:57:46.707393Z",
          "iopub.status.busy": "2022-03-10T08:57:46.706628Z",
          "iopub.status.idle": "2022-03-10T09:01:26.411852Z",
          "shell.execute_reply": "2022-03-10T09:01:26.411077Z",
          "shell.execute_reply.started": "2022-03-10T08:57:46.70734Z"
        },
        "id": "IlkYxSNk0o6O",
        "outputId": "7e6e9825-1308-40e4-c132-74520f9543dc",
        "trusted": true
      },
      "outputs": [],
      "source": [
        "# Prepare the train data from triviaqa\n",
        "train_contexts, train_questions, train_answers = read_dataset(Location_trivia_train, \n",
        "                                                              num_groups_percent= -1, \n",
        "                                                              remove_no_answers=True) # get all the data into to lists\n",
        "print(len(train_contexts))  # from https://arxiv.org/pdf/2004.03490.pdf (table 1) this should be 110,647 ( i removed questions without answers because my ram cannot handle all this data)\n",
        "\n",
        "add_end_idx(train_answers, train_contexts) #indicate each answer\n",
        "train_encodings = tokenizer(train_contexts, # encoding context and questions\n",
        "                          train_questions, \n",
        "                          truncation=True, \n",
        "                          max_length=324,\n",
        "                          padding=True)\n",
        "add_token_positions(train_encodings, train_answers)\n",
        "train_dataset = SquadDataset(train_encodings)\n",
        "\n",
        "BATCH_SIZE = 8\n",
        "train_loader = DataLoader(train_dataset, batch_size=BATCH_SIZE)\n"
      ]
    },
    {
      "cell_type": "code",
      "execution_count": null,
      "metadata": {
        "execution": {
          "iopub.execute_input": "2022-03-08T11:26:03.525547Z",
          "iopub.status.busy": "2022-03-08T11:26:03.525286Z",
          "iopub.status.idle": "2022-03-08T13:05:26.937138Z",
          "shell.execute_reply": "2022-03-08T13:05:26.936424Z",
          "shell.execute_reply.started": "2022-03-08T11:26:03.525498Z"
        },
        "id": "1HtDFQFm1cZ_",
        "outputId": "a330121f-4363-4b9c-98d9-8061f8edb131",
        "trusted": true
      },
      "outputs": [
        {
          "name": "stderr",
          "output_type": "stream",
          "text": [
            "Epoch: 1: 100%|██████████| 9636/9636 [49:40<00:00,  3.23it/s, training_loss=1.824]\n"
          ]
        },
        {
          "name": "stdout",
          "output_type": "stream",
          "text": [
            "Epoch: 1 | Train Loss: 1.824 | Train Acc: 46.20%\n"
          ]
        },
        {
          "name": "stderr",
          "output_type": "stream",
          "text": [
            "Epoch: 2: 100%|██████████| 9636/9636 [49:43<00:00,  3.23it/s, training_loss=1.076]\n"
          ]
        },
        {
          "name": "stdout",
          "output_type": "stream",
          "text": [
            "Epoch: 2 | Train Loss: 1.076 | Train Acc: 60.45%\n"
          ]
        }
      ],
      "source": [
        "from tqdm import tqdm\n",
        "\n",
        "# initialize adam optimizer with weight decay (reduces chance of overfitting)\n",
        "optim = torch.optim.AdamW(model_Bert.parameters(), lr=2e-5)\n",
        "\n",
        "epochs = 2\n",
        "\n",
        "\n",
        "train_losses = []\n",
        "test_losses = []\n",
        "\n",
        "for epoch in range(epochs):\n",
        "    \n",
        "    train_loss = []\n",
        "    test_loss = []\n",
        "    acc_train = []\n",
        "    acc_test = []\n",
        "\n",
        "    # for compute f1\n",
        "    pred_start = []\n",
        "    pred_end = []\n",
        "    true_start = []\n",
        "    true_end = []\n",
        "    f1_scores = []\n",
        "    exact_scores = []\n",
        "\n",
        "    model_Bert.train()   # set model to train mode\n",
        "    with torch.set_grad_enabled(True):\n",
        "      # setup loop (we use tqdm for the progress bar)\n",
        "      progress_bar = tqdm(train_loader, f\"Epoch: {epoch+1}\")\n",
        "      for batch in progress_bar:\n",
        "          # initialize calculated gradients (from prev step)\n",
        "          optim.zero_grad()\n",
        "\n",
        "          # pull all the tensor batches required for training\n",
        "          input_ids = batch['input_ids'].to(device)\n",
        "          attention_mask = batch['attention_mask'].to(device)\n",
        "          start_positions = batch['start_positions'].to(device)\n",
        "          end_positions = batch['end_positions'].to(device)\n",
        "\n",
        "          # print('start_positions', start_positions)\n",
        "          \n",
        "          # train model on batch and return outputs (incl. loss)\n",
        "          outputs = model_Bert(input_ids, attention_mask=attention_mask,\n",
        "                          start_positions=start_positions,\n",
        "                          end_positions=end_positions)\n",
        "          \n",
        "          # get the predictions\n",
        "          start_pred = torch.argmax(outputs['start_logits'], dim=1)\n",
        "          end_pred = torch.argmax(outputs['end_logits'], dim=1)\n",
        "\n",
        "          \n",
        "          # extract loss\n",
        "          loss = outputs[0]\n",
        "\n",
        "          # calculate loss for every parameter that needs grad update\n",
        "          loss.backward()\n",
        "          # update parameters\n",
        "          optim.step()\n",
        "          train_loss.append(loss.item())\n",
        "\n",
        "          # calculate accuracy for both and append to accuracy list\n",
        "          acc_train.append(((start_pred == start_positions).sum()/len(start_pred)).item())\n",
        "          acc_train.append(((end_pred == end_positions).sum()/len(end_pred)).item())\n",
        "\n",
        "          # print relevant info to progress bar\n",
        "          # progress_bar.set_description(f'Epoch {epoch+1}')\n",
        "          progress_bar.set_postfix({'training_loss': '{:.3f}'.format(np.mean(train_loss))})\n",
        "    \n",
        "    # get the average loss\n",
        "    train_loss_temp = np.mean(train_loss)\n",
        "    train_losses.append(train_loss_temp)\n",
        "    \n",
        "    acc_train_temp = np.mean(acc_train)   # average accuracy of the train set\n",
        "\n",
        "\n",
        "    tqdm.write(f'''Epoch: {epoch+1} | Train Loss: {train_loss_temp:.3f} | Train Acc: {acc_train_temp*100:.2f}%''')"
      ]
    },
    {
      "cell_type": "code",
      "execution_count": null,
      "metadata": {
        "execution": {
          "iopub.execute_input": "2022-03-10T10:40:47.938237Z",
          "iopub.status.busy": "2022-03-10T10:40:47.937631Z",
          "iopub.status.idle": "2022-03-10T10:40:48.896847Z",
          "shell.execute_reply": "2022-03-10T10:40:48.895973Z",
          "shell.execute_reply.started": "2022-03-10T10:40:47.938198Z"
        },
        "id": "8FQAjwYT0o6O",
        "trusted": true
      },
      "outputs": [],
      "source": [
        "# # Save model \n",
        "# import torch\n",
        "# torch.save(model_Bert.state_dict(), './model_TriviaQA.pth')"
      ]
    },
    {
      "cell_type": "markdown",
      "metadata": {
        "id": "0T6aX3S80o6O"
      },
      "source": [
        "<a href=\"./model_TriviaQA.pth\"> Download model</a>"
      ]
    },
    {
      "cell_type": "markdown",
      "metadata": {
        "id": "h74xpHq0awdX"
      },
      "source": [
        "## Load fine-tuned model"
      ]
    },
    {
      "cell_type": "code",
      "execution_count": null,
      "metadata": {
        "colab": {
          "base_uri": "https://localhost:8080/"
        },
        "execution": {
          "iopub.execute_input": "2022-03-09T20:46:38.797779Z",
          "iopub.status.busy": "2022-03-09T20:46:38.79752Z",
          "iopub.status.idle": "2022-03-09T20:46:51.134174Z",
          "shell.execute_reply": "2022-03-09T20:46:51.133319Z",
          "shell.execute_reply.started": "2022-03-09T20:46:38.797743Z"
        },
        "id": "7SB_uD_q0o6O",
        "outputId": "452b3f55-4dfd-42a7-9108-14478436b9f2",
        "trusted": true
      },
      "outputs": [
        {
          "name": "stdout",
          "output_type": "stream",
          "text": [
            "Archive:  /content/drive/MyDrive/AI_2/project4/Models/model_TriviaQA.zip\n",
            "replace model_TriviaQA.pth? [y]es, [n]o, [A]ll, [N]one, [r]ename: n\n"
          ]
        }
      ],
      "source": [
        "# Load model from Drive\n",
        "# !gdown 1pobs6Bp2ZeXWzOY3qcT97CqWyh2mBcbN  # for kaggle\n",
        "!unzip \"/content/drive/MyDrive/AI_2/project4/Models/model_TriviaQA.zip\"\n"
      ]
    },
    {
      "cell_type": "code",
      "execution_count": null,
      "metadata": {
        "colab": {
          "base_uri": "https://localhost:8080/"
        },
        "execution": {
          "iopub.execute_input": "2022-03-09T20:46:53.985512Z",
          "iopub.status.busy": "2022-03-09T20:46:53.985208Z",
          "iopub.status.idle": "2022-03-09T20:46:54.227546Z",
          "shell.execute_reply": "2022-03-09T20:46:54.226795Z",
          "shell.execute_reply.started": "2022-03-09T20:46:53.985479Z"
        },
        "id": "5rpnScnT0o6O",
        "outputId": "1a514617-6651-451f-915b-885f79690bd9",
        "trusted": true
      },
      "outputs": [
        {
          "data": {
            "text/plain": [
              "<All keys matched successfully>"
            ]
          },
          "execution_count": 59,
          "metadata": {},
          "output_type": "execute_result"
        }
      ],
      "source": [
        "from collections import OrderedDict\n",
        "import collections\n",
        "model_check = torch.load('./model_TriviaQA.pth')\n",
        "model_Bert.load_state_dict(model_check)"
      ]
    },
    {
      "cell_type": "markdown",
      "metadata": {
        "id": "8csRN2Yq0o6O"
      },
      "source": [
        "## Evaluate with TriviaQA dataset"
      ]
    },
    {
      "cell_type": "code",
      "execution_count": null,
      "metadata": {
        "colab": {
          "base_uri": "https://localhost:8080/",
          "height": 49,
          "referenced_widgets": [
            "9d74ca5ec3474feba47ef2af6e2f1d91",
            "0b587151e0f44bfca32c8a88a72db360",
            "102dd56049774352973c02fa63d83cbb",
            "2c51d69b589f41c6b2a227f4d6be5e1e",
            "33ce0fcd3b8240a8ad99eb30ca8cfbd5",
            "e79e1b2a91e64bd0beea033184fcb9ce",
            "8809772c99ec4c00a2376b78283f430c",
            "0ada775c780d49c2b7e31883efe4a88d",
            "12aeb757755e417ebf87c32742470317",
            "ec0a1f6591c742219938c2fdfff56d48",
            "1e54ed1218c94ee68448dc91bba079b6"
          ]
        },
        "execution": {
          "iopub.execute_input": "2022-03-10T10:53:02.902835Z",
          "iopub.status.busy": "2022-03-10T10:53:02.902396Z"
        },
        "id": "fdBJHK4r0o6P",
        "outputId": "3ea21b71-7ddd-4199-b92d-849142f35007",
        "trusted": true
      },
      "outputs": [
        {
          "data": {
            "application/vnd.jupyter.widget-view+json": {
              "model_id": "9d74ca5ec3474feba47ef2af6e2f1d91",
              "version_major": 2,
              "version_minor": 0
            },
            "text/plain": [
              "  0%|          | 0/1230 [00:00<?, ?it/s]"
            ]
          },
          "metadata": {},
          "output_type": "display_data"
        }
      ],
      "source": [
        "test_loss, Val_Acc, exact_score, f1_score = Evaluate_on(model_Bert, Location_trivia_dev, remove_no_answers=True)"
      ]
    },
    {
      "cell_type": "code",
      "execution_count": null,
      "metadata": {
        "colab": {
          "base_uri": "https://localhost:8080/"
        },
        "execution": {
          "iopub.execute_input": "2022-03-09T20:51:08.025395Z",
          "iopub.status.busy": "2022-03-09T20:51:08.024994Z",
          "iopub.status.idle": "2022-03-09T20:51:08.038232Z",
          "shell.execute_reply": "2022-03-09T20:51:08.037435Z",
          "shell.execute_reply.started": "2022-03-09T20:51:08.025355Z"
        },
        "id": "c3QiHWz60o6P",
        "outputId": "127178a3-bb7f-43ef-b672-630f1bf70785",
        "trusted": true
      },
      "outputs": [
        {
          "name": "stdout",
          "output_type": "stream",
          "text": [
            "Test loss:\t 1.412 \n",
            "Val_acc:\t 55.92%  \n",
            "Exact score:\t 47.05%  \n",
            "F1 score:\t 53.08% \n"
          ]
        }
      ],
      "source": [
        "print(f'Test loss:\\t {test_loss:.3f} \\nVal_acc:\\t {Val_Acc*100:.2f}%  \\nExact score:\\t {exact_score*100:.2f}%  \\nF1 score:\\t {f1_score*100:.2f}% ')"
      ]
    },
    {
      "cell_type": "markdown",
      "metadata": {
        "id": "tbZr9lBX0o6P"
      },
      "source": [
        "## Evaluate with SQuAD dataset"
      ]
    },
    {
      "cell_type": "code",
      "execution_count": null,
      "metadata": {
        "colab": {
          "base_uri": "https://localhost:8080/",
          "height": 49,
          "referenced_widgets": [
            "cf42bf90cf1844c5930fddc0aa42c307",
            "46e8aa8af2d74ac692238f288baf058e",
            "0534bae23b5341f0a56f2bb7e24eb1af",
            "1eeb384340ae4074a1f23b0671e8158c",
            "a8cdb3cee35d4aa2a9671af1483e3727",
            "ebbfb97670364db2a327f4341899ad76",
            "590fcd41f25749929a88bd8c09ee81db",
            "7a31218bb6eb4cf591a05ea09bbe0590",
            "aa0d7d3576524bdab1b19bbf2ff452ca",
            "7852e9fcee5f4fd8b36a18a175a9f3db",
            "447e2e2e2e124067ba20d27194d320ef"
          ]
        },
        "id": "RIHSGg5k0o6P",
        "outputId": "da219e10-e439-4b65-ced8-ac2da1f9c8af",
        "trusted": true
      },
      "outputs": [
        {
          "data": {
            "application/vnd.jupyter.widget-view+json": {
              "model_id": "cf42bf90cf1844c5930fddc0aa42c307",
              "version_major": 2,
              "version_minor": 0
            },
            "text/plain": [
              "  0%|          | 0/3279 [00:00<?, ?it/s]"
            ]
          },
          "metadata": {},
          "output_type": "display_data"
        }
      ],
      "source": [
        "test_loss, Val_Acc, exact_score, f1_score = Evaluate_on(model_Bert, Location_squad_dev, remove_no_answers=True)"
      ]
    },
    {
      "cell_type": "code",
      "execution_count": null,
      "metadata": {
        "colab": {
          "base_uri": "https://localhost:8080/"
        },
        "id": "_n604Oec0o6P",
        "outputId": "24fa63c4-113a-47f7-8493-f4b10a85d9f3"
      },
      "outputs": [
        {
          "name": "stdout",
          "output_type": "stream",
          "text": [
            "Test loss:\t 5.351 \n",
            "Val_acc:\t 23.10%  \n",
            "Exact score:\t 23.39%  \n",
            "F1 score:\t 35.69% \n"
          ]
        }
      ],
      "source": [
        "print(f'Test loss:\\t {test_loss:.3f} \\nVal_acc:\\t {Val_Acc*100:.2f}%  \\nExact score:\\t {exact_score*100:.2f}%  \\nF1 score:\\t {f1_score*100:.2f}% ')"
      ]
    },
    {
      "cell_type": "markdown",
      "metadata": {
        "id": "yiqQCc_40o6P"
      },
      "source": [
        "## Evaluate with Natural Questions\n"
      ]
    },
    {
      "cell_type": "code",
      "execution_count": null,
      "metadata": {
        "colab": {
          "base_uri": "https://localhost:8080/",
          "height": 49,
          "referenced_widgets": [
            "ec84fca9374c49efaba0f263c27440a2",
            "bae9775d1d0f455fb7bce195636b26a4",
            "3b80fc2ae2fa4d8dbde71e64291b2170",
            "bc081b9aaacc4b4cafda6ef3338bf215",
            "85ca2a70907a44899de23be250d3e8fe",
            "b174ccaf439b4e238fc096bcbed18859",
            "8a27830a95274cf4b6a224c94408c83a",
            "53ff9130f4c14355827a69a919d4d002",
            "cc2afa6a27c8442fbd3c6cb6d205279b",
            "2f2656a4774d4844add07bab675bec83",
            "ecbb16b366d44874acd6c5df5178dba3"
          ]
        },
        "id": "WcXKREAD0o6P",
        "outputId": "7a9e519b-1f29-48be-a252-6f4ef76953dc"
      },
      "outputs": [
        {
          "data": {
            "application/vnd.jupyter.widget-view+json": {
              "model_id": "ec84fca9374c49efaba0f263c27440a2",
              "version_major": 2,
              "version_minor": 0
            },
            "text/plain": [
              "  0%|          | 0/457 [00:00<?, ?it/s]"
            ]
          },
          "metadata": {},
          "output_type": "display_data"
        }
      ],
      "source": [
        "test_loss, Val_Acc, exact_score, f1_score = Evaluate_on(model_Bert, Location_nq_dev, remove_no_answers=True)"
      ]
    },
    {
      "cell_type": "code",
      "execution_count": null,
      "metadata": {
        "colab": {
          "base_uri": "https://localhost:8080/"
        },
        "id": "_0ng4ZAh0o6P",
        "outputId": "74138d0b-b004-4f47-f859-82a8a6f78873"
      },
      "outputs": [
        {
          "name": "stdout",
          "output_type": "stream",
          "text": [
            "Test loss:\t 6.094 \n",
            "Val_acc:\t 22.16%  \n",
            "Exact score:\t 20.21%  \n",
            "F1 score:\t 36.79% \n"
          ]
        }
      ],
      "source": [
        "print(f'Test loss:\\t {test_loss:.3f} \\nVal_acc:\\t {Val_Acc*100:.2f}%  \\nExact score:\\t {exact_score*100:.2f}%  \\nF1 score:\\t {f1_score*100:.2f}% ')"
      ]
    },
    {
      "cell_type": "markdown",
      "metadata": {
        "id": "LMKpi8Vw0o6P"
      },
      "source": [
        "## Evaluate with QuAC"
      ]
    },
    {
      "cell_type": "code",
      "execution_count": null,
      "metadata": {
        "colab": {
          "base_uri": "https://localhost:8080/",
          "height": 49,
          "referenced_widgets": [
            "353b7abc646d419ba592b8f12453e12a",
            "ded6cf92b68148038f08611a73cbbe9e",
            "6cff3463b54240d7933b65b0bb6ac5c5",
            "d0ff0eb2c63040d08d8e9c8c19f00d5d",
            "972ff788fbd540bf94f4f72fc3a2caff",
            "6813c0cc52fe4a17b4614633d5e6b1a8",
            "2eb880e00ee1441d8d560b8afe7d5608",
            "ed87699f9e99418491a8b1aaedc8b0d5",
            "382774c2d14341f7864a37a075b312b4",
            "76ba8752a467439e9653abb156a5a2b9",
            "7d04ae949bbc49c4979a233ff37be2d2"
          ]
        },
        "id": "nq_U8Q5S0o6Q",
        "outputId": "f0216a76-e9d7-4ce2-9dcf-eee27934111a"
      },
      "outputs": [
        {
          "data": {
            "application/vnd.jupyter.widget-view+json": {
              "model_id": "353b7abc646d419ba592b8f12453e12a",
              "version_major": 2,
              "version_minor": 0
            },
            "text/plain": [
              "  0%|          | 0/734 [00:00<?, ?it/s]"
            ]
          },
          "metadata": {},
          "output_type": "display_data"
        }
      ],
      "source": [
        "test_loss, Val_Acc, exact_score, f1_score = Evaluate_on(model_Bert, Location_quac_dev, remove_no_answers=True)"
      ]
    },
    {
      "cell_type": "code",
      "execution_count": null,
      "metadata": {
        "colab": {
          "base_uri": "https://localhost:8080/"
        },
        "id": "UEtzGQMX0o6Q",
        "outputId": "eced635b-5dbd-4caa-b455-e22bbd6ec855"
      },
      "outputs": [
        {
          "name": "stdout",
          "output_type": "stream",
          "text": [
            "Test loss:\t 8.373 \n",
            "Val_acc:\t 8.84%  \n",
            "Exact score:\t 1.21%  \n",
            "F1 score:\t 9.40% \n"
          ]
        }
      ],
      "source": [
        "print(f'Test loss:\\t {test_loss:.3f} \\nVal_acc:\\t {Val_Acc*100:.2f}%  \\nExact score:\\t {exact_score*100:.2f}%  \\nF1 score:\\t {f1_score*100:.2f}% ') #  :("
      ]
    },
    {
      "cell_type": "markdown",
      "metadata": {
        "id": "D-VgYHvX0o6Q"
      },
      "source": [
        "## Evaluate wtih NewsQA"
      ]
    },
    {
      "cell_type": "code",
      "execution_count": null,
      "metadata": {
        "colab": {
          "base_uri": "https://localhost:8080/",
          "height": 49,
          "referenced_widgets": [
            "ff7c0b4ee41f40aa909c8f8b62bc7d19",
            "ac1b73cb0f544f908936bd0f48c04d6c",
            "62b0809f6e474e9285d402ce420624f4",
            "a7e67b3faa97440496d64afcc43ef84e",
            "51a40fceb8c44655837ccfecd6f5bcdd",
            "6bc3bb92e7c54067a03a973b67442168",
            "6cbc3f64de694e9ab191fc36a619b784",
            "bdc05627dd21494a99dd4cdb4926ed94",
            "1548026393c44176b43dac8900eb799c",
            "0b2f01f302fb4738b67f13eae17a2fca",
            "4e11c68d8a754b188e262b3689ddbfa8"
          ]
        },
        "id": "-xXqylaM0o6Q",
        "outputId": "312829f7-e2f2-4e82-cb3d-fd94221c8419"
      },
      "outputs": [
        {
          "data": {
            "application/vnd.jupyter.widget-view+json": {
              "model_id": "ff7c0b4ee41f40aa909c8f8b62bc7d19",
              "version_major": 2,
              "version_minor": 0
            },
            "text/plain": [
              "  0%|          | 0/646 [00:00<?, ?it/s]"
            ]
          },
          "metadata": {},
          "output_type": "display_data"
        }
      ],
      "source": [
        "test_loss, Val_Acc, exact_score, f1_score = Evaluate_on(model_Bert, Location_newsqa_dev, remove_no_answers=True)"
      ]
    },
    {
      "cell_type": "code",
      "execution_count": null,
      "metadata": {
        "colab": {
          "base_uri": "https://localhost:8080/"
        },
        "id": "yK73xlEV0o6Q",
        "outputId": "2db3a192-9b60-4666-a2f4-f48e25b0fafb"
      },
      "outputs": [
        {
          "name": "stdout",
          "output_type": "stream",
          "text": [
            "Test loss:\t 4.394 \n",
            "Val_acc:\t 26.02%  \n",
            "Exact score:\t 16.30%  \n",
            "F1 score:\t 26.08% \n"
          ]
        }
      ],
      "source": [
        "print(f'Test loss:\\t {test_loss:.3f} \\nVal_acc:\\t {Val_Acc*100:.2f}%  \\nExact score:\\t {exact_score*100:.2f}%  \\nF1 score:\\t {f1_score*100:.2f}% ')"
      ]
    },
    {
      "cell_type": "markdown",
      "metadata": {
        "id": "9fe7WxOK0o6Q"
      },
      "source": [
        "# Natural Questions"
      ]
    },
    {
      "cell_type": "markdown",
      "metadata": {
        "id": "WUJm7M920o6Q"
      },
      "source": [
        "## Fine-tuning Bert model with TriviaQA dataset"
      ]
    },
    {
      "cell_type": "code",
      "execution_count": 18,
      "metadata": {
        "colab": {
          "base_uri": "https://localhost:8080/"
        },
        "execution": {
          "iopub.execute_input": "2022-03-10T13:59:12.226212Z",
          "iopub.status.busy": "2022-03-10T13:59:12.225956Z",
          "iopub.status.idle": "2022-03-10T13:59:50.987034Z",
          "shell.execute_reply": "2022-03-10T13:59:50.986225Z",
          "shell.execute_reply.started": "2022-03-10T13:59:12.226183Z"
        },
        "id": "EzA_8fBs0o6Q",
        "outputId": "7999eb43-6255-48fb-b399-abca846a7401",
        "trusted": true
      },
      "outputs": [
        {
          "name": "stdout",
          "output_type": "stream",
          "text": [
            "74218 + 36647 = 110865\n"
          ]
        }
      ],
      "source": [
        "# Prepare the train data from triviaqa\n",
        "train_contexts, train_questions, train_answers, no_answers_counter = read_dataset(Location_nq_train, \n",
        "                                                              num_groups_percent= -1, \n",
        "                                                              remove_no_answers=True) # get all the data into to lists\n",
        "\n",
        "print(len(train_answers) , '+',  no_answers_counter, '=', len(train_answers) +  no_answers_counter)  # from paper should be 110,857 (2004)  - we use this dataset in 2022 :), they have probably added contexts.\n",
        "# We will train our model only with 72K contexts, we removed the questions without answers \n",
        "\n",
        "add_end_idx(train_answers, train_contexts) #indicate each answer\n",
        "train_encodings = tokenizer(train_contexts, # encoding context and questions\n",
        "                          train_questions, \n",
        "                          truncation=True, \n",
        "                          max_length=324,\n",
        "                          padding=True)\n",
        "add_token_positions(train_encodings, train_answers)\n",
        "train_dataset = SquadDataset(train_encodings)\n",
        "\n",
        "BATCH_SIZE = 8\n",
        "train_loader = DataLoader(train_dataset, batch_size=BATCH_SIZE)\n"
      ]
    },
    {
      "cell_type": "code",
      "execution_count": null,
      "metadata": {
        "execution": {
          "iopub.execute_input": "2022-03-10T14:00:30.767999Z",
          "iopub.status.busy": "2022-03-10T14:00:30.767285Z",
          "iopub.status.idle": "2022-03-10T15:36:08.637673Z",
          "shell.execute_reply": "2022-03-10T15:36:08.636924Z",
          "shell.execute_reply.started": "2022-03-10T14:00:30.767960Z"
        },
        "id": "H0MZLWoh1y9f",
        "outputId": "0a498a60-0593-4be3-832c-51f4057770be",
        "trusted": true
      },
      "outputs": [
        {
          "name": "stderr",
          "output_type": "stream",
          "text": [
            "Epoch: 1: 100%|██████████| 9278/9278 [47:48<00:00,  3.23it/s, training_loss=1.470]\n"
          ]
        },
        {
          "name": "stdout",
          "output_type": "stream",
          "text": [
            "Epoch: 1 | Train Loss: 1.470 | Train Acc: 58.41%\n"
          ]
        },
        {
          "name": "stderr",
          "output_type": "stream",
          "text": [
            "Epoch: 2: 100%|██████████| 9278/9278 [47:49<00:00,  3.23it/s, training_loss=0.894]"
          ]
        },
        {
          "name": "stdout",
          "output_type": "stream",
          "text": [
            "Epoch: 2 | Train Loss: 0.894 | Train Acc: 72.35%\n"
          ]
        },
        {
          "name": "stderr",
          "output_type": "stream",
          "text": [
            "\n"
          ]
        }
      ],
      "source": [
        "from tqdm import tqdm\n",
        "\n",
        "# initialize adam optimizer with weight decay (reduces chance of overfitting)\n",
        "optim = torch.optim.AdamW(model_Bert.parameters(), lr=2e-5)\n",
        "\n",
        "epochs = 2\n",
        "\n",
        "\n",
        "train_losses = []\n",
        "test_losses = []\n",
        "\n",
        "for epoch in range(epochs):\n",
        "    \n",
        "    train_loss = []\n",
        "    test_loss = []\n",
        "    acc_train = []\n",
        "    acc_test = []\n",
        "\n",
        "    # for compute f1\n",
        "    pred_start = []\n",
        "    pred_end = []\n",
        "    true_start = []\n",
        "    true_end = []\n",
        "    f1_scores = []\n",
        "    exact_scores = []\n",
        "\n",
        "    model_Bert.train()   # set model to train mode\n",
        "    with torch.set_grad_enabled(True):\n",
        "      # setup loop (we use tqdm for the progress bar)\n",
        "      progress_bar = tqdm(train_loader, f\"Epoch: {epoch+1}\")\n",
        "      for batch in progress_bar:\n",
        "          # initialize calculated gradients (from prev step)\n",
        "          optim.zero_grad()\n",
        "\n",
        "          # pull all the tensor batches required for training\n",
        "          input_ids = batch['input_ids'].to(device)\n",
        "          attention_mask = batch['attention_mask'].to(device)\n",
        "          start_positions = batch['start_positions'].to(device)\n",
        "          end_positions = batch['end_positions'].to(device)\n",
        "\n",
        "          # print('start_positions', start_positions)\n",
        "          \n",
        "          # train model on batch and return outputs (incl. loss)\n",
        "          outputs = model_Bert(input_ids, attention_mask=attention_mask,\n",
        "                          start_positions=start_positions,\n",
        "                          end_positions=end_positions)\n",
        "          \n",
        "          # get the predictions\n",
        "          start_pred = torch.argmax(outputs['start_logits'], dim=1)\n",
        "          end_pred = torch.argmax(outputs['end_logits'], dim=1)\n",
        "\n",
        "          \n",
        "          # extract loss\n",
        "          loss = outputs[0]\n",
        "\n",
        "          # calculate loss for every parameter that needs grad update\n",
        "          loss.backward()\n",
        "          # update parameters\n",
        "          optim.step()\n",
        "          train_loss.append(loss.item())\n",
        "\n",
        "          # calculate accuracy for both and append to accuracy list\n",
        "          acc_train.append(((start_pred == start_positions).sum()/len(start_pred)).item())\n",
        "          acc_train.append(((end_pred == end_positions).sum()/len(end_pred)).item())\n",
        "\n",
        "          # print relevant info to progress bar\n",
        "          # progress_bar.set_description(f'Epoch {epoch+1}')\n",
        "          progress_bar.set_postfix({'training_loss': '{:.3f}'.format(np.mean(train_loss))})\n",
        "    \n",
        "    # get the average loss\n",
        "    train_loss_temp = np.mean(train_loss)\n",
        "    train_losses.append(train_loss_temp)\n",
        "    \n",
        "    acc_train_temp = np.mean(acc_train)   # average accuracy of the train set\n",
        "\n",
        "\n",
        "    tqdm.write(f'''Epoch: {epoch+1} | Train Loss: {train_loss_temp:.3f} | Train Acc: {acc_train_temp*100:.2f}%''')"
      ]
    },
    {
      "cell_type": "code",
      "execution_count": null,
      "metadata": {
        "execution": {
          "iopub.execute_input": "2022-03-10T15:36:27.361791Z",
          "iopub.status.busy": "2022-03-10T15:36:27.361335Z",
          "iopub.status.idle": "2022-03-10T15:36:28.103467Z",
          "shell.execute_reply": "2022-03-10T15:36:28.102741Z",
          "shell.execute_reply.started": "2022-03-10T15:36:27.361753Z"
        },
        "id": "vNZYUG3T0o6R",
        "trusted": true
      },
      "outputs": [],
      "source": [
        "# # Save model \n",
        "# import torch\n",
        "# torch.save(model_Bert.state_dict(), './model_NQ.pth')"
      ]
    },
    {
      "cell_type": "markdown",
      "metadata": {
        "id": "nlsbKDw60o6R"
      },
      "source": [
        "<a href=\"./model_NQ.pth\"> Download model</a>"
      ]
    },
    {
      "cell_type": "markdown",
      "metadata": {
        "id": "IGP4eaCR4Uhi"
      },
      "source": [
        "## Load fine-tuned Bert model"
      ]
    },
    {
      "cell_type": "code",
      "execution_count": null,
      "metadata": {
        "colab": {
          "base_uri": "https://localhost:8080/"
        },
        "id": "I_giiQ4v0o6R",
        "outputId": "4d996274-3c1e-4ab6-8977-44bd691ae416"
      },
      "outputs": [
        {
          "name": "stdout",
          "output_type": "stream",
          "text": [
            "Archive:  /content/drive/MyDrive/AI_2/project4/Models/model_NQ.zip\n",
            "  inflating: model_NQ.pth            \n"
          ]
        }
      ],
      "source": [
        "# Load model from Drive\n",
        "# !gdown 1Bo1BFGtrKi2DRPVGROgJhpqmZmS6XyEf\n",
        "!unzip \"/content/drive/MyDrive/AI_2/project4/Models/model_NQ.zip\""
      ]
    },
    {
      "cell_type": "code",
      "execution_count": null,
      "metadata": {
        "colab": {
          "base_uri": "https://localhost:8080/"
        },
        "id": "D93bOylT0o6R",
        "outputId": "2949e398-68e2-402b-cd18-9c11616d323e"
      },
      "outputs": [
        {
          "data": {
            "text/plain": [
              "<All keys matched successfully>"
            ]
          },
          "execution_count": 63,
          "metadata": {},
          "output_type": "execute_result"
        }
      ],
      "source": [
        "import collections\n",
        "from collections import OrderedDict\n",
        "\n",
        "model_check = torch.load('./model_NQ.pth')\n",
        "model_Bert.load_state_dict(model_check)"
      ]
    },
    {
      "cell_type": "markdown",
      "metadata": {
        "id": "SQPuBbdw0o6R"
      },
      "source": [
        "## Evaluate with Natural Questions"
      ]
    },
    {
      "cell_type": "code",
      "execution_count": null,
      "metadata": {
        "colab": {
          "base_uri": "https://localhost:8080/",
          "height": 49,
          "referenced_widgets": [
            "0af435b5cf4646cb915ad2e054e91b1f",
            "12108c00ad014aa29851d2031289040c",
            "cc0ec8f716254de0a5fd171be12f200c",
            "9cc288b6d5fc4df3bdfb7dd78d7738a6",
            "6d67925de7564e8bb9246485216f6829",
            "e55e61b37f9444daba71845a363770eb",
            "75946eb256a2403ba22a23ab6305fcc0",
            "a416844d0fe04059836d586643685f40",
            "4d7b775a27e148cd9f08de534af976ed",
            "b8a44440dae0433a8571dc2bb83fc158",
            "bea258ba11fa4e9294e9e68959fe7002"
          ]
        },
        "execution": {
          "iopub.execute_input": "2022-03-10T15:40:40.609173Z",
          "iopub.status.busy": "2022-03-10T15:40:40.608526Z",
          "iopub.status.idle": "2022-03-10T15:41:38.034577Z",
          "shell.execute_reply": "2022-03-10T15:41:38.033699Z",
          "shell.execute_reply.started": "2022-03-10T15:40:40.609138Z"
        },
        "id": "Gwz_K0Up0o6R",
        "outputId": "07d80546-9765-43fa-e744-fc353ffe1afd",
        "trusted": true
      },
      "outputs": [
        {
          "data": {
            "application/vnd.jupyter.widget-view+json": {
              "model_id": "0af435b5cf4646cb915ad2e054e91b1f",
              "version_major": 2,
              "version_minor": 0
            },
            "text/plain": [
              "  0%|          | 0/457 [00:00<?, ?it/s]"
            ]
          },
          "metadata": {},
          "output_type": "display_data"
        }
      ],
      "source": [
        "test_loss, Val_Acc, exact_score, f1_score = Evaluate_on(model_Bert, Location_nq_dev, remove_no_answers=True)"
      ]
    },
    {
      "cell_type": "code",
      "execution_count": null,
      "metadata": {
        "colab": {
          "base_uri": "https://localhost:8080/"
        },
        "execution": {
          "iopub.execute_input": "2022-03-10T15:42:19.687379Z",
          "iopub.status.busy": "2022-03-10T15:42:19.686945Z",
          "iopub.status.idle": "2022-03-10T15:42:19.692688Z",
          "shell.execute_reply": "2022-03-10T15:42:19.691767Z",
          "shell.execute_reply.started": "2022-03-10T15:42:19.687344Z"
        },
        "id": "XcE8_eZU0o6R",
        "outputId": "40e5ee74-6850-42cd-aa3e-3bdbcc684f19",
        "trusted": true
      },
      "outputs": [
        {
          "name": "stdout",
          "output_type": "stream",
          "text": [
            "Test loss:\t 1.402 \n",
            "Val_acc:\t 60.79%  \n",
            "Exact score:\t 50.14%  \n",
            "F1 score:\t 70.34% \n"
          ]
        }
      ],
      "source": [
        "print(f'Test loss:\\t {test_loss:.3f} \\nVal_acc:\\t {Val_Acc*100:.2f}%  \\nExact score:\\t {exact_score*100:.2f}%  \\nF1 score:\\t {f1_score*100:.2f}% ')"
      ]
    },
    {
      "cell_type": "markdown",
      "metadata": {
        "id": "ep5JuZSz0o6R"
      },
      "source": [
        "## Evaluate with SQuAD dataset"
      ]
    },
    {
      "cell_type": "code",
      "execution_count": null,
      "metadata": {
        "colab": {
          "base_uri": "https://localhost:8080/",
          "height": 49,
          "referenced_widgets": [
            "35dda57ca3424abd9b4ecea7909010d7",
            "f0c92531b03f4373babe9349dff6603b",
            "1f8f0a3812f0408d8d593020f53ad387",
            "d73c2498c07d4011b93468a539f94d3a",
            "3be08205a63040219ff4e74f466981a7",
            "77c69dd2eaeb4843a755ebcd7409f9d4",
            "1710f5e4f8e14c308d1d822199c58f6d",
            "6c775b772647483d9bf588e704fb1eaa",
            "69de8eb12a92459a80eb75bd02d3fd22",
            "ccba7cc838d548478c9c603505c8a4ab",
            "667c5f16ee624799bb379a5e16e44c6a"
          ]
        },
        "id": "CEWHVKOr0o6S",
        "outputId": "91ab527e-5555-45b2-a8d0-2a13dc11f0c0"
      },
      "outputs": [
        {
          "data": {
            "application/vnd.jupyter.widget-view+json": {
              "model_id": "35dda57ca3424abd9b4ecea7909010d7",
              "version_major": 2,
              "version_minor": 0
            },
            "text/plain": [
              "  0%|          | 0/3279 [00:00<?, ?it/s]"
            ]
          },
          "metadata": {},
          "output_type": "display_data"
        }
      ],
      "source": [
        "test_loss, Val_Acc, exact_score, f1_score = Evaluate_on(model_Bert, Location_squad_dev, remove_no_answers=True)"
      ]
    },
    {
      "cell_type": "code",
      "execution_count": null,
      "metadata": {
        "colab": {
          "base_uri": "https://localhost:8080/"
        },
        "id": "DGSMs-T00o6S",
        "outputId": "3df74036-0d87-4506-888d-6b991ca6de87"
      },
      "outputs": [
        {
          "name": "stdout",
          "output_type": "stream",
          "text": [
            "Test loss:\t 1.956 \n",
            "Val_acc:\t 49.37%  \n",
            "Exact score:\t 40.74%  \n",
            "F1 score:\t 59.93% \n"
          ]
        }
      ],
      "source": [
        "print(f'Test loss:\\t {test_loss:.3f} \\nVal_acc:\\t {Val_Acc*100:.2f}%  \\nExact score:\\t {exact_score*100:.2f}%  \\nF1 score:\\t {f1_score*100:.2f}% ')"
      ]
    },
    {
      "cell_type": "markdown",
      "metadata": {
        "id": "jkJkrHv-0o6S"
      },
      "source": [
        "## Evaluate with TriviaQA dataset"
      ]
    },
    {
      "cell_type": "code",
      "execution_count": null,
      "metadata": {
        "colab": {
          "base_uri": "https://localhost:8080/",
          "height": 49,
          "referenced_widgets": [
            "b299c52ec57e4a039440cc9e630ed139",
            "14cc2bbda8a44ab5afd1a55dfcd6a93e",
            "e7dd9f811af54db7ae1657b14318941a",
            "37e0466226fe437cba9daab20714c79d",
            "402a0fbe30c54da181f5cdd1ba7cac28",
            "9b2b0251b6c44019a6f166d7df46e885",
            "d39e8007be3647e2aecc744a3b33ad97",
            "58a00fcaca734e8f9b56a9d53d97c692",
            "e9b51439db3545038b276314cccfd356",
            "9661b1aa16514dd4845d6fd8e139cbef",
            "e0b0d654f9ba4dd1afe8e9830f9bff43"
          ]
        },
        "execution": {
          "iopub.execute_input": "2022-03-10T15:47:47.021408Z",
          "iopub.status.busy": "2022-03-10T15:47:47.021162Z",
          "iopub.status.idle": "2022-03-10T15:50:30.20682Z",
          "shell.execute_reply": "2022-03-10T15:50:30.206118Z",
          "shell.execute_reply.started": "2022-03-10T15:47:47.021382Z"
        },
        "id": "xtTRI6Sl0o6S",
        "outputId": "bbf23f7b-8ea6-4d18-f6c2-d1800881fc5f",
        "trusted": true
      },
      "outputs": [
        {
          "data": {
            "application/vnd.jupyter.widget-view+json": {
              "model_id": "b299c52ec57e4a039440cc9e630ed139",
              "version_major": 2,
              "version_minor": 0
            },
            "text/plain": [
              "  0%|          | 0/1230 [00:00<?, ?it/s]"
            ]
          },
          "metadata": {},
          "output_type": "display_data"
        }
      ],
      "source": [
        "test_loss, Val_Acc, exact_score, f1_score = Evaluate_on(model_Bert, Location_trivia_dev, remove_no_answers=True)"
      ]
    },
    {
      "cell_type": "code",
      "execution_count": null,
      "metadata": {
        "colab": {
          "base_uri": "https://localhost:8080/"
        },
        "execution": {
          "iopub.execute_input": "2022-03-10T15:50:30.208889Z",
          "iopub.status.busy": "2022-03-10T15:50:30.208628Z",
          "iopub.status.idle": "2022-03-10T15:50:30.213669Z",
          "shell.execute_reply": "2022-03-10T15:50:30.212808Z",
          "shell.execute_reply.started": "2022-03-10T15:50:30.208853Z"
        },
        "id": "avlZy8qY0o6S",
        "outputId": "57cde888-9059-4c9b-dc20-51ca29a527cb",
        "trusted": true
      },
      "outputs": [
        {
          "name": "stdout",
          "output_type": "stream",
          "text": [
            "Test loss:\t 5.170 \n",
            "Val_acc:\t 25.33%  \n",
            "Exact score:\t 29.29%  \n",
            "F1 score:\t 40.46% \n"
          ]
        }
      ],
      "source": [
        "print(f'Test loss:\\t {test_loss:.3f} \\nVal_acc:\\t {Val_Acc*100:.2f}%  \\nExact score:\\t {exact_score*100:.2f}%  \\nF1 score:\\t {f1_score*100:.2f}% ')"
      ]
    },
    {
      "cell_type": "markdown",
      "metadata": {
        "id": "qHlg6Isk0o6S"
      },
      "source": [
        "## Evaluate with QuAC dataset"
      ]
    },
    {
      "cell_type": "code",
      "execution_count": null,
      "metadata": {
        "colab": {
          "base_uri": "https://localhost:8080/",
          "height": 49,
          "referenced_widgets": [
            "fa282d5059234965b2d0e96d3c800830",
            "8efccc304c4c4bba9af205710ce8b226",
            "49314b8925924bbda913b4320f41ac5c",
            "c912a2b81f82412aa9e63feb8ef465a2",
            "7c0037bbb2274035885a03ebf414a3c5",
            "e8fac9858bfd42d3a8bce1fed862a599",
            "f54e3539a1a54224b779d8478032df16",
            "51f54ccd1cb349bf892667dd1f6bdc39",
            "e08130b00f4742ecacb2c1ce54e76bd9",
            "bf075d460bf54d6dbc691319a691a94b",
            "9f6eb4098d074105ad0c254069da62a3"
          ]
        },
        "id": "hnfk-LRi0o6S",
        "outputId": "9674fce0-4d9b-457b-cf33-f23776b21076",
        "trusted": true
      },
      "outputs": [
        {
          "data": {
            "application/vnd.jupyter.widget-view+json": {
              "model_id": "fa282d5059234965b2d0e96d3c800830",
              "version_major": 2,
              "version_minor": 0
            },
            "text/plain": [
              "  0%|          | 0/734 [00:00<?, ?it/s]"
            ]
          },
          "metadata": {},
          "output_type": "display_data"
        }
      ],
      "source": [
        "test_loss, Val_Acc, exact_score, f1_score = Evaluate_on(model_Bert, Location_quac_dev, remove_no_answers=True)"
      ]
    },
    {
      "cell_type": "code",
      "execution_count": null,
      "metadata": {
        "colab": {
          "base_uri": "https://localhost:8080/"
        },
        "id": "JUU-_mBd0o6S",
        "outputId": "df8fc67e-16a6-445a-a5a9-effefdf9124f"
      },
      "outputs": [
        {
          "name": "stdout",
          "output_type": "stream",
          "text": [
            "Test loss:\t 5.480 \n",
            "Val_acc:\t 8.36%  \n",
            "Exact score:\t 2.81%  \n",
            "F1 score:\t 14.36% \n"
          ]
        }
      ],
      "source": [
        "print(f'Test loss:\\t {test_loss:.3f} \\nVal_acc:\\t {Val_Acc*100:.2f}%  \\nExact score:\\t {exact_score*100:.2f}%  \\nF1 score:\\t {f1_score*100:.2f}% ')"
      ]
    },
    {
      "cell_type": "markdown",
      "metadata": {
        "id": "F0yVWeasByTW"
      },
      "source": [
        "## Evaluate with NewsQA"
      ]
    },
    {
      "cell_type": "code",
      "execution_count": null,
      "metadata": {
        "colab": {
          "base_uri": "https://localhost:8080/",
          "height": 49,
          "referenced_widgets": [
            "eae3e9c5fd4d4eafb4a60a37a9bf03fc",
            "5138b30885fc4a9cbca188ae9b4bd68b",
            "4dc7f21a8e694c119772a41eb71fa6c3",
            "7209b7aa457f455aaf5cd9a8df7f8197",
            "b686337f804343eea79352dd8de48132",
            "8b9c8c25276c4fe1a4425351bdfe5ab7",
            "89b262e76cc945acb494863f26cf413d",
            "ec0808427f6441bfb968ab9312b2191c",
            "0ada40b6719349e9b5f65313f8440d80",
            "c34b7eebcebc47a8bb887dd7bf4f6fb7",
            "1b620127eb364834a710a8984af468bd"
          ]
        },
        "id": "BZWRy47aByTW",
        "outputId": "88d88c57-bb3c-49f3-8531-25fd5389f50c"
      },
      "outputs": [
        {
          "data": {
            "application/vnd.jupyter.widget-view+json": {
              "model_id": "eae3e9c5fd4d4eafb4a60a37a9bf03fc",
              "version_major": 2,
              "version_minor": 0
            },
            "text/plain": [
              "  0%|          | 0/734 [00:00<?, ?it/s]"
            ]
          },
          "metadata": {},
          "output_type": "display_data"
        }
      ],
      "source": [
        "test_loss, Val_Acc, exact_score, f1_score = Evaluate_on(model_Bert, Location_quac_dev, remove_no_answers=True)"
      ]
    },
    {
      "cell_type": "code",
      "execution_count": null,
      "metadata": {
        "colab": {
          "base_uri": "https://localhost:8080/"
        },
        "id": "CtIe1qL2ByTW",
        "outputId": "ebfaa834-4d42-44e5-f6e2-97d5ac179059"
      },
      "outputs": [
        {
          "name": "stdout",
          "output_type": "stream",
          "text": [
            "Test loss:\t 2.971 \n",
            "Val_acc:\t 24.61%  \n",
            "Exact score:\t 6.81%  \n",
            "F1 score:\t 21.35% \n"
          ]
        }
      ],
      "source": [
        "print(f'Test loss:\\t {test_loss:.3f} \\nVal_acc:\\t {Val_Acc*100:.2f}%  \\nExact score:\\t {exact_score*100:.2f}%  \\nF1 score:\\t {f1_score*100:.2f}% ')"
      ]
    },
    {
      "cell_type": "markdown",
      "metadata": {
        "id": "dh_AUxL80o6T"
      },
      "source": [
        "# QuAC\n"
      ]
    },
    {
      "cell_type": "markdown",
      "metadata": {
        "id": "uk4wrNGy0o6T"
      },
      "source": [
        "## Fine-tuning Bert model with QuAC dataset"
      ]
    },
    {
      "cell_type": "code",
      "execution_count": 19,
      "metadata": {
        "colab": {
          "base_uri": "https://localhost:8080/"
        },
        "execution": {
          "iopub.execute_input": "2022-03-10T10:56:13.316577Z",
          "iopub.status.busy": "2022-03-10T10:56:13.316296Z",
          "iopub.status.idle": "2022-03-10T10:58:35.695738Z",
          "shell.execute_reply": "2022-03-10T10:58:35.69494Z",
          "shell.execute_reply.started": "2022-03-10T10:56:13.316526Z"
        },
        "id": "jrzsjghJ0o6T",
        "outputId": "bf84822c-05b4-4d21-93c0-c2d824bfa0ef",
        "trusted": true
      },
      "outputs": [
        {
          "name": "stdout",
          "output_type": "stream",
          "text": [
            "83568 83568 83568\n"
          ]
        }
      ],
      "source": [
        "# Prepare the train data from triviaqa\n",
        "train_contexts, train_questions, train_answers = read_dataset(Location_quac_train, \n",
        "                                                              num_groups_percent= -1, \n",
        "                                                              remove_no_answers=False) # get all the data into to lists\n",
        "\n",
        "print(len(train_contexts), len(train_answers), len(train_questions)) # from https://arxiv.org/pdf/2004.03490.pdf (pg.2 -> table 1) this should be 83,568\n",
        "\n",
        "add_end_idx(train_answers, train_contexts) #indicate each answer\n",
        "train_encodings = tokenizer(train_contexts, # encoding context and questions\n",
        "                          train_questions, \n",
        "                          truncation=True, \n",
        "                          max_length=324,\n",
        "                          padding=True)\n",
        "add_token_positions(train_encodings, train_answers)\n",
        "train_dataset = SquadDataset(train_encodings)\n",
        "\n",
        "BATCH_SIZE = 8\n",
        "train_loader = DataLoader(train_dataset, batch_size=BATCH_SIZE)\n"
      ]
    },
    {
      "cell_type": "code",
      "execution_count": null,
      "metadata": {
        "execution": {
          "iopub.execute_input": "2022-03-09T13:05:16.654281Z",
          "iopub.status.busy": "2022-03-09T13:05:16.654014Z",
          "iopub.status.idle": "2022-03-09T14:52:49.959568Z",
          "shell.execute_reply": "2022-03-09T14:52:49.958828Z",
          "shell.execute_reply.started": "2022-03-09T13:05:16.654251Z"
        },
        "id": "5hsWfv1b2bWM",
        "outputId": "9df94660-a148-417a-a771-ac729f9a683e",
        "trusted": true
      },
      "outputs": [
        {
          "name": "stderr",
          "output_type": "stream",
          "text": [
            "Epoch: 1: 100%|██████████| 10446/10446 [53:40<00:00,  3.24it/s, training_loss=2.966]\n"
          ]
        },
        {
          "name": "stdout",
          "output_type": "stream",
          "text": [
            "Epoch: 1 | Train Loss: 2.966 | Train Acc: 25.59%\n"
          ]
        },
        {
          "name": "stderr",
          "output_type": "stream",
          "text": [
            "Epoch: 2: 100%|██████████| 10446/10446 [53:53<00:00,  3.23it/s, training_loss=2.442]"
          ]
        },
        {
          "name": "stdout",
          "output_type": "stream",
          "text": [
            "Epoch: 2 | Train Loss: 2.442 | Train Acc: 31.60%\n"
          ]
        },
        {
          "name": "stderr",
          "output_type": "stream",
          "text": [
            "\n"
          ]
        }
      ],
      "source": [
        "from tqdm import tqdm\n",
        "\n",
        "# initialize adam optimizer with weight decay (reduces chance of overfitting)\n",
        "optim = torch.optim.AdamW(model_Bert.parameters(), lr=2e-5)\n",
        "\n",
        "epochs = 2\n",
        "\n",
        "\n",
        "train_losses = []\n",
        "test_losses = []\n",
        "\n",
        "for epoch in range(epochs):\n",
        "    \n",
        "    train_loss = []\n",
        "    test_loss = []\n",
        "    acc_train = []\n",
        "    acc_test = []\n",
        "\n",
        "    # for compute f1\n",
        "    pred_start = []\n",
        "    pred_end = []\n",
        "    true_start = []\n",
        "    true_end = []\n",
        "    f1_scores = []\n",
        "    exact_scores = []\n",
        "\n",
        "    model_Bert.train()   # set model to train mode\n",
        "    with torch.set_grad_enabled(True):\n",
        "      # setup loop (we use tqdm for the progress bar)\n",
        "      progress_bar = tqdm(train_loader, f\"Epoch: {epoch+1}\")\n",
        "      for batch in progress_bar:\n",
        "          # initialize calculated gradients (from prev step)\n",
        "          optim.zero_grad()\n",
        "\n",
        "          # pull all the tensor batches required for training\n",
        "          input_ids = batch['input_ids'].to(device)\n",
        "          attention_mask = batch['attention_mask'].to(device)\n",
        "          start_positions = batch['start_positions'].to(device)\n",
        "          end_positions = batch['end_positions'].to(device)\n",
        "\n",
        "          # print('start_positions', start_positions)\n",
        "          \n",
        "          # train model on batch and return outputs (incl. loss)\n",
        "          outputs = model_Bert(input_ids, attention_mask=attention_mask,\n",
        "                          start_positions=start_positions,\n",
        "                          end_positions=end_positions)\n",
        "          \n",
        "          # get the predictions\n",
        "          start_pred = torch.argmax(outputs['start_logits'], dim=1)\n",
        "          end_pred = torch.argmax(outputs['end_logits'], dim=1)\n",
        "\n",
        "          \n",
        "          # extract loss\n",
        "          loss = outputs[0]\n",
        "\n",
        "          # calculate loss for every parameter that needs grad update\n",
        "          loss.backward()\n",
        "          # update parameters\n",
        "          optim.step()\n",
        "          train_loss.append(loss.item())\n",
        "\n",
        "          # calculate accuracy for both and append to accuracy list\n",
        "          acc_train.append(((start_pred == start_positions).sum()/len(start_pred)).item())\n",
        "          acc_train.append(((end_pred == end_positions).sum()/len(end_pred)).item())\n",
        "\n",
        "          # print relevant info to progress bar\n",
        "          # progress_bar.set_description(f'Epoch {epoch+1}')\n",
        "          progress_bar.set_postfix({'training_loss': '{:.3f}'.format(np.mean(train_loss))})\n",
        "    \n",
        "    # get the average loss\n",
        "    train_loss_temp = np.mean(train_loss)\n",
        "    train_losses.append(train_loss_temp)\n",
        "    \n",
        "    acc_train_temp = np.mean(acc_train)   # average accuracy of the train set\n",
        "\n",
        "\n",
        "    tqdm.write(f'''Epoch: {epoch+1} | Train Loss: {train_loss_temp:.3f} | Train Acc: {acc_train_temp*100:.2f}%''')"
      ]
    },
    {
      "cell_type": "code",
      "execution_count": null,
      "metadata": {
        "execution": {
          "iopub.execute_input": "2022-03-10T12:46:31.910337Z",
          "iopub.status.busy": "2022-03-10T12:46:31.910056Z",
          "iopub.status.idle": "2022-03-10T12:46:32.725394Z",
          "shell.execute_reply": "2022-03-10T12:46:32.724598Z",
          "shell.execute_reply.started": "2022-03-10T12:46:31.910304Z"
        },
        "id": "pyrExmni0o6T",
        "trusted": true
      },
      "outputs": [],
      "source": [
        "# # Save model \n",
        "# import torch\n",
        "# torch.save(model_Bert.state_dict(), './model_QuAC.pth')"
      ]
    },
    {
      "cell_type": "markdown",
      "metadata": {
        "id": "HfHE91if0o6T"
      },
      "source": [
        "<a href=\"./model_QuAC\"> Download model</a>"
      ]
    },
    {
      "cell_type": "markdown",
      "metadata": {
        "id": "0Bq_dZeD4uK6"
      },
      "source": [
        "## Load fine-tuned Bert model"
      ]
    },
    {
      "cell_type": "code",
      "execution_count": null,
      "metadata": {
        "colab": {
          "base_uri": "https://localhost:8080/"
        },
        "id": "9Jea-F6h0o6T",
        "outputId": "68a1a998-6741-489a-ef71-03ed539c1c03"
      },
      "outputs": [
        {
          "name": "stdout",
          "output_type": "stream",
          "text": [
            "Archive:  /content/drive/MyDrive/AI_2/project4/Models/model_QuAC.zip\n",
            "  inflating: model_QuAC.pth          \n"
          ]
        }
      ],
      "source": [
        "# Load model from Drive\n",
        "# !gdown 1c9j5vP8tbEp3b0mLWKKkTjhbUirlu5WN\n",
        "\n",
        "!unzip \"/content/drive/MyDrive/AI_2/project4/Models/model_QuAC.zip\""
      ]
    },
    {
      "cell_type": "code",
      "execution_count": null,
      "metadata": {
        "colab": {
          "base_uri": "https://localhost:8080/"
        },
        "id": "A7pS9WsB0o6U",
        "outputId": "696b24ff-c9d8-46f3-8a65-ef64fd76dd01",
        "trusted": true
      },
      "outputs": [
        {
          "data": {
            "text/plain": [
              "<All keys matched successfully>"
            ]
          },
          "execution_count": 73,
          "metadata": {},
          "output_type": "execute_result"
        }
      ],
      "source": [
        "from collections import OrderedDict\n",
        "import collections\n",
        "model_check = torch.load('./model_QuAC.pth')\n",
        "model_Bert.load_state_dict(model_check)"
      ]
    },
    {
      "cell_type": "markdown",
      "metadata": {
        "id": "iGqmuM7w0o6U"
      },
      "source": [
        "## Evaluate with QuAC"
      ]
    },
    {
      "cell_type": "code",
      "execution_count": null,
      "metadata": {
        "colab": {
          "base_uri": "https://localhost:8080/",
          "height": 49,
          "referenced_widgets": [
            "b4f6ca45ad78428b8e12c6ca25e83401",
            "07ad713141fc498db7afd2961f55dbfc",
            "f189bd914d7e40439ec5f20cd5e584dc",
            "ec867fbb6d8d430186d839967ea905af",
            "dacd2eb98a484f6dbf92794c63e7aa4f",
            "b24b6a82338e4e61b084044e44ffd81f",
            "d6f1637f9a34435a80602b6081575ad9",
            "37883047939a48c596734ba088367ee3",
            "87eff8e0f56f4bafba27cf6300810972",
            "ad1889bc1ab34026963fe58aea4309fd",
            "c5e44f32fe264f23bb3cd906ad07a78d"
          ]
        },
        "execution": {
          "iopub.status.busy": "2022-03-10T13:16:36.600985Z",
          "iopub.status.idle": "2022-03-10T13:16:36.601557Z",
          "shell.execute_reply": "2022-03-10T13:16:36.601327Z",
          "shell.execute_reply.started": "2022-03-10T13:16:36.6013Z"
        },
        "id": "6IzIopmc0o6U",
        "outputId": "d6871a3c-55a4-4884-d630-28e082b3f901",
        "trusted": true
      },
      "outputs": [
        {
          "data": {
            "application/vnd.jupyter.widget-view+json": {
              "model_id": "b4f6ca45ad78428b8e12c6ca25e83401",
              "version_major": 2,
              "version_minor": 0
            },
            "text/plain": [
              "  0%|          | 0/734 [00:00<?, ?it/s]"
            ]
          },
          "metadata": {},
          "output_type": "display_data"
        }
      ],
      "source": [
        "test_loss, Val_Acc, exact_score, f1_score = Evaluate_on(model_Bert, Location_quac_dev, remove_no_answers=True)"
      ]
    },
    {
      "cell_type": "code",
      "execution_count": null,
      "metadata": {
        "colab": {
          "base_uri": "https://localhost:8080/"
        },
        "execution": {
          "iopub.status.busy": "2022-03-10T13:16:36.602708Z",
          "iopub.status.idle": "2022-03-10T13:16:36.603255Z",
          "shell.execute_reply": "2022-03-10T13:16:36.60305Z",
          "shell.execute_reply.started": "2022-03-10T13:16:36.603023Z"
        },
        "id": "Cs1FPcXK0o6U",
        "outputId": "ed00c2fd-f0c2-4a58-e46e-964939fd69b6",
        "trusted": true
      },
      "outputs": [
        {
          "name": "stdout",
          "output_type": "stream",
          "text": [
            "Test loss:\t 2.971 \n",
            "Val_acc:\t 24.61%  \n",
            "Exact score:\t 6.81%  \n",
            "F1 score:\t 21.35% \n"
          ]
        }
      ],
      "source": [
        "print(f'Test loss:\\t {test_loss:.3f} \\nVal_acc:\\t {Val_Acc*100:.2f}%  \\nExact score:\\t {exact_score*100:.2f}%  \\nF1 score:\\t {f1_score*100:.2f}% ')"
      ]
    },
    {
      "cell_type": "markdown",
      "metadata": {
        "id": "MD6I-Ebe0o6U"
      },
      "source": [
        "## Evaluate with SQuAD"
      ]
    },
    {
      "cell_type": "code",
      "execution_count": null,
      "metadata": {
        "colab": {
          "base_uri": "https://localhost:8080/",
          "height": 49,
          "referenced_widgets": [
            "80e493f7bd774abd9e24d9cf46309768",
            "e0fbbf982bfc46aca3b219be2939fb5a",
            "eed222e09fcb4be2b568574091886785",
            "1cfa0716e1a64a96800272fe534f77ea",
            "5fca7d6234fe4d8f9f2dd0665f2e8adf",
            "e41bef74ea9545308be3eb5a8c91a763",
            "cd79ab3c335b419c8104bb6b846e8a90",
            "3ddad2ec8f4545b3a405725209b47287",
            "62627b5ef1d2446d8df336b0a32efef0",
            "444cac0f4aac483caca9b87c0829145d",
            "0202c96497d04342bb146b1c20cc2018"
          ]
        },
        "id": "N1y1c3d40o6U",
        "outputId": "0b3b0334-b651-4392-e3ab-59b80ecf9059",
        "trusted": true
      },
      "outputs": [
        {
          "data": {
            "application/vnd.jupyter.widget-view+json": {
              "model_id": "80e493f7bd774abd9e24d9cf46309768",
              "version_major": 2,
              "version_minor": 0
            },
            "text/plain": [
              "  0%|          | 0/3279 [00:00<?, ?it/s]"
            ]
          },
          "metadata": {},
          "output_type": "display_data"
        }
      ],
      "source": [
        "test_loss, Val_Acc, exact_score, f1_score = Evaluate_on(model_Bert, Location_squad_dev, remove_no_answers=True)"
      ]
    },
    {
      "cell_type": "code",
      "execution_count": null,
      "metadata": {
        "colab": {
          "base_uri": "https://localhost:8080/"
        },
        "id": "61Ysdhvf0o6U",
        "outputId": "93e6e4ea-eeb3-43c7-934b-ae8d29c9504e",
        "trusted": true
      },
      "outputs": [
        {
          "name": "stdout",
          "output_type": "stream",
          "text": [
            "Test loss:\t 4.523 \n",
            "Val_acc:\t 9.79%  \n",
            "Exact score:\t 2.38%  \n",
            "F1 score:\t 13.52% \n"
          ]
        }
      ],
      "source": [
        "print(f'Test loss:\\t {test_loss:.3f} \\nVal_acc:\\t {Val_Acc*100:.2f}%  \\nExact score:\\t {exact_score*100:.2f}%  \\nF1 score:\\t {f1_score*100:.2f}% ')"
      ]
    },
    {
      "cell_type": "markdown",
      "metadata": {
        "id": "yKTQ2Wux0o6U"
      },
      "source": [
        "## Evaluate with TriviaQA"
      ]
    },
    {
      "cell_type": "code",
      "execution_count": null,
      "metadata": {
        "colab": {
          "base_uri": "https://localhost:8080/",
          "height": 49,
          "referenced_widgets": [
            "ca4a0c916cd0436d8bdd2f63861b681e",
            "497581445e254b0f8d5128543ad2be1d",
            "ee24047449ad4d2892891af645687f0e",
            "108a3b3c46904d63b99b019a85980807",
            "bdcf0c02eccb42aebdb62446e8fa69be",
            "95aca52ebf4940e79febcd4c055975e3",
            "c50d880230294fa39f1e570ec622eb11",
            "a24e7baa9b3e4e62be716c2f8b29e74c",
            "5246d3ce7644473097942ad640465a39",
            "06f1fabdc1d94d77ae34ccddd781abc8",
            "440538b8a37e456f973259a3e129ac07"
          ]
        },
        "id": "9Fs64K2K0o6V",
        "outputId": "4c2610cf-f005-4e30-ba53-41b9d19bf031"
      },
      "outputs": [
        {
          "data": {
            "application/vnd.jupyter.widget-view+json": {
              "model_id": "ca4a0c916cd0436d8bdd2f63861b681e",
              "version_major": 2,
              "version_minor": 0
            },
            "text/plain": [
              "  0%|          | 0/1230 [00:00<?, ?it/s]"
            ]
          },
          "metadata": {},
          "output_type": "display_data"
        }
      ],
      "source": [
        "test_loss, Val_Acc, exact_score, f1_score = Evaluate_on(model_Bert, Location_trivia_dev, remove_no_answers=True)"
      ]
    },
    {
      "cell_type": "code",
      "execution_count": null,
      "metadata": {
        "colab": {
          "base_uri": "https://localhost:8080/"
        },
        "id": "E1TBPPDC0o6V",
        "outputId": "19ca0b94-64be-4051-a456-e4a0e346bfeb"
      },
      "outputs": [
        {
          "name": "stdout",
          "output_type": "stream",
          "text": [
            "Test loss:\t 5.410 \n",
            "Val_acc:\t 11.41%  \n",
            "Exact score:\t 2.73%  \n",
            "F1 score:\t 10.45% \n"
          ]
        }
      ],
      "source": [
        "print(f'Test loss:\\t {test_loss:.3f} \\nVal_acc:\\t {Val_Acc*100:.2f}%  \\nExact score:\\t {exact_score*100:.2f}%  \\nF1 score:\\t {f1_score*100:.2f}% ')"
      ]
    },
    {
      "cell_type": "markdown",
      "metadata": {
        "id": "vhd8eun50o6V"
      },
      "source": [
        "## Evaluate with Natural Questions"
      ]
    },
    {
      "cell_type": "code",
      "execution_count": null,
      "metadata": {
        "colab": {
          "base_uri": "https://localhost:8080/",
          "height": 49,
          "referenced_widgets": [
            "a75f9e3d8f994ac6badd0ec91aa6ed11",
            "b5c0fb0f86a94ea49c4860ae600ff59c",
            "c8229f7510c74038851cddbab6d9ceb7",
            "4c5c89b545b342158d1be112a77cdb7e",
            "a29ff0691d044e2a9dbbde5f50098898",
            "53c4a6d534e847b4a0e87eaf83314e2f",
            "8d70cbb9ae5d4883992a70fbcc141fb7",
            "d14f13e4d37643ad98a7b00096aad28d",
            "b727844b39624a1a982a6549c4811f3d",
            "4d4e20b90c7a4fc086753f0c6c9a42c5",
            "dfa6cc500ac24289a333aba45050c548"
          ]
        },
        "id": "psJCp0Ft0o6V",
        "outputId": "7e715272-51ee-430e-ef1d-0aea1d2a9719"
      },
      "outputs": [
        {
          "data": {
            "application/vnd.jupyter.widget-view+json": {
              "model_id": "a75f9e3d8f994ac6badd0ec91aa6ed11",
              "version_major": 2,
              "version_minor": 0
            },
            "text/plain": [
              "  0%|          | 0/457 [00:00<?, ?it/s]"
            ]
          },
          "metadata": {},
          "output_type": "display_data"
        }
      ],
      "source": [
        "test_loss, Val_Acc, exact_score, f1_score = Evaluate_on(model_Bert, Location_nq_dev, remove_no_answers=True)"
      ]
    },
    {
      "cell_type": "code",
      "execution_count": null,
      "metadata": {
        "colab": {
          "base_uri": "https://localhost:8080/"
        },
        "id": "1i0XMVHL0o6V",
        "outputId": "b3402d52-c702-47f1-bb84-14724367cd0b"
      },
      "outputs": [
        {
          "name": "stdout",
          "output_type": "stream",
          "text": [
            "Test loss:\t 3.993 \n",
            "Val_acc:\t 16.19%  \n",
            "Exact score:\t 3.50%  \n",
            "F1 score:\t 21.58% \n"
          ]
        }
      ],
      "source": [
        "print(f'Test loss:\\t {test_loss:.3f} \\nVal_acc:\\t {Val_Acc*100:.2f}%  \\nExact score:\\t {exact_score*100:.2f}%  \\nF1 score:\\t {f1_score*100:.2f}% ')"
      ]
    },
    {
      "cell_type": "markdown",
      "metadata": {
        "id": "hHUk0S_M0o6V"
      },
      "source": [
        "## Evaluate with NewsQA"
      ]
    },
    {
      "cell_type": "code",
      "execution_count": null,
      "metadata": {
        "colab": {
          "base_uri": "https://localhost:8080/",
          "height": 49,
          "referenced_widgets": [
            "1639483c41444889b5a7fd41ea6d8220",
            "f2f486aa3e854ffeba0bb05b3aff7cda",
            "21e50139dcd845a5aba1b484d39c07fb",
            "e5a4bad0b8934f308238e69cf6fbc481",
            "16170e027b614d7c9cc712bf404f00d3",
            "28ec8fac76e5490f8bd7d97d40129e89",
            "2b116b3cf9e44b84b0f38831bec551fe",
            "b08bdedcb1774296a1ff77d5488fb7e7",
            "15a1b9b1b5a44a4da0005d575bd28e72",
            "0b355768c1fd412a806557596c510127",
            "68865025ad4c489a95df223ed95f139b"
          ]
        },
        "id": "f7qG8XXs0o6V",
        "outputId": "eee6792c-0b14-4a0b-cb72-8c9cbc856868"
      },
      "outputs": [
        {
          "data": {
            "application/vnd.jupyter.widget-view+json": {
              "model_id": "1639483c41444889b5a7fd41ea6d8220",
              "version_major": 2,
              "version_minor": 0
            },
            "text/plain": [
              "  0%|          | 0/646 [00:00<?, ?it/s]"
            ]
          },
          "metadata": {},
          "output_type": "display_data"
        }
      ],
      "source": [
        "test_loss, Val_Acc, exact_score, f1_score = Evaluate_on(model_Bert, Location_newsqa_dev, remove_no_answers=True)"
      ]
    },
    {
      "cell_type": "code",
      "execution_count": null,
      "metadata": {
        "colab": {
          "base_uri": "https://localhost:8080/"
        },
        "id": "BjfEqIje0o6V",
        "outputId": "33c5a552-8fef-43fb-a045-b3f5f766fba3"
      },
      "outputs": [
        {
          "name": "stdout",
          "output_type": "stream",
          "text": [
            "Test loss:\t 4.971 \n",
            "Val_acc:\t 13.03%  \n",
            "Exact score:\t 4.90%  \n",
            "F1 score:\t 17.99% \n"
          ]
        }
      ],
      "source": [
        "print(f'Test loss:\\t {test_loss:.3f} \\nVal_acc:\\t {Val_Acc*100:.2f}%  \\nExact score:\\t {exact_score*100:.2f}%  \\nF1 score:\\t {f1_score*100:.2f}% ')"
      ]
    },
    {
      "cell_type": "markdown",
      "metadata": {
        "id": "56Ma_tMX0o6V"
      },
      "source": [
        "# NewsQA"
      ]
    },
    {
      "cell_type": "markdown",
      "metadata": {
        "id": "AoPD5d3B0o6W"
      },
      "source": [
        "## Fine-tuning Bert model with QuAC dataset"
      ]
    },
    {
      "cell_type": "code",
      "execution_count": null,
      "metadata": {
        "execution": {
          "iopub.execute_input": "2022-03-12T15:29:45.284361Z",
          "iopub.status.busy": "2022-03-12T15:29:45.282102Z",
          "iopub.status.idle": "2022-03-12T15:33:40.381195Z",
          "shell.execute_reply": "2022-03-12T15:33:40.380407Z",
          "shell.execute_reply.started": "2022-03-12T15:29:45.284324Z"
        },
        "id": "dTde31ulb7ji",
        "outputId": "5ee1eb76-4e72-4ec5-c5ca-fb007fc00fcc",
        "trusted": true
      },
      "outputs": [
        {
          "name": "stdout",
          "output_type": "stream",
          "text": [
            "87922\n"
          ]
        }
      ],
      "source": [
        "# Prepare the train data from triviaqa\n",
        "num_groups = -1 #getting all data\n",
        "train_contexts, train_questions, train_answers = read_dataset(Location_newsqa_train, \n",
        "                                                              num_groups_percent= 0.95, \n",
        "                                                              remove_no_answers=False) #get the 95 % of the data, that's how can hold the RAM from kaggle\n",
        "print(len(train_answers))\n",
        "\n",
        "add_end_idx(train_answers, train_contexts) #indicate each answer\n",
        "train_encodings = tokenizer(train_contexts, # encoding context and questions\n",
        "                          train_questions, \n",
        "                          truncation=True, \n",
        "                          max_length=324,\n",
        "                          padding=True)\n",
        "add_token_positions(train_encodings, train_answers)\n",
        "train_dataset = SquadDataset(train_encodings)\n",
        "\n",
        "BATCH_SIZE = 8\n",
        "train_loader = DataLoader(train_dataset, batch_size=BATCH_SIZE)"
      ]
    },
    {
      "cell_type": "code",
      "execution_count": null,
      "metadata": {
        "execution": {
          "iopub.execute_input": "2022-03-12T15:33:40.383306Z",
          "iopub.status.busy": "2022-03-12T15:33:40.383068Z",
          "iopub.status.idle": "2022-03-12T17:26:52.010465Z",
          "shell.execute_reply": "2022-03-12T17:26:52.009647Z",
          "shell.execute_reply.started": "2022-03-12T15:33:40.383275Z"
        },
        "id": "fGSzzs5gcE8G",
        "outputId": "c3f24938-ced8-4bef-d3ac-477079f19c0e",
        "trusted": true
      },
      "outputs": [
        {
          "name": "stderr",
          "output_type": "stream",
          "text": [
            "Epoch: 1: 100%|██████████| 10991/10991 [56:34<00:00,  3.24it/s, training_loss=2.002]\n"
          ]
        },
        {
          "name": "stdout",
          "output_type": "stream",
          "text": [
            "Epoch: 1 | Train Loss: 2.002 | Train Acc: 44.87%\n"
          ]
        },
        {
          "name": "stderr",
          "output_type": "stream",
          "text": [
            "Epoch: 2: 100%|██████████| 10991/10991 [56:37<00:00,  3.24it/s, training_loss=1.369]"
          ]
        },
        {
          "name": "stdout",
          "output_type": "stream",
          "text": [
            "Epoch: 2 | Train Loss: 1.369 | Train Acc: 56.65%\n"
          ]
        },
        {
          "name": "stderr",
          "output_type": "stream",
          "text": [
            "\n"
          ]
        }
      ],
      "source": [
        "from tqdm import tqdm\n",
        "\n",
        "# initialize adam optimizer with weight decay (reduces chance of overfitting)\n",
        "optim = torch.optim.AdamW(model_Bert.parameters(), lr=2e-5)\n",
        "\n",
        "epochs = 2\n",
        "\n",
        "\n",
        "train_losses = []\n",
        "test_losses = []\n",
        "\n",
        "for epoch in range(epochs):\n",
        "    \n",
        "    train_loss = []\n",
        "    test_loss = []\n",
        "    acc_train = []\n",
        "    acc_test = []\n",
        "\n",
        "    # for compute f1\n",
        "    pred_start = []\n",
        "    pred_end = []\n",
        "    true_start = []\n",
        "    true_end = []\n",
        "    f1_scores = []\n",
        "    exact_scores = []\n",
        "\n",
        "    model_Bert.train()   # set model to train mode\n",
        "    with torch.set_grad_enabled(True):\n",
        "      # setup loop (we use tqdm for the progress bar)\n",
        "      progress_bar = tqdm(train_loader, f\"Epoch: {epoch+1}\")\n",
        "      for batch in progress_bar:\n",
        "          # initialize calculated gradients (from prev step)\n",
        "          optim.zero_grad()\n",
        "\n",
        "          # pull all the tensor batches required for training\n",
        "          input_ids = batch['input_ids'].to(device)\n",
        "          attention_mask = batch['attention_mask'].to(device)\n",
        "          start_positions = batch['start_positions'].to(device)\n",
        "          end_positions = batch['end_positions'].to(device)\n",
        "\n",
        "          # print('start_positions', start_positions)\n",
        "          \n",
        "          # train model on batch and return outputs (incl. loss)\n",
        "          outputs = model_Bert(input_ids, attention_mask=attention_mask,\n",
        "                          start_positions=start_positions,\n",
        "                          end_positions=end_positions)\n",
        "          \n",
        "          # get the predictions\n",
        "          start_pred = torch.argmax(outputs['start_logits'], dim=1)\n",
        "          end_pred = torch.argmax(outputs['end_logits'], dim=1)\n",
        "\n",
        "          \n",
        "          # extract loss\n",
        "          loss = outputs[0]\n",
        "\n",
        "          # calculate loss for every parameter that needs grad update\n",
        "          loss.backward()\n",
        "          # update parameters\n",
        "          optim.step()\n",
        "          train_loss.append(loss.item())\n",
        "\n",
        "          # calculate accuracy for both and append to accuracy list\n",
        "          acc_train.append(((start_pred == start_positions).sum()/len(start_pred)).item())\n",
        "          acc_train.append(((end_pred == end_positions).sum()/len(end_pred)).item())\n",
        "\n",
        "          # print relevant info to progress bar\n",
        "          progress_bar.set_postfix({'training_loss': '{:.3f}'.format(np.mean(train_loss))})\n",
        "    \n",
        "    # get the average loss\n",
        "    train_loss_temp = np.mean(train_loss)\n",
        "    train_losses.append(train_loss_temp)\n",
        "    \n",
        "    acc_train_temp = np.mean(acc_train)   # average accuracy of the train set\n",
        "\n",
        "\n",
        "    tqdm.write(f'''Epoch: {epoch+1} | Train Loss: {train_loss_temp:.3f} | Train Acc: {acc_train_temp*100:.2f}%''')"
      ]
    },
    {
      "cell_type": "code",
      "execution_count": null,
      "metadata": {
        "execution": {
          "iopub.execute_input": "2022-03-10T18:11:14.708865Z",
          "iopub.status.busy": "2022-03-10T18:11:14.708231Z",
          "iopub.status.idle": "2022-03-10T18:11:16.260583Z",
          "shell.execute_reply": "2022-03-10T18:11:16.259637Z",
          "shell.execute_reply.started": "2022-03-10T18:11:14.708766Z"
        },
        "id": "kptc9QhJ0o6W",
        "trusted": true
      },
      "outputs": [],
      "source": [
        "# # Save model \n",
        "# import torch\n",
        "# torch.save(model_Bert.state_dict(), './model_NewsQA.pth')"
      ]
    },
    {
      "cell_type": "markdown",
      "metadata": {
        "id": "1AfiAlDr0o6W"
      },
      "source": [
        "<a href=\"./model_NewsQA\"> Download model</a>"
      ]
    },
    {
      "cell_type": "markdown",
      "metadata": {
        "id": "51p0vpc44_EJ"
      },
      "source": [
        "## Load fine-tuned Bert model"
      ]
    },
    {
      "cell_type": "code",
      "execution_count": 14,
      "metadata": {
        "colab": {
          "base_uri": "https://localhost:8080/"
        },
        "id": "unbXgyMr0o6W",
        "outputId": "3a836bfb-44f6-4043-cef0-55d4e4ec7ba0"
      },
      "outputs": [
        {
          "name": "stdout",
          "output_type": "stream",
          "text": [
            "Archive:  /content/drive/MyDrive/AI_2/project4/Models/model_NewsQA.zip\n",
            "  inflating: model_NewsQA.pth        \n"
          ]
        }
      ],
      "source": [
        "# Load model from Drive\n",
        "# !gdown path\n",
        "!unzip \"/content/drive/MyDrive/AI_2/project4/Models/model_NewsQA.zip\""
      ]
    },
    {
      "cell_type": "code",
      "execution_count": 15,
      "metadata": {
        "colab": {
          "base_uri": "https://localhost:8080/"
        },
        "id": "2bxV5aM10o6X",
        "outputId": "5d3a9973-e438-41aa-de25-bca1a25c5ff6"
      },
      "outputs": [
        {
          "data": {
            "text/plain": [
              "<All keys matched successfully>"
            ]
          },
          "execution_count": 15,
          "metadata": {},
          "output_type": "execute_result"
        }
      ],
      "source": [
        "from collections import OrderedDict\n",
        "import collections\n",
        "model_check = torch.load('./model_NewsQA.pth')\n",
        "model_Bert.load_state_dict(model_check)"
      ]
    },
    {
      "cell_type": "markdown",
      "metadata": {
        "id": "80ZeE5Ow0o6X"
      },
      "source": [
        "## Evaluate with NewsQA"
      ]
    },
    {
      "cell_type": "code",
      "execution_count": 23,
      "metadata": {
        "colab": {
          "base_uri": "https://localhost:8080/",
          "height": 49,
          "referenced_widgets": [
            "3ac887fe639843c093e1c264c6f785a9",
            "248df9d0c3e841a39a9274ad23a210c1",
            "65a048548bdf4d56b00d322f3b7d0ba6",
            "01f46a964a044ba5b09c2c5643bbc8b1",
            "885292ffbb3c45dfa02959923533b8c6",
            "a93917d8d9e2454c9d895192270a775e",
            "9eee2c62d2e14f42958e54cc56876107",
            "5f945721cd384e58b58a27dfba1b4cc3",
            "d62ac8de5831469694012d610553c82b",
            "8448b70fbf9945ecae31c2ca1a0d9ca3",
            "840ec1f09e8a498198160d262d45b5a0"
          ]
        },
        "id": "n0W6MUSu0o6X",
        "outputId": "738ba7ba-7656-4702-a522-5f21e8e5927f"
      },
      "outputs": [
        {
          "data": {
            "application/vnd.jupyter.widget-view+json": {
              "model_id": "3ac887fe639843c093e1c264c6f785a9",
              "version_major": 2,
              "version_minor": 0
            },
            "text/plain": [
              "  0%|          | 0/646 [00:00<?, ?it/s]"
            ]
          },
          "metadata": {},
          "output_type": "display_data"
        }
      ],
      "source": [
        "test_loss, Val_Acc, exact_score, f1_score = Evaluate_on(model_Bert, Location_newsqa_dev, remove_no_answers=False)"
      ]
    },
    {
      "cell_type": "code",
      "execution_count": 22,
      "metadata": {
        "colab": {
          "base_uri": "https://localhost:8080/"
        },
        "id": "kIydU4lP0o6X",
        "outputId": "a011d373-d9f5-43b8-9efe-b02f977a8dc7"
      },
      "outputs": [
        {
          "name": "stdout",
          "output_type": "stream",
          "text": [
            "Test loss:\t 1.843 \n",
            "Val_acc:\t 50.33%  \n",
            "Exact score:\t 37.04%  \n",
            "F1 score:\t 50.47% \n"
          ]
        }
      ],
      "source": [
        "print(f'Test loss:\\t {test_loss:.3f} \\nVal_acc:\\t {Val_Acc*100:.2f}%  \\nExact score:\\t {exact_score*100:.2f}%  \\nF1 score:\\t {f1_score*100:.2f}% ')"
      ]
    },
    {
      "cell_type": "markdown",
      "metadata": {
        "id": "KB3aIiPf0o6X"
      },
      "source": [
        "## Evaluate with SQuAD"
      ]
    },
    {
      "cell_type": "code",
      "execution_count": 24,
      "metadata": {
        "colab": {
          "base_uri": "https://localhost:8080/",
          "height": 49,
          "referenced_widgets": [
            "7ccc95c5928043b39081e5dd4dfbed5a",
            "88b57f883e8d4132bd7001e60d899040",
            "e4f1a08671eb4ffeb9c5d162c27439a8",
            "695fec0926f843a1aa04dbf1b4d020a7",
            "2363191bb3434716893bec8f72f1d307",
            "3cebbb9ff6e64046bd146c1adb853a06",
            "adfdbfe553c4424ba4f1c694b4264e0a",
            "4dfa2b21c8cb4b99b6b7c2d1d0ae9aeb",
            "eb259842bcbe41aeb8716103170b64b7",
            "4d6dd9ff6d214ca19d554109f1bbba3b",
            "9f4c9d1ca6f647a6b09b2f543f20a016"
          ]
        },
        "id": "-0X7zKrf0o6Y",
        "outputId": "166d230c-58b6-4e09-9037-b130dd657569"
      },
      "outputs": [
        {
          "data": {
            "application/vnd.jupyter.widget-view+json": {
              "model_id": "7ccc95c5928043b39081e5dd4dfbed5a",
              "version_major": 2,
              "version_minor": 0
            },
            "text/plain": [
              "  0%|          | 0/3281 [00:00<?, ?it/s]"
            ]
          },
          "metadata": {},
          "output_type": "display_data"
        }
      ],
      "source": [
        "test_loss, Val_Acc, exact_score, f1_score = Evaluate_on(model_Bert, Location_squad_dev, remove_no_answers=False)   # getting all the data"
      ]
    },
    {
      "cell_type": "code",
      "execution_count": 25,
      "metadata": {
        "colab": {
          "base_uri": "https://localhost:8080/"
        },
        "id": "6Fni46GQ0o6Y",
        "outputId": "b1b3cec7-b385-4b89-87f6-1e4d5b339a23"
      },
      "outputs": [
        {
          "name": "stdout",
          "output_type": "stream",
          "text": [
            "Test loss:\t 4.831 \n",
            "Val_acc:\t 37.03%  \n",
            "Exact score:\t 41.13%  \n",
            "F1 score:\t 60.75% \n"
          ]
        }
      ],
      "source": [
        "print(f'Test loss:\\t {test_loss:.3f} \\nVal_acc:\\t {Val_Acc*100:.2f}%  \\nExact score:\\t {exact_score*100:.2f}%  \\nF1 score:\\t {f1_score*100:.2f}% ')"
      ]
    },
    {
      "cell_type": "markdown",
      "metadata": {
        "id": "7KN4P38K0o6Y"
      },
      "source": [
        "## Evaluate with TriviaQA"
      ]
    },
    {
      "cell_type": "code",
      "execution_count": 26,
      "metadata": {
        "colab": {
          "base_uri": "https://localhost:8080/",
          "height": 49,
          "referenced_widgets": [
            "41e902792c294c138718f247d080e582",
            "3fa8dafb060b45fb938c6b42d5d1858a",
            "6081c622fc9749d8ac368179d5625c74",
            "417dc126f2bb46839189f4b50c512f71",
            "3975b0ef685e4f7bbd717701a36ae639",
            "cfa4df827ad44997ab12f95418ec4807",
            "3b21f25da7a24ff5b8ededff4d487c0a",
            "09c6c352258849e8bb48762091778ac0",
            "ff5cb10218314419bcb72a7107468325",
            "828b0a5b4eef439b9b33713133f89845",
            "75f171f859084fc995ebeae770ae95bf"
          ]
        },
        "id": "JMdN6STX0o6Y",
        "outputId": "cd6b26ba-bff7-4e78-d5a9-1127775c5b9a"
      },
      "outputs": [
        {
          "data": {
            "application/vnd.jupyter.widget-view+json": {
              "model_id": "41e902792c294c138718f247d080e582",
              "version_major": 2,
              "version_minor": 0
            },
            "text/plain": [
              "  0%|          | 0/1779 [00:00<?, ?it/s]"
            ]
          },
          "metadata": {},
          "output_type": "display_data"
        }
      ],
      "source": [
        "test_loss, Val_Acc, exact_score, f1_score = Evaluate_on(model_Bert, Location_trivia_dev, remove_no_answers=False)"
      ]
    },
    {
      "cell_type": "code",
      "execution_count": 27,
      "metadata": {
        "colab": {
          "base_uri": "https://localhost:8080/"
        },
        "id": "rkofhz6P0o6Y",
        "outputId": "8cab8664-3f1e-4c21-d8b8-98ce9cc3b4b1"
      },
      "outputs": [
        {
          "name": "stdout",
          "output_type": "stream",
          "text": [
            "Test loss:\t 4.519 \n",
            "Val_acc:\t 27.33%  \n",
            "Exact score:\t 20.24%  \n",
            "F1 score:\t 28.83% \n"
          ]
        }
      ],
      "source": [
        "print(f'Test loss:\\t {test_loss:.3f} \\nVal_acc:\\t {Val_Acc*100:.2f}%  \\nExact score:\\t {exact_score*100:.2f}%  \\nF1 score:\\t {f1_score*100:.2f}% ')"
      ]
    },
    {
      "cell_type": "markdown",
      "metadata": {
        "id": "2kPfbVXQ0o6Y"
      },
      "source": [
        "## Evaluate with Natural Questions"
      ]
    },
    {
      "cell_type": "code",
      "execution_count": 32,
      "metadata": {
        "colab": {
          "base_uri": "https://localhost:8080/"
        },
        "id": "FSwN8Ftl0o6Z",
        "outputId": "66b21bb7-1c06-4ec9-c619-fba202ec9e04"
      },
      "outputs": [
        {
          "name": "stdout",
          "output_type": "stream",
          "text": [
            "Test loss:\t 5.664 \n",
            "Val_acc:\t 30.88%  \n",
            "Exact score:\t 33.34%  \n",
            "F1 score:\t 53.67% \n"
          ]
        }
      ],
      "source": [
        "print(f'Test loss:\\t {test_loss:.3f} \\nVal_acc:\\t {Val_Acc*100:.2f}%  \\nExact score:\\t {exact_score*100:.2f}%  \\nF1 score:\\t {f1_score*100:.2f}% ')"
      ]
    },
    {
      "cell_type": "markdown",
      "metadata": {
        "id": "bQKVXFXj0o6Y"
      },
      "source": [
        "## Evaluate with QuAC"
      ]
    },
    {
      "cell_type": "code",
      "execution_count": 28,
      "metadata": {
        "colab": {
          "base_uri": "https://localhost:8080/",
          "height": 49,
          "referenced_widgets": [
            "fe8b6e8cedaa45af9729fe1723781537",
            "fe75eaa4360b454e92f85ffefc8357e2",
            "09ab4bde97204916a369cfb85d5d7e67",
            "d781c99d668e418e9f1156db8478adca",
            "565a280efb27496db71f4fd9ad5dc9b0",
            "7686426bb1fa474d96789981e95d3529",
            "b21bee780a214ecd906c96f02f7de618",
            "cc019c7ab63445e185824de6ebca4933",
            "1b121110b07448a9b705b396f3f90080",
            "9b9cbf2cfd8d46bb831bf8e66994e7ff",
            "117369b30b0b454b8013a3f3f0131ecf"
          ]
        },
        "id": "aYEwGMsw0o6Y",
        "outputId": "fc28a800-6f7f-4c5a-bedb-c1dcac150f15"
      },
      "outputs": [
        {
          "data": {
            "application/vnd.jupyter.widget-view+json": {
              "model_id": "fe8b6e8cedaa45af9729fe1723781537",
              "version_major": 2,
              "version_minor": 0
            },
            "text/plain": [
              "  0%|          | 0/920 [00:00<?, ?it/s]"
            ]
          },
          "metadata": {},
          "output_type": "display_data"
        }
      ],
      "source": [
        "test_loss, Val_Acc, exact_score, f1_score = Evaluate_on(model_Bert, Location_quac_dev, remove_no_answers=False)"
      ]
    },
    {
      "cell_type": "code",
      "execution_count": 29,
      "metadata": {
        "colab": {
          "base_uri": "https://localhost:8080/"
        },
        "id": "pgHdp3kB0o6Y",
        "outputId": "ed0e28c3-37a8-426c-cca4-61335f248b9d"
      },
      "outputs": [
        {
          "name": "stdout",
          "output_type": "stream",
          "text": [
            "Test loss:\t 7.850 \n",
            "Val_acc:\t 8.52%  \n",
            "Exact score:\t 2.32%  \n",
            "F1 score:\t 12.20% \n"
          ]
        }
      ],
      "source": [
        "print(f'Test loss:\\t {test_loss:.3f} \\nVal_acc:\\t {Val_Acc*100:.2f}%  \\nExact score:\\t {exact_score*100:.2f}%  \\nF1 score:\\t {f1_score*100:.2f}% ') # :("
      ]
    }
  ],
  "metadata": {
    "accelerator": "GPU",
    "colab": {
      "collapsed_sections": [
        "fhXV4w4W-FPF",
        "h74xpHq0awdX"
      ],
      "name": "Q3.ipynb",
      "provenance": [],
      "toc_visible": true
    },
    "kernelspec": {
      "display_name": "Python 3",
      "language": "python",
      "name": "python3"
    },
    "language_info": {
      "codemirror_mode": {
        "name": "ipython",
        "version": 3
      },
      "file_extension": ".py",
      "mimetype": "text/x-python",
      "name": "python",
      "nbconvert_exporter": "python",
      "pygments_lexer": "ipython3",
      "version": "3.7.12"
    },
    "widgets": {
      "application/vnd.jupyter.widget-state+json": {
        "01f46a964a044ba5b09c2c5643bbc8b1": {
          "model_module": "@jupyter-widgets/controls",
          "model_module_version": "1.5.0",
          "model_name": "HTMLModel",
          "state": {
            "_dom_classes": [],
            "_model_module": "@jupyter-widgets/controls",
            "_model_module_version": "1.5.0",
            "_model_name": "HTMLModel",
            "_view_count": null,
            "_view_module": "@jupyter-widgets/controls",
            "_view_module_version": "1.5.0",
            "_view_name": "HTMLView",
            "description": "",
            "description_tooltip": null,
            "layout": "IPY_MODEL_8448b70fbf9945ecae31c2ca1a0d9ca3",
            "placeholder": "​",
            "style": "IPY_MODEL_840ec1f09e8a498198160d262d45b5a0",
            "value": " 646/646 [03:42&lt;00:00,  3.14it/s]"
          }
        },
        "0202c96497d04342bb146b1c20cc2018": {
          "model_module": "@jupyter-widgets/base",
          "model_module_version": "1.2.0",
          "model_name": "LayoutModel",
          "state": {
            "_model_module": "@jupyter-widgets/base",
            "_model_module_version": "1.2.0",
            "_model_name": "LayoutModel",
            "_view_count": null,
            "_view_module": "@jupyter-widgets/base",
            "_view_module_version": "1.2.0",
            "_view_name": "LayoutView",
            "align_content": null,
            "align_items": null,
            "align_self": null,
            "border": null,
            "bottom": null,
            "display": null,
            "flex": null,
            "flex_flow": null,
            "grid_area": null,
            "grid_auto_columns": null,
            "grid_auto_flow": null,
            "grid_auto_rows": null,
            "grid_column": null,
            "grid_gap": null,
            "grid_row": null,
            "grid_template_areas": null,
            "grid_template_columns": null,
            "grid_template_rows": null,
            "height": null,
            "justify_content": null,
            "justify_items": null,
            "left": null,
            "margin": null,
            "max_height": null,
            "max_width": null,
            "min_height": null,
            "min_width": null,
            "object_fit": null,
            "object_position": null,
            "order": null,
            "overflow": null,
            "overflow_x": null,
            "overflow_y": null,
            "padding": null,
            "right": null,
            "top": null,
            "visibility": null,
            "width": null
          }
        },
        "0534bae23b5341f0a56f2bb7e24eb1af": {
          "model_module": "@jupyter-widgets/controls",
          "model_module_version": "1.5.0",
          "model_name": "HTMLModel",
          "state": {
            "_dom_classes": [],
            "_model_module": "@jupyter-widgets/controls",
            "_model_module_version": "1.5.0",
            "_model_name": "HTMLModel",
            "_view_count": null,
            "_view_module": "@jupyter-widgets/controls",
            "_view_module_version": "1.5.0",
            "_view_name": "HTMLView",
            "description": "",
            "description_tooltip": null,
            "layout": "IPY_MODEL_590fcd41f25749929a88bd8c09ee81db",
            "placeholder": "​",
            "style": "IPY_MODEL_ebbfb97670364db2a327f4341899ad76",
            "value": "100%"
          }
        },
        "06f1fabdc1d94d77ae34ccddd781abc8": {
          "model_module": "@jupyter-widgets/controls",
          "model_module_version": "1.5.0",
          "model_name": "DescriptionStyleModel",
          "state": {
            "_model_module": "@jupyter-widgets/controls",
            "_model_module_version": "1.5.0",
            "_model_name": "DescriptionStyleModel",
            "_view_count": null,
            "_view_module": "@jupyter-widgets/base",
            "_view_module_version": "1.2.0",
            "_view_name": "StyleView",
            "description_width": ""
          }
        },
        "07ad713141fc498db7afd2961f55dbfc": {
          "model_module": "@jupyter-widgets/base",
          "model_module_version": "1.2.0",
          "model_name": "LayoutModel",
          "state": {
            "_model_module": "@jupyter-widgets/base",
            "_model_module_version": "1.2.0",
            "_model_name": "LayoutModel",
            "_view_count": null,
            "_view_module": "@jupyter-widgets/base",
            "_view_module_version": "1.2.0",
            "_view_name": "LayoutView",
            "align_content": null,
            "align_items": null,
            "align_self": null,
            "border": null,
            "bottom": null,
            "display": null,
            "flex": null,
            "flex_flow": null,
            "grid_area": null,
            "grid_auto_columns": null,
            "grid_auto_flow": null,
            "grid_auto_rows": null,
            "grid_column": null,
            "grid_gap": null,
            "grid_row": null,
            "grid_template_areas": null,
            "grid_template_columns": null,
            "grid_template_rows": null,
            "height": null,
            "justify_content": null,
            "justify_items": null,
            "left": null,
            "margin": null,
            "max_height": null,
            "max_width": null,
            "min_height": null,
            "min_width": null,
            "object_fit": null,
            "object_position": null,
            "order": null,
            "overflow": null,
            "overflow_x": null,
            "overflow_y": null,
            "padding": null,
            "right": null,
            "top": null,
            "visibility": null,
            "width": null
          }
        },
        "09ab4bde97204916a369cfb85d5d7e67": {
          "model_module": "@jupyter-widgets/controls",
          "model_module_version": "1.5.0",
          "model_name": "FloatProgressModel",
          "state": {
            "_dom_classes": [],
            "_model_module": "@jupyter-widgets/controls",
            "_model_module_version": "1.5.0",
            "_model_name": "FloatProgressModel",
            "_view_count": null,
            "_view_module": "@jupyter-widgets/controls",
            "_view_module_version": "1.5.0",
            "_view_name": "ProgressView",
            "bar_style": "success",
            "description": "",
            "description_tooltip": null,
            "layout": "IPY_MODEL_cc019c7ab63445e185824de6ebca4933",
            "max": 920,
            "min": 0,
            "orientation": "horizontal",
            "style": "IPY_MODEL_1b121110b07448a9b705b396f3f90080",
            "value": 920
          }
        },
        "09c6c352258849e8bb48762091778ac0": {
          "model_module": "@jupyter-widgets/base",
          "model_module_version": "1.2.0",
          "model_name": "LayoutModel",
          "state": {
            "_model_module": "@jupyter-widgets/base",
            "_model_module_version": "1.2.0",
            "_model_name": "LayoutModel",
            "_view_count": null,
            "_view_module": "@jupyter-widgets/base",
            "_view_module_version": "1.2.0",
            "_view_name": "LayoutView",
            "align_content": null,
            "align_items": null,
            "align_self": null,
            "border": null,
            "bottom": null,
            "display": null,
            "flex": null,
            "flex_flow": null,
            "grid_area": null,
            "grid_auto_columns": null,
            "grid_auto_flow": null,
            "grid_auto_rows": null,
            "grid_column": null,
            "grid_gap": null,
            "grid_row": null,
            "grid_template_areas": null,
            "grid_template_columns": null,
            "grid_template_rows": null,
            "height": null,
            "justify_content": null,
            "justify_items": null,
            "left": null,
            "margin": null,
            "max_height": null,
            "max_width": null,
            "min_height": null,
            "min_width": null,
            "object_fit": null,
            "object_position": null,
            "order": null,
            "overflow": null,
            "overflow_x": null,
            "overflow_y": null,
            "padding": null,
            "right": null,
            "top": null,
            "visibility": null,
            "width": null
          }
        },
        "0ada40b6719349e9b5f65313f8440d80": {
          "model_module": "@jupyter-widgets/base",
          "model_module_version": "1.2.0",
          "model_name": "LayoutModel",
          "state": {
            "_model_module": "@jupyter-widgets/base",
            "_model_module_version": "1.2.0",
            "_model_name": "LayoutModel",
            "_view_count": null,
            "_view_module": "@jupyter-widgets/base",
            "_view_module_version": "1.2.0",
            "_view_name": "LayoutView",
            "align_content": null,
            "align_items": null,
            "align_self": null,
            "border": null,
            "bottom": null,
            "display": null,
            "flex": null,
            "flex_flow": null,
            "grid_area": null,
            "grid_auto_columns": null,
            "grid_auto_flow": null,
            "grid_auto_rows": null,
            "grid_column": null,
            "grid_gap": null,
            "grid_row": null,
            "grid_template_areas": null,
            "grid_template_columns": null,
            "grid_template_rows": null,
            "height": null,
            "justify_content": null,
            "justify_items": null,
            "left": null,
            "margin": null,
            "max_height": null,
            "max_width": null,
            "min_height": null,
            "min_width": null,
            "object_fit": null,
            "object_position": null,
            "order": null,
            "overflow": null,
            "overflow_x": null,
            "overflow_y": null,
            "padding": null,
            "right": null,
            "top": null,
            "visibility": null,
            "width": null
          }
        },
        "0ada775c780d49c2b7e31883efe4a88d": {
          "model_module": "@jupyter-widgets/controls",
          "model_module_version": "1.5.0",
          "model_name": "ProgressStyleModel",
          "state": {
            "_model_module": "@jupyter-widgets/controls",
            "_model_module_version": "1.5.0",
            "_model_name": "ProgressStyleModel",
            "_view_count": null,
            "_view_module": "@jupyter-widgets/base",
            "_view_module_version": "1.2.0",
            "_view_name": "StyleView",
            "bar_color": null,
            "description_width": ""
          }
        },
        "0af435b5cf4646cb915ad2e054e91b1f": {
          "model_module": "@jupyter-widgets/controls",
          "model_module_version": "1.5.0",
          "model_name": "HBoxModel",
          "state": {
            "_dom_classes": [],
            "_model_module": "@jupyter-widgets/controls",
            "_model_module_version": "1.5.0",
            "_model_name": "HBoxModel",
            "_view_count": null,
            "_view_module": "@jupyter-widgets/controls",
            "_view_module_version": "1.5.0",
            "_view_name": "HBoxView",
            "box_style": "",
            "children": [
              "IPY_MODEL_cc0ec8f716254de0a5fd171be12f200c",
              "IPY_MODEL_9cc288b6d5fc4df3bdfb7dd78d7738a6",
              "IPY_MODEL_6d67925de7564e8bb9246485216f6829"
            ],
            "layout": "IPY_MODEL_12108c00ad014aa29851d2031289040c"
          }
        },
        "0b2f01f302fb4738b67f13eae17a2fca": {
          "model_module": "@jupyter-widgets/controls",
          "model_module_version": "1.5.0",
          "model_name": "DescriptionStyleModel",
          "state": {
            "_model_module": "@jupyter-widgets/controls",
            "_model_module_version": "1.5.0",
            "_model_name": "DescriptionStyleModel",
            "_view_count": null,
            "_view_module": "@jupyter-widgets/base",
            "_view_module_version": "1.2.0",
            "_view_name": "StyleView",
            "description_width": ""
          }
        },
        "0b355768c1fd412a806557596c510127": {
          "model_module": "@jupyter-widgets/controls",
          "model_module_version": "1.5.0",
          "model_name": "DescriptionStyleModel",
          "state": {
            "_model_module": "@jupyter-widgets/controls",
            "_model_module_version": "1.5.0",
            "_model_name": "DescriptionStyleModel",
            "_view_count": null,
            "_view_module": "@jupyter-widgets/base",
            "_view_module_version": "1.2.0",
            "_view_name": "StyleView",
            "description_width": ""
          }
        },
        "0b587151e0f44bfca32c8a88a72db360": {
          "model_module": "@jupyter-widgets/base",
          "model_module_version": "1.2.0",
          "model_name": "LayoutModel",
          "state": {
            "_model_module": "@jupyter-widgets/base",
            "_model_module_version": "1.2.0",
            "_model_name": "LayoutModel",
            "_view_count": null,
            "_view_module": "@jupyter-widgets/base",
            "_view_module_version": "1.2.0",
            "_view_name": "LayoutView",
            "align_content": null,
            "align_items": null,
            "align_self": null,
            "border": null,
            "bottom": null,
            "display": null,
            "flex": null,
            "flex_flow": null,
            "grid_area": null,
            "grid_auto_columns": null,
            "grid_auto_flow": null,
            "grid_auto_rows": null,
            "grid_column": null,
            "grid_gap": null,
            "grid_row": null,
            "grid_template_areas": null,
            "grid_template_columns": null,
            "grid_template_rows": null,
            "height": null,
            "justify_content": null,
            "justify_items": null,
            "left": null,
            "margin": null,
            "max_height": null,
            "max_width": null,
            "min_height": null,
            "min_width": null,
            "object_fit": null,
            "object_position": null,
            "order": null,
            "overflow": null,
            "overflow_x": null,
            "overflow_y": null,
            "padding": null,
            "right": null,
            "top": null,
            "visibility": null,
            "width": null
          }
        },
        "102dd56049774352973c02fa63d83cbb": {
          "model_module": "@jupyter-widgets/controls",
          "model_module_version": "1.5.0",
          "model_name": "HTMLModel",
          "state": {
            "_dom_classes": [],
            "_model_module": "@jupyter-widgets/controls",
            "_model_module_version": "1.5.0",
            "_model_name": "HTMLModel",
            "_view_count": null,
            "_view_module": "@jupyter-widgets/controls",
            "_view_module_version": "1.5.0",
            "_view_name": "HTMLView",
            "description": "",
            "description_tooltip": null,
            "layout": "IPY_MODEL_8809772c99ec4c00a2376b78283f430c",
            "placeholder": "​",
            "style": "IPY_MODEL_e79e1b2a91e64bd0beea033184fcb9ce",
            "value": "100%"
          }
        },
        "108a3b3c46904d63b99b019a85980807": {
          "model_module": "@jupyter-widgets/controls",
          "model_module_version": "1.5.0",
          "model_name": "FloatProgressModel",
          "state": {
            "_dom_classes": [],
            "_model_module": "@jupyter-widgets/controls",
            "_model_module_version": "1.5.0",
            "_model_name": "FloatProgressModel",
            "_view_count": null,
            "_view_module": "@jupyter-widgets/controls",
            "_view_module_version": "1.5.0",
            "_view_name": "ProgressView",
            "bar_style": "success",
            "description": "",
            "description_tooltip": null,
            "layout": "IPY_MODEL_5246d3ce7644473097942ad640465a39",
            "max": 1230,
            "min": 0,
            "orientation": "horizontal",
            "style": "IPY_MODEL_a24e7baa9b3e4e62be716c2f8b29e74c",
            "value": 1230
          }
        },
        "117369b30b0b454b8013a3f3f0131ecf": {
          "model_module": "@jupyter-widgets/controls",
          "model_module_version": "1.5.0",
          "model_name": "DescriptionStyleModel",
          "state": {
            "_model_module": "@jupyter-widgets/controls",
            "_model_module_version": "1.5.0",
            "_model_name": "DescriptionStyleModel",
            "_view_count": null,
            "_view_module": "@jupyter-widgets/base",
            "_view_module_version": "1.2.0",
            "_view_name": "StyleView",
            "description_width": ""
          }
        },
        "12108c00ad014aa29851d2031289040c": {
          "model_module": "@jupyter-widgets/base",
          "model_module_version": "1.2.0",
          "model_name": "LayoutModel",
          "state": {
            "_model_module": "@jupyter-widgets/base",
            "_model_module_version": "1.2.0",
            "_model_name": "LayoutModel",
            "_view_count": null,
            "_view_module": "@jupyter-widgets/base",
            "_view_module_version": "1.2.0",
            "_view_name": "LayoutView",
            "align_content": null,
            "align_items": null,
            "align_self": null,
            "border": null,
            "bottom": null,
            "display": null,
            "flex": null,
            "flex_flow": null,
            "grid_area": null,
            "grid_auto_columns": null,
            "grid_auto_flow": null,
            "grid_auto_rows": null,
            "grid_column": null,
            "grid_gap": null,
            "grid_row": null,
            "grid_template_areas": null,
            "grid_template_columns": null,
            "grid_template_rows": null,
            "height": null,
            "justify_content": null,
            "justify_items": null,
            "left": null,
            "margin": null,
            "max_height": null,
            "max_width": null,
            "min_height": null,
            "min_width": null,
            "object_fit": null,
            "object_position": null,
            "order": null,
            "overflow": null,
            "overflow_x": null,
            "overflow_y": null,
            "padding": null,
            "right": null,
            "top": null,
            "visibility": null,
            "width": null
          }
        },
        "12aeb757755e417ebf87c32742470317": {
          "model_module": "@jupyter-widgets/base",
          "model_module_version": "1.2.0",
          "model_name": "LayoutModel",
          "state": {
            "_model_module": "@jupyter-widgets/base",
            "_model_module_version": "1.2.0",
            "_model_name": "LayoutModel",
            "_view_count": null,
            "_view_module": "@jupyter-widgets/base",
            "_view_module_version": "1.2.0",
            "_view_name": "LayoutView",
            "align_content": null,
            "align_items": null,
            "align_self": null,
            "border": null,
            "bottom": null,
            "display": null,
            "flex": null,
            "flex_flow": null,
            "grid_area": null,
            "grid_auto_columns": null,
            "grid_auto_flow": null,
            "grid_auto_rows": null,
            "grid_column": null,
            "grid_gap": null,
            "grid_row": null,
            "grid_template_areas": null,
            "grid_template_columns": null,
            "grid_template_rows": null,
            "height": null,
            "justify_content": null,
            "justify_items": null,
            "left": null,
            "margin": null,
            "max_height": null,
            "max_width": null,
            "min_height": null,
            "min_width": null,
            "object_fit": null,
            "object_position": null,
            "order": null,
            "overflow": null,
            "overflow_x": null,
            "overflow_y": null,
            "padding": null,
            "right": null,
            "top": null,
            "visibility": null,
            "width": null
          }
        },
        "13dd79a2f5b146f29f2adba09b5a3bf1": {
          "model_module": "@jupyter-widgets/controls",
          "model_module_version": "1.5.0",
          "model_name": "FloatProgressModel",
          "state": {
            "_dom_classes": [],
            "_model_module": "@jupyter-widgets/controls",
            "_model_module_version": "1.5.0",
            "_model_name": "FloatProgressModel",
            "_view_count": null,
            "_view_module": "@jupyter-widgets/controls",
            "_view_module_version": "1.5.0",
            "_view_name": "ProgressView",
            "bar_style": "success",
            "description": "",
            "description_tooltip": null,
            "layout": "IPY_MODEL_df1c39bcb33449c3b0af0ac5e64c850f",
            "max": 646,
            "min": 0,
            "orientation": "horizontal",
            "style": "IPY_MODEL_fb7075dc8a03492f89588071c6fa4765",
            "value": 646
          }
        },
        "14cc2bbda8a44ab5afd1a55dfcd6a93e": {
          "model_module": "@jupyter-widgets/base",
          "model_module_version": "1.2.0",
          "model_name": "LayoutModel",
          "state": {
            "_model_module": "@jupyter-widgets/base",
            "_model_module_version": "1.2.0",
            "_model_name": "LayoutModel",
            "_view_count": null,
            "_view_module": "@jupyter-widgets/base",
            "_view_module_version": "1.2.0",
            "_view_name": "LayoutView",
            "align_content": null,
            "align_items": null,
            "align_self": null,
            "border": null,
            "bottom": null,
            "display": null,
            "flex": null,
            "flex_flow": null,
            "grid_area": null,
            "grid_auto_columns": null,
            "grid_auto_flow": null,
            "grid_auto_rows": null,
            "grid_column": null,
            "grid_gap": null,
            "grid_row": null,
            "grid_template_areas": null,
            "grid_template_columns": null,
            "grid_template_rows": null,
            "height": null,
            "justify_content": null,
            "justify_items": null,
            "left": null,
            "margin": null,
            "max_height": null,
            "max_width": null,
            "min_height": null,
            "min_width": null,
            "object_fit": null,
            "object_position": null,
            "order": null,
            "overflow": null,
            "overflow_x": null,
            "overflow_y": null,
            "padding": null,
            "right": null,
            "top": null,
            "visibility": null,
            "width": null
          }
        },
        "1548026393c44176b43dac8900eb799c": {
          "model_module": "@jupyter-widgets/base",
          "model_module_version": "1.2.0",
          "model_name": "LayoutModel",
          "state": {
            "_model_module": "@jupyter-widgets/base",
            "_model_module_version": "1.2.0",
            "_model_name": "LayoutModel",
            "_view_count": null,
            "_view_module": "@jupyter-widgets/base",
            "_view_module_version": "1.2.0",
            "_view_name": "LayoutView",
            "align_content": null,
            "align_items": null,
            "align_self": null,
            "border": null,
            "bottom": null,
            "display": null,
            "flex": null,
            "flex_flow": null,
            "grid_area": null,
            "grid_auto_columns": null,
            "grid_auto_flow": null,
            "grid_auto_rows": null,
            "grid_column": null,
            "grid_gap": null,
            "grid_row": null,
            "grid_template_areas": null,
            "grid_template_columns": null,
            "grid_template_rows": null,
            "height": null,
            "justify_content": null,
            "justify_items": null,
            "left": null,
            "margin": null,
            "max_height": null,
            "max_width": null,
            "min_height": null,
            "min_width": null,
            "object_fit": null,
            "object_position": null,
            "order": null,
            "overflow": null,
            "overflow_x": null,
            "overflow_y": null,
            "padding": null,
            "right": null,
            "top": null,
            "visibility": null,
            "width": null
          }
        },
        "15a1b9b1b5a44a4da0005d575bd28e72": {
          "model_module": "@jupyter-widgets/base",
          "model_module_version": "1.2.0",
          "model_name": "LayoutModel",
          "state": {
            "_model_module": "@jupyter-widgets/base",
            "_model_module_version": "1.2.0",
            "_model_name": "LayoutModel",
            "_view_count": null,
            "_view_module": "@jupyter-widgets/base",
            "_view_module_version": "1.2.0",
            "_view_name": "LayoutView",
            "align_content": null,
            "align_items": null,
            "align_self": null,
            "border": null,
            "bottom": null,
            "display": null,
            "flex": null,
            "flex_flow": null,
            "grid_area": null,
            "grid_auto_columns": null,
            "grid_auto_flow": null,
            "grid_auto_rows": null,
            "grid_column": null,
            "grid_gap": null,
            "grid_row": null,
            "grid_template_areas": null,
            "grid_template_columns": null,
            "grid_template_rows": null,
            "height": null,
            "justify_content": null,
            "justify_items": null,
            "left": null,
            "margin": null,
            "max_height": null,
            "max_width": null,
            "min_height": null,
            "min_width": null,
            "object_fit": null,
            "object_position": null,
            "order": null,
            "overflow": null,
            "overflow_x": null,
            "overflow_y": null,
            "padding": null,
            "right": null,
            "top": null,
            "visibility": null,
            "width": null
          }
        },
        "16170e027b614d7c9cc712bf404f00d3": {
          "model_module": "@jupyter-widgets/controls",
          "model_module_version": "1.5.0",
          "model_name": "HTMLModel",
          "state": {
            "_dom_classes": [],
            "_model_module": "@jupyter-widgets/controls",
            "_model_module_version": "1.5.0",
            "_model_name": "HTMLModel",
            "_view_count": null,
            "_view_module": "@jupyter-widgets/controls",
            "_view_module_version": "1.5.0",
            "_view_name": "HTMLView",
            "description": "",
            "description_tooltip": null,
            "layout": "IPY_MODEL_68865025ad4c489a95df223ed95f139b",
            "placeholder": "​",
            "style": "IPY_MODEL_0b355768c1fd412a806557596c510127",
            "value": " 646/646 [04:04&lt;00:00,  2.89it/s]"
          }
        },
        "1639483c41444889b5a7fd41ea6d8220": {
          "model_module": "@jupyter-widgets/controls",
          "model_module_version": "1.5.0",
          "model_name": "HBoxModel",
          "state": {
            "_dom_classes": [],
            "_model_module": "@jupyter-widgets/controls",
            "_model_module_version": "1.5.0",
            "_model_name": "HBoxModel",
            "_view_count": null,
            "_view_module": "@jupyter-widgets/controls",
            "_view_module_version": "1.5.0",
            "_view_name": "HBoxView",
            "box_style": "",
            "children": [
              "IPY_MODEL_21e50139dcd845a5aba1b484d39c07fb",
              "IPY_MODEL_e5a4bad0b8934f308238e69cf6fbc481",
              "IPY_MODEL_16170e027b614d7c9cc712bf404f00d3"
            ],
            "layout": "IPY_MODEL_f2f486aa3e854ffeba0bb05b3aff7cda"
          }
        },
        "1710f5e4f8e14c308d1d822199c58f6d": {
          "model_module": "@jupyter-widgets/base",
          "model_module_version": "1.2.0",
          "model_name": "LayoutModel",
          "state": {
            "_model_module": "@jupyter-widgets/base",
            "_model_module_version": "1.2.0",
            "_model_name": "LayoutModel",
            "_view_count": null,
            "_view_module": "@jupyter-widgets/base",
            "_view_module_version": "1.2.0",
            "_view_name": "LayoutView",
            "align_content": null,
            "align_items": null,
            "align_self": null,
            "border": null,
            "bottom": null,
            "display": null,
            "flex": null,
            "flex_flow": null,
            "grid_area": null,
            "grid_auto_columns": null,
            "grid_auto_flow": null,
            "grid_auto_rows": null,
            "grid_column": null,
            "grid_gap": null,
            "grid_row": null,
            "grid_template_areas": null,
            "grid_template_columns": null,
            "grid_template_rows": null,
            "height": null,
            "justify_content": null,
            "justify_items": null,
            "left": null,
            "margin": null,
            "max_height": null,
            "max_width": null,
            "min_height": null,
            "min_width": null,
            "object_fit": null,
            "object_position": null,
            "order": null,
            "overflow": null,
            "overflow_x": null,
            "overflow_y": null,
            "padding": null,
            "right": null,
            "top": null,
            "visibility": null,
            "width": null
          }
        },
        "173b1a5233e14e968aa3838b28144f51": {
          "model_module": "@jupyter-widgets/controls",
          "model_module_version": "1.5.0",
          "model_name": "HTMLModel",
          "state": {
            "_dom_classes": [],
            "_model_module": "@jupyter-widgets/controls",
            "_model_module_version": "1.5.0",
            "_model_name": "HTMLModel",
            "_view_count": null,
            "_view_module": "@jupyter-widgets/controls",
            "_view_module_version": "1.5.0",
            "_view_name": "HTMLView",
            "description": "",
            "description_tooltip": null,
            "layout": "IPY_MODEL_dc3c3317fdf54134a5678fa0cb2bcbbe",
            "placeholder": "​",
            "style": "IPY_MODEL_9487339a1b05478f826e8a349a34a594",
            "value": "100%"
          }
        },
        "19cb9fc950754dbbb20492504e28a411": {
          "model_module": "@jupyter-widgets/controls",
          "model_module_version": "1.5.0",
          "model_name": "HTMLModel",
          "state": {
            "_dom_classes": [],
            "_model_module": "@jupyter-widgets/controls",
            "_model_module_version": "1.5.0",
            "_model_name": "HTMLModel",
            "_view_count": null,
            "_view_module": "@jupyter-widgets/controls",
            "_view_module_version": "1.5.0",
            "_view_name": "HTMLView",
            "description": "",
            "description_tooltip": null,
            "layout": "IPY_MODEL_8c6c81b05a2d4111a37aa3ca3bdbc2f3",
            "placeholder": "​",
            "style": "IPY_MODEL_b0d4604acccc49a9a1a5e034b21d6fd9",
            "value": "100%"
          }
        },
        "1b121110b07448a9b705b396f3f90080": {
          "model_module": "@jupyter-widgets/controls",
          "model_module_version": "1.5.0",
          "model_name": "ProgressStyleModel",
          "state": {
            "_model_module": "@jupyter-widgets/controls",
            "_model_module_version": "1.5.0",
            "_model_name": "ProgressStyleModel",
            "_view_count": null,
            "_view_module": "@jupyter-widgets/base",
            "_view_module_version": "1.2.0",
            "_view_name": "StyleView",
            "bar_color": null,
            "description_width": ""
          }
        },
        "1b620127eb364834a710a8984af468bd": {
          "model_module": "@jupyter-widgets/base",
          "model_module_version": "1.2.0",
          "model_name": "LayoutModel",
          "state": {
            "_model_module": "@jupyter-widgets/base",
            "_model_module_version": "1.2.0",
            "_model_name": "LayoutModel",
            "_view_count": null,
            "_view_module": "@jupyter-widgets/base",
            "_view_module_version": "1.2.0",
            "_view_name": "LayoutView",
            "align_content": null,
            "align_items": null,
            "align_self": null,
            "border": null,
            "bottom": null,
            "display": null,
            "flex": null,
            "flex_flow": null,
            "grid_area": null,
            "grid_auto_columns": null,
            "grid_auto_flow": null,
            "grid_auto_rows": null,
            "grid_column": null,
            "grid_gap": null,
            "grid_row": null,
            "grid_template_areas": null,
            "grid_template_columns": null,
            "grid_template_rows": null,
            "height": null,
            "justify_content": null,
            "justify_items": null,
            "left": null,
            "margin": null,
            "max_height": null,
            "max_width": null,
            "min_height": null,
            "min_width": null,
            "object_fit": null,
            "object_position": null,
            "order": null,
            "overflow": null,
            "overflow_x": null,
            "overflow_y": null,
            "padding": null,
            "right": null,
            "top": null,
            "visibility": null,
            "width": null
          }
        },
        "1cfa0716e1a64a96800272fe534f77ea": {
          "model_module": "@jupyter-widgets/controls",
          "model_module_version": "1.5.0",
          "model_name": "FloatProgressModel",
          "state": {
            "_dom_classes": [],
            "_model_module": "@jupyter-widgets/controls",
            "_model_module_version": "1.5.0",
            "_model_name": "FloatProgressModel",
            "_view_count": null,
            "_view_module": "@jupyter-widgets/controls",
            "_view_module_version": "1.5.0",
            "_view_name": "ProgressView",
            "bar_style": "success",
            "description": "",
            "description_tooltip": null,
            "layout": "IPY_MODEL_62627b5ef1d2446d8df336b0a32efef0",
            "max": 3279,
            "min": 0,
            "orientation": "horizontal",
            "style": "IPY_MODEL_3ddad2ec8f4545b3a405725209b47287",
            "value": 3279
          }
        },
        "1e54ed1218c94ee68448dc91bba079b6": {
          "model_module": "@jupyter-widgets/base",
          "model_module_version": "1.2.0",
          "model_name": "LayoutModel",
          "state": {
            "_model_module": "@jupyter-widgets/base",
            "_model_module_version": "1.2.0",
            "_model_name": "LayoutModel",
            "_view_count": null,
            "_view_module": "@jupyter-widgets/base",
            "_view_module_version": "1.2.0",
            "_view_name": "LayoutView",
            "align_content": null,
            "align_items": null,
            "align_self": null,
            "border": null,
            "bottom": null,
            "display": null,
            "flex": null,
            "flex_flow": null,
            "grid_area": null,
            "grid_auto_columns": null,
            "grid_auto_flow": null,
            "grid_auto_rows": null,
            "grid_column": null,
            "grid_gap": null,
            "grid_row": null,
            "grid_template_areas": null,
            "grid_template_columns": null,
            "grid_template_rows": null,
            "height": null,
            "justify_content": null,
            "justify_items": null,
            "left": null,
            "margin": null,
            "max_height": null,
            "max_width": null,
            "min_height": null,
            "min_width": null,
            "object_fit": null,
            "object_position": null,
            "order": null,
            "overflow": null,
            "overflow_x": null,
            "overflow_y": null,
            "padding": null,
            "right": null,
            "top": null,
            "visibility": null,
            "width": null
          }
        },
        "1eeb384340ae4074a1f23b0671e8158c": {
          "model_module": "@jupyter-widgets/controls",
          "model_module_version": "1.5.0",
          "model_name": "FloatProgressModel",
          "state": {
            "_dom_classes": [],
            "_model_module": "@jupyter-widgets/controls",
            "_model_module_version": "1.5.0",
            "_model_name": "FloatProgressModel",
            "_view_count": null,
            "_view_module": "@jupyter-widgets/controls",
            "_view_module_version": "1.5.0",
            "_view_name": "ProgressView",
            "bar_style": "success",
            "description": "",
            "description_tooltip": null,
            "layout": "IPY_MODEL_aa0d7d3576524bdab1b19bbf2ff452ca",
            "max": 3279,
            "min": 0,
            "orientation": "horizontal",
            "style": "IPY_MODEL_7a31218bb6eb4cf591a05ea09bbe0590",
            "value": 3279
          }
        },
        "1f8f0a3812f0408d8d593020f53ad387": {
          "model_module": "@jupyter-widgets/controls",
          "model_module_version": "1.5.0",
          "model_name": "HTMLModel",
          "state": {
            "_dom_classes": [],
            "_model_module": "@jupyter-widgets/controls",
            "_model_module_version": "1.5.0",
            "_model_name": "HTMLModel",
            "_view_count": null,
            "_view_module": "@jupyter-widgets/controls",
            "_view_module_version": "1.5.0",
            "_view_name": "HTMLView",
            "description": "",
            "description_tooltip": null,
            "layout": "IPY_MODEL_1710f5e4f8e14c308d1d822199c58f6d",
            "placeholder": "​",
            "style": "IPY_MODEL_77c69dd2eaeb4843a755ebcd7409f9d4",
            "value": "100%"
          }
        },
        "21e50139dcd845a5aba1b484d39c07fb": {
          "model_module": "@jupyter-widgets/controls",
          "model_module_version": "1.5.0",
          "model_name": "HTMLModel",
          "state": {
            "_dom_classes": [],
            "_model_module": "@jupyter-widgets/controls",
            "_model_module_version": "1.5.0",
            "_model_name": "HTMLModel",
            "_view_count": null,
            "_view_module": "@jupyter-widgets/controls",
            "_view_module_version": "1.5.0",
            "_view_name": "HTMLView",
            "description": "",
            "description_tooltip": null,
            "layout": "IPY_MODEL_2b116b3cf9e44b84b0f38831bec551fe",
            "placeholder": "​",
            "style": "IPY_MODEL_28ec8fac76e5490f8bd7d97d40129e89",
            "value": "100%"
          }
        },
        "2363191bb3434716893bec8f72f1d307": {
          "model_module": "@jupyter-widgets/base",
          "model_module_version": "1.2.0",
          "model_name": "LayoutModel",
          "state": {
            "_model_module": "@jupyter-widgets/base",
            "_model_module_version": "1.2.0",
            "_model_name": "LayoutModel",
            "_view_count": null,
            "_view_module": "@jupyter-widgets/base",
            "_view_module_version": "1.2.0",
            "_view_name": "LayoutView",
            "align_content": null,
            "align_items": null,
            "align_self": null,
            "border": null,
            "bottom": null,
            "display": null,
            "flex": null,
            "flex_flow": null,
            "grid_area": null,
            "grid_auto_columns": null,
            "grid_auto_flow": null,
            "grid_auto_rows": null,
            "grid_column": null,
            "grid_gap": null,
            "grid_row": null,
            "grid_template_areas": null,
            "grid_template_columns": null,
            "grid_template_rows": null,
            "height": null,
            "justify_content": null,
            "justify_items": null,
            "left": null,
            "margin": null,
            "max_height": null,
            "max_width": null,
            "min_height": null,
            "min_width": null,
            "object_fit": null,
            "object_position": null,
            "order": null,
            "overflow": null,
            "overflow_x": null,
            "overflow_y": null,
            "padding": null,
            "right": null,
            "top": null,
            "visibility": null,
            "width": null
          }
        },
        "248df9d0c3e841a39a9274ad23a210c1": {
          "model_module": "@jupyter-widgets/controls",
          "model_module_version": "1.5.0",
          "model_name": "HTMLModel",
          "state": {
            "_dom_classes": [],
            "_model_module": "@jupyter-widgets/controls",
            "_model_module_version": "1.5.0",
            "_model_name": "HTMLModel",
            "_view_count": null,
            "_view_module": "@jupyter-widgets/controls",
            "_view_module_version": "1.5.0",
            "_view_name": "HTMLView",
            "description": "",
            "description_tooltip": null,
            "layout": "IPY_MODEL_a93917d8d9e2454c9d895192270a775e",
            "placeholder": "​",
            "style": "IPY_MODEL_9eee2c62d2e14f42958e54cc56876107",
            "value": "100%"
          }
        },
        "26ce4cda86a74386a053851d7bd54313": {
          "model_module": "@jupyter-widgets/controls",
          "model_module_version": "1.5.0",
          "model_name": "DescriptionStyleModel",
          "state": {
            "_model_module": "@jupyter-widgets/controls",
            "_model_module_version": "1.5.0",
            "_model_name": "DescriptionStyleModel",
            "_view_count": null,
            "_view_module": "@jupyter-widgets/base",
            "_view_module_version": "1.2.0",
            "_view_name": "StyleView",
            "description_width": ""
          }
        },
        "28ec8fac76e5490f8bd7d97d40129e89": {
          "model_module": "@jupyter-widgets/controls",
          "model_module_version": "1.5.0",
          "model_name": "DescriptionStyleModel",
          "state": {
            "_model_module": "@jupyter-widgets/controls",
            "_model_module_version": "1.5.0",
            "_model_name": "DescriptionStyleModel",
            "_view_count": null,
            "_view_module": "@jupyter-widgets/base",
            "_view_module_version": "1.2.0",
            "_view_name": "StyleView",
            "description_width": ""
          }
        },
        "2a9f5f89b37a4e019ac10f3c6ef301d2": {
          "model_module": "@jupyter-widgets/controls",
          "model_module_version": "1.5.0",
          "model_name": "HTMLModel",
          "state": {
            "_dom_classes": [],
            "_model_module": "@jupyter-widgets/controls",
            "_model_module_version": "1.5.0",
            "_model_name": "HTMLModel",
            "_view_count": null,
            "_view_module": "@jupyter-widgets/controls",
            "_view_module_version": "1.5.0",
            "_view_name": "HTMLView",
            "description": "",
            "description_tooltip": null,
            "layout": "IPY_MODEL_a2c33a495eb34f95a16f99480d944f46",
            "placeholder": "​",
            "style": "IPY_MODEL_9dbdc69f9802439a9a32c3327af9d45e",
            "value": "100%"
          }
        },
        "2b116b3cf9e44b84b0f38831bec551fe": {
          "model_module": "@jupyter-widgets/base",
          "model_module_version": "1.2.0",
          "model_name": "LayoutModel",
          "state": {
            "_model_module": "@jupyter-widgets/base",
            "_model_module_version": "1.2.0",
            "_model_name": "LayoutModel",
            "_view_count": null,
            "_view_module": "@jupyter-widgets/base",
            "_view_module_version": "1.2.0",
            "_view_name": "LayoutView",
            "align_content": null,
            "align_items": null,
            "align_self": null,
            "border": null,
            "bottom": null,
            "display": null,
            "flex": null,
            "flex_flow": null,
            "grid_area": null,
            "grid_auto_columns": null,
            "grid_auto_flow": null,
            "grid_auto_rows": null,
            "grid_column": null,
            "grid_gap": null,
            "grid_row": null,
            "grid_template_areas": null,
            "grid_template_columns": null,
            "grid_template_rows": null,
            "height": null,
            "justify_content": null,
            "justify_items": null,
            "left": null,
            "margin": null,
            "max_height": null,
            "max_width": null,
            "min_height": null,
            "min_width": null,
            "object_fit": null,
            "object_position": null,
            "order": null,
            "overflow": null,
            "overflow_x": null,
            "overflow_y": null,
            "padding": null,
            "right": null,
            "top": null,
            "visibility": null,
            "width": null
          }
        },
        "2b40535f83ed4b48a8e540e95cd30830": {
          "model_module": "@jupyter-widgets/base",
          "model_module_version": "1.2.0",
          "model_name": "LayoutModel",
          "state": {
            "_model_module": "@jupyter-widgets/base",
            "_model_module_version": "1.2.0",
            "_model_name": "LayoutModel",
            "_view_count": null,
            "_view_module": "@jupyter-widgets/base",
            "_view_module_version": "1.2.0",
            "_view_name": "LayoutView",
            "align_content": null,
            "align_items": null,
            "align_self": null,
            "border": null,
            "bottom": null,
            "display": null,
            "flex": null,
            "flex_flow": null,
            "grid_area": null,
            "grid_auto_columns": null,
            "grid_auto_flow": null,
            "grid_auto_rows": null,
            "grid_column": null,
            "grid_gap": null,
            "grid_row": null,
            "grid_template_areas": null,
            "grid_template_columns": null,
            "grid_template_rows": null,
            "height": null,
            "justify_content": null,
            "justify_items": null,
            "left": null,
            "margin": null,
            "max_height": null,
            "max_width": null,
            "min_height": null,
            "min_width": null,
            "object_fit": null,
            "object_position": null,
            "order": null,
            "overflow": null,
            "overflow_x": null,
            "overflow_y": null,
            "padding": null,
            "right": null,
            "top": null,
            "visibility": null,
            "width": null
          }
        },
        "2c51d69b589f41c6b2a227f4d6be5e1e": {
          "model_module": "@jupyter-widgets/controls",
          "model_module_version": "1.5.0",
          "model_name": "FloatProgressModel",
          "state": {
            "_dom_classes": [],
            "_model_module": "@jupyter-widgets/controls",
            "_model_module_version": "1.5.0",
            "_model_name": "FloatProgressModel",
            "_view_count": null,
            "_view_module": "@jupyter-widgets/controls",
            "_view_module_version": "1.5.0",
            "_view_name": "ProgressView",
            "bar_style": "success",
            "description": "",
            "description_tooltip": null,
            "layout": "IPY_MODEL_12aeb757755e417ebf87c32742470317",
            "max": 1230,
            "min": 0,
            "orientation": "horizontal",
            "style": "IPY_MODEL_0ada775c780d49c2b7e31883efe4a88d",
            "value": 1230
          }
        },
        "2e2f22fc9a5e42149441fea733eb9f20": {
          "model_module": "@jupyter-widgets/controls",
          "model_module_version": "1.5.0",
          "model_name": "HTMLModel",
          "state": {
            "_dom_classes": [],
            "_model_module": "@jupyter-widgets/controls",
            "_model_module_version": "1.5.0",
            "_model_name": "HTMLModel",
            "_view_count": null,
            "_view_module": "@jupyter-widgets/controls",
            "_view_module_version": "1.5.0",
            "_view_name": "HTMLView",
            "description": "",
            "description_tooltip": null,
            "layout": "IPY_MODEL_d3a96cfe12684e93ac5435643a0ed317",
            "placeholder": "​",
            "style": "IPY_MODEL_26ce4cda86a74386a053851d7bd54313",
            "value": "100%"
          }
        },
        "2eb880e00ee1441d8d560b8afe7d5608": {
          "model_module": "@jupyter-widgets/base",
          "model_module_version": "1.2.0",
          "model_name": "LayoutModel",
          "state": {
            "_model_module": "@jupyter-widgets/base",
            "_model_module_version": "1.2.0",
            "_model_name": "LayoutModel",
            "_view_count": null,
            "_view_module": "@jupyter-widgets/base",
            "_view_module_version": "1.2.0",
            "_view_name": "LayoutView",
            "align_content": null,
            "align_items": null,
            "align_self": null,
            "border": null,
            "bottom": null,
            "display": null,
            "flex": null,
            "flex_flow": null,
            "grid_area": null,
            "grid_auto_columns": null,
            "grid_auto_flow": null,
            "grid_auto_rows": null,
            "grid_column": null,
            "grid_gap": null,
            "grid_row": null,
            "grid_template_areas": null,
            "grid_template_columns": null,
            "grid_template_rows": null,
            "height": null,
            "justify_content": null,
            "justify_items": null,
            "left": null,
            "margin": null,
            "max_height": null,
            "max_width": null,
            "min_height": null,
            "min_width": null,
            "object_fit": null,
            "object_position": null,
            "order": null,
            "overflow": null,
            "overflow_x": null,
            "overflow_y": null,
            "padding": null,
            "right": null,
            "top": null,
            "visibility": null,
            "width": null
          }
        },
        "2f2656a4774d4844add07bab675bec83": {
          "model_module": "@jupyter-widgets/controls",
          "model_module_version": "1.5.0",
          "model_name": "DescriptionStyleModel",
          "state": {
            "_model_module": "@jupyter-widgets/controls",
            "_model_module_version": "1.5.0",
            "_model_name": "DescriptionStyleModel",
            "_view_count": null,
            "_view_module": "@jupyter-widgets/base",
            "_view_module_version": "1.2.0",
            "_view_name": "StyleView",
            "description_width": ""
          }
        },
        "2f86b5eeedb5419a9c5c526ec6f7fc21": {
          "model_module": "@jupyter-widgets/controls",
          "model_module_version": "1.5.0",
          "model_name": "ProgressStyleModel",
          "state": {
            "_model_module": "@jupyter-widgets/controls",
            "_model_module_version": "1.5.0",
            "_model_name": "ProgressStyleModel",
            "_view_count": null,
            "_view_module": "@jupyter-widgets/base",
            "_view_module_version": "1.2.0",
            "_view_name": "StyleView",
            "bar_color": null,
            "description_width": ""
          }
        },
        "33ce0fcd3b8240a8ad99eb30ca8cfbd5": {
          "model_module": "@jupyter-widgets/controls",
          "model_module_version": "1.5.0",
          "model_name": "HTMLModel",
          "state": {
            "_dom_classes": [],
            "_model_module": "@jupyter-widgets/controls",
            "_model_module_version": "1.5.0",
            "_model_name": "HTMLModel",
            "_view_count": null,
            "_view_module": "@jupyter-widgets/controls",
            "_view_module_version": "1.5.0",
            "_view_name": "HTMLView",
            "description": "",
            "description_tooltip": null,
            "layout": "IPY_MODEL_1e54ed1218c94ee68448dc91bba079b6",
            "placeholder": "​",
            "style": "IPY_MODEL_ec0a1f6591c742219938c2fdfff56d48",
            "value": " 1230/1230 [07:35&lt;00:00,  3.25it/s]"
          }
        },
        "353b7abc646d419ba592b8f12453e12a": {
          "model_module": "@jupyter-widgets/controls",
          "model_module_version": "1.5.0",
          "model_name": "HBoxModel",
          "state": {
            "_dom_classes": [],
            "_model_module": "@jupyter-widgets/controls",
            "_model_module_version": "1.5.0",
            "_model_name": "HBoxModel",
            "_view_count": null,
            "_view_module": "@jupyter-widgets/controls",
            "_view_module_version": "1.5.0",
            "_view_name": "HBoxView",
            "box_style": "",
            "children": [
              "IPY_MODEL_6cff3463b54240d7933b65b0bb6ac5c5",
              "IPY_MODEL_d0ff0eb2c63040d08d8e9c8c19f00d5d",
              "IPY_MODEL_972ff788fbd540bf94f4f72fc3a2caff"
            ],
            "layout": "IPY_MODEL_ded6cf92b68148038f08611a73cbbe9e"
          }
        },
        "35dda57ca3424abd9b4ecea7909010d7": {
          "model_module": "@jupyter-widgets/controls",
          "model_module_version": "1.5.0",
          "model_name": "HBoxModel",
          "state": {
            "_dom_classes": [],
            "_model_module": "@jupyter-widgets/controls",
            "_model_module_version": "1.5.0",
            "_model_name": "HBoxModel",
            "_view_count": null,
            "_view_module": "@jupyter-widgets/controls",
            "_view_module_version": "1.5.0",
            "_view_name": "HBoxView",
            "box_style": "",
            "children": [
              "IPY_MODEL_1f8f0a3812f0408d8d593020f53ad387",
              "IPY_MODEL_d73c2498c07d4011b93468a539f94d3a",
              "IPY_MODEL_3be08205a63040219ff4e74f466981a7"
            ],
            "layout": "IPY_MODEL_f0c92531b03f4373babe9349dff6603b"
          }
        },
        "37753a4726a8482eae280db737411b2c": {
          "model_module": "@jupyter-widgets/controls",
          "model_module_version": "1.5.0",
          "model_name": "FloatProgressModel",
          "state": {
            "_dom_classes": [],
            "_model_module": "@jupyter-widgets/controls",
            "_model_module_version": "1.5.0",
            "_model_name": "FloatProgressModel",
            "_view_count": null,
            "_view_module": "@jupyter-widgets/controls",
            "_view_module_version": "1.5.0",
            "_view_name": "ProgressView",
            "bar_style": "success",
            "description": "",
            "description_tooltip": null,
            "layout": "IPY_MODEL_cba1c9ee2642414ebcadb1e78de0b310",
            "max": 3281,
            "min": 0,
            "orientation": "horizontal",
            "style": "IPY_MODEL_848efe62f0d74de081e692e75f7ed9a0",
            "value": 3281
          }
        },
        "37883047939a48c596734ba088367ee3": {
          "model_module": "@jupyter-widgets/controls",
          "model_module_version": "1.5.0",
          "model_name": "ProgressStyleModel",
          "state": {
            "_model_module": "@jupyter-widgets/controls",
            "_model_module_version": "1.5.0",
            "_model_name": "ProgressStyleModel",
            "_view_count": null,
            "_view_module": "@jupyter-widgets/base",
            "_view_module_version": "1.2.0",
            "_view_name": "StyleView",
            "bar_color": null,
            "description_width": ""
          }
        },
        "37e0466226fe437cba9daab20714c79d": {
          "model_module": "@jupyter-widgets/controls",
          "model_module_version": "1.5.0",
          "model_name": "FloatProgressModel",
          "state": {
            "_dom_classes": [],
            "_model_module": "@jupyter-widgets/controls",
            "_model_module_version": "1.5.0",
            "_model_name": "FloatProgressModel",
            "_view_count": null,
            "_view_module": "@jupyter-widgets/controls",
            "_view_module_version": "1.5.0",
            "_view_name": "ProgressView",
            "bar_style": "success",
            "description": "",
            "description_tooltip": null,
            "layout": "IPY_MODEL_e9b51439db3545038b276314cccfd356",
            "max": 1230,
            "min": 0,
            "orientation": "horizontal",
            "style": "IPY_MODEL_58a00fcaca734e8f9b56a9d53d97c692",
            "value": 1230
          }
        },
        "382774c2d14341f7864a37a075b312b4": {
          "model_module": "@jupyter-widgets/base",
          "model_module_version": "1.2.0",
          "model_name": "LayoutModel",
          "state": {
            "_model_module": "@jupyter-widgets/base",
            "_model_module_version": "1.2.0",
            "_model_name": "LayoutModel",
            "_view_count": null,
            "_view_module": "@jupyter-widgets/base",
            "_view_module_version": "1.2.0",
            "_view_name": "LayoutView",
            "align_content": null,
            "align_items": null,
            "align_self": null,
            "border": null,
            "bottom": null,
            "display": null,
            "flex": null,
            "flex_flow": null,
            "grid_area": null,
            "grid_auto_columns": null,
            "grid_auto_flow": null,
            "grid_auto_rows": null,
            "grid_column": null,
            "grid_gap": null,
            "grid_row": null,
            "grid_template_areas": null,
            "grid_template_columns": null,
            "grid_template_rows": null,
            "height": null,
            "justify_content": null,
            "justify_items": null,
            "left": null,
            "margin": null,
            "max_height": null,
            "max_width": null,
            "min_height": null,
            "min_width": null,
            "object_fit": null,
            "object_position": null,
            "order": null,
            "overflow": null,
            "overflow_x": null,
            "overflow_y": null,
            "padding": null,
            "right": null,
            "top": null,
            "visibility": null,
            "width": null
          }
        },
        "3975b0ef685e4f7bbd717701a36ae639": {
          "model_module": "@jupyter-widgets/base",
          "model_module_version": "1.2.0",
          "model_name": "LayoutModel",
          "state": {
            "_model_module": "@jupyter-widgets/base",
            "_model_module_version": "1.2.0",
            "_model_name": "LayoutModel",
            "_view_count": null,
            "_view_module": "@jupyter-widgets/base",
            "_view_module_version": "1.2.0",
            "_view_name": "LayoutView",
            "align_content": null,
            "align_items": null,
            "align_self": null,
            "border": null,
            "bottom": null,
            "display": null,
            "flex": null,
            "flex_flow": null,
            "grid_area": null,
            "grid_auto_columns": null,
            "grid_auto_flow": null,
            "grid_auto_rows": null,
            "grid_column": null,
            "grid_gap": null,
            "grid_row": null,
            "grid_template_areas": null,
            "grid_template_columns": null,
            "grid_template_rows": null,
            "height": null,
            "justify_content": null,
            "justify_items": null,
            "left": null,
            "margin": null,
            "max_height": null,
            "max_width": null,
            "min_height": null,
            "min_width": null,
            "object_fit": null,
            "object_position": null,
            "order": null,
            "overflow": null,
            "overflow_x": null,
            "overflow_y": null,
            "padding": null,
            "right": null,
            "top": null,
            "visibility": null,
            "width": null
          }
        },
        "3ac887fe639843c093e1c264c6f785a9": {
          "model_module": "@jupyter-widgets/controls",
          "model_module_version": "1.5.0",
          "model_name": "HBoxModel",
          "state": {
            "_dom_classes": [],
            "_model_module": "@jupyter-widgets/controls",
            "_model_module_version": "1.5.0",
            "_model_name": "HBoxModel",
            "_view_count": null,
            "_view_module": "@jupyter-widgets/controls",
            "_view_module_version": "1.5.0",
            "_view_name": "HBoxView",
            "box_style": "",
            "children": [
              "IPY_MODEL_248df9d0c3e841a39a9274ad23a210c1",
              "IPY_MODEL_65a048548bdf4d56b00d322f3b7d0ba6",
              "IPY_MODEL_01f46a964a044ba5b09c2c5643bbc8b1"
            ],
            "layout": "IPY_MODEL_885292ffbb3c45dfa02959923533b8c6"
          }
        },
        "3b21f25da7a24ff5b8ededff4d487c0a": {
          "model_module": "@jupyter-widgets/controls",
          "model_module_version": "1.5.0",
          "model_name": "DescriptionStyleModel",
          "state": {
            "_model_module": "@jupyter-widgets/controls",
            "_model_module_version": "1.5.0",
            "_model_name": "DescriptionStyleModel",
            "_view_count": null,
            "_view_module": "@jupyter-widgets/base",
            "_view_module_version": "1.2.0",
            "_view_name": "StyleView",
            "description_width": ""
          }
        },
        "3b80fc2ae2fa4d8dbde71e64291b2170": {
          "model_module": "@jupyter-widgets/controls",
          "model_module_version": "1.5.0",
          "model_name": "HTMLModel",
          "state": {
            "_dom_classes": [],
            "_model_module": "@jupyter-widgets/controls",
            "_model_module_version": "1.5.0",
            "_model_name": "HTMLModel",
            "_view_count": null,
            "_view_module": "@jupyter-widgets/controls",
            "_view_module_version": "1.5.0",
            "_view_name": "HTMLView",
            "description": "",
            "description_tooltip": null,
            "layout": "IPY_MODEL_8a27830a95274cf4b6a224c94408c83a",
            "placeholder": "​",
            "style": "IPY_MODEL_b174ccaf439b4e238fc096bcbed18859",
            "value": "100%"
          }
        },
        "3be08205a63040219ff4e74f466981a7": {
          "model_module": "@jupyter-widgets/controls",
          "model_module_version": "1.5.0",
          "model_name": "HTMLModel",
          "state": {
            "_dom_classes": [],
            "_model_module": "@jupyter-widgets/controls",
            "_model_module_version": "1.5.0",
            "_model_name": "HTMLModel",
            "_view_count": null,
            "_view_module": "@jupyter-widgets/controls",
            "_view_module_version": "1.5.0",
            "_view_name": "HTMLView",
            "description": "",
            "description_tooltip": null,
            "layout": "IPY_MODEL_667c5f16ee624799bb379a5e16e44c6a",
            "placeholder": "​",
            "style": "IPY_MODEL_ccba7cc838d548478c9c603505c8a4ab",
            "value": " 3279/3279 [19:57&lt;00:00,  2.74it/s]"
          }
        },
        "3cebbb9ff6e64046bd146c1adb853a06": {
          "model_module": "@jupyter-widgets/base",
          "model_module_version": "1.2.0",
          "model_name": "LayoutModel",
          "state": {
            "_model_module": "@jupyter-widgets/base",
            "_model_module_version": "1.2.0",
            "_model_name": "LayoutModel",
            "_view_count": null,
            "_view_module": "@jupyter-widgets/base",
            "_view_module_version": "1.2.0",
            "_view_name": "LayoutView",
            "align_content": null,
            "align_items": null,
            "align_self": null,
            "border": null,
            "bottom": null,
            "display": null,
            "flex": null,
            "flex_flow": null,
            "grid_area": null,
            "grid_auto_columns": null,
            "grid_auto_flow": null,
            "grid_auto_rows": null,
            "grid_column": null,
            "grid_gap": null,
            "grid_row": null,
            "grid_template_areas": null,
            "grid_template_columns": null,
            "grid_template_rows": null,
            "height": null,
            "justify_content": null,
            "justify_items": null,
            "left": null,
            "margin": null,
            "max_height": null,
            "max_width": null,
            "min_height": null,
            "min_width": null,
            "object_fit": null,
            "object_position": null,
            "order": null,
            "overflow": null,
            "overflow_x": null,
            "overflow_y": null,
            "padding": null,
            "right": null,
            "top": null,
            "visibility": null,
            "width": null
          }
        },
        "3ddad2ec8f4545b3a405725209b47287": {
          "model_module": "@jupyter-widgets/controls",
          "model_module_version": "1.5.0",
          "model_name": "ProgressStyleModel",
          "state": {
            "_model_module": "@jupyter-widgets/controls",
            "_model_module_version": "1.5.0",
            "_model_name": "ProgressStyleModel",
            "_view_count": null,
            "_view_module": "@jupyter-widgets/base",
            "_view_module_version": "1.2.0",
            "_view_name": "StyleView",
            "bar_color": null,
            "description_width": ""
          }
        },
        "3dfb489094b54b88b087121a3ac0d814": {
          "model_module": "@jupyter-widgets/controls",
          "model_module_version": "1.5.0",
          "model_name": "HBoxModel",
          "state": {
            "_dom_classes": [],
            "_model_module": "@jupyter-widgets/controls",
            "_model_module_version": "1.5.0",
            "_model_name": "HBoxModel",
            "_view_count": null,
            "_view_module": "@jupyter-widgets/controls",
            "_view_module_version": "1.5.0",
            "_view_name": "HBoxView",
            "box_style": "",
            "children": [
              "IPY_MODEL_19cb9fc950754dbbb20492504e28a411",
              "IPY_MODEL_e494cb1bcd764873bd5f5e930e251e67",
              "IPY_MODEL_deda9ef12b9c45f69be10a6494709a94"
            ],
            "layout": "IPY_MODEL_816daea5ce704e068c17e2b87c75691a"
          }
        },
        "3e667d6e80a842e5bcd4d4dc104c0381": {
          "model_module": "@jupyter-widgets/controls",
          "model_module_version": "1.5.0",
          "model_name": "DescriptionStyleModel",
          "state": {
            "_model_module": "@jupyter-widgets/controls",
            "_model_module_version": "1.5.0",
            "_model_name": "DescriptionStyleModel",
            "_view_count": null,
            "_view_module": "@jupyter-widgets/base",
            "_view_module_version": "1.2.0",
            "_view_name": "StyleView",
            "description_width": ""
          }
        },
        "3fa8dafb060b45fb938c6b42d5d1858a": {
          "model_module": "@jupyter-widgets/controls",
          "model_module_version": "1.5.0",
          "model_name": "HTMLModel",
          "state": {
            "_dom_classes": [],
            "_model_module": "@jupyter-widgets/controls",
            "_model_module_version": "1.5.0",
            "_model_name": "HTMLModel",
            "_view_count": null,
            "_view_module": "@jupyter-widgets/controls",
            "_view_module_version": "1.5.0",
            "_view_name": "HTMLView",
            "description": "",
            "description_tooltip": null,
            "layout": "IPY_MODEL_cfa4df827ad44997ab12f95418ec4807",
            "placeholder": "​",
            "style": "IPY_MODEL_3b21f25da7a24ff5b8ededff4d487c0a",
            "value": "100%"
          }
        },
        "402a0fbe30c54da181f5cdd1ba7cac28": {
          "model_module": "@jupyter-widgets/controls",
          "model_module_version": "1.5.0",
          "model_name": "HTMLModel",
          "state": {
            "_dom_classes": [],
            "_model_module": "@jupyter-widgets/controls",
            "_model_module_version": "1.5.0",
            "_model_name": "HTMLModel",
            "_view_count": null,
            "_view_module": "@jupyter-widgets/controls",
            "_view_module_version": "1.5.0",
            "_view_name": "HTMLView",
            "description": "",
            "description_tooltip": null,
            "layout": "IPY_MODEL_e0b0d654f9ba4dd1afe8e9830f9bff43",
            "placeholder": "​",
            "style": "IPY_MODEL_9661b1aa16514dd4845d6fd8e139cbef",
            "value": " 1230/1230 [07:24&lt;00:00,  3.33it/s]"
          }
        },
        "417dc126f2bb46839189f4b50c512f71": {
          "model_module": "@jupyter-widgets/controls",
          "model_module_version": "1.5.0",
          "model_name": "HTMLModel",
          "state": {
            "_dom_classes": [],
            "_model_module": "@jupyter-widgets/controls",
            "_model_module_version": "1.5.0",
            "_model_name": "HTMLModel",
            "_view_count": null,
            "_view_module": "@jupyter-widgets/controls",
            "_view_module_version": "1.5.0",
            "_view_name": "HTMLView",
            "description": "",
            "description_tooltip": null,
            "layout": "IPY_MODEL_828b0a5b4eef439b9b33713133f89845",
            "placeholder": "​",
            "style": "IPY_MODEL_75f171f859084fc995ebeae770ae95bf",
            "value": " 1779/1779 [10:17&lt;00:00,  3.20it/s]"
          }
        },
        "41e902792c294c138718f247d080e582": {
          "model_module": "@jupyter-widgets/controls",
          "model_module_version": "1.5.0",
          "model_name": "HBoxModel",
          "state": {
            "_dom_classes": [],
            "_model_module": "@jupyter-widgets/controls",
            "_model_module_version": "1.5.0",
            "_model_name": "HBoxModel",
            "_view_count": null,
            "_view_module": "@jupyter-widgets/controls",
            "_view_module_version": "1.5.0",
            "_view_name": "HBoxView",
            "box_style": "",
            "children": [
              "IPY_MODEL_3fa8dafb060b45fb938c6b42d5d1858a",
              "IPY_MODEL_6081c622fc9749d8ac368179d5625c74",
              "IPY_MODEL_417dc126f2bb46839189f4b50c512f71"
            ],
            "layout": "IPY_MODEL_3975b0ef685e4f7bbd717701a36ae639"
          }
        },
        "440538b8a37e456f973259a3e129ac07": {
          "model_module": "@jupyter-widgets/base",
          "model_module_version": "1.2.0",
          "model_name": "LayoutModel",
          "state": {
            "_model_module": "@jupyter-widgets/base",
            "_model_module_version": "1.2.0",
            "_model_name": "LayoutModel",
            "_view_count": null,
            "_view_module": "@jupyter-widgets/base",
            "_view_module_version": "1.2.0",
            "_view_name": "LayoutView",
            "align_content": null,
            "align_items": null,
            "align_self": null,
            "border": null,
            "bottom": null,
            "display": null,
            "flex": null,
            "flex_flow": null,
            "grid_area": null,
            "grid_auto_columns": null,
            "grid_auto_flow": null,
            "grid_auto_rows": null,
            "grid_column": null,
            "grid_gap": null,
            "grid_row": null,
            "grid_template_areas": null,
            "grid_template_columns": null,
            "grid_template_rows": null,
            "height": null,
            "justify_content": null,
            "justify_items": null,
            "left": null,
            "margin": null,
            "max_height": null,
            "max_width": null,
            "min_height": null,
            "min_width": null,
            "object_fit": null,
            "object_position": null,
            "order": null,
            "overflow": null,
            "overflow_x": null,
            "overflow_y": null,
            "padding": null,
            "right": null,
            "top": null,
            "visibility": null,
            "width": null
          }
        },
        "444cac0f4aac483caca9b87c0829145d": {
          "model_module": "@jupyter-widgets/controls",
          "model_module_version": "1.5.0",
          "model_name": "DescriptionStyleModel",
          "state": {
            "_model_module": "@jupyter-widgets/controls",
            "_model_module_version": "1.5.0",
            "_model_name": "DescriptionStyleModel",
            "_view_count": null,
            "_view_module": "@jupyter-widgets/base",
            "_view_module_version": "1.2.0",
            "_view_name": "StyleView",
            "description_width": ""
          }
        },
        "447e2e2e2e124067ba20d27194d320ef": {
          "model_module": "@jupyter-widgets/base",
          "model_module_version": "1.2.0",
          "model_name": "LayoutModel",
          "state": {
            "_model_module": "@jupyter-widgets/base",
            "_model_module_version": "1.2.0",
            "_model_name": "LayoutModel",
            "_view_count": null,
            "_view_module": "@jupyter-widgets/base",
            "_view_module_version": "1.2.0",
            "_view_name": "LayoutView",
            "align_content": null,
            "align_items": null,
            "align_self": null,
            "border": null,
            "bottom": null,
            "display": null,
            "flex": null,
            "flex_flow": null,
            "grid_area": null,
            "grid_auto_columns": null,
            "grid_auto_flow": null,
            "grid_auto_rows": null,
            "grid_column": null,
            "grid_gap": null,
            "grid_row": null,
            "grid_template_areas": null,
            "grid_template_columns": null,
            "grid_template_rows": null,
            "height": null,
            "justify_content": null,
            "justify_items": null,
            "left": null,
            "margin": null,
            "max_height": null,
            "max_width": null,
            "min_height": null,
            "min_width": null,
            "object_fit": null,
            "object_position": null,
            "order": null,
            "overflow": null,
            "overflow_x": null,
            "overflow_y": null,
            "padding": null,
            "right": null,
            "top": null,
            "visibility": null,
            "width": null
          }
        },
        "46e8aa8af2d74ac692238f288baf058e": {
          "model_module": "@jupyter-widgets/base",
          "model_module_version": "1.2.0",
          "model_name": "LayoutModel",
          "state": {
            "_model_module": "@jupyter-widgets/base",
            "_model_module_version": "1.2.0",
            "_model_name": "LayoutModel",
            "_view_count": null,
            "_view_module": "@jupyter-widgets/base",
            "_view_module_version": "1.2.0",
            "_view_name": "LayoutView",
            "align_content": null,
            "align_items": null,
            "align_self": null,
            "border": null,
            "bottom": null,
            "display": null,
            "flex": null,
            "flex_flow": null,
            "grid_area": null,
            "grid_auto_columns": null,
            "grid_auto_flow": null,
            "grid_auto_rows": null,
            "grid_column": null,
            "grid_gap": null,
            "grid_row": null,
            "grid_template_areas": null,
            "grid_template_columns": null,
            "grid_template_rows": null,
            "height": null,
            "justify_content": null,
            "justify_items": null,
            "left": null,
            "margin": null,
            "max_height": null,
            "max_width": null,
            "min_height": null,
            "min_width": null,
            "object_fit": null,
            "object_position": null,
            "order": null,
            "overflow": null,
            "overflow_x": null,
            "overflow_y": null,
            "padding": null,
            "right": null,
            "top": null,
            "visibility": null,
            "width": null
          }
        },
        "49314b8925924bbda913b4320f41ac5c": {
          "model_module": "@jupyter-widgets/controls",
          "model_module_version": "1.5.0",
          "model_name": "HTMLModel",
          "state": {
            "_dom_classes": [],
            "_model_module": "@jupyter-widgets/controls",
            "_model_module_version": "1.5.0",
            "_model_name": "HTMLModel",
            "_view_count": null,
            "_view_module": "@jupyter-widgets/controls",
            "_view_module_version": "1.5.0",
            "_view_name": "HTMLView",
            "description": "",
            "description_tooltip": null,
            "layout": "IPY_MODEL_f54e3539a1a54224b779d8478032df16",
            "placeholder": "​",
            "style": "IPY_MODEL_e8fac9858bfd42d3a8bce1fed862a599",
            "value": "100%"
          }
        },
        "497581445e254b0f8d5128543ad2be1d": {
          "model_module": "@jupyter-widgets/base",
          "model_module_version": "1.2.0",
          "model_name": "LayoutModel",
          "state": {
            "_model_module": "@jupyter-widgets/base",
            "_model_module_version": "1.2.0",
            "_model_name": "LayoutModel",
            "_view_count": null,
            "_view_module": "@jupyter-widgets/base",
            "_view_module_version": "1.2.0",
            "_view_name": "LayoutView",
            "align_content": null,
            "align_items": null,
            "align_self": null,
            "border": null,
            "bottom": null,
            "display": null,
            "flex": null,
            "flex_flow": null,
            "grid_area": null,
            "grid_auto_columns": null,
            "grid_auto_flow": null,
            "grid_auto_rows": null,
            "grid_column": null,
            "grid_gap": null,
            "grid_row": null,
            "grid_template_areas": null,
            "grid_template_columns": null,
            "grid_template_rows": null,
            "height": null,
            "justify_content": null,
            "justify_items": null,
            "left": null,
            "margin": null,
            "max_height": null,
            "max_width": null,
            "min_height": null,
            "min_width": null,
            "object_fit": null,
            "object_position": null,
            "order": null,
            "overflow": null,
            "overflow_x": null,
            "overflow_y": null,
            "padding": null,
            "right": null,
            "top": null,
            "visibility": null,
            "width": null
          }
        },
        "4ae758137be6491f94a0166aa7a1abdb": {
          "model_module": "@jupyter-widgets/base",
          "model_module_version": "1.2.0",
          "model_name": "LayoutModel",
          "state": {
            "_model_module": "@jupyter-widgets/base",
            "_model_module_version": "1.2.0",
            "_model_name": "LayoutModel",
            "_view_count": null,
            "_view_module": "@jupyter-widgets/base",
            "_view_module_version": "1.2.0",
            "_view_name": "LayoutView",
            "align_content": null,
            "align_items": null,
            "align_self": null,
            "border": null,
            "bottom": null,
            "display": null,
            "flex": null,
            "flex_flow": null,
            "grid_area": null,
            "grid_auto_columns": null,
            "grid_auto_flow": null,
            "grid_auto_rows": null,
            "grid_column": null,
            "grid_gap": null,
            "grid_row": null,
            "grid_template_areas": null,
            "grid_template_columns": null,
            "grid_template_rows": null,
            "height": null,
            "justify_content": null,
            "justify_items": null,
            "left": null,
            "margin": null,
            "max_height": null,
            "max_width": null,
            "min_height": null,
            "min_width": null,
            "object_fit": null,
            "object_position": null,
            "order": null,
            "overflow": null,
            "overflow_x": null,
            "overflow_y": null,
            "padding": null,
            "right": null,
            "top": null,
            "visibility": null,
            "width": null
          }
        },
        "4c5c89b545b342158d1be112a77cdb7e": {
          "model_module": "@jupyter-widgets/controls",
          "model_module_version": "1.5.0",
          "model_name": "FloatProgressModel",
          "state": {
            "_dom_classes": [],
            "_model_module": "@jupyter-widgets/controls",
            "_model_module_version": "1.5.0",
            "_model_name": "FloatProgressModel",
            "_view_count": null,
            "_view_module": "@jupyter-widgets/controls",
            "_view_module_version": "1.5.0",
            "_view_name": "ProgressView",
            "bar_style": "success",
            "description": "",
            "description_tooltip": null,
            "layout": "IPY_MODEL_b727844b39624a1a982a6549c4811f3d",
            "max": 457,
            "min": 0,
            "orientation": "horizontal",
            "style": "IPY_MODEL_d14f13e4d37643ad98a7b00096aad28d",
            "value": 457
          }
        },
        "4d4e20b90c7a4fc086753f0c6c9a42c5": {
          "model_module": "@jupyter-widgets/controls",
          "model_module_version": "1.5.0",
          "model_name": "DescriptionStyleModel",
          "state": {
            "_model_module": "@jupyter-widgets/controls",
            "_model_module_version": "1.5.0",
            "_model_name": "DescriptionStyleModel",
            "_view_count": null,
            "_view_module": "@jupyter-widgets/base",
            "_view_module_version": "1.2.0",
            "_view_name": "StyleView",
            "description_width": ""
          }
        },
        "4d6dd9ff6d214ca19d554109f1bbba3b": {
          "model_module": "@jupyter-widgets/base",
          "model_module_version": "1.2.0",
          "model_name": "LayoutModel",
          "state": {
            "_model_module": "@jupyter-widgets/base",
            "_model_module_version": "1.2.0",
            "_model_name": "LayoutModel",
            "_view_count": null,
            "_view_module": "@jupyter-widgets/base",
            "_view_module_version": "1.2.0",
            "_view_name": "LayoutView",
            "align_content": null,
            "align_items": null,
            "align_self": null,
            "border": null,
            "bottom": null,
            "display": null,
            "flex": null,
            "flex_flow": null,
            "grid_area": null,
            "grid_auto_columns": null,
            "grid_auto_flow": null,
            "grid_auto_rows": null,
            "grid_column": null,
            "grid_gap": null,
            "grid_row": null,
            "grid_template_areas": null,
            "grid_template_columns": null,
            "grid_template_rows": null,
            "height": null,
            "justify_content": null,
            "justify_items": null,
            "left": null,
            "margin": null,
            "max_height": null,
            "max_width": null,
            "min_height": null,
            "min_width": null,
            "object_fit": null,
            "object_position": null,
            "order": null,
            "overflow": null,
            "overflow_x": null,
            "overflow_y": null,
            "padding": null,
            "right": null,
            "top": null,
            "visibility": null,
            "width": null
          }
        },
        "4d7b775a27e148cd9f08de534af976ed": {
          "model_module": "@jupyter-widgets/base",
          "model_module_version": "1.2.0",
          "model_name": "LayoutModel",
          "state": {
            "_model_module": "@jupyter-widgets/base",
            "_model_module_version": "1.2.0",
            "_model_name": "LayoutModel",
            "_view_count": null,
            "_view_module": "@jupyter-widgets/base",
            "_view_module_version": "1.2.0",
            "_view_name": "LayoutView",
            "align_content": null,
            "align_items": null,
            "align_self": null,
            "border": null,
            "bottom": null,
            "display": null,
            "flex": null,
            "flex_flow": null,
            "grid_area": null,
            "grid_auto_columns": null,
            "grid_auto_flow": null,
            "grid_auto_rows": null,
            "grid_column": null,
            "grid_gap": null,
            "grid_row": null,
            "grid_template_areas": null,
            "grid_template_columns": null,
            "grid_template_rows": null,
            "height": null,
            "justify_content": null,
            "justify_items": null,
            "left": null,
            "margin": null,
            "max_height": null,
            "max_width": null,
            "min_height": null,
            "min_width": null,
            "object_fit": null,
            "object_position": null,
            "order": null,
            "overflow": null,
            "overflow_x": null,
            "overflow_y": null,
            "padding": null,
            "right": null,
            "top": null,
            "visibility": null,
            "width": null
          }
        },
        "4dc7f21a8e694c119772a41eb71fa6c3": {
          "model_module": "@jupyter-widgets/controls",
          "model_module_version": "1.5.0",
          "model_name": "HTMLModel",
          "state": {
            "_dom_classes": [],
            "_model_module": "@jupyter-widgets/controls",
            "_model_module_version": "1.5.0",
            "_model_name": "HTMLModel",
            "_view_count": null,
            "_view_module": "@jupyter-widgets/controls",
            "_view_module_version": "1.5.0",
            "_view_name": "HTMLView",
            "description": "",
            "description_tooltip": null,
            "layout": "IPY_MODEL_89b262e76cc945acb494863f26cf413d",
            "placeholder": "​",
            "style": "IPY_MODEL_8b9c8c25276c4fe1a4425351bdfe5ab7",
            "value": "100%"
          }
        },
        "4dfa2b21c8cb4b99b6b7c2d1d0ae9aeb": {
          "model_module": "@jupyter-widgets/base",
          "model_module_version": "1.2.0",
          "model_name": "LayoutModel",
          "state": {
            "_model_module": "@jupyter-widgets/base",
            "_model_module_version": "1.2.0",
            "_model_name": "LayoutModel",
            "_view_count": null,
            "_view_module": "@jupyter-widgets/base",
            "_view_module_version": "1.2.0",
            "_view_name": "LayoutView",
            "align_content": null,
            "align_items": null,
            "align_self": null,
            "border": null,
            "bottom": null,
            "display": null,
            "flex": null,
            "flex_flow": null,
            "grid_area": null,
            "grid_auto_columns": null,
            "grid_auto_flow": null,
            "grid_auto_rows": null,
            "grid_column": null,
            "grid_gap": null,
            "grid_row": null,
            "grid_template_areas": null,
            "grid_template_columns": null,
            "grid_template_rows": null,
            "height": null,
            "justify_content": null,
            "justify_items": null,
            "left": null,
            "margin": null,
            "max_height": null,
            "max_width": null,
            "min_height": null,
            "min_width": null,
            "object_fit": null,
            "object_position": null,
            "order": null,
            "overflow": null,
            "overflow_x": null,
            "overflow_y": null,
            "padding": null,
            "right": null,
            "top": null,
            "visibility": null,
            "width": null
          }
        },
        "4e11c68d8a754b188e262b3689ddbfa8": {
          "model_module": "@jupyter-widgets/base",
          "model_module_version": "1.2.0",
          "model_name": "LayoutModel",
          "state": {
            "_model_module": "@jupyter-widgets/base",
            "_model_module_version": "1.2.0",
            "_model_name": "LayoutModel",
            "_view_count": null,
            "_view_module": "@jupyter-widgets/base",
            "_view_module_version": "1.2.0",
            "_view_name": "LayoutView",
            "align_content": null,
            "align_items": null,
            "align_self": null,
            "border": null,
            "bottom": null,
            "display": null,
            "flex": null,
            "flex_flow": null,
            "grid_area": null,
            "grid_auto_columns": null,
            "grid_auto_flow": null,
            "grid_auto_rows": null,
            "grid_column": null,
            "grid_gap": null,
            "grid_row": null,
            "grid_template_areas": null,
            "grid_template_columns": null,
            "grid_template_rows": null,
            "height": null,
            "justify_content": null,
            "justify_items": null,
            "left": null,
            "margin": null,
            "max_height": null,
            "max_width": null,
            "min_height": null,
            "min_width": null,
            "object_fit": null,
            "object_position": null,
            "order": null,
            "overflow": null,
            "overflow_x": null,
            "overflow_y": null,
            "padding": null,
            "right": null,
            "top": null,
            "visibility": null,
            "width": null
          }
        },
        "5138b30885fc4a9cbca188ae9b4bd68b": {
          "model_module": "@jupyter-widgets/base",
          "model_module_version": "1.2.0",
          "model_name": "LayoutModel",
          "state": {
            "_model_module": "@jupyter-widgets/base",
            "_model_module_version": "1.2.0",
            "_model_name": "LayoutModel",
            "_view_count": null,
            "_view_module": "@jupyter-widgets/base",
            "_view_module_version": "1.2.0",
            "_view_name": "LayoutView",
            "align_content": null,
            "align_items": null,
            "align_self": null,
            "border": null,
            "bottom": null,
            "display": null,
            "flex": null,
            "flex_flow": null,
            "grid_area": null,
            "grid_auto_columns": null,
            "grid_auto_flow": null,
            "grid_auto_rows": null,
            "grid_column": null,
            "grid_gap": null,
            "grid_row": null,
            "grid_template_areas": null,
            "grid_template_columns": null,
            "grid_template_rows": null,
            "height": null,
            "justify_content": null,
            "justify_items": null,
            "left": null,
            "margin": null,
            "max_height": null,
            "max_width": null,
            "min_height": null,
            "min_width": null,
            "object_fit": null,
            "object_position": null,
            "order": null,
            "overflow": null,
            "overflow_x": null,
            "overflow_y": null,
            "padding": null,
            "right": null,
            "top": null,
            "visibility": null,
            "width": null
          }
        },
        "51a40fceb8c44655837ccfecd6f5bcdd": {
          "model_module": "@jupyter-widgets/controls",
          "model_module_version": "1.5.0",
          "model_name": "HTMLModel",
          "state": {
            "_dom_classes": [],
            "_model_module": "@jupyter-widgets/controls",
            "_model_module_version": "1.5.0",
            "_model_name": "HTMLModel",
            "_view_count": null,
            "_view_module": "@jupyter-widgets/controls",
            "_view_module_version": "1.5.0",
            "_view_name": "HTMLView",
            "description": "",
            "description_tooltip": null,
            "layout": "IPY_MODEL_4e11c68d8a754b188e262b3689ddbfa8",
            "placeholder": "​",
            "style": "IPY_MODEL_0b2f01f302fb4738b67f13eae17a2fca",
            "value": " 646/646 [04:04&lt;00:00,  2.92it/s]"
          }
        },
        "51f54ccd1cb349bf892667dd1f6bdc39": {
          "model_module": "@jupyter-widgets/controls",
          "model_module_version": "1.5.0",
          "model_name": "ProgressStyleModel",
          "state": {
            "_model_module": "@jupyter-widgets/controls",
            "_model_module_version": "1.5.0",
            "_model_name": "ProgressStyleModel",
            "_view_count": null,
            "_view_module": "@jupyter-widgets/base",
            "_view_module_version": "1.2.0",
            "_view_name": "StyleView",
            "bar_color": null,
            "description_width": ""
          }
        },
        "52461c4457fc4d1fa744f4eb86e8e88d": {
          "model_module": "@jupyter-widgets/controls",
          "model_module_version": "1.5.0",
          "model_name": "DescriptionStyleModel",
          "state": {
            "_model_module": "@jupyter-widgets/controls",
            "_model_module_version": "1.5.0",
            "_model_name": "DescriptionStyleModel",
            "_view_count": null,
            "_view_module": "@jupyter-widgets/base",
            "_view_module_version": "1.2.0",
            "_view_name": "StyleView",
            "description_width": ""
          }
        },
        "5246d3ce7644473097942ad640465a39": {
          "model_module": "@jupyter-widgets/base",
          "model_module_version": "1.2.0",
          "model_name": "LayoutModel",
          "state": {
            "_model_module": "@jupyter-widgets/base",
            "_model_module_version": "1.2.0",
            "_model_name": "LayoutModel",
            "_view_count": null,
            "_view_module": "@jupyter-widgets/base",
            "_view_module_version": "1.2.0",
            "_view_name": "LayoutView",
            "align_content": null,
            "align_items": null,
            "align_self": null,
            "border": null,
            "bottom": null,
            "display": null,
            "flex": null,
            "flex_flow": null,
            "grid_area": null,
            "grid_auto_columns": null,
            "grid_auto_flow": null,
            "grid_auto_rows": null,
            "grid_column": null,
            "grid_gap": null,
            "grid_row": null,
            "grid_template_areas": null,
            "grid_template_columns": null,
            "grid_template_rows": null,
            "height": null,
            "justify_content": null,
            "justify_items": null,
            "left": null,
            "margin": null,
            "max_height": null,
            "max_width": null,
            "min_height": null,
            "min_width": null,
            "object_fit": null,
            "object_position": null,
            "order": null,
            "overflow": null,
            "overflow_x": null,
            "overflow_y": null,
            "padding": null,
            "right": null,
            "top": null,
            "visibility": null,
            "width": null
          }
        },
        "533892765bb34382ad749477933878c1": {
          "model_module": "@jupyter-widgets/controls",
          "model_module_version": "1.5.0",
          "model_name": "HTMLModel",
          "state": {
            "_dom_classes": [],
            "_model_module": "@jupyter-widgets/controls",
            "_model_module_version": "1.5.0",
            "_model_name": "HTMLModel",
            "_view_count": null,
            "_view_module": "@jupyter-widgets/controls",
            "_view_module_version": "1.5.0",
            "_view_name": "HTMLView",
            "description": "",
            "description_tooltip": null,
            "layout": "IPY_MODEL_a0d388882b484da49c52ca9ab3a8bd35",
            "placeholder": "​",
            "style": "IPY_MODEL_a811d8d8c8ed421f99fa7e7caaa58ca6",
            "value": " 457/457 [02:34&lt;00:00,  2.94it/s]"
          }
        },
        "53c4a6d534e847b4a0e87eaf83314e2f": {
          "model_module": "@jupyter-widgets/controls",
          "model_module_version": "1.5.0",
          "model_name": "DescriptionStyleModel",
          "state": {
            "_model_module": "@jupyter-widgets/controls",
            "_model_module_version": "1.5.0",
            "_model_name": "DescriptionStyleModel",
            "_view_count": null,
            "_view_module": "@jupyter-widgets/base",
            "_view_module_version": "1.2.0",
            "_view_name": "StyleView",
            "description_width": ""
          }
        },
        "53ff9130f4c14355827a69a919d4d002": {
          "model_module": "@jupyter-widgets/controls",
          "model_module_version": "1.5.0",
          "model_name": "ProgressStyleModel",
          "state": {
            "_model_module": "@jupyter-widgets/controls",
            "_model_module_version": "1.5.0",
            "_model_name": "ProgressStyleModel",
            "_view_count": null,
            "_view_module": "@jupyter-widgets/base",
            "_view_module_version": "1.2.0",
            "_view_name": "StyleView",
            "bar_color": null,
            "description_width": ""
          }
        },
        "565a280efb27496db71f4fd9ad5dc9b0": {
          "model_module": "@jupyter-widgets/base",
          "model_module_version": "1.2.0",
          "model_name": "LayoutModel",
          "state": {
            "_model_module": "@jupyter-widgets/base",
            "_model_module_version": "1.2.0",
            "_model_name": "LayoutModel",
            "_view_count": null,
            "_view_module": "@jupyter-widgets/base",
            "_view_module_version": "1.2.0",
            "_view_name": "LayoutView",
            "align_content": null,
            "align_items": null,
            "align_self": null,
            "border": null,
            "bottom": null,
            "display": null,
            "flex": null,
            "flex_flow": null,
            "grid_area": null,
            "grid_auto_columns": null,
            "grid_auto_flow": null,
            "grid_auto_rows": null,
            "grid_column": null,
            "grid_gap": null,
            "grid_row": null,
            "grid_template_areas": null,
            "grid_template_columns": null,
            "grid_template_rows": null,
            "height": null,
            "justify_content": null,
            "justify_items": null,
            "left": null,
            "margin": null,
            "max_height": null,
            "max_width": null,
            "min_height": null,
            "min_width": null,
            "object_fit": null,
            "object_position": null,
            "order": null,
            "overflow": null,
            "overflow_x": null,
            "overflow_y": null,
            "padding": null,
            "right": null,
            "top": null,
            "visibility": null,
            "width": null
          }
        },
        "58a00fcaca734e8f9b56a9d53d97c692": {
          "model_module": "@jupyter-widgets/controls",
          "model_module_version": "1.5.0",
          "model_name": "ProgressStyleModel",
          "state": {
            "_model_module": "@jupyter-widgets/controls",
            "_model_module_version": "1.5.0",
            "_model_name": "ProgressStyleModel",
            "_view_count": null,
            "_view_module": "@jupyter-widgets/base",
            "_view_module_version": "1.2.0",
            "_view_name": "StyleView",
            "bar_color": null,
            "description_width": ""
          }
        },
        "590fcd41f25749929a88bd8c09ee81db": {
          "model_module": "@jupyter-widgets/base",
          "model_module_version": "1.2.0",
          "model_name": "LayoutModel",
          "state": {
            "_model_module": "@jupyter-widgets/base",
            "_model_module_version": "1.2.0",
            "_model_name": "LayoutModel",
            "_view_count": null,
            "_view_module": "@jupyter-widgets/base",
            "_view_module_version": "1.2.0",
            "_view_name": "LayoutView",
            "align_content": null,
            "align_items": null,
            "align_self": null,
            "border": null,
            "bottom": null,
            "display": null,
            "flex": null,
            "flex_flow": null,
            "grid_area": null,
            "grid_auto_columns": null,
            "grid_auto_flow": null,
            "grid_auto_rows": null,
            "grid_column": null,
            "grid_gap": null,
            "grid_row": null,
            "grid_template_areas": null,
            "grid_template_columns": null,
            "grid_template_rows": null,
            "height": null,
            "justify_content": null,
            "justify_items": null,
            "left": null,
            "margin": null,
            "max_height": null,
            "max_width": null,
            "min_height": null,
            "min_width": null,
            "object_fit": null,
            "object_position": null,
            "order": null,
            "overflow": null,
            "overflow_x": null,
            "overflow_y": null,
            "padding": null,
            "right": null,
            "top": null,
            "visibility": null,
            "width": null
          }
        },
        "5bf5c22cb0244a1d86706f0d6213603f": {
          "model_module": "@jupyter-widgets/controls",
          "model_module_version": "1.5.0",
          "model_name": "HTMLModel",
          "state": {
            "_dom_classes": [],
            "_model_module": "@jupyter-widgets/controls",
            "_model_module_version": "1.5.0",
            "_model_name": "HTMLModel",
            "_view_count": null,
            "_view_module": "@jupyter-widgets/controls",
            "_view_module_version": "1.5.0",
            "_view_name": "HTMLView",
            "description": "",
            "description_tooltip": null,
            "layout": "IPY_MODEL_751b0e51f80d4f98812c1c7ae350ad00",
            "placeholder": "​",
            "style": "IPY_MODEL_52461c4457fc4d1fa744f4eb86e8e88d",
            "value": "100%"
          }
        },
        "5f945721cd384e58b58a27dfba1b4cc3": {
          "model_module": "@jupyter-widgets/base",
          "model_module_version": "1.2.0",
          "model_name": "LayoutModel",
          "state": {
            "_model_module": "@jupyter-widgets/base",
            "_model_module_version": "1.2.0",
            "_model_name": "LayoutModel",
            "_view_count": null,
            "_view_module": "@jupyter-widgets/base",
            "_view_module_version": "1.2.0",
            "_view_name": "LayoutView",
            "align_content": null,
            "align_items": null,
            "align_self": null,
            "border": null,
            "bottom": null,
            "display": null,
            "flex": null,
            "flex_flow": null,
            "grid_area": null,
            "grid_auto_columns": null,
            "grid_auto_flow": null,
            "grid_auto_rows": null,
            "grid_column": null,
            "grid_gap": null,
            "grid_row": null,
            "grid_template_areas": null,
            "grid_template_columns": null,
            "grid_template_rows": null,
            "height": null,
            "justify_content": null,
            "justify_items": null,
            "left": null,
            "margin": null,
            "max_height": null,
            "max_width": null,
            "min_height": null,
            "min_width": null,
            "object_fit": null,
            "object_position": null,
            "order": null,
            "overflow": null,
            "overflow_x": null,
            "overflow_y": null,
            "padding": null,
            "right": null,
            "top": null,
            "visibility": null,
            "width": null
          }
        },
        "5fca7d6234fe4d8f9f2dd0665f2e8adf": {
          "model_module": "@jupyter-widgets/controls",
          "model_module_version": "1.5.0",
          "model_name": "HTMLModel",
          "state": {
            "_dom_classes": [],
            "_model_module": "@jupyter-widgets/controls",
            "_model_module_version": "1.5.0",
            "_model_name": "HTMLModel",
            "_view_count": null,
            "_view_module": "@jupyter-widgets/controls",
            "_view_module_version": "1.5.0",
            "_view_name": "HTMLView",
            "description": "",
            "description_tooltip": null,
            "layout": "IPY_MODEL_0202c96497d04342bb146b1c20cc2018",
            "placeholder": "​",
            "style": "IPY_MODEL_444cac0f4aac483caca9b87c0829145d",
            "value": " 3279/3279 [20:22&lt;00:00,  2.69it/s]"
          }
        },
        "6028f5a4fcd14338a98e9602d82a6184": {
          "model_module": "@jupyter-widgets/base",
          "model_module_version": "1.2.0",
          "model_name": "LayoutModel",
          "state": {
            "_model_module": "@jupyter-widgets/base",
            "_model_module_version": "1.2.0",
            "_model_name": "LayoutModel",
            "_view_count": null,
            "_view_module": "@jupyter-widgets/base",
            "_view_module_version": "1.2.0",
            "_view_name": "LayoutView",
            "align_content": null,
            "align_items": null,
            "align_self": null,
            "border": null,
            "bottom": null,
            "display": null,
            "flex": null,
            "flex_flow": null,
            "grid_area": null,
            "grid_auto_columns": null,
            "grid_auto_flow": null,
            "grid_auto_rows": null,
            "grid_column": null,
            "grid_gap": null,
            "grid_row": null,
            "grid_template_areas": null,
            "grid_template_columns": null,
            "grid_template_rows": null,
            "height": null,
            "justify_content": null,
            "justify_items": null,
            "left": null,
            "margin": null,
            "max_height": null,
            "max_width": null,
            "min_height": null,
            "min_width": null,
            "object_fit": null,
            "object_position": null,
            "order": null,
            "overflow": null,
            "overflow_x": null,
            "overflow_y": null,
            "padding": null,
            "right": null,
            "top": null,
            "visibility": null,
            "width": null
          }
        },
        "6081c622fc9749d8ac368179d5625c74": {
          "model_module": "@jupyter-widgets/controls",
          "model_module_version": "1.5.0",
          "model_name": "FloatProgressModel",
          "state": {
            "_dom_classes": [],
            "_model_module": "@jupyter-widgets/controls",
            "_model_module_version": "1.5.0",
            "_model_name": "FloatProgressModel",
            "_view_count": null,
            "_view_module": "@jupyter-widgets/controls",
            "_view_module_version": "1.5.0",
            "_view_name": "ProgressView",
            "bar_style": "success",
            "description": "",
            "description_tooltip": null,
            "layout": "IPY_MODEL_09c6c352258849e8bb48762091778ac0",
            "max": 1779,
            "min": 0,
            "orientation": "horizontal",
            "style": "IPY_MODEL_ff5cb10218314419bcb72a7107468325",
            "value": 1779
          }
        },
        "6168e3c13ed2403ea119bfdbdd1d3087": {
          "model_module": "@jupyter-widgets/controls",
          "model_module_version": "1.5.0",
          "model_name": "ProgressStyleModel",
          "state": {
            "_model_module": "@jupyter-widgets/controls",
            "_model_module_version": "1.5.0",
            "_model_name": "ProgressStyleModel",
            "_view_count": null,
            "_view_module": "@jupyter-widgets/base",
            "_view_module_version": "1.2.0",
            "_view_name": "StyleView",
            "bar_color": null,
            "description_width": ""
          }
        },
        "62627b5ef1d2446d8df336b0a32efef0": {
          "model_module": "@jupyter-widgets/base",
          "model_module_version": "1.2.0",
          "model_name": "LayoutModel",
          "state": {
            "_model_module": "@jupyter-widgets/base",
            "_model_module_version": "1.2.0",
            "_model_name": "LayoutModel",
            "_view_count": null,
            "_view_module": "@jupyter-widgets/base",
            "_view_module_version": "1.2.0",
            "_view_name": "LayoutView",
            "align_content": null,
            "align_items": null,
            "align_self": null,
            "border": null,
            "bottom": null,
            "display": null,
            "flex": null,
            "flex_flow": null,
            "grid_area": null,
            "grid_auto_columns": null,
            "grid_auto_flow": null,
            "grid_auto_rows": null,
            "grid_column": null,
            "grid_gap": null,
            "grid_row": null,
            "grid_template_areas": null,
            "grid_template_columns": null,
            "grid_template_rows": null,
            "height": null,
            "justify_content": null,
            "justify_items": null,
            "left": null,
            "margin": null,
            "max_height": null,
            "max_width": null,
            "min_height": null,
            "min_width": null,
            "object_fit": null,
            "object_position": null,
            "order": null,
            "overflow": null,
            "overflow_x": null,
            "overflow_y": null,
            "padding": null,
            "right": null,
            "top": null,
            "visibility": null,
            "width": null
          }
        },
        "62b0809f6e474e9285d402ce420624f4": {
          "model_module": "@jupyter-widgets/controls",
          "model_module_version": "1.5.0",
          "model_name": "HTMLModel",
          "state": {
            "_dom_classes": [],
            "_model_module": "@jupyter-widgets/controls",
            "_model_module_version": "1.5.0",
            "_model_name": "HTMLModel",
            "_view_count": null,
            "_view_module": "@jupyter-widgets/controls",
            "_view_module_version": "1.5.0",
            "_view_name": "HTMLView",
            "description": "",
            "description_tooltip": null,
            "layout": "IPY_MODEL_6cbc3f64de694e9ab191fc36a619b784",
            "placeholder": "​",
            "style": "IPY_MODEL_6bc3bb92e7c54067a03a973b67442168",
            "value": "100%"
          }
        },
        "65a048548bdf4d56b00d322f3b7d0ba6": {
          "model_module": "@jupyter-widgets/controls",
          "model_module_version": "1.5.0",
          "model_name": "FloatProgressModel",
          "state": {
            "_dom_classes": [],
            "_model_module": "@jupyter-widgets/controls",
            "_model_module_version": "1.5.0",
            "_model_name": "FloatProgressModel",
            "_view_count": null,
            "_view_module": "@jupyter-widgets/controls",
            "_view_module_version": "1.5.0",
            "_view_name": "ProgressView",
            "bar_style": "success",
            "description": "",
            "description_tooltip": null,
            "layout": "IPY_MODEL_5f945721cd384e58b58a27dfba1b4cc3",
            "max": 646,
            "min": 0,
            "orientation": "horizontal",
            "style": "IPY_MODEL_d62ac8de5831469694012d610553c82b",
            "value": 646
          }
        },
        "667c5f16ee624799bb379a5e16e44c6a": {
          "model_module": "@jupyter-widgets/base",
          "model_module_version": "1.2.0",
          "model_name": "LayoutModel",
          "state": {
            "_model_module": "@jupyter-widgets/base",
            "_model_module_version": "1.2.0",
            "_model_name": "LayoutModel",
            "_view_count": null,
            "_view_module": "@jupyter-widgets/base",
            "_view_module_version": "1.2.0",
            "_view_name": "LayoutView",
            "align_content": null,
            "align_items": null,
            "align_self": null,
            "border": null,
            "bottom": null,
            "display": null,
            "flex": null,
            "flex_flow": null,
            "grid_area": null,
            "grid_auto_columns": null,
            "grid_auto_flow": null,
            "grid_auto_rows": null,
            "grid_column": null,
            "grid_gap": null,
            "grid_row": null,
            "grid_template_areas": null,
            "grid_template_columns": null,
            "grid_template_rows": null,
            "height": null,
            "justify_content": null,
            "justify_items": null,
            "left": null,
            "margin": null,
            "max_height": null,
            "max_width": null,
            "min_height": null,
            "min_width": null,
            "object_fit": null,
            "object_position": null,
            "order": null,
            "overflow": null,
            "overflow_x": null,
            "overflow_y": null,
            "padding": null,
            "right": null,
            "top": null,
            "visibility": null,
            "width": null
          }
        },
        "66d2954eda3844299f9683ca8acabb6d": {
          "model_module": "@jupyter-widgets/controls",
          "model_module_version": "1.5.0",
          "model_name": "HBoxModel",
          "state": {
            "_dom_classes": [],
            "_model_module": "@jupyter-widgets/controls",
            "_model_module_version": "1.5.0",
            "_model_name": "HBoxModel",
            "_view_count": null,
            "_view_module": "@jupyter-widgets/controls",
            "_view_module_version": "1.5.0",
            "_view_name": "HBoxView",
            "box_style": "",
            "children": [
              "IPY_MODEL_2e2f22fc9a5e42149441fea733eb9f20",
              "IPY_MODEL_fcb18986e00c4b1d80863d10a6e45f83",
              "IPY_MODEL_9b668bd389ad48f9a72e4d34c151b6c0"
            ],
            "layout": "IPY_MODEL_6028f5a4fcd14338a98e9602d82a6184"
          }
        },
        "6813c0cc52fe4a17b4614633d5e6b1a8": {
          "model_module": "@jupyter-widgets/controls",
          "model_module_version": "1.5.0",
          "model_name": "DescriptionStyleModel",
          "state": {
            "_model_module": "@jupyter-widgets/controls",
            "_model_module_version": "1.5.0",
            "_model_name": "DescriptionStyleModel",
            "_view_count": null,
            "_view_module": "@jupyter-widgets/base",
            "_view_module_version": "1.2.0",
            "_view_name": "StyleView",
            "description_width": ""
          }
        },
        "68865025ad4c489a95df223ed95f139b": {
          "model_module": "@jupyter-widgets/base",
          "model_module_version": "1.2.0",
          "model_name": "LayoutModel",
          "state": {
            "_model_module": "@jupyter-widgets/base",
            "_model_module_version": "1.2.0",
            "_model_name": "LayoutModel",
            "_view_count": null,
            "_view_module": "@jupyter-widgets/base",
            "_view_module_version": "1.2.0",
            "_view_name": "LayoutView",
            "align_content": null,
            "align_items": null,
            "align_self": null,
            "border": null,
            "bottom": null,
            "display": null,
            "flex": null,
            "flex_flow": null,
            "grid_area": null,
            "grid_auto_columns": null,
            "grid_auto_flow": null,
            "grid_auto_rows": null,
            "grid_column": null,
            "grid_gap": null,
            "grid_row": null,
            "grid_template_areas": null,
            "grid_template_columns": null,
            "grid_template_rows": null,
            "height": null,
            "justify_content": null,
            "justify_items": null,
            "left": null,
            "margin": null,
            "max_height": null,
            "max_width": null,
            "min_height": null,
            "min_width": null,
            "object_fit": null,
            "object_position": null,
            "order": null,
            "overflow": null,
            "overflow_x": null,
            "overflow_y": null,
            "padding": null,
            "right": null,
            "top": null,
            "visibility": null,
            "width": null
          }
        },
        "695fec0926f843a1aa04dbf1b4d020a7": {
          "model_module": "@jupyter-widgets/controls",
          "model_module_version": "1.5.0",
          "model_name": "HTMLModel",
          "state": {
            "_dom_classes": [],
            "_model_module": "@jupyter-widgets/controls",
            "_model_module_version": "1.5.0",
            "_model_name": "HTMLModel",
            "_view_count": null,
            "_view_module": "@jupyter-widgets/controls",
            "_view_module_version": "1.5.0",
            "_view_name": "HTMLView",
            "description": "",
            "description_tooltip": null,
            "layout": "IPY_MODEL_4d6dd9ff6d214ca19d554109f1bbba3b",
            "placeholder": "​",
            "style": "IPY_MODEL_9f4c9d1ca6f647a6b09b2f543f20a016",
            "value": " 3281/3281 [18:37&lt;00:00,  3.07it/s]"
          }
        },
        "69de8eb12a92459a80eb75bd02d3fd22": {
          "model_module": "@jupyter-widgets/base",
          "model_module_version": "1.2.0",
          "model_name": "LayoutModel",
          "state": {
            "_model_module": "@jupyter-widgets/base",
            "_model_module_version": "1.2.0",
            "_model_name": "LayoutModel",
            "_view_count": null,
            "_view_module": "@jupyter-widgets/base",
            "_view_module_version": "1.2.0",
            "_view_name": "LayoutView",
            "align_content": null,
            "align_items": null,
            "align_self": null,
            "border": null,
            "bottom": null,
            "display": null,
            "flex": null,
            "flex_flow": null,
            "grid_area": null,
            "grid_auto_columns": null,
            "grid_auto_flow": null,
            "grid_auto_rows": null,
            "grid_column": null,
            "grid_gap": null,
            "grid_row": null,
            "grid_template_areas": null,
            "grid_template_columns": null,
            "grid_template_rows": null,
            "height": null,
            "justify_content": null,
            "justify_items": null,
            "left": null,
            "margin": null,
            "max_height": null,
            "max_width": null,
            "min_height": null,
            "min_width": null,
            "object_fit": null,
            "object_position": null,
            "order": null,
            "overflow": null,
            "overflow_x": null,
            "overflow_y": null,
            "padding": null,
            "right": null,
            "top": null,
            "visibility": null,
            "width": null
          }
        },
        "6bc3bb92e7c54067a03a973b67442168": {
          "model_module": "@jupyter-widgets/controls",
          "model_module_version": "1.5.0",
          "model_name": "DescriptionStyleModel",
          "state": {
            "_model_module": "@jupyter-widgets/controls",
            "_model_module_version": "1.5.0",
            "_model_name": "DescriptionStyleModel",
            "_view_count": null,
            "_view_module": "@jupyter-widgets/base",
            "_view_module_version": "1.2.0",
            "_view_name": "StyleView",
            "description_width": ""
          }
        },
        "6c775b772647483d9bf588e704fb1eaa": {
          "model_module": "@jupyter-widgets/controls",
          "model_module_version": "1.5.0",
          "model_name": "ProgressStyleModel",
          "state": {
            "_model_module": "@jupyter-widgets/controls",
            "_model_module_version": "1.5.0",
            "_model_name": "ProgressStyleModel",
            "_view_count": null,
            "_view_module": "@jupyter-widgets/base",
            "_view_module_version": "1.2.0",
            "_view_name": "StyleView",
            "bar_color": null,
            "description_width": ""
          }
        },
        "6cbc3f64de694e9ab191fc36a619b784": {
          "model_module": "@jupyter-widgets/base",
          "model_module_version": "1.2.0",
          "model_name": "LayoutModel",
          "state": {
            "_model_module": "@jupyter-widgets/base",
            "_model_module_version": "1.2.0",
            "_model_name": "LayoutModel",
            "_view_count": null,
            "_view_module": "@jupyter-widgets/base",
            "_view_module_version": "1.2.0",
            "_view_name": "LayoutView",
            "align_content": null,
            "align_items": null,
            "align_self": null,
            "border": null,
            "bottom": null,
            "display": null,
            "flex": null,
            "flex_flow": null,
            "grid_area": null,
            "grid_auto_columns": null,
            "grid_auto_flow": null,
            "grid_auto_rows": null,
            "grid_column": null,
            "grid_gap": null,
            "grid_row": null,
            "grid_template_areas": null,
            "grid_template_columns": null,
            "grid_template_rows": null,
            "height": null,
            "justify_content": null,
            "justify_items": null,
            "left": null,
            "margin": null,
            "max_height": null,
            "max_width": null,
            "min_height": null,
            "min_width": null,
            "object_fit": null,
            "object_position": null,
            "order": null,
            "overflow": null,
            "overflow_x": null,
            "overflow_y": null,
            "padding": null,
            "right": null,
            "top": null,
            "visibility": null,
            "width": null
          }
        },
        "6cff3463b54240d7933b65b0bb6ac5c5": {
          "model_module": "@jupyter-widgets/controls",
          "model_module_version": "1.5.0",
          "model_name": "HTMLModel",
          "state": {
            "_dom_classes": [],
            "_model_module": "@jupyter-widgets/controls",
            "_model_module_version": "1.5.0",
            "_model_name": "HTMLModel",
            "_view_count": null,
            "_view_module": "@jupyter-widgets/controls",
            "_view_module_version": "1.5.0",
            "_view_name": "HTMLView",
            "description": "",
            "description_tooltip": null,
            "layout": "IPY_MODEL_2eb880e00ee1441d8d560b8afe7d5608",
            "placeholder": "​",
            "style": "IPY_MODEL_6813c0cc52fe4a17b4614633d5e6b1a8",
            "value": "100%"
          }
        },
        "6d67925de7564e8bb9246485216f6829": {
          "model_module": "@jupyter-widgets/controls",
          "model_module_version": "1.5.0",
          "model_name": "HTMLModel",
          "state": {
            "_dom_classes": [],
            "_model_module": "@jupyter-widgets/controls",
            "_model_module_version": "1.5.0",
            "_model_name": "HTMLModel",
            "_view_count": null,
            "_view_module": "@jupyter-widgets/controls",
            "_view_module_version": "1.5.0",
            "_view_name": "HTMLView",
            "description": "",
            "description_tooltip": null,
            "layout": "IPY_MODEL_bea258ba11fa4e9294e9e68959fe7002",
            "placeholder": "​",
            "style": "IPY_MODEL_b8a44440dae0433a8571dc2bb83fc158",
            "value": " 457/457 [02:46&lt;00:00,  2.73it/s]"
          }
        },
        "6dd9fbedc1bc4a709810cf393d86a0b6": {
          "model_module": "@jupyter-widgets/controls",
          "model_module_version": "1.5.0",
          "model_name": "HBoxModel",
          "state": {
            "_dom_classes": [],
            "_model_module": "@jupyter-widgets/controls",
            "_model_module_version": "1.5.0",
            "_model_name": "HBoxModel",
            "_view_count": null,
            "_view_module": "@jupyter-widgets/controls",
            "_view_module_version": "1.5.0",
            "_view_name": "HBoxView",
            "box_style": "",
            "children": [
              "IPY_MODEL_173b1a5233e14e968aa3838b28144f51",
              "IPY_MODEL_13dd79a2f5b146f29f2adba09b5a3bf1",
              "IPY_MODEL_e36ae1de00464708859c612b68958534"
            ],
            "layout": "IPY_MODEL_2b40535f83ed4b48a8e540e95cd30830"
          }
        },
        "7209b7aa457f455aaf5cd9a8df7f8197": {
          "model_module": "@jupyter-widgets/controls",
          "model_module_version": "1.5.0",
          "model_name": "FloatProgressModel",
          "state": {
            "_dom_classes": [],
            "_model_module": "@jupyter-widgets/controls",
            "_model_module_version": "1.5.0",
            "_model_name": "FloatProgressModel",
            "_view_count": null,
            "_view_module": "@jupyter-widgets/controls",
            "_view_module_version": "1.5.0",
            "_view_name": "ProgressView",
            "bar_style": "success",
            "description": "",
            "description_tooltip": null,
            "layout": "IPY_MODEL_0ada40b6719349e9b5f65313f8440d80",
            "max": 734,
            "min": 0,
            "orientation": "horizontal",
            "style": "IPY_MODEL_ec0808427f6441bfb968ab9312b2191c",
            "value": 734
          }
        },
        "733e219f09f54e488b50dd964191bde0": {
          "model_module": "@jupyter-widgets/base",
          "model_module_version": "1.2.0",
          "model_name": "LayoutModel",
          "state": {
            "_model_module": "@jupyter-widgets/base",
            "_model_module_version": "1.2.0",
            "_model_name": "LayoutModel",
            "_view_count": null,
            "_view_module": "@jupyter-widgets/base",
            "_view_module_version": "1.2.0",
            "_view_name": "LayoutView",
            "align_content": null,
            "align_items": null,
            "align_self": null,
            "border": null,
            "bottom": null,
            "display": null,
            "flex": null,
            "flex_flow": null,
            "grid_area": null,
            "grid_auto_columns": null,
            "grid_auto_flow": null,
            "grid_auto_rows": null,
            "grid_column": null,
            "grid_gap": null,
            "grid_row": null,
            "grid_template_areas": null,
            "grid_template_columns": null,
            "grid_template_rows": null,
            "height": null,
            "justify_content": null,
            "justify_items": null,
            "left": null,
            "margin": null,
            "max_height": null,
            "max_width": null,
            "min_height": null,
            "min_width": null,
            "object_fit": null,
            "object_position": null,
            "order": null,
            "overflow": null,
            "overflow_x": null,
            "overflow_y": null,
            "padding": null,
            "right": null,
            "top": null,
            "visibility": null,
            "width": null
          }
        },
        "751b0e51f80d4f98812c1c7ae350ad00": {
          "model_module": "@jupyter-widgets/base",
          "model_module_version": "1.2.0",
          "model_name": "LayoutModel",
          "state": {
            "_model_module": "@jupyter-widgets/base",
            "_model_module_version": "1.2.0",
            "_model_name": "LayoutModel",
            "_view_count": null,
            "_view_module": "@jupyter-widgets/base",
            "_view_module_version": "1.2.0",
            "_view_name": "LayoutView",
            "align_content": null,
            "align_items": null,
            "align_self": null,
            "border": null,
            "bottom": null,
            "display": null,
            "flex": null,
            "flex_flow": null,
            "grid_area": null,
            "grid_auto_columns": null,
            "grid_auto_flow": null,
            "grid_auto_rows": null,
            "grid_column": null,
            "grid_gap": null,
            "grid_row": null,
            "grid_template_areas": null,
            "grid_template_columns": null,
            "grid_template_rows": null,
            "height": null,
            "justify_content": null,
            "justify_items": null,
            "left": null,
            "margin": null,
            "max_height": null,
            "max_width": null,
            "min_height": null,
            "min_width": null,
            "object_fit": null,
            "object_position": null,
            "order": null,
            "overflow": null,
            "overflow_x": null,
            "overflow_y": null,
            "padding": null,
            "right": null,
            "top": null,
            "visibility": null,
            "width": null
          }
        },
        "75946eb256a2403ba22a23ab6305fcc0": {
          "model_module": "@jupyter-widgets/base",
          "model_module_version": "1.2.0",
          "model_name": "LayoutModel",
          "state": {
            "_model_module": "@jupyter-widgets/base",
            "_model_module_version": "1.2.0",
            "_model_name": "LayoutModel",
            "_view_count": null,
            "_view_module": "@jupyter-widgets/base",
            "_view_module_version": "1.2.0",
            "_view_name": "LayoutView",
            "align_content": null,
            "align_items": null,
            "align_self": null,
            "border": null,
            "bottom": null,
            "display": null,
            "flex": null,
            "flex_flow": null,
            "grid_area": null,
            "grid_auto_columns": null,
            "grid_auto_flow": null,
            "grid_auto_rows": null,
            "grid_column": null,
            "grid_gap": null,
            "grid_row": null,
            "grid_template_areas": null,
            "grid_template_columns": null,
            "grid_template_rows": null,
            "height": null,
            "justify_content": null,
            "justify_items": null,
            "left": null,
            "margin": null,
            "max_height": null,
            "max_width": null,
            "min_height": null,
            "min_width": null,
            "object_fit": null,
            "object_position": null,
            "order": null,
            "overflow": null,
            "overflow_x": null,
            "overflow_y": null,
            "padding": null,
            "right": null,
            "top": null,
            "visibility": null,
            "width": null
          }
        },
        "75f171f859084fc995ebeae770ae95bf": {
          "model_module": "@jupyter-widgets/controls",
          "model_module_version": "1.5.0",
          "model_name": "DescriptionStyleModel",
          "state": {
            "_model_module": "@jupyter-widgets/controls",
            "_model_module_version": "1.5.0",
            "_model_name": "DescriptionStyleModel",
            "_view_count": null,
            "_view_module": "@jupyter-widgets/base",
            "_view_module_version": "1.2.0",
            "_view_name": "StyleView",
            "description_width": ""
          }
        },
        "7604fc4860934d1a841ffc3159fdf458": {
          "model_module": "@jupyter-widgets/base",
          "model_module_version": "1.2.0",
          "model_name": "LayoutModel",
          "state": {
            "_model_module": "@jupyter-widgets/base",
            "_model_module_version": "1.2.0",
            "_model_name": "LayoutModel",
            "_view_count": null,
            "_view_module": "@jupyter-widgets/base",
            "_view_module_version": "1.2.0",
            "_view_name": "LayoutView",
            "align_content": null,
            "align_items": null,
            "align_self": null,
            "border": null,
            "bottom": null,
            "display": null,
            "flex": null,
            "flex_flow": null,
            "grid_area": null,
            "grid_auto_columns": null,
            "grid_auto_flow": null,
            "grid_auto_rows": null,
            "grid_column": null,
            "grid_gap": null,
            "grid_row": null,
            "grid_template_areas": null,
            "grid_template_columns": null,
            "grid_template_rows": null,
            "height": null,
            "justify_content": null,
            "justify_items": null,
            "left": null,
            "margin": null,
            "max_height": null,
            "max_width": null,
            "min_height": null,
            "min_width": null,
            "object_fit": null,
            "object_position": null,
            "order": null,
            "overflow": null,
            "overflow_x": null,
            "overflow_y": null,
            "padding": null,
            "right": null,
            "top": null,
            "visibility": null,
            "width": null
          }
        },
        "7686426bb1fa474d96789981e95d3529": {
          "model_module": "@jupyter-widgets/base",
          "model_module_version": "1.2.0",
          "model_name": "LayoutModel",
          "state": {
            "_model_module": "@jupyter-widgets/base",
            "_model_module_version": "1.2.0",
            "_model_name": "LayoutModel",
            "_view_count": null,
            "_view_module": "@jupyter-widgets/base",
            "_view_module_version": "1.2.0",
            "_view_name": "LayoutView",
            "align_content": null,
            "align_items": null,
            "align_self": null,
            "border": null,
            "bottom": null,
            "display": null,
            "flex": null,
            "flex_flow": null,
            "grid_area": null,
            "grid_auto_columns": null,
            "grid_auto_flow": null,
            "grid_auto_rows": null,
            "grid_column": null,
            "grid_gap": null,
            "grid_row": null,
            "grid_template_areas": null,
            "grid_template_columns": null,
            "grid_template_rows": null,
            "height": null,
            "justify_content": null,
            "justify_items": null,
            "left": null,
            "margin": null,
            "max_height": null,
            "max_width": null,
            "min_height": null,
            "min_width": null,
            "object_fit": null,
            "object_position": null,
            "order": null,
            "overflow": null,
            "overflow_x": null,
            "overflow_y": null,
            "padding": null,
            "right": null,
            "top": null,
            "visibility": null,
            "width": null
          }
        },
        "76ba8752a467439e9653abb156a5a2b9": {
          "model_module": "@jupyter-widgets/controls",
          "model_module_version": "1.5.0",
          "model_name": "DescriptionStyleModel",
          "state": {
            "_model_module": "@jupyter-widgets/controls",
            "_model_module_version": "1.5.0",
            "_model_name": "DescriptionStyleModel",
            "_view_count": null,
            "_view_module": "@jupyter-widgets/base",
            "_view_module_version": "1.2.0",
            "_view_name": "StyleView",
            "description_width": ""
          }
        },
        "77c69dd2eaeb4843a755ebcd7409f9d4": {
          "model_module": "@jupyter-widgets/controls",
          "model_module_version": "1.5.0",
          "model_name": "DescriptionStyleModel",
          "state": {
            "_model_module": "@jupyter-widgets/controls",
            "_model_module_version": "1.5.0",
            "_model_name": "DescriptionStyleModel",
            "_view_count": null,
            "_view_module": "@jupyter-widgets/base",
            "_view_module_version": "1.2.0",
            "_view_name": "StyleView",
            "description_width": ""
          }
        },
        "782d11f240784a45a39d56b2970a90eb": {
          "model_module": "@jupyter-widgets/base",
          "model_module_version": "1.2.0",
          "model_name": "LayoutModel",
          "state": {
            "_model_module": "@jupyter-widgets/base",
            "_model_module_version": "1.2.0",
            "_model_name": "LayoutModel",
            "_view_count": null,
            "_view_module": "@jupyter-widgets/base",
            "_view_module_version": "1.2.0",
            "_view_name": "LayoutView",
            "align_content": null,
            "align_items": null,
            "align_self": null,
            "border": null,
            "bottom": null,
            "display": null,
            "flex": null,
            "flex_flow": null,
            "grid_area": null,
            "grid_auto_columns": null,
            "grid_auto_flow": null,
            "grid_auto_rows": null,
            "grid_column": null,
            "grid_gap": null,
            "grid_row": null,
            "grid_template_areas": null,
            "grid_template_columns": null,
            "grid_template_rows": null,
            "height": null,
            "justify_content": null,
            "justify_items": null,
            "left": null,
            "margin": null,
            "max_height": null,
            "max_width": null,
            "min_height": null,
            "min_width": null,
            "object_fit": null,
            "object_position": null,
            "order": null,
            "overflow": null,
            "overflow_x": null,
            "overflow_y": null,
            "padding": null,
            "right": null,
            "top": null,
            "visibility": null,
            "width": null
          }
        },
        "7852e9fcee5f4fd8b36a18a175a9f3db": {
          "model_module": "@jupyter-widgets/controls",
          "model_module_version": "1.5.0",
          "model_name": "DescriptionStyleModel",
          "state": {
            "_model_module": "@jupyter-widgets/controls",
            "_model_module_version": "1.5.0",
            "_model_name": "DescriptionStyleModel",
            "_view_count": null,
            "_view_module": "@jupyter-widgets/base",
            "_view_module_version": "1.2.0",
            "_view_name": "StyleView",
            "description_width": ""
          }
        },
        "7a31218bb6eb4cf591a05ea09bbe0590": {
          "model_module": "@jupyter-widgets/controls",
          "model_module_version": "1.5.0",
          "model_name": "ProgressStyleModel",
          "state": {
            "_model_module": "@jupyter-widgets/controls",
            "_model_module_version": "1.5.0",
            "_model_name": "ProgressStyleModel",
            "_view_count": null,
            "_view_module": "@jupyter-widgets/base",
            "_view_module_version": "1.2.0",
            "_view_name": "StyleView",
            "bar_color": null,
            "description_width": ""
          }
        },
        "7c0037bbb2274035885a03ebf414a3c5": {
          "model_module": "@jupyter-widgets/controls",
          "model_module_version": "1.5.0",
          "model_name": "HTMLModel",
          "state": {
            "_dom_classes": [],
            "_model_module": "@jupyter-widgets/controls",
            "_model_module_version": "1.5.0",
            "_model_name": "HTMLModel",
            "_view_count": null,
            "_view_module": "@jupyter-widgets/controls",
            "_view_module_version": "1.5.0",
            "_view_name": "HTMLView",
            "description": "",
            "description_tooltip": null,
            "layout": "IPY_MODEL_9f6eb4098d074105ad0c254069da62a3",
            "placeholder": "​",
            "style": "IPY_MODEL_bf075d460bf54d6dbc691319a691a94b",
            "value": " 734/734 [04:28&lt;00:00,  3.14it/s]"
          }
        },
        "7ccc95c5928043b39081e5dd4dfbed5a": {
          "model_module": "@jupyter-widgets/controls",
          "model_module_version": "1.5.0",
          "model_name": "HBoxModel",
          "state": {
            "_dom_classes": [],
            "_model_module": "@jupyter-widgets/controls",
            "_model_module_version": "1.5.0",
            "_model_name": "HBoxModel",
            "_view_count": null,
            "_view_module": "@jupyter-widgets/controls",
            "_view_module_version": "1.5.0",
            "_view_name": "HBoxView",
            "box_style": "",
            "children": [
              "IPY_MODEL_88b57f883e8d4132bd7001e60d899040",
              "IPY_MODEL_e4f1a08671eb4ffeb9c5d162c27439a8",
              "IPY_MODEL_695fec0926f843a1aa04dbf1b4d020a7"
            ],
            "layout": "IPY_MODEL_2363191bb3434716893bec8f72f1d307"
          }
        },
        "7d04ae949bbc49c4979a233ff37be2d2": {
          "model_module": "@jupyter-widgets/base",
          "model_module_version": "1.2.0",
          "model_name": "LayoutModel",
          "state": {
            "_model_module": "@jupyter-widgets/base",
            "_model_module_version": "1.2.0",
            "_model_name": "LayoutModel",
            "_view_count": null,
            "_view_module": "@jupyter-widgets/base",
            "_view_module_version": "1.2.0",
            "_view_name": "LayoutView",
            "align_content": null,
            "align_items": null,
            "align_self": null,
            "border": null,
            "bottom": null,
            "display": null,
            "flex": null,
            "flex_flow": null,
            "grid_area": null,
            "grid_auto_columns": null,
            "grid_auto_flow": null,
            "grid_auto_rows": null,
            "grid_column": null,
            "grid_gap": null,
            "grid_row": null,
            "grid_template_areas": null,
            "grid_template_columns": null,
            "grid_template_rows": null,
            "height": null,
            "justify_content": null,
            "justify_items": null,
            "left": null,
            "margin": null,
            "max_height": null,
            "max_width": null,
            "min_height": null,
            "min_width": null,
            "object_fit": null,
            "object_position": null,
            "order": null,
            "overflow": null,
            "overflow_x": null,
            "overflow_y": null,
            "padding": null,
            "right": null,
            "top": null,
            "visibility": null,
            "width": null
          }
        },
        "80e493f7bd774abd9e24d9cf46309768": {
          "model_module": "@jupyter-widgets/controls",
          "model_module_version": "1.5.0",
          "model_name": "HBoxModel",
          "state": {
            "_dom_classes": [],
            "_model_module": "@jupyter-widgets/controls",
            "_model_module_version": "1.5.0",
            "_model_name": "HBoxModel",
            "_view_count": null,
            "_view_module": "@jupyter-widgets/controls",
            "_view_module_version": "1.5.0",
            "_view_name": "HBoxView",
            "box_style": "",
            "children": [
              "IPY_MODEL_eed222e09fcb4be2b568574091886785",
              "IPY_MODEL_1cfa0716e1a64a96800272fe534f77ea",
              "IPY_MODEL_5fca7d6234fe4d8f9f2dd0665f2e8adf"
            ],
            "layout": "IPY_MODEL_e0fbbf982bfc46aca3b219be2939fb5a"
          }
        },
        "816daea5ce704e068c17e2b87c75691a": {
          "model_module": "@jupyter-widgets/base",
          "model_module_version": "1.2.0",
          "model_name": "LayoutModel",
          "state": {
            "_model_module": "@jupyter-widgets/base",
            "_model_module_version": "1.2.0",
            "_model_name": "LayoutModel",
            "_view_count": null,
            "_view_module": "@jupyter-widgets/base",
            "_view_module_version": "1.2.0",
            "_view_name": "LayoutView",
            "align_content": null,
            "align_items": null,
            "align_self": null,
            "border": null,
            "bottom": null,
            "display": null,
            "flex": null,
            "flex_flow": null,
            "grid_area": null,
            "grid_auto_columns": null,
            "grid_auto_flow": null,
            "grid_auto_rows": null,
            "grid_column": null,
            "grid_gap": null,
            "grid_row": null,
            "grid_template_areas": null,
            "grid_template_columns": null,
            "grid_template_rows": null,
            "height": null,
            "justify_content": null,
            "justify_items": null,
            "left": null,
            "margin": null,
            "max_height": null,
            "max_width": null,
            "min_height": null,
            "min_width": null,
            "object_fit": null,
            "object_position": null,
            "order": null,
            "overflow": null,
            "overflow_x": null,
            "overflow_y": null,
            "padding": null,
            "right": null,
            "top": null,
            "visibility": null,
            "width": null
          }
        },
        "828b0a5b4eef439b9b33713133f89845": {
          "model_module": "@jupyter-widgets/base",
          "model_module_version": "1.2.0",
          "model_name": "LayoutModel",
          "state": {
            "_model_module": "@jupyter-widgets/base",
            "_model_module_version": "1.2.0",
            "_model_name": "LayoutModel",
            "_view_count": null,
            "_view_module": "@jupyter-widgets/base",
            "_view_module_version": "1.2.0",
            "_view_name": "LayoutView",
            "align_content": null,
            "align_items": null,
            "align_self": null,
            "border": null,
            "bottom": null,
            "display": null,
            "flex": null,
            "flex_flow": null,
            "grid_area": null,
            "grid_auto_columns": null,
            "grid_auto_flow": null,
            "grid_auto_rows": null,
            "grid_column": null,
            "grid_gap": null,
            "grid_row": null,
            "grid_template_areas": null,
            "grid_template_columns": null,
            "grid_template_rows": null,
            "height": null,
            "justify_content": null,
            "justify_items": null,
            "left": null,
            "margin": null,
            "max_height": null,
            "max_width": null,
            "min_height": null,
            "min_width": null,
            "object_fit": null,
            "object_position": null,
            "order": null,
            "overflow": null,
            "overflow_x": null,
            "overflow_y": null,
            "padding": null,
            "right": null,
            "top": null,
            "visibility": null,
            "width": null
          }
        },
        "840ec1f09e8a498198160d262d45b5a0": {
          "model_module": "@jupyter-widgets/controls",
          "model_module_version": "1.5.0",
          "model_name": "DescriptionStyleModel",
          "state": {
            "_model_module": "@jupyter-widgets/controls",
            "_model_module_version": "1.5.0",
            "_model_name": "DescriptionStyleModel",
            "_view_count": null,
            "_view_module": "@jupyter-widgets/base",
            "_view_module_version": "1.2.0",
            "_view_name": "StyleView",
            "description_width": ""
          }
        },
        "8448b70fbf9945ecae31c2ca1a0d9ca3": {
          "model_module": "@jupyter-widgets/base",
          "model_module_version": "1.2.0",
          "model_name": "LayoutModel",
          "state": {
            "_model_module": "@jupyter-widgets/base",
            "_model_module_version": "1.2.0",
            "_model_name": "LayoutModel",
            "_view_count": null,
            "_view_module": "@jupyter-widgets/base",
            "_view_module_version": "1.2.0",
            "_view_name": "LayoutView",
            "align_content": null,
            "align_items": null,
            "align_self": null,
            "border": null,
            "bottom": null,
            "display": null,
            "flex": null,
            "flex_flow": null,
            "grid_area": null,
            "grid_auto_columns": null,
            "grid_auto_flow": null,
            "grid_auto_rows": null,
            "grid_column": null,
            "grid_gap": null,
            "grid_row": null,
            "grid_template_areas": null,
            "grid_template_columns": null,
            "grid_template_rows": null,
            "height": null,
            "justify_content": null,
            "justify_items": null,
            "left": null,
            "margin": null,
            "max_height": null,
            "max_width": null,
            "min_height": null,
            "min_width": null,
            "object_fit": null,
            "object_position": null,
            "order": null,
            "overflow": null,
            "overflow_x": null,
            "overflow_y": null,
            "padding": null,
            "right": null,
            "top": null,
            "visibility": null,
            "width": null
          }
        },
        "848efe62f0d74de081e692e75f7ed9a0": {
          "model_module": "@jupyter-widgets/controls",
          "model_module_version": "1.5.0",
          "model_name": "ProgressStyleModel",
          "state": {
            "_model_module": "@jupyter-widgets/controls",
            "_model_module_version": "1.5.0",
            "_model_name": "ProgressStyleModel",
            "_view_count": null,
            "_view_module": "@jupyter-widgets/base",
            "_view_module_version": "1.2.0",
            "_view_name": "StyleView",
            "bar_color": null,
            "description_width": ""
          }
        },
        "85ca2a70907a44899de23be250d3e8fe": {
          "model_module": "@jupyter-widgets/controls",
          "model_module_version": "1.5.0",
          "model_name": "HTMLModel",
          "state": {
            "_dom_classes": [],
            "_model_module": "@jupyter-widgets/controls",
            "_model_module_version": "1.5.0",
            "_model_name": "HTMLModel",
            "_view_count": null,
            "_view_module": "@jupyter-widgets/controls",
            "_view_module_version": "1.5.0",
            "_view_name": "HTMLView",
            "description": "",
            "description_tooltip": null,
            "layout": "IPY_MODEL_ecbb16b366d44874acd6c5df5178dba3",
            "placeholder": "​",
            "style": "IPY_MODEL_2f2656a4774d4844add07bab675bec83",
            "value": " 457/457 [02:48&lt;00:00,  2.73it/s]"
          }
        },
        "87eff8e0f56f4bafba27cf6300810972": {
          "model_module": "@jupyter-widgets/base",
          "model_module_version": "1.2.0",
          "model_name": "LayoutModel",
          "state": {
            "_model_module": "@jupyter-widgets/base",
            "_model_module_version": "1.2.0",
            "_model_name": "LayoutModel",
            "_view_count": null,
            "_view_module": "@jupyter-widgets/base",
            "_view_module_version": "1.2.0",
            "_view_name": "LayoutView",
            "align_content": null,
            "align_items": null,
            "align_self": null,
            "border": null,
            "bottom": null,
            "display": null,
            "flex": null,
            "flex_flow": null,
            "grid_area": null,
            "grid_auto_columns": null,
            "grid_auto_flow": null,
            "grid_auto_rows": null,
            "grid_column": null,
            "grid_gap": null,
            "grid_row": null,
            "grid_template_areas": null,
            "grid_template_columns": null,
            "grid_template_rows": null,
            "height": null,
            "justify_content": null,
            "justify_items": null,
            "left": null,
            "margin": null,
            "max_height": null,
            "max_width": null,
            "min_height": null,
            "min_width": null,
            "object_fit": null,
            "object_position": null,
            "order": null,
            "overflow": null,
            "overflow_x": null,
            "overflow_y": null,
            "padding": null,
            "right": null,
            "top": null,
            "visibility": null,
            "width": null
          }
        },
        "8809772c99ec4c00a2376b78283f430c": {
          "model_module": "@jupyter-widgets/base",
          "model_module_version": "1.2.0",
          "model_name": "LayoutModel",
          "state": {
            "_model_module": "@jupyter-widgets/base",
            "_model_module_version": "1.2.0",
            "_model_name": "LayoutModel",
            "_view_count": null,
            "_view_module": "@jupyter-widgets/base",
            "_view_module_version": "1.2.0",
            "_view_name": "LayoutView",
            "align_content": null,
            "align_items": null,
            "align_self": null,
            "border": null,
            "bottom": null,
            "display": null,
            "flex": null,
            "flex_flow": null,
            "grid_area": null,
            "grid_auto_columns": null,
            "grid_auto_flow": null,
            "grid_auto_rows": null,
            "grid_column": null,
            "grid_gap": null,
            "grid_row": null,
            "grid_template_areas": null,
            "grid_template_columns": null,
            "grid_template_rows": null,
            "height": null,
            "justify_content": null,
            "justify_items": null,
            "left": null,
            "margin": null,
            "max_height": null,
            "max_width": null,
            "min_height": null,
            "min_width": null,
            "object_fit": null,
            "object_position": null,
            "order": null,
            "overflow": null,
            "overflow_x": null,
            "overflow_y": null,
            "padding": null,
            "right": null,
            "top": null,
            "visibility": null,
            "width": null
          }
        },
        "885292ffbb3c45dfa02959923533b8c6": {
          "model_module": "@jupyter-widgets/base",
          "model_module_version": "1.2.0",
          "model_name": "LayoutModel",
          "state": {
            "_model_module": "@jupyter-widgets/base",
            "_model_module_version": "1.2.0",
            "_model_name": "LayoutModel",
            "_view_count": null,
            "_view_module": "@jupyter-widgets/base",
            "_view_module_version": "1.2.0",
            "_view_name": "LayoutView",
            "align_content": null,
            "align_items": null,
            "align_self": null,
            "border": null,
            "bottom": null,
            "display": null,
            "flex": null,
            "flex_flow": null,
            "grid_area": null,
            "grid_auto_columns": null,
            "grid_auto_flow": null,
            "grid_auto_rows": null,
            "grid_column": null,
            "grid_gap": null,
            "grid_row": null,
            "grid_template_areas": null,
            "grid_template_columns": null,
            "grid_template_rows": null,
            "height": null,
            "justify_content": null,
            "justify_items": null,
            "left": null,
            "margin": null,
            "max_height": null,
            "max_width": null,
            "min_height": null,
            "min_width": null,
            "object_fit": null,
            "object_position": null,
            "order": null,
            "overflow": null,
            "overflow_x": null,
            "overflow_y": null,
            "padding": null,
            "right": null,
            "top": null,
            "visibility": null,
            "width": null
          }
        },
        "88b57f883e8d4132bd7001e60d899040": {
          "model_module": "@jupyter-widgets/controls",
          "model_module_version": "1.5.0",
          "model_name": "HTMLModel",
          "state": {
            "_dom_classes": [],
            "_model_module": "@jupyter-widgets/controls",
            "_model_module_version": "1.5.0",
            "_model_name": "HTMLModel",
            "_view_count": null,
            "_view_module": "@jupyter-widgets/controls",
            "_view_module_version": "1.5.0",
            "_view_name": "HTMLView",
            "description": "",
            "description_tooltip": null,
            "layout": "IPY_MODEL_3cebbb9ff6e64046bd146c1adb853a06",
            "placeholder": "​",
            "style": "IPY_MODEL_adfdbfe553c4424ba4f1c694b4264e0a",
            "value": "100%"
          }
        },
        "88d7e741616041299ff27e9fa3a204bb": {
          "model_module": "@jupyter-widgets/base",
          "model_module_version": "1.2.0",
          "model_name": "LayoutModel",
          "state": {
            "_model_module": "@jupyter-widgets/base",
            "_model_module_version": "1.2.0",
            "_model_name": "LayoutModel",
            "_view_count": null,
            "_view_module": "@jupyter-widgets/base",
            "_view_module_version": "1.2.0",
            "_view_name": "LayoutView",
            "align_content": null,
            "align_items": null,
            "align_self": null,
            "border": null,
            "bottom": null,
            "display": null,
            "flex": null,
            "flex_flow": null,
            "grid_area": null,
            "grid_auto_columns": null,
            "grid_auto_flow": null,
            "grid_auto_rows": null,
            "grid_column": null,
            "grid_gap": null,
            "grid_row": null,
            "grid_template_areas": null,
            "grid_template_columns": null,
            "grid_template_rows": null,
            "height": null,
            "justify_content": null,
            "justify_items": null,
            "left": null,
            "margin": null,
            "max_height": null,
            "max_width": null,
            "min_height": null,
            "min_width": null,
            "object_fit": null,
            "object_position": null,
            "order": null,
            "overflow": null,
            "overflow_x": null,
            "overflow_y": null,
            "padding": null,
            "right": null,
            "top": null,
            "visibility": null,
            "width": null
          }
        },
        "89b262e76cc945acb494863f26cf413d": {
          "model_module": "@jupyter-widgets/base",
          "model_module_version": "1.2.0",
          "model_name": "LayoutModel",
          "state": {
            "_model_module": "@jupyter-widgets/base",
            "_model_module_version": "1.2.0",
            "_model_name": "LayoutModel",
            "_view_count": null,
            "_view_module": "@jupyter-widgets/base",
            "_view_module_version": "1.2.0",
            "_view_name": "LayoutView",
            "align_content": null,
            "align_items": null,
            "align_self": null,
            "border": null,
            "bottom": null,
            "display": null,
            "flex": null,
            "flex_flow": null,
            "grid_area": null,
            "grid_auto_columns": null,
            "grid_auto_flow": null,
            "grid_auto_rows": null,
            "grid_column": null,
            "grid_gap": null,
            "grid_row": null,
            "grid_template_areas": null,
            "grid_template_columns": null,
            "grid_template_rows": null,
            "height": null,
            "justify_content": null,
            "justify_items": null,
            "left": null,
            "margin": null,
            "max_height": null,
            "max_width": null,
            "min_height": null,
            "min_width": null,
            "object_fit": null,
            "object_position": null,
            "order": null,
            "overflow": null,
            "overflow_x": null,
            "overflow_y": null,
            "padding": null,
            "right": null,
            "top": null,
            "visibility": null,
            "width": null
          }
        },
        "8a27830a95274cf4b6a224c94408c83a": {
          "model_module": "@jupyter-widgets/base",
          "model_module_version": "1.2.0",
          "model_name": "LayoutModel",
          "state": {
            "_model_module": "@jupyter-widgets/base",
            "_model_module_version": "1.2.0",
            "_model_name": "LayoutModel",
            "_view_count": null,
            "_view_module": "@jupyter-widgets/base",
            "_view_module_version": "1.2.0",
            "_view_name": "LayoutView",
            "align_content": null,
            "align_items": null,
            "align_self": null,
            "border": null,
            "bottom": null,
            "display": null,
            "flex": null,
            "flex_flow": null,
            "grid_area": null,
            "grid_auto_columns": null,
            "grid_auto_flow": null,
            "grid_auto_rows": null,
            "grid_column": null,
            "grid_gap": null,
            "grid_row": null,
            "grid_template_areas": null,
            "grid_template_columns": null,
            "grid_template_rows": null,
            "height": null,
            "justify_content": null,
            "justify_items": null,
            "left": null,
            "margin": null,
            "max_height": null,
            "max_width": null,
            "min_height": null,
            "min_width": null,
            "object_fit": null,
            "object_position": null,
            "order": null,
            "overflow": null,
            "overflow_x": null,
            "overflow_y": null,
            "padding": null,
            "right": null,
            "top": null,
            "visibility": null,
            "width": null
          }
        },
        "8b9c8c25276c4fe1a4425351bdfe5ab7": {
          "model_module": "@jupyter-widgets/controls",
          "model_module_version": "1.5.0",
          "model_name": "DescriptionStyleModel",
          "state": {
            "_model_module": "@jupyter-widgets/controls",
            "_model_module_version": "1.5.0",
            "_model_name": "DescriptionStyleModel",
            "_view_count": null,
            "_view_module": "@jupyter-widgets/base",
            "_view_module_version": "1.2.0",
            "_view_name": "StyleView",
            "description_width": ""
          }
        },
        "8c6c81b05a2d4111a37aa3ca3bdbc2f3": {
          "model_module": "@jupyter-widgets/base",
          "model_module_version": "1.2.0",
          "model_name": "LayoutModel",
          "state": {
            "_model_module": "@jupyter-widgets/base",
            "_model_module_version": "1.2.0",
            "_model_name": "LayoutModel",
            "_view_count": null,
            "_view_module": "@jupyter-widgets/base",
            "_view_module_version": "1.2.0",
            "_view_name": "LayoutView",
            "align_content": null,
            "align_items": null,
            "align_self": null,
            "border": null,
            "bottom": null,
            "display": null,
            "flex": null,
            "flex_flow": null,
            "grid_area": null,
            "grid_auto_columns": null,
            "grid_auto_flow": null,
            "grid_auto_rows": null,
            "grid_column": null,
            "grid_gap": null,
            "grid_row": null,
            "grid_template_areas": null,
            "grid_template_columns": null,
            "grid_template_rows": null,
            "height": null,
            "justify_content": null,
            "justify_items": null,
            "left": null,
            "margin": null,
            "max_height": null,
            "max_width": null,
            "min_height": null,
            "min_width": null,
            "object_fit": null,
            "object_position": null,
            "order": null,
            "overflow": null,
            "overflow_x": null,
            "overflow_y": null,
            "padding": null,
            "right": null,
            "top": null,
            "visibility": null,
            "width": null
          }
        },
        "8d70cbb9ae5d4883992a70fbcc141fb7": {
          "model_module": "@jupyter-widgets/base",
          "model_module_version": "1.2.0",
          "model_name": "LayoutModel",
          "state": {
            "_model_module": "@jupyter-widgets/base",
            "_model_module_version": "1.2.0",
            "_model_name": "LayoutModel",
            "_view_count": null,
            "_view_module": "@jupyter-widgets/base",
            "_view_module_version": "1.2.0",
            "_view_name": "LayoutView",
            "align_content": null,
            "align_items": null,
            "align_self": null,
            "border": null,
            "bottom": null,
            "display": null,
            "flex": null,
            "flex_flow": null,
            "grid_area": null,
            "grid_auto_columns": null,
            "grid_auto_flow": null,
            "grid_auto_rows": null,
            "grid_column": null,
            "grid_gap": null,
            "grid_row": null,
            "grid_template_areas": null,
            "grid_template_columns": null,
            "grid_template_rows": null,
            "height": null,
            "justify_content": null,
            "justify_items": null,
            "left": null,
            "margin": null,
            "max_height": null,
            "max_width": null,
            "min_height": null,
            "min_width": null,
            "object_fit": null,
            "object_position": null,
            "order": null,
            "overflow": null,
            "overflow_x": null,
            "overflow_y": null,
            "padding": null,
            "right": null,
            "top": null,
            "visibility": null,
            "width": null
          }
        },
        "8efccc304c4c4bba9af205710ce8b226": {
          "model_module": "@jupyter-widgets/base",
          "model_module_version": "1.2.0",
          "model_name": "LayoutModel",
          "state": {
            "_model_module": "@jupyter-widgets/base",
            "_model_module_version": "1.2.0",
            "_model_name": "LayoutModel",
            "_view_count": null,
            "_view_module": "@jupyter-widgets/base",
            "_view_module_version": "1.2.0",
            "_view_name": "LayoutView",
            "align_content": null,
            "align_items": null,
            "align_self": null,
            "border": null,
            "bottom": null,
            "display": null,
            "flex": null,
            "flex_flow": null,
            "grid_area": null,
            "grid_auto_columns": null,
            "grid_auto_flow": null,
            "grid_auto_rows": null,
            "grid_column": null,
            "grid_gap": null,
            "grid_row": null,
            "grid_template_areas": null,
            "grid_template_columns": null,
            "grid_template_rows": null,
            "height": null,
            "justify_content": null,
            "justify_items": null,
            "left": null,
            "margin": null,
            "max_height": null,
            "max_width": null,
            "min_height": null,
            "min_width": null,
            "object_fit": null,
            "object_position": null,
            "order": null,
            "overflow": null,
            "overflow_x": null,
            "overflow_y": null,
            "padding": null,
            "right": null,
            "top": null,
            "visibility": null,
            "width": null
          }
        },
        "9487339a1b05478f826e8a349a34a594": {
          "model_module": "@jupyter-widgets/controls",
          "model_module_version": "1.5.0",
          "model_name": "DescriptionStyleModel",
          "state": {
            "_model_module": "@jupyter-widgets/controls",
            "_model_module_version": "1.5.0",
            "_model_name": "DescriptionStyleModel",
            "_view_count": null,
            "_view_module": "@jupyter-widgets/base",
            "_view_module_version": "1.2.0",
            "_view_name": "StyleView",
            "description_width": ""
          }
        },
        "95aca52ebf4940e79febcd4c055975e3": {
          "model_module": "@jupyter-widgets/controls",
          "model_module_version": "1.5.0",
          "model_name": "DescriptionStyleModel",
          "state": {
            "_model_module": "@jupyter-widgets/controls",
            "_model_module_version": "1.5.0",
            "_model_name": "DescriptionStyleModel",
            "_view_count": null,
            "_view_module": "@jupyter-widgets/base",
            "_view_module_version": "1.2.0",
            "_view_name": "StyleView",
            "description_width": ""
          }
        },
        "9661b1aa16514dd4845d6fd8e139cbef": {
          "model_module": "@jupyter-widgets/controls",
          "model_module_version": "1.5.0",
          "model_name": "DescriptionStyleModel",
          "state": {
            "_model_module": "@jupyter-widgets/controls",
            "_model_module_version": "1.5.0",
            "_model_name": "DescriptionStyleModel",
            "_view_count": null,
            "_view_module": "@jupyter-widgets/base",
            "_view_module_version": "1.2.0",
            "_view_name": "StyleView",
            "description_width": ""
          }
        },
        "972ff788fbd540bf94f4f72fc3a2caff": {
          "model_module": "@jupyter-widgets/controls",
          "model_module_version": "1.5.0",
          "model_name": "HTMLModel",
          "state": {
            "_dom_classes": [],
            "_model_module": "@jupyter-widgets/controls",
            "_model_module_version": "1.5.0",
            "_model_name": "HTMLModel",
            "_view_count": null,
            "_view_module": "@jupyter-widgets/controls",
            "_view_module_version": "1.5.0",
            "_view_name": "HTMLView",
            "description": "",
            "description_tooltip": null,
            "layout": "IPY_MODEL_7d04ae949bbc49c4979a233ff37be2d2",
            "placeholder": "​",
            "style": "IPY_MODEL_76ba8752a467439e9653abb156a5a2b9",
            "value": " 734/734 [04:36&lt;00:00,  3.03it/s]"
          }
        },
        "9b2b0251b6c44019a6f166d7df46e885": {
          "model_module": "@jupyter-widgets/controls",
          "model_module_version": "1.5.0",
          "model_name": "DescriptionStyleModel",
          "state": {
            "_model_module": "@jupyter-widgets/controls",
            "_model_module_version": "1.5.0",
            "_model_name": "DescriptionStyleModel",
            "_view_count": null,
            "_view_module": "@jupyter-widgets/base",
            "_view_module_version": "1.2.0",
            "_view_name": "StyleView",
            "description_width": ""
          }
        },
        "9b668bd389ad48f9a72e4d34c151b6c0": {
          "model_module": "@jupyter-widgets/controls",
          "model_module_version": "1.5.0",
          "model_name": "HTMLModel",
          "state": {
            "_dom_classes": [],
            "_model_module": "@jupyter-widgets/controls",
            "_model_module_version": "1.5.0",
            "_model_name": "HTMLModel",
            "_view_count": null,
            "_view_module": "@jupyter-widgets/controls",
            "_view_module_version": "1.5.0",
            "_view_name": "HTMLView",
            "description": "",
            "description_tooltip": null,
            "layout": "IPY_MODEL_7604fc4860934d1a841ffc3159fdf458",
            "placeholder": "​",
            "style": "IPY_MODEL_3e667d6e80a842e5bcd4d4dc104c0381",
            "value": " 1230/1230 [07:00&lt;00:00,  3.53it/s]"
          }
        },
        "9b9cbf2cfd8d46bb831bf8e66994e7ff": {
          "model_module": "@jupyter-widgets/base",
          "model_module_version": "1.2.0",
          "model_name": "LayoutModel",
          "state": {
            "_model_module": "@jupyter-widgets/base",
            "_model_module_version": "1.2.0",
            "_model_name": "LayoutModel",
            "_view_count": null,
            "_view_module": "@jupyter-widgets/base",
            "_view_module_version": "1.2.0",
            "_view_name": "LayoutView",
            "align_content": null,
            "align_items": null,
            "align_self": null,
            "border": null,
            "bottom": null,
            "display": null,
            "flex": null,
            "flex_flow": null,
            "grid_area": null,
            "grid_auto_columns": null,
            "grid_auto_flow": null,
            "grid_auto_rows": null,
            "grid_column": null,
            "grid_gap": null,
            "grid_row": null,
            "grid_template_areas": null,
            "grid_template_columns": null,
            "grid_template_rows": null,
            "height": null,
            "justify_content": null,
            "justify_items": null,
            "left": null,
            "margin": null,
            "max_height": null,
            "max_width": null,
            "min_height": null,
            "min_width": null,
            "object_fit": null,
            "object_position": null,
            "order": null,
            "overflow": null,
            "overflow_x": null,
            "overflow_y": null,
            "padding": null,
            "right": null,
            "top": null,
            "visibility": null,
            "width": null
          }
        },
        "9cc288b6d5fc4df3bdfb7dd78d7738a6": {
          "model_module": "@jupyter-widgets/controls",
          "model_module_version": "1.5.0",
          "model_name": "FloatProgressModel",
          "state": {
            "_dom_classes": [],
            "_model_module": "@jupyter-widgets/controls",
            "_model_module_version": "1.5.0",
            "_model_name": "FloatProgressModel",
            "_view_count": null,
            "_view_module": "@jupyter-widgets/controls",
            "_view_module_version": "1.5.0",
            "_view_name": "ProgressView",
            "bar_style": "success",
            "description": "",
            "description_tooltip": null,
            "layout": "IPY_MODEL_4d7b775a27e148cd9f08de534af976ed",
            "max": 457,
            "min": 0,
            "orientation": "horizontal",
            "style": "IPY_MODEL_a416844d0fe04059836d586643685f40",
            "value": 457
          }
        },
        "9d74ca5ec3474feba47ef2af6e2f1d91": {
          "model_module": "@jupyter-widgets/controls",
          "model_module_version": "1.5.0",
          "model_name": "HBoxModel",
          "state": {
            "_dom_classes": [],
            "_model_module": "@jupyter-widgets/controls",
            "_model_module_version": "1.5.0",
            "_model_name": "HBoxModel",
            "_view_count": null,
            "_view_module": "@jupyter-widgets/controls",
            "_view_module_version": "1.5.0",
            "_view_name": "HBoxView",
            "box_style": "",
            "children": [
              "IPY_MODEL_102dd56049774352973c02fa63d83cbb",
              "IPY_MODEL_2c51d69b589f41c6b2a227f4d6be5e1e",
              "IPY_MODEL_33ce0fcd3b8240a8ad99eb30ca8cfbd5"
            ],
            "layout": "IPY_MODEL_0b587151e0f44bfca32c8a88a72db360"
          }
        },
        "9dbdc69f9802439a9a32c3327af9d45e": {
          "model_module": "@jupyter-widgets/controls",
          "model_module_version": "1.5.0",
          "model_name": "DescriptionStyleModel",
          "state": {
            "_model_module": "@jupyter-widgets/controls",
            "_model_module_version": "1.5.0",
            "_model_name": "DescriptionStyleModel",
            "_view_count": null,
            "_view_module": "@jupyter-widgets/base",
            "_view_module_version": "1.2.0",
            "_view_name": "StyleView",
            "description_width": ""
          }
        },
        "9eee2c62d2e14f42958e54cc56876107": {
          "model_module": "@jupyter-widgets/controls",
          "model_module_version": "1.5.0",
          "model_name": "DescriptionStyleModel",
          "state": {
            "_model_module": "@jupyter-widgets/controls",
            "_model_module_version": "1.5.0",
            "_model_name": "DescriptionStyleModel",
            "_view_count": null,
            "_view_module": "@jupyter-widgets/base",
            "_view_module_version": "1.2.0",
            "_view_name": "StyleView",
            "description_width": ""
          }
        },
        "9f4c9d1ca6f647a6b09b2f543f20a016": {
          "model_module": "@jupyter-widgets/controls",
          "model_module_version": "1.5.0",
          "model_name": "DescriptionStyleModel",
          "state": {
            "_model_module": "@jupyter-widgets/controls",
            "_model_module_version": "1.5.0",
            "_model_name": "DescriptionStyleModel",
            "_view_count": null,
            "_view_module": "@jupyter-widgets/base",
            "_view_module_version": "1.2.0",
            "_view_name": "StyleView",
            "description_width": ""
          }
        },
        "9f6eb4098d074105ad0c254069da62a3": {
          "model_module": "@jupyter-widgets/base",
          "model_module_version": "1.2.0",
          "model_name": "LayoutModel",
          "state": {
            "_model_module": "@jupyter-widgets/base",
            "_model_module_version": "1.2.0",
            "_model_name": "LayoutModel",
            "_view_count": null,
            "_view_module": "@jupyter-widgets/base",
            "_view_module_version": "1.2.0",
            "_view_name": "LayoutView",
            "align_content": null,
            "align_items": null,
            "align_self": null,
            "border": null,
            "bottom": null,
            "display": null,
            "flex": null,
            "flex_flow": null,
            "grid_area": null,
            "grid_auto_columns": null,
            "grid_auto_flow": null,
            "grid_auto_rows": null,
            "grid_column": null,
            "grid_gap": null,
            "grid_row": null,
            "grid_template_areas": null,
            "grid_template_columns": null,
            "grid_template_rows": null,
            "height": null,
            "justify_content": null,
            "justify_items": null,
            "left": null,
            "margin": null,
            "max_height": null,
            "max_width": null,
            "min_height": null,
            "min_width": null,
            "object_fit": null,
            "object_position": null,
            "order": null,
            "overflow": null,
            "overflow_x": null,
            "overflow_y": null,
            "padding": null,
            "right": null,
            "top": null,
            "visibility": null,
            "width": null
          }
        },
        "a0d388882b484da49c52ca9ab3a8bd35": {
          "model_module": "@jupyter-widgets/base",
          "model_module_version": "1.2.0",
          "model_name": "LayoutModel",
          "state": {
            "_model_module": "@jupyter-widgets/base",
            "_model_module_version": "1.2.0",
            "_model_name": "LayoutModel",
            "_view_count": null,
            "_view_module": "@jupyter-widgets/base",
            "_view_module_version": "1.2.0",
            "_view_name": "LayoutView",
            "align_content": null,
            "align_items": null,
            "align_self": null,
            "border": null,
            "bottom": null,
            "display": null,
            "flex": null,
            "flex_flow": null,
            "grid_area": null,
            "grid_auto_columns": null,
            "grid_auto_flow": null,
            "grid_auto_rows": null,
            "grid_column": null,
            "grid_gap": null,
            "grid_row": null,
            "grid_template_areas": null,
            "grid_template_columns": null,
            "grid_template_rows": null,
            "height": null,
            "justify_content": null,
            "justify_items": null,
            "left": null,
            "margin": null,
            "max_height": null,
            "max_width": null,
            "min_height": null,
            "min_width": null,
            "object_fit": null,
            "object_position": null,
            "order": null,
            "overflow": null,
            "overflow_x": null,
            "overflow_y": null,
            "padding": null,
            "right": null,
            "top": null,
            "visibility": null,
            "width": null
          }
        },
        "a24e7baa9b3e4e62be716c2f8b29e74c": {
          "model_module": "@jupyter-widgets/controls",
          "model_module_version": "1.5.0",
          "model_name": "ProgressStyleModel",
          "state": {
            "_model_module": "@jupyter-widgets/controls",
            "_model_module_version": "1.5.0",
            "_model_name": "ProgressStyleModel",
            "_view_count": null,
            "_view_module": "@jupyter-widgets/base",
            "_view_module_version": "1.2.0",
            "_view_name": "StyleView",
            "bar_color": null,
            "description_width": ""
          }
        },
        "a29ff0691d044e2a9dbbde5f50098898": {
          "model_module": "@jupyter-widgets/controls",
          "model_module_version": "1.5.0",
          "model_name": "HTMLModel",
          "state": {
            "_dom_classes": [],
            "_model_module": "@jupyter-widgets/controls",
            "_model_module_version": "1.5.0",
            "_model_name": "HTMLModel",
            "_view_count": null,
            "_view_module": "@jupyter-widgets/controls",
            "_view_module_version": "1.5.0",
            "_view_name": "HTMLView",
            "description": "",
            "description_tooltip": null,
            "layout": "IPY_MODEL_dfa6cc500ac24289a333aba45050c548",
            "placeholder": "​",
            "style": "IPY_MODEL_4d4e20b90c7a4fc086753f0c6c9a42c5",
            "value": " 457/457 [02:51&lt;00:00,  2.65it/s]"
          }
        },
        "a2c33a495eb34f95a16f99480d944f46": {
          "model_module": "@jupyter-widgets/base",
          "model_module_version": "1.2.0",
          "model_name": "LayoutModel",
          "state": {
            "_model_module": "@jupyter-widgets/base",
            "_model_module_version": "1.2.0",
            "_model_name": "LayoutModel",
            "_view_count": null,
            "_view_module": "@jupyter-widgets/base",
            "_view_module_version": "1.2.0",
            "_view_name": "LayoutView",
            "align_content": null,
            "align_items": null,
            "align_self": null,
            "border": null,
            "bottom": null,
            "display": null,
            "flex": null,
            "flex_flow": null,
            "grid_area": null,
            "grid_auto_columns": null,
            "grid_auto_flow": null,
            "grid_auto_rows": null,
            "grid_column": null,
            "grid_gap": null,
            "grid_row": null,
            "grid_template_areas": null,
            "grid_template_columns": null,
            "grid_template_rows": null,
            "height": null,
            "justify_content": null,
            "justify_items": null,
            "left": null,
            "margin": null,
            "max_height": null,
            "max_width": null,
            "min_height": null,
            "min_width": null,
            "object_fit": null,
            "object_position": null,
            "order": null,
            "overflow": null,
            "overflow_x": null,
            "overflow_y": null,
            "padding": null,
            "right": null,
            "top": null,
            "visibility": null,
            "width": null
          }
        },
        "a31ae84181e34c4e891c7b7b63e5139d": {
          "model_module": "@jupyter-widgets/base",
          "model_module_version": "1.2.0",
          "model_name": "LayoutModel",
          "state": {
            "_model_module": "@jupyter-widgets/base",
            "_model_module_version": "1.2.0",
            "_model_name": "LayoutModel",
            "_view_count": null,
            "_view_module": "@jupyter-widgets/base",
            "_view_module_version": "1.2.0",
            "_view_name": "LayoutView",
            "align_content": null,
            "align_items": null,
            "align_self": null,
            "border": null,
            "bottom": null,
            "display": null,
            "flex": null,
            "flex_flow": null,
            "grid_area": null,
            "grid_auto_columns": null,
            "grid_auto_flow": null,
            "grid_auto_rows": null,
            "grid_column": null,
            "grid_gap": null,
            "grid_row": null,
            "grid_template_areas": null,
            "grid_template_columns": null,
            "grid_template_rows": null,
            "height": null,
            "justify_content": null,
            "justify_items": null,
            "left": null,
            "margin": null,
            "max_height": null,
            "max_width": null,
            "min_height": null,
            "min_width": null,
            "object_fit": null,
            "object_position": null,
            "order": null,
            "overflow": null,
            "overflow_x": null,
            "overflow_y": null,
            "padding": null,
            "right": null,
            "top": null,
            "visibility": null,
            "width": null
          }
        },
        "a416844d0fe04059836d586643685f40": {
          "model_module": "@jupyter-widgets/controls",
          "model_module_version": "1.5.0",
          "model_name": "ProgressStyleModel",
          "state": {
            "_model_module": "@jupyter-widgets/controls",
            "_model_module_version": "1.5.0",
            "_model_name": "ProgressStyleModel",
            "_view_count": null,
            "_view_module": "@jupyter-widgets/base",
            "_view_module_version": "1.2.0",
            "_view_name": "StyleView",
            "bar_color": null,
            "description_width": ""
          }
        },
        "a5ce6782c97c4375b88621d998d13e0e": {
          "model_module": "@jupyter-widgets/controls",
          "model_module_version": "1.5.0",
          "model_name": "ProgressStyleModel",
          "state": {
            "_model_module": "@jupyter-widgets/controls",
            "_model_module_version": "1.5.0",
            "_model_name": "ProgressStyleModel",
            "_view_count": null,
            "_view_module": "@jupyter-widgets/base",
            "_view_module_version": "1.2.0",
            "_view_name": "StyleView",
            "bar_color": null,
            "description_width": ""
          }
        },
        "a75f9e3d8f994ac6badd0ec91aa6ed11": {
          "model_module": "@jupyter-widgets/controls",
          "model_module_version": "1.5.0",
          "model_name": "HBoxModel",
          "state": {
            "_dom_classes": [],
            "_model_module": "@jupyter-widgets/controls",
            "_model_module_version": "1.5.0",
            "_model_name": "HBoxModel",
            "_view_count": null,
            "_view_module": "@jupyter-widgets/controls",
            "_view_module_version": "1.5.0",
            "_view_name": "HBoxView",
            "box_style": "",
            "children": [
              "IPY_MODEL_c8229f7510c74038851cddbab6d9ceb7",
              "IPY_MODEL_4c5c89b545b342158d1be112a77cdb7e",
              "IPY_MODEL_a29ff0691d044e2a9dbbde5f50098898"
            ],
            "layout": "IPY_MODEL_b5c0fb0f86a94ea49c4860ae600ff59c"
          }
        },
        "a7e67b3faa97440496d64afcc43ef84e": {
          "model_module": "@jupyter-widgets/controls",
          "model_module_version": "1.5.0",
          "model_name": "FloatProgressModel",
          "state": {
            "_dom_classes": [],
            "_model_module": "@jupyter-widgets/controls",
            "_model_module_version": "1.5.0",
            "_model_name": "FloatProgressModel",
            "_view_count": null,
            "_view_module": "@jupyter-widgets/controls",
            "_view_module_version": "1.5.0",
            "_view_name": "ProgressView",
            "bar_style": "success",
            "description": "",
            "description_tooltip": null,
            "layout": "IPY_MODEL_1548026393c44176b43dac8900eb799c",
            "max": 646,
            "min": 0,
            "orientation": "horizontal",
            "style": "IPY_MODEL_bdc05627dd21494a99dd4cdb4926ed94",
            "value": 646
          }
        },
        "a811d8d8c8ed421f99fa7e7caaa58ca6": {
          "model_module": "@jupyter-widgets/controls",
          "model_module_version": "1.5.0",
          "model_name": "DescriptionStyleModel",
          "state": {
            "_model_module": "@jupyter-widgets/controls",
            "_model_module_version": "1.5.0",
            "_model_name": "DescriptionStyleModel",
            "_view_count": null,
            "_view_module": "@jupyter-widgets/base",
            "_view_module_version": "1.2.0",
            "_view_name": "StyleView",
            "description_width": ""
          }
        },
        "a8cdb3cee35d4aa2a9671af1483e3727": {
          "model_module": "@jupyter-widgets/controls",
          "model_module_version": "1.5.0",
          "model_name": "HTMLModel",
          "state": {
            "_dom_classes": [],
            "_model_module": "@jupyter-widgets/controls",
            "_model_module_version": "1.5.0",
            "_model_name": "HTMLModel",
            "_view_count": null,
            "_view_module": "@jupyter-widgets/controls",
            "_view_module_version": "1.5.0",
            "_view_name": "HTMLView",
            "description": "",
            "description_tooltip": null,
            "layout": "IPY_MODEL_447e2e2e2e124067ba20d27194d320ef",
            "placeholder": "​",
            "style": "IPY_MODEL_7852e9fcee5f4fd8b36a18a175a9f3db",
            "value": " 3279/3279 [20:02&lt;00:00,  2.75it/s]"
          }
        },
        "a93917d8d9e2454c9d895192270a775e": {
          "model_module": "@jupyter-widgets/base",
          "model_module_version": "1.2.0",
          "model_name": "LayoutModel",
          "state": {
            "_model_module": "@jupyter-widgets/base",
            "_model_module_version": "1.2.0",
            "_model_name": "LayoutModel",
            "_view_count": null,
            "_view_module": "@jupyter-widgets/base",
            "_view_module_version": "1.2.0",
            "_view_name": "LayoutView",
            "align_content": null,
            "align_items": null,
            "align_self": null,
            "border": null,
            "bottom": null,
            "display": null,
            "flex": null,
            "flex_flow": null,
            "grid_area": null,
            "grid_auto_columns": null,
            "grid_auto_flow": null,
            "grid_auto_rows": null,
            "grid_column": null,
            "grid_gap": null,
            "grid_row": null,
            "grid_template_areas": null,
            "grid_template_columns": null,
            "grid_template_rows": null,
            "height": null,
            "justify_content": null,
            "justify_items": null,
            "left": null,
            "margin": null,
            "max_height": null,
            "max_width": null,
            "min_height": null,
            "min_width": null,
            "object_fit": null,
            "object_position": null,
            "order": null,
            "overflow": null,
            "overflow_x": null,
            "overflow_y": null,
            "padding": null,
            "right": null,
            "top": null,
            "visibility": null,
            "width": null
          }
        },
        "aa0d7d3576524bdab1b19bbf2ff452ca": {
          "model_module": "@jupyter-widgets/base",
          "model_module_version": "1.2.0",
          "model_name": "LayoutModel",
          "state": {
            "_model_module": "@jupyter-widgets/base",
            "_model_module_version": "1.2.0",
            "_model_name": "LayoutModel",
            "_view_count": null,
            "_view_module": "@jupyter-widgets/base",
            "_view_module_version": "1.2.0",
            "_view_name": "LayoutView",
            "align_content": null,
            "align_items": null,
            "align_self": null,
            "border": null,
            "bottom": null,
            "display": null,
            "flex": null,
            "flex_flow": null,
            "grid_area": null,
            "grid_auto_columns": null,
            "grid_auto_flow": null,
            "grid_auto_rows": null,
            "grid_column": null,
            "grid_gap": null,
            "grid_row": null,
            "grid_template_areas": null,
            "grid_template_columns": null,
            "grid_template_rows": null,
            "height": null,
            "justify_content": null,
            "justify_items": null,
            "left": null,
            "margin": null,
            "max_height": null,
            "max_width": null,
            "min_height": null,
            "min_width": null,
            "object_fit": null,
            "object_position": null,
            "order": null,
            "overflow": null,
            "overflow_x": null,
            "overflow_y": null,
            "padding": null,
            "right": null,
            "top": null,
            "visibility": null,
            "width": null
          }
        },
        "ac1b73cb0f544f908936bd0f48c04d6c": {
          "model_module": "@jupyter-widgets/base",
          "model_module_version": "1.2.0",
          "model_name": "LayoutModel",
          "state": {
            "_model_module": "@jupyter-widgets/base",
            "_model_module_version": "1.2.0",
            "_model_name": "LayoutModel",
            "_view_count": null,
            "_view_module": "@jupyter-widgets/base",
            "_view_module_version": "1.2.0",
            "_view_name": "LayoutView",
            "align_content": null,
            "align_items": null,
            "align_self": null,
            "border": null,
            "bottom": null,
            "display": null,
            "flex": null,
            "flex_flow": null,
            "grid_area": null,
            "grid_auto_columns": null,
            "grid_auto_flow": null,
            "grid_auto_rows": null,
            "grid_column": null,
            "grid_gap": null,
            "grid_row": null,
            "grid_template_areas": null,
            "grid_template_columns": null,
            "grid_template_rows": null,
            "height": null,
            "justify_content": null,
            "justify_items": null,
            "left": null,
            "margin": null,
            "max_height": null,
            "max_width": null,
            "min_height": null,
            "min_width": null,
            "object_fit": null,
            "object_position": null,
            "order": null,
            "overflow": null,
            "overflow_x": null,
            "overflow_y": null,
            "padding": null,
            "right": null,
            "top": null,
            "visibility": null,
            "width": null
          }
        },
        "ad1889bc1ab34026963fe58aea4309fd": {
          "model_module": "@jupyter-widgets/controls",
          "model_module_version": "1.5.0",
          "model_name": "DescriptionStyleModel",
          "state": {
            "_model_module": "@jupyter-widgets/controls",
            "_model_module_version": "1.5.0",
            "_model_name": "DescriptionStyleModel",
            "_view_count": null,
            "_view_module": "@jupyter-widgets/base",
            "_view_module_version": "1.2.0",
            "_view_name": "StyleView",
            "description_width": ""
          }
        },
        "adfdbfe553c4424ba4f1c694b4264e0a": {
          "model_module": "@jupyter-widgets/controls",
          "model_module_version": "1.5.0",
          "model_name": "DescriptionStyleModel",
          "state": {
            "_model_module": "@jupyter-widgets/controls",
            "_model_module_version": "1.5.0",
            "_model_name": "DescriptionStyleModel",
            "_view_count": null,
            "_view_module": "@jupyter-widgets/base",
            "_view_module_version": "1.2.0",
            "_view_name": "StyleView",
            "description_width": ""
          }
        },
        "b08bdedcb1774296a1ff77d5488fb7e7": {
          "model_module": "@jupyter-widgets/controls",
          "model_module_version": "1.5.0",
          "model_name": "ProgressStyleModel",
          "state": {
            "_model_module": "@jupyter-widgets/controls",
            "_model_module_version": "1.5.0",
            "_model_name": "ProgressStyleModel",
            "_view_count": null,
            "_view_module": "@jupyter-widgets/base",
            "_view_module_version": "1.2.0",
            "_view_name": "StyleView",
            "bar_color": null,
            "description_width": ""
          }
        },
        "b0d4604acccc49a9a1a5e034b21d6fd9": {
          "model_module": "@jupyter-widgets/controls",
          "model_module_version": "1.5.0",
          "model_name": "DescriptionStyleModel",
          "state": {
            "_model_module": "@jupyter-widgets/controls",
            "_model_module_version": "1.5.0",
            "_model_name": "DescriptionStyleModel",
            "_view_count": null,
            "_view_module": "@jupyter-widgets/base",
            "_view_module_version": "1.2.0",
            "_view_name": "StyleView",
            "description_width": ""
          }
        },
        "b174ccaf439b4e238fc096bcbed18859": {
          "model_module": "@jupyter-widgets/controls",
          "model_module_version": "1.5.0",
          "model_name": "DescriptionStyleModel",
          "state": {
            "_model_module": "@jupyter-widgets/controls",
            "_model_module_version": "1.5.0",
            "_model_name": "DescriptionStyleModel",
            "_view_count": null,
            "_view_module": "@jupyter-widgets/base",
            "_view_module_version": "1.2.0",
            "_view_name": "StyleView",
            "description_width": ""
          }
        },
        "b21bee780a214ecd906c96f02f7de618": {
          "model_module": "@jupyter-widgets/controls",
          "model_module_version": "1.5.0",
          "model_name": "DescriptionStyleModel",
          "state": {
            "_model_module": "@jupyter-widgets/controls",
            "_model_module_version": "1.5.0",
            "_model_name": "DescriptionStyleModel",
            "_view_count": null,
            "_view_module": "@jupyter-widgets/base",
            "_view_module_version": "1.2.0",
            "_view_name": "StyleView",
            "description_width": ""
          }
        },
        "b24b6a82338e4e61b084044e44ffd81f": {
          "model_module": "@jupyter-widgets/controls",
          "model_module_version": "1.5.0",
          "model_name": "DescriptionStyleModel",
          "state": {
            "_model_module": "@jupyter-widgets/controls",
            "_model_module_version": "1.5.0",
            "_model_name": "DescriptionStyleModel",
            "_view_count": null,
            "_view_module": "@jupyter-widgets/base",
            "_view_module_version": "1.2.0",
            "_view_name": "StyleView",
            "description_width": ""
          }
        },
        "b278a0c003bb43ed9d8b9c85a1b82739": {
          "model_module": "@jupyter-widgets/controls",
          "model_module_version": "1.5.0",
          "model_name": "HTMLModel",
          "state": {
            "_dom_classes": [],
            "_model_module": "@jupyter-widgets/controls",
            "_model_module_version": "1.5.0",
            "_model_name": "HTMLModel",
            "_view_count": null,
            "_view_module": "@jupyter-widgets/controls",
            "_view_module_version": "1.5.0",
            "_view_name": "HTMLView",
            "description": "",
            "description_tooltip": null,
            "layout": "IPY_MODEL_733e219f09f54e488b50dd964191bde0",
            "placeholder": "​",
            "style": "IPY_MODEL_bf3e41469f8949bda12498eefa76e17b",
            "value": " 3281/3281 [10:07&lt;00:00,  5.54it/s]"
          }
        },
        "b299c52ec57e4a039440cc9e630ed139": {
          "model_module": "@jupyter-widgets/controls",
          "model_module_version": "1.5.0",
          "model_name": "HBoxModel",
          "state": {
            "_dom_classes": [],
            "_model_module": "@jupyter-widgets/controls",
            "_model_module_version": "1.5.0",
            "_model_name": "HBoxModel",
            "_view_count": null,
            "_view_module": "@jupyter-widgets/controls",
            "_view_module_version": "1.5.0",
            "_view_name": "HBoxView",
            "box_style": "",
            "children": [
              "IPY_MODEL_e7dd9f811af54db7ae1657b14318941a",
              "IPY_MODEL_37e0466226fe437cba9daab20714c79d",
              "IPY_MODEL_402a0fbe30c54da181f5cdd1ba7cac28"
            ],
            "layout": "IPY_MODEL_14cc2bbda8a44ab5afd1a55dfcd6a93e"
          }
        },
        "b4f6ca45ad78428b8e12c6ca25e83401": {
          "model_module": "@jupyter-widgets/controls",
          "model_module_version": "1.5.0",
          "model_name": "HBoxModel",
          "state": {
            "_dom_classes": [],
            "_model_module": "@jupyter-widgets/controls",
            "_model_module_version": "1.5.0",
            "_model_name": "HBoxModel",
            "_view_count": null,
            "_view_module": "@jupyter-widgets/controls",
            "_view_module_version": "1.5.0",
            "_view_name": "HBoxView",
            "box_style": "",
            "children": [
              "IPY_MODEL_f189bd914d7e40439ec5f20cd5e584dc",
              "IPY_MODEL_ec867fbb6d8d430186d839967ea905af",
              "IPY_MODEL_dacd2eb98a484f6dbf92794c63e7aa4f"
            ],
            "layout": "IPY_MODEL_07ad713141fc498db7afd2961f55dbfc"
          }
        },
        "b5c0fb0f86a94ea49c4860ae600ff59c": {
          "model_module": "@jupyter-widgets/base",
          "model_module_version": "1.2.0",
          "model_name": "LayoutModel",
          "state": {
            "_model_module": "@jupyter-widgets/base",
            "_model_module_version": "1.2.0",
            "_model_name": "LayoutModel",
            "_view_count": null,
            "_view_module": "@jupyter-widgets/base",
            "_view_module_version": "1.2.0",
            "_view_name": "LayoutView",
            "align_content": null,
            "align_items": null,
            "align_self": null,
            "border": null,
            "bottom": null,
            "display": null,
            "flex": null,
            "flex_flow": null,
            "grid_area": null,
            "grid_auto_columns": null,
            "grid_auto_flow": null,
            "grid_auto_rows": null,
            "grid_column": null,
            "grid_gap": null,
            "grid_row": null,
            "grid_template_areas": null,
            "grid_template_columns": null,
            "grid_template_rows": null,
            "height": null,
            "justify_content": null,
            "justify_items": null,
            "left": null,
            "margin": null,
            "max_height": null,
            "max_width": null,
            "min_height": null,
            "min_width": null,
            "object_fit": null,
            "object_position": null,
            "order": null,
            "overflow": null,
            "overflow_x": null,
            "overflow_y": null,
            "padding": null,
            "right": null,
            "top": null,
            "visibility": null,
            "width": null
          }
        },
        "b680a95d84ac47e089c2e273e57e6413": {
          "model_module": "@jupyter-widgets/controls",
          "model_module_version": "1.5.0",
          "model_name": "DescriptionStyleModel",
          "state": {
            "_model_module": "@jupyter-widgets/controls",
            "_model_module_version": "1.5.0",
            "_model_name": "DescriptionStyleModel",
            "_view_count": null,
            "_view_module": "@jupyter-widgets/base",
            "_view_module_version": "1.2.0",
            "_view_name": "StyleView",
            "description_width": ""
          }
        },
        "b686337f804343eea79352dd8de48132": {
          "model_module": "@jupyter-widgets/controls",
          "model_module_version": "1.5.0",
          "model_name": "HTMLModel",
          "state": {
            "_dom_classes": [],
            "_model_module": "@jupyter-widgets/controls",
            "_model_module_version": "1.5.0",
            "_model_name": "HTMLModel",
            "_view_count": null,
            "_view_module": "@jupyter-widgets/controls",
            "_view_module_version": "1.5.0",
            "_view_name": "HTMLView",
            "description": "",
            "description_tooltip": null,
            "layout": "IPY_MODEL_1b620127eb364834a710a8984af468bd",
            "placeholder": "​",
            "style": "IPY_MODEL_c34b7eebcebc47a8bb887dd7bf4f6fb7",
            "value": " 734/734 [04:39&lt;00:00,  2.99it/s]"
          }
        },
        "b727844b39624a1a982a6549c4811f3d": {
          "model_module": "@jupyter-widgets/base",
          "model_module_version": "1.2.0",
          "model_name": "LayoutModel",
          "state": {
            "_model_module": "@jupyter-widgets/base",
            "_model_module_version": "1.2.0",
            "_model_name": "LayoutModel",
            "_view_count": null,
            "_view_module": "@jupyter-widgets/base",
            "_view_module_version": "1.2.0",
            "_view_name": "LayoutView",
            "align_content": null,
            "align_items": null,
            "align_self": null,
            "border": null,
            "bottom": null,
            "display": null,
            "flex": null,
            "flex_flow": null,
            "grid_area": null,
            "grid_auto_columns": null,
            "grid_auto_flow": null,
            "grid_auto_rows": null,
            "grid_column": null,
            "grid_gap": null,
            "grid_row": null,
            "grid_template_areas": null,
            "grid_template_columns": null,
            "grid_template_rows": null,
            "height": null,
            "justify_content": null,
            "justify_items": null,
            "left": null,
            "margin": null,
            "max_height": null,
            "max_width": null,
            "min_height": null,
            "min_width": null,
            "object_fit": null,
            "object_position": null,
            "order": null,
            "overflow": null,
            "overflow_x": null,
            "overflow_y": null,
            "padding": null,
            "right": null,
            "top": null,
            "visibility": null,
            "width": null
          }
        },
        "b8a44440dae0433a8571dc2bb83fc158": {
          "model_module": "@jupyter-widgets/controls",
          "model_module_version": "1.5.0",
          "model_name": "DescriptionStyleModel",
          "state": {
            "_model_module": "@jupyter-widgets/controls",
            "_model_module_version": "1.5.0",
            "_model_name": "DescriptionStyleModel",
            "_view_count": null,
            "_view_module": "@jupyter-widgets/base",
            "_view_module_version": "1.2.0",
            "_view_name": "StyleView",
            "description_width": ""
          }
        },
        "bae9775d1d0f455fb7bce195636b26a4": {
          "model_module": "@jupyter-widgets/base",
          "model_module_version": "1.2.0",
          "model_name": "LayoutModel",
          "state": {
            "_model_module": "@jupyter-widgets/base",
            "_model_module_version": "1.2.0",
            "_model_name": "LayoutModel",
            "_view_count": null,
            "_view_module": "@jupyter-widgets/base",
            "_view_module_version": "1.2.0",
            "_view_name": "LayoutView",
            "align_content": null,
            "align_items": null,
            "align_self": null,
            "border": null,
            "bottom": null,
            "display": null,
            "flex": null,
            "flex_flow": null,
            "grid_area": null,
            "grid_auto_columns": null,
            "grid_auto_flow": null,
            "grid_auto_rows": null,
            "grid_column": null,
            "grid_gap": null,
            "grid_row": null,
            "grid_template_areas": null,
            "grid_template_columns": null,
            "grid_template_rows": null,
            "height": null,
            "justify_content": null,
            "justify_items": null,
            "left": null,
            "margin": null,
            "max_height": null,
            "max_width": null,
            "min_height": null,
            "min_width": null,
            "object_fit": null,
            "object_position": null,
            "order": null,
            "overflow": null,
            "overflow_x": null,
            "overflow_y": null,
            "padding": null,
            "right": null,
            "top": null,
            "visibility": null,
            "width": null
          }
        },
        "bc081b9aaacc4b4cafda6ef3338bf215": {
          "model_module": "@jupyter-widgets/controls",
          "model_module_version": "1.5.0",
          "model_name": "FloatProgressModel",
          "state": {
            "_dom_classes": [],
            "_model_module": "@jupyter-widgets/controls",
            "_model_module_version": "1.5.0",
            "_model_name": "FloatProgressModel",
            "_view_count": null,
            "_view_module": "@jupyter-widgets/controls",
            "_view_module_version": "1.5.0",
            "_view_name": "ProgressView",
            "bar_style": "success",
            "description": "",
            "description_tooltip": null,
            "layout": "IPY_MODEL_cc2afa6a27c8442fbd3c6cb6d205279b",
            "max": 457,
            "min": 0,
            "orientation": "horizontal",
            "style": "IPY_MODEL_53ff9130f4c14355827a69a919d4d002",
            "value": 457
          }
        },
        "bdc05627dd21494a99dd4cdb4926ed94": {
          "model_module": "@jupyter-widgets/controls",
          "model_module_version": "1.5.0",
          "model_name": "ProgressStyleModel",
          "state": {
            "_model_module": "@jupyter-widgets/controls",
            "_model_module_version": "1.5.0",
            "_model_name": "ProgressStyleModel",
            "_view_count": null,
            "_view_module": "@jupyter-widgets/base",
            "_view_module_version": "1.2.0",
            "_view_name": "StyleView",
            "bar_color": null,
            "description_width": ""
          }
        },
        "bdcf0c02eccb42aebdb62446e8fa69be": {
          "model_module": "@jupyter-widgets/controls",
          "model_module_version": "1.5.0",
          "model_name": "HTMLModel",
          "state": {
            "_dom_classes": [],
            "_model_module": "@jupyter-widgets/controls",
            "_model_module_version": "1.5.0",
            "_model_name": "HTMLModel",
            "_view_count": null,
            "_view_module": "@jupyter-widgets/controls",
            "_view_module_version": "1.5.0",
            "_view_name": "HTMLView",
            "description": "",
            "description_tooltip": null,
            "layout": "IPY_MODEL_440538b8a37e456f973259a3e129ac07",
            "placeholder": "​",
            "style": "IPY_MODEL_06f1fabdc1d94d77ae34ccddd781abc8",
            "value": " 1230/1230 [07:44&lt;00:00,  3.17it/s]"
          }
        },
        "bea258ba11fa4e9294e9e68959fe7002": {
          "model_module": "@jupyter-widgets/base",
          "model_module_version": "1.2.0",
          "model_name": "LayoutModel",
          "state": {
            "_model_module": "@jupyter-widgets/base",
            "_model_module_version": "1.2.0",
            "_model_name": "LayoutModel",
            "_view_count": null,
            "_view_module": "@jupyter-widgets/base",
            "_view_module_version": "1.2.0",
            "_view_name": "LayoutView",
            "align_content": null,
            "align_items": null,
            "align_self": null,
            "border": null,
            "bottom": null,
            "display": null,
            "flex": null,
            "flex_flow": null,
            "grid_area": null,
            "grid_auto_columns": null,
            "grid_auto_flow": null,
            "grid_auto_rows": null,
            "grid_column": null,
            "grid_gap": null,
            "grid_row": null,
            "grid_template_areas": null,
            "grid_template_columns": null,
            "grid_template_rows": null,
            "height": null,
            "justify_content": null,
            "justify_items": null,
            "left": null,
            "margin": null,
            "max_height": null,
            "max_width": null,
            "min_height": null,
            "min_width": null,
            "object_fit": null,
            "object_position": null,
            "order": null,
            "overflow": null,
            "overflow_x": null,
            "overflow_y": null,
            "padding": null,
            "right": null,
            "top": null,
            "visibility": null,
            "width": null
          }
        },
        "bf075d460bf54d6dbc691319a691a94b": {
          "model_module": "@jupyter-widgets/controls",
          "model_module_version": "1.5.0",
          "model_name": "DescriptionStyleModel",
          "state": {
            "_model_module": "@jupyter-widgets/controls",
            "_model_module_version": "1.5.0",
            "_model_name": "DescriptionStyleModel",
            "_view_count": null,
            "_view_module": "@jupyter-widgets/base",
            "_view_module_version": "1.2.0",
            "_view_name": "StyleView",
            "description_width": ""
          }
        },
        "bf3e41469f8949bda12498eefa76e17b": {
          "model_module": "@jupyter-widgets/controls",
          "model_module_version": "1.5.0",
          "model_name": "DescriptionStyleModel",
          "state": {
            "_model_module": "@jupyter-widgets/controls",
            "_model_module_version": "1.5.0",
            "_model_name": "DescriptionStyleModel",
            "_view_count": null,
            "_view_module": "@jupyter-widgets/base",
            "_view_module_version": "1.2.0",
            "_view_name": "StyleView",
            "description_width": ""
          }
        },
        "c0265c48b3104a10b629c5b844b4cfae": {
          "model_module": "@jupyter-widgets/controls",
          "model_module_version": "1.5.0",
          "model_name": "FloatProgressModel",
          "state": {
            "_dom_classes": [],
            "_model_module": "@jupyter-widgets/controls",
            "_model_module_version": "1.5.0",
            "_model_name": "FloatProgressModel",
            "_view_count": null,
            "_view_module": "@jupyter-widgets/controls",
            "_view_module_version": "1.5.0",
            "_view_name": "ProgressView",
            "bar_style": "success",
            "description": "",
            "description_tooltip": null,
            "layout": "IPY_MODEL_88d7e741616041299ff27e9fa3a204bb",
            "max": 457,
            "min": 0,
            "orientation": "horizontal",
            "style": "IPY_MODEL_6168e3c13ed2403ea119bfdbdd1d3087",
            "value": 457
          }
        },
        "c1aff781dc9843999f2ad3f2630b59b5": {
          "model_module": "@jupyter-widgets/base",
          "model_module_version": "1.2.0",
          "model_name": "LayoutModel",
          "state": {
            "_model_module": "@jupyter-widgets/base",
            "_model_module_version": "1.2.0",
            "_model_name": "LayoutModel",
            "_view_count": null,
            "_view_module": "@jupyter-widgets/base",
            "_view_module_version": "1.2.0",
            "_view_name": "LayoutView",
            "align_content": null,
            "align_items": null,
            "align_self": null,
            "border": null,
            "bottom": null,
            "display": null,
            "flex": null,
            "flex_flow": null,
            "grid_area": null,
            "grid_auto_columns": null,
            "grid_auto_flow": null,
            "grid_auto_rows": null,
            "grid_column": null,
            "grid_gap": null,
            "grid_row": null,
            "grid_template_areas": null,
            "grid_template_columns": null,
            "grid_template_rows": null,
            "height": null,
            "justify_content": null,
            "justify_items": null,
            "left": null,
            "margin": null,
            "max_height": null,
            "max_width": null,
            "min_height": null,
            "min_width": null,
            "object_fit": null,
            "object_position": null,
            "order": null,
            "overflow": null,
            "overflow_x": null,
            "overflow_y": null,
            "padding": null,
            "right": null,
            "top": null,
            "visibility": null,
            "width": null
          }
        },
        "c209bd2f83444ebe99ffd8fcd8f3bd2e": {
          "model_module": "@jupyter-widgets/base",
          "model_module_version": "1.2.0",
          "model_name": "LayoutModel",
          "state": {
            "_model_module": "@jupyter-widgets/base",
            "_model_module_version": "1.2.0",
            "_model_name": "LayoutModel",
            "_view_count": null,
            "_view_module": "@jupyter-widgets/base",
            "_view_module_version": "1.2.0",
            "_view_name": "LayoutView",
            "align_content": null,
            "align_items": null,
            "align_self": null,
            "border": null,
            "bottom": null,
            "display": null,
            "flex": null,
            "flex_flow": null,
            "grid_area": null,
            "grid_auto_columns": null,
            "grid_auto_flow": null,
            "grid_auto_rows": null,
            "grid_column": null,
            "grid_gap": null,
            "grid_row": null,
            "grid_template_areas": null,
            "grid_template_columns": null,
            "grid_template_rows": null,
            "height": null,
            "justify_content": null,
            "justify_items": null,
            "left": null,
            "margin": null,
            "max_height": null,
            "max_width": null,
            "min_height": null,
            "min_width": null,
            "object_fit": null,
            "object_position": null,
            "order": null,
            "overflow": null,
            "overflow_x": null,
            "overflow_y": null,
            "padding": null,
            "right": null,
            "top": null,
            "visibility": null,
            "width": null
          }
        },
        "c34b7eebcebc47a8bb887dd7bf4f6fb7": {
          "model_module": "@jupyter-widgets/controls",
          "model_module_version": "1.5.0",
          "model_name": "DescriptionStyleModel",
          "state": {
            "_model_module": "@jupyter-widgets/controls",
            "_model_module_version": "1.5.0",
            "_model_name": "DescriptionStyleModel",
            "_view_count": null,
            "_view_module": "@jupyter-widgets/base",
            "_view_module_version": "1.2.0",
            "_view_name": "StyleView",
            "description_width": ""
          }
        },
        "c50d880230294fa39f1e570ec622eb11": {
          "model_module": "@jupyter-widgets/base",
          "model_module_version": "1.2.0",
          "model_name": "LayoutModel",
          "state": {
            "_model_module": "@jupyter-widgets/base",
            "_model_module_version": "1.2.0",
            "_model_name": "LayoutModel",
            "_view_count": null,
            "_view_module": "@jupyter-widgets/base",
            "_view_module_version": "1.2.0",
            "_view_name": "LayoutView",
            "align_content": null,
            "align_items": null,
            "align_self": null,
            "border": null,
            "bottom": null,
            "display": null,
            "flex": null,
            "flex_flow": null,
            "grid_area": null,
            "grid_auto_columns": null,
            "grid_auto_flow": null,
            "grid_auto_rows": null,
            "grid_column": null,
            "grid_gap": null,
            "grid_row": null,
            "grid_template_areas": null,
            "grid_template_columns": null,
            "grid_template_rows": null,
            "height": null,
            "justify_content": null,
            "justify_items": null,
            "left": null,
            "margin": null,
            "max_height": null,
            "max_width": null,
            "min_height": null,
            "min_width": null,
            "object_fit": null,
            "object_position": null,
            "order": null,
            "overflow": null,
            "overflow_x": null,
            "overflow_y": null,
            "padding": null,
            "right": null,
            "top": null,
            "visibility": null,
            "width": null
          }
        },
        "c5e44f32fe264f23bb3cd906ad07a78d": {
          "model_module": "@jupyter-widgets/base",
          "model_module_version": "1.2.0",
          "model_name": "LayoutModel",
          "state": {
            "_model_module": "@jupyter-widgets/base",
            "_model_module_version": "1.2.0",
            "_model_name": "LayoutModel",
            "_view_count": null,
            "_view_module": "@jupyter-widgets/base",
            "_view_module_version": "1.2.0",
            "_view_name": "LayoutView",
            "align_content": null,
            "align_items": null,
            "align_self": null,
            "border": null,
            "bottom": null,
            "display": null,
            "flex": null,
            "flex_flow": null,
            "grid_area": null,
            "grid_auto_columns": null,
            "grid_auto_flow": null,
            "grid_auto_rows": null,
            "grid_column": null,
            "grid_gap": null,
            "grid_row": null,
            "grid_template_areas": null,
            "grid_template_columns": null,
            "grid_template_rows": null,
            "height": null,
            "justify_content": null,
            "justify_items": null,
            "left": null,
            "margin": null,
            "max_height": null,
            "max_width": null,
            "min_height": null,
            "min_width": null,
            "object_fit": null,
            "object_position": null,
            "order": null,
            "overflow": null,
            "overflow_x": null,
            "overflow_y": null,
            "padding": null,
            "right": null,
            "top": null,
            "visibility": null,
            "width": null
          }
        },
        "c8229f7510c74038851cddbab6d9ceb7": {
          "model_module": "@jupyter-widgets/controls",
          "model_module_version": "1.5.0",
          "model_name": "HTMLModel",
          "state": {
            "_dom_classes": [],
            "_model_module": "@jupyter-widgets/controls",
            "_model_module_version": "1.5.0",
            "_model_name": "HTMLModel",
            "_view_count": null,
            "_view_module": "@jupyter-widgets/controls",
            "_view_module_version": "1.5.0",
            "_view_name": "HTMLView",
            "description": "",
            "description_tooltip": null,
            "layout": "IPY_MODEL_8d70cbb9ae5d4883992a70fbcc141fb7",
            "placeholder": "​",
            "style": "IPY_MODEL_53c4a6d534e847b4a0e87eaf83314e2f",
            "value": "100%"
          }
        },
        "c912a2b81f82412aa9e63feb8ef465a2": {
          "model_module": "@jupyter-widgets/controls",
          "model_module_version": "1.5.0",
          "model_name": "FloatProgressModel",
          "state": {
            "_dom_classes": [],
            "_model_module": "@jupyter-widgets/controls",
            "_model_module_version": "1.5.0",
            "_model_name": "FloatProgressModel",
            "_view_count": null,
            "_view_module": "@jupyter-widgets/controls",
            "_view_module_version": "1.5.0",
            "_view_name": "ProgressView",
            "bar_style": "success",
            "description": "",
            "description_tooltip": null,
            "layout": "IPY_MODEL_e08130b00f4742ecacb2c1ce54e76bd9",
            "max": 734,
            "min": 0,
            "orientation": "horizontal",
            "style": "IPY_MODEL_51f54ccd1cb349bf892667dd1f6bdc39",
            "value": 734
          }
        },
        "ca4a0c916cd0436d8bdd2f63861b681e": {
          "model_module": "@jupyter-widgets/controls",
          "model_module_version": "1.5.0",
          "model_name": "HBoxModel",
          "state": {
            "_dom_classes": [],
            "_model_module": "@jupyter-widgets/controls",
            "_model_module_version": "1.5.0",
            "_model_name": "HBoxModel",
            "_view_count": null,
            "_view_module": "@jupyter-widgets/controls",
            "_view_module_version": "1.5.0",
            "_view_name": "HBoxView",
            "box_style": "",
            "children": [
              "IPY_MODEL_ee24047449ad4d2892891af645687f0e",
              "IPY_MODEL_108a3b3c46904d63b99b019a85980807",
              "IPY_MODEL_bdcf0c02eccb42aebdb62446e8fa69be"
            ],
            "layout": "IPY_MODEL_497581445e254b0f8d5128543ad2be1d"
          }
        },
        "cba1c9ee2642414ebcadb1e78de0b310": {
          "model_module": "@jupyter-widgets/base",
          "model_module_version": "1.2.0",
          "model_name": "LayoutModel",
          "state": {
            "_model_module": "@jupyter-widgets/base",
            "_model_module_version": "1.2.0",
            "_model_name": "LayoutModel",
            "_view_count": null,
            "_view_module": "@jupyter-widgets/base",
            "_view_module_version": "1.2.0",
            "_view_name": "LayoutView",
            "align_content": null,
            "align_items": null,
            "align_self": null,
            "border": null,
            "bottom": null,
            "display": null,
            "flex": null,
            "flex_flow": null,
            "grid_area": null,
            "grid_auto_columns": null,
            "grid_auto_flow": null,
            "grid_auto_rows": null,
            "grid_column": null,
            "grid_gap": null,
            "grid_row": null,
            "grid_template_areas": null,
            "grid_template_columns": null,
            "grid_template_rows": null,
            "height": null,
            "justify_content": null,
            "justify_items": null,
            "left": null,
            "margin": null,
            "max_height": null,
            "max_width": null,
            "min_height": null,
            "min_width": null,
            "object_fit": null,
            "object_position": null,
            "order": null,
            "overflow": null,
            "overflow_x": null,
            "overflow_y": null,
            "padding": null,
            "right": null,
            "top": null,
            "visibility": null,
            "width": null
          }
        },
        "cc019c7ab63445e185824de6ebca4933": {
          "model_module": "@jupyter-widgets/base",
          "model_module_version": "1.2.0",
          "model_name": "LayoutModel",
          "state": {
            "_model_module": "@jupyter-widgets/base",
            "_model_module_version": "1.2.0",
            "_model_name": "LayoutModel",
            "_view_count": null,
            "_view_module": "@jupyter-widgets/base",
            "_view_module_version": "1.2.0",
            "_view_name": "LayoutView",
            "align_content": null,
            "align_items": null,
            "align_self": null,
            "border": null,
            "bottom": null,
            "display": null,
            "flex": null,
            "flex_flow": null,
            "grid_area": null,
            "grid_auto_columns": null,
            "grid_auto_flow": null,
            "grid_auto_rows": null,
            "grid_column": null,
            "grid_gap": null,
            "grid_row": null,
            "grid_template_areas": null,
            "grid_template_columns": null,
            "grid_template_rows": null,
            "height": null,
            "justify_content": null,
            "justify_items": null,
            "left": null,
            "margin": null,
            "max_height": null,
            "max_width": null,
            "min_height": null,
            "min_width": null,
            "object_fit": null,
            "object_position": null,
            "order": null,
            "overflow": null,
            "overflow_x": null,
            "overflow_y": null,
            "padding": null,
            "right": null,
            "top": null,
            "visibility": null,
            "width": null
          }
        },
        "cc0ec8f716254de0a5fd171be12f200c": {
          "model_module": "@jupyter-widgets/controls",
          "model_module_version": "1.5.0",
          "model_name": "HTMLModel",
          "state": {
            "_dom_classes": [],
            "_model_module": "@jupyter-widgets/controls",
            "_model_module_version": "1.5.0",
            "_model_name": "HTMLModel",
            "_view_count": null,
            "_view_module": "@jupyter-widgets/controls",
            "_view_module_version": "1.5.0",
            "_view_name": "HTMLView",
            "description": "",
            "description_tooltip": null,
            "layout": "IPY_MODEL_75946eb256a2403ba22a23ab6305fcc0",
            "placeholder": "​",
            "style": "IPY_MODEL_e55e61b37f9444daba71845a363770eb",
            "value": "100%"
          }
        },
        "cc2afa6a27c8442fbd3c6cb6d205279b": {
          "model_module": "@jupyter-widgets/base",
          "model_module_version": "1.2.0",
          "model_name": "LayoutModel",
          "state": {
            "_model_module": "@jupyter-widgets/base",
            "_model_module_version": "1.2.0",
            "_model_name": "LayoutModel",
            "_view_count": null,
            "_view_module": "@jupyter-widgets/base",
            "_view_module_version": "1.2.0",
            "_view_name": "LayoutView",
            "align_content": null,
            "align_items": null,
            "align_self": null,
            "border": null,
            "bottom": null,
            "display": null,
            "flex": null,
            "flex_flow": null,
            "grid_area": null,
            "grid_auto_columns": null,
            "grid_auto_flow": null,
            "grid_auto_rows": null,
            "grid_column": null,
            "grid_gap": null,
            "grid_row": null,
            "grid_template_areas": null,
            "grid_template_columns": null,
            "grid_template_rows": null,
            "height": null,
            "justify_content": null,
            "justify_items": null,
            "left": null,
            "margin": null,
            "max_height": null,
            "max_width": null,
            "min_height": null,
            "min_width": null,
            "object_fit": null,
            "object_position": null,
            "order": null,
            "overflow": null,
            "overflow_x": null,
            "overflow_y": null,
            "padding": null,
            "right": null,
            "top": null,
            "visibility": null,
            "width": null
          }
        },
        "ccba7cc838d548478c9c603505c8a4ab": {
          "model_module": "@jupyter-widgets/controls",
          "model_module_version": "1.5.0",
          "model_name": "DescriptionStyleModel",
          "state": {
            "_model_module": "@jupyter-widgets/controls",
            "_model_module_version": "1.5.0",
            "_model_name": "DescriptionStyleModel",
            "_view_count": null,
            "_view_module": "@jupyter-widgets/base",
            "_view_module_version": "1.2.0",
            "_view_name": "StyleView",
            "description_width": ""
          }
        },
        "cd79ab3c335b419c8104bb6b846e8a90": {
          "model_module": "@jupyter-widgets/base",
          "model_module_version": "1.2.0",
          "model_name": "LayoutModel",
          "state": {
            "_model_module": "@jupyter-widgets/base",
            "_model_module_version": "1.2.0",
            "_model_name": "LayoutModel",
            "_view_count": null,
            "_view_module": "@jupyter-widgets/base",
            "_view_module_version": "1.2.0",
            "_view_name": "LayoutView",
            "align_content": null,
            "align_items": null,
            "align_self": null,
            "border": null,
            "bottom": null,
            "display": null,
            "flex": null,
            "flex_flow": null,
            "grid_area": null,
            "grid_auto_columns": null,
            "grid_auto_flow": null,
            "grid_auto_rows": null,
            "grid_column": null,
            "grid_gap": null,
            "grid_row": null,
            "grid_template_areas": null,
            "grid_template_columns": null,
            "grid_template_rows": null,
            "height": null,
            "justify_content": null,
            "justify_items": null,
            "left": null,
            "margin": null,
            "max_height": null,
            "max_width": null,
            "min_height": null,
            "min_width": null,
            "object_fit": null,
            "object_position": null,
            "order": null,
            "overflow": null,
            "overflow_x": null,
            "overflow_y": null,
            "padding": null,
            "right": null,
            "top": null,
            "visibility": null,
            "width": null
          }
        },
        "cf42bf90cf1844c5930fddc0aa42c307": {
          "model_module": "@jupyter-widgets/controls",
          "model_module_version": "1.5.0",
          "model_name": "HBoxModel",
          "state": {
            "_dom_classes": [],
            "_model_module": "@jupyter-widgets/controls",
            "_model_module_version": "1.5.0",
            "_model_name": "HBoxModel",
            "_view_count": null,
            "_view_module": "@jupyter-widgets/controls",
            "_view_module_version": "1.5.0",
            "_view_name": "HBoxView",
            "box_style": "",
            "children": [
              "IPY_MODEL_0534bae23b5341f0a56f2bb7e24eb1af",
              "IPY_MODEL_1eeb384340ae4074a1f23b0671e8158c",
              "IPY_MODEL_a8cdb3cee35d4aa2a9671af1483e3727"
            ],
            "layout": "IPY_MODEL_46e8aa8af2d74ac692238f288baf058e"
          }
        },
        "cfa4df827ad44997ab12f95418ec4807": {
          "model_module": "@jupyter-widgets/base",
          "model_module_version": "1.2.0",
          "model_name": "LayoutModel",
          "state": {
            "_model_module": "@jupyter-widgets/base",
            "_model_module_version": "1.2.0",
            "_model_name": "LayoutModel",
            "_view_count": null,
            "_view_module": "@jupyter-widgets/base",
            "_view_module_version": "1.2.0",
            "_view_name": "LayoutView",
            "align_content": null,
            "align_items": null,
            "align_self": null,
            "border": null,
            "bottom": null,
            "display": null,
            "flex": null,
            "flex_flow": null,
            "grid_area": null,
            "grid_auto_columns": null,
            "grid_auto_flow": null,
            "grid_auto_rows": null,
            "grid_column": null,
            "grid_gap": null,
            "grid_row": null,
            "grid_template_areas": null,
            "grid_template_columns": null,
            "grid_template_rows": null,
            "height": null,
            "justify_content": null,
            "justify_items": null,
            "left": null,
            "margin": null,
            "max_height": null,
            "max_width": null,
            "min_height": null,
            "min_width": null,
            "object_fit": null,
            "object_position": null,
            "order": null,
            "overflow": null,
            "overflow_x": null,
            "overflow_y": null,
            "padding": null,
            "right": null,
            "top": null,
            "visibility": null,
            "width": null
          }
        },
        "d0ff0eb2c63040d08d8e9c8c19f00d5d": {
          "model_module": "@jupyter-widgets/controls",
          "model_module_version": "1.5.0",
          "model_name": "FloatProgressModel",
          "state": {
            "_dom_classes": [],
            "_model_module": "@jupyter-widgets/controls",
            "_model_module_version": "1.5.0",
            "_model_name": "FloatProgressModel",
            "_view_count": null,
            "_view_module": "@jupyter-widgets/controls",
            "_view_module_version": "1.5.0",
            "_view_name": "ProgressView",
            "bar_style": "success",
            "description": "",
            "description_tooltip": null,
            "layout": "IPY_MODEL_382774c2d14341f7864a37a075b312b4",
            "max": 734,
            "min": 0,
            "orientation": "horizontal",
            "style": "IPY_MODEL_ed87699f9e99418491a8b1aaedc8b0d5",
            "value": 734
          }
        },
        "d14f13e4d37643ad98a7b00096aad28d": {
          "model_module": "@jupyter-widgets/controls",
          "model_module_version": "1.5.0",
          "model_name": "ProgressStyleModel",
          "state": {
            "_model_module": "@jupyter-widgets/controls",
            "_model_module_version": "1.5.0",
            "_model_name": "ProgressStyleModel",
            "_view_count": null,
            "_view_module": "@jupyter-widgets/base",
            "_view_module_version": "1.2.0",
            "_view_name": "StyleView",
            "bar_color": null,
            "description_width": ""
          }
        },
        "d39e8007be3647e2aecc744a3b33ad97": {
          "model_module": "@jupyter-widgets/base",
          "model_module_version": "1.2.0",
          "model_name": "LayoutModel",
          "state": {
            "_model_module": "@jupyter-widgets/base",
            "_model_module_version": "1.2.0",
            "_model_name": "LayoutModel",
            "_view_count": null,
            "_view_module": "@jupyter-widgets/base",
            "_view_module_version": "1.2.0",
            "_view_name": "LayoutView",
            "align_content": null,
            "align_items": null,
            "align_self": null,
            "border": null,
            "bottom": null,
            "display": null,
            "flex": null,
            "flex_flow": null,
            "grid_area": null,
            "grid_auto_columns": null,
            "grid_auto_flow": null,
            "grid_auto_rows": null,
            "grid_column": null,
            "grid_gap": null,
            "grid_row": null,
            "grid_template_areas": null,
            "grid_template_columns": null,
            "grid_template_rows": null,
            "height": null,
            "justify_content": null,
            "justify_items": null,
            "left": null,
            "margin": null,
            "max_height": null,
            "max_width": null,
            "min_height": null,
            "min_width": null,
            "object_fit": null,
            "object_position": null,
            "order": null,
            "overflow": null,
            "overflow_x": null,
            "overflow_y": null,
            "padding": null,
            "right": null,
            "top": null,
            "visibility": null,
            "width": null
          }
        },
        "d3a96cfe12684e93ac5435643a0ed317": {
          "model_module": "@jupyter-widgets/base",
          "model_module_version": "1.2.0",
          "model_name": "LayoutModel",
          "state": {
            "_model_module": "@jupyter-widgets/base",
            "_model_module_version": "1.2.0",
            "_model_name": "LayoutModel",
            "_view_count": null,
            "_view_module": "@jupyter-widgets/base",
            "_view_module_version": "1.2.0",
            "_view_name": "LayoutView",
            "align_content": null,
            "align_items": null,
            "align_self": null,
            "border": null,
            "bottom": null,
            "display": null,
            "flex": null,
            "flex_flow": null,
            "grid_area": null,
            "grid_auto_columns": null,
            "grid_auto_flow": null,
            "grid_auto_rows": null,
            "grid_column": null,
            "grid_gap": null,
            "grid_row": null,
            "grid_template_areas": null,
            "grid_template_columns": null,
            "grid_template_rows": null,
            "height": null,
            "justify_content": null,
            "justify_items": null,
            "left": null,
            "margin": null,
            "max_height": null,
            "max_width": null,
            "min_height": null,
            "min_width": null,
            "object_fit": null,
            "object_position": null,
            "order": null,
            "overflow": null,
            "overflow_x": null,
            "overflow_y": null,
            "padding": null,
            "right": null,
            "top": null,
            "visibility": null,
            "width": null
          }
        },
        "d62ac8de5831469694012d610553c82b": {
          "model_module": "@jupyter-widgets/controls",
          "model_module_version": "1.5.0",
          "model_name": "ProgressStyleModel",
          "state": {
            "_model_module": "@jupyter-widgets/controls",
            "_model_module_version": "1.5.0",
            "_model_name": "ProgressStyleModel",
            "_view_count": null,
            "_view_module": "@jupyter-widgets/base",
            "_view_module_version": "1.2.0",
            "_view_name": "StyleView",
            "bar_color": null,
            "description_width": ""
          }
        },
        "d6f1637f9a34435a80602b6081575ad9": {
          "model_module": "@jupyter-widgets/base",
          "model_module_version": "1.2.0",
          "model_name": "LayoutModel",
          "state": {
            "_model_module": "@jupyter-widgets/base",
            "_model_module_version": "1.2.0",
            "_model_name": "LayoutModel",
            "_view_count": null,
            "_view_module": "@jupyter-widgets/base",
            "_view_module_version": "1.2.0",
            "_view_name": "LayoutView",
            "align_content": null,
            "align_items": null,
            "align_self": null,
            "border": null,
            "bottom": null,
            "display": null,
            "flex": null,
            "flex_flow": null,
            "grid_area": null,
            "grid_auto_columns": null,
            "grid_auto_flow": null,
            "grid_auto_rows": null,
            "grid_column": null,
            "grid_gap": null,
            "grid_row": null,
            "grid_template_areas": null,
            "grid_template_columns": null,
            "grid_template_rows": null,
            "height": null,
            "justify_content": null,
            "justify_items": null,
            "left": null,
            "margin": null,
            "max_height": null,
            "max_width": null,
            "min_height": null,
            "min_width": null,
            "object_fit": null,
            "object_position": null,
            "order": null,
            "overflow": null,
            "overflow_x": null,
            "overflow_y": null,
            "padding": null,
            "right": null,
            "top": null,
            "visibility": null,
            "width": null
          }
        },
        "d73c2498c07d4011b93468a539f94d3a": {
          "model_module": "@jupyter-widgets/controls",
          "model_module_version": "1.5.0",
          "model_name": "FloatProgressModel",
          "state": {
            "_dom_classes": [],
            "_model_module": "@jupyter-widgets/controls",
            "_model_module_version": "1.5.0",
            "_model_name": "FloatProgressModel",
            "_view_count": null,
            "_view_module": "@jupyter-widgets/controls",
            "_view_module_version": "1.5.0",
            "_view_name": "ProgressView",
            "bar_style": "success",
            "description": "",
            "description_tooltip": null,
            "layout": "IPY_MODEL_69de8eb12a92459a80eb75bd02d3fd22",
            "max": 3279,
            "min": 0,
            "orientation": "horizontal",
            "style": "IPY_MODEL_6c775b772647483d9bf588e704fb1eaa",
            "value": 3279
          }
        },
        "d781c99d668e418e9f1156db8478adca": {
          "model_module": "@jupyter-widgets/controls",
          "model_module_version": "1.5.0",
          "model_name": "HTMLModel",
          "state": {
            "_dom_classes": [],
            "_model_module": "@jupyter-widgets/controls",
            "_model_module_version": "1.5.0",
            "_model_name": "HTMLModel",
            "_view_count": null,
            "_view_module": "@jupyter-widgets/controls",
            "_view_module_version": "1.5.0",
            "_view_name": "HTMLView",
            "description": "",
            "description_tooltip": null,
            "layout": "IPY_MODEL_9b9cbf2cfd8d46bb831bf8e66994e7ff",
            "placeholder": "​",
            "style": "IPY_MODEL_117369b30b0b454b8013a3f3f0131ecf",
            "value": " 920/920 [05:22&lt;00:00,  3.55it/s]"
          }
        },
        "dacd2eb98a484f6dbf92794c63e7aa4f": {
          "model_module": "@jupyter-widgets/controls",
          "model_module_version": "1.5.0",
          "model_name": "HTMLModel",
          "state": {
            "_dom_classes": [],
            "_model_module": "@jupyter-widgets/controls",
            "_model_module_version": "1.5.0",
            "_model_name": "HTMLModel",
            "_view_count": null,
            "_view_module": "@jupyter-widgets/controls",
            "_view_module_version": "1.5.0",
            "_view_name": "HTMLView",
            "description": "",
            "description_tooltip": null,
            "layout": "IPY_MODEL_c5e44f32fe264f23bb3cd906ad07a78d",
            "placeholder": "​",
            "style": "IPY_MODEL_ad1889bc1ab34026963fe58aea4309fd",
            "value": " 734/734 [04:38&lt;00:00,  3.02it/s]"
          }
        },
        "dc3c3317fdf54134a5678fa0cb2bcbbe": {
          "model_module": "@jupyter-widgets/base",
          "model_module_version": "1.2.0",
          "model_name": "LayoutModel",
          "state": {
            "_model_module": "@jupyter-widgets/base",
            "_model_module_version": "1.2.0",
            "_model_name": "LayoutModel",
            "_view_count": null,
            "_view_module": "@jupyter-widgets/base",
            "_view_module_version": "1.2.0",
            "_view_name": "LayoutView",
            "align_content": null,
            "align_items": null,
            "align_self": null,
            "border": null,
            "bottom": null,
            "display": null,
            "flex": null,
            "flex_flow": null,
            "grid_area": null,
            "grid_auto_columns": null,
            "grid_auto_flow": null,
            "grid_auto_rows": null,
            "grid_column": null,
            "grid_gap": null,
            "grid_row": null,
            "grid_template_areas": null,
            "grid_template_columns": null,
            "grid_template_rows": null,
            "height": null,
            "justify_content": null,
            "justify_items": null,
            "left": null,
            "margin": null,
            "max_height": null,
            "max_width": null,
            "min_height": null,
            "min_width": null,
            "object_fit": null,
            "object_position": null,
            "order": null,
            "overflow": null,
            "overflow_x": null,
            "overflow_y": null,
            "padding": null,
            "right": null,
            "top": null,
            "visibility": null,
            "width": null
          }
        },
        "dcf84970af2a4a2ea16e708e6144731e": {
          "model_module": "@jupyter-widgets/controls",
          "model_module_version": "1.5.0",
          "model_name": "HBoxModel",
          "state": {
            "_dom_classes": [],
            "_model_module": "@jupyter-widgets/controls",
            "_model_module_version": "1.5.0",
            "_model_name": "HBoxModel",
            "_view_count": null,
            "_view_module": "@jupyter-widgets/controls",
            "_view_module_version": "1.5.0",
            "_view_name": "HBoxView",
            "box_style": "",
            "children": [
              "IPY_MODEL_2a9f5f89b37a4e019ac10f3c6ef301d2",
              "IPY_MODEL_37753a4726a8482eae280db737411b2c",
              "IPY_MODEL_b278a0c003bb43ed9d8b9c85a1b82739"
            ],
            "layout": "IPY_MODEL_4ae758137be6491f94a0166aa7a1abdb"
          }
        },
        "ddcfa3b563aa46d1b75628cc745a21a9": {
          "model_module": "@jupyter-widgets/controls",
          "model_module_version": "1.5.0",
          "model_name": "DescriptionStyleModel",
          "state": {
            "_model_module": "@jupyter-widgets/controls",
            "_model_module_version": "1.5.0",
            "_model_name": "DescriptionStyleModel",
            "_view_count": null,
            "_view_module": "@jupyter-widgets/base",
            "_view_module_version": "1.2.0",
            "_view_name": "StyleView",
            "description_width": ""
          }
        },
        "ded6cf92b68148038f08611a73cbbe9e": {
          "model_module": "@jupyter-widgets/base",
          "model_module_version": "1.2.0",
          "model_name": "LayoutModel",
          "state": {
            "_model_module": "@jupyter-widgets/base",
            "_model_module_version": "1.2.0",
            "_model_name": "LayoutModel",
            "_view_count": null,
            "_view_module": "@jupyter-widgets/base",
            "_view_module_version": "1.2.0",
            "_view_name": "LayoutView",
            "align_content": null,
            "align_items": null,
            "align_self": null,
            "border": null,
            "bottom": null,
            "display": null,
            "flex": null,
            "flex_flow": null,
            "grid_area": null,
            "grid_auto_columns": null,
            "grid_auto_flow": null,
            "grid_auto_rows": null,
            "grid_column": null,
            "grid_gap": null,
            "grid_row": null,
            "grid_template_areas": null,
            "grid_template_columns": null,
            "grid_template_rows": null,
            "height": null,
            "justify_content": null,
            "justify_items": null,
            "left": null,
            "margin": null,
            "max_height": null,
            "max_width": null,
            "min_height": null,
            "min_width": null,
            "object_fit": null,
            "object_position": null,
            "order": null,
            "overflow": null,
            "overflow_x": null,
            "overflow_y": null,
            "padding": null,
            "right": null,
            "top": null,
            "visibility": null,
            "width": null
          }
        },
        "deda9ef12b9c45f69be10a6494709a94": {
          "model_module": "@jupyter-widgets/controls",
          "model_module_version": "1.5.0",
          "model_name": "HTMLModel",
          "state": {
            "_dom_classes": [],
            "_model_module": "@jupyter-widgets/controls",
            "_model_module_version": "1.5.0",
            "_model_name": "HTMLModel",
            "_view_count": null,
            "_view_module": "@jupyter-widgets/controls",
            "_view_module_version": "1.5.0",
            "_view_name": "HTMLView",
            "description": "",
            "description_tooltip": null,
            "layout": "IPY_MODEL_c1aff781dc9843999f2ad3f2630b59b5",
            "placeholder": "​",
            "style": "IPY_MODEL_b680a95d84ac47e089c2e273e57e6413",
            "value": " 734/734 [04:39&lt;00:00,  3.08it/s]"
          }
        },
        "df1c39bcb33449c3b0af0ac5e64c850f": {
          "model_module": "@jupyter-widgets/base",
          "model_module_version": "1.2.0",
          "model_name": "LayoutModel",
          "state": {
            "_model_module": "@jupyter-widgets/base",
            "_model_module_version": "1.2.0",
            "_model_name": "LayoutModel",
            "_view_count": null,
            "_view_module": "@jupyter-widgets/base",
            "_view_module_version": "1.2.0",
            "_view_name": "LayoutView",
            "align_content": null,
            "align_items": null,
            "align_self": null,
            "border": null,
            "bottom": null,
            "display": null,
            "flex": null,
            "flex_flow": null,
            "grid_area": null,
            "grid_auto_columns": null,
            "grid_auto_flow": null,
            "grid_auto_rows": null,
            "grid_column": null,
            "grid_gap": null,
            "grid_row": null,
            "grid_template_areas": null,
            "grid_template_columns": null,
            "grid_template_rows": null,
            "height": null,
            "justify_content": null,
            "justify_items": null,
            "left": null,
            "margin": null,
            "max_height": null,
            "max_width": null,
            "min_height": null,
            "min_width": null,
            "object_fit": null,
            "object_position": null,
            "order": null,
            "overflow": null,
            "overflow_x": null,
            "overflow_y": null,
            "padding": null,
            "right": null,
            "top": null,
            "visibility": null,
            "width": null
          }
        },
        "dfa6cc500ac24289a333aba45050c548": {
          "model_module": "@jupyter-widgets/base",
          "model_module_version": "1.2.0",
          "model_name": "LayoutModel",
          "state": {
            "_model_module": "@jupyter-widgets/base",
            "_model_module_version": "1.2.0",
            "_model_name": "LayoutModel",
            "_view_count": null,
            "_view_module": "@jupyter-widgets/base",
            "_view_module_version": "1.2.0",
            "_view_name": "LayoutView",
            "align_content": null,
            "align_items": null,
            "align_self": null,
            "border": null,
            "bottom": null,
            "display": null,
            "flex": null,
            "flex_flow": null,
            "grid_area": null,
            "grid_auto_columns": null,
            "grid_auto_flow": null,
            "grid_auto_rows": null,
            "grid_column": null,
            "grid_gap": null,
            "grid_row": null,
            "grid_template_areas": null,
            "grid_template_columns": null,
            "grid_template_rows": null,
            "height": null,
            "justify_content": null,
            "justify_items": null,
            "left": null,
            "margin": null,
            "max_height": null,
            "max_width": null,
            "min_height": null,
            "min_width": null,
            "object_fit": null,
            "object_position": null,
            "order": null,
            "overflow": null,
            "overflow_x": null,
            "overflow_y": null,
            "padding": null,
            "right": null,
            "top": null,
            "visibility": null,
            "width": null
          }
        },
        "e0501e7208cf418bb65162ac2d562142": {
          "model_module": "@jupyter-widgets/base",
          "model_module_version": "1.2.0",
          "model_name": "LayoutModel",
          "state": {
            "_model_module": "@jupyter-widgets/base",
            "_model_module_version": "1.2.0",
            "_model_name": "LayoutModel",
            "_view_count": null,
            "_view_module": "@jupyter-widgets/base",
            "_view_module_version": "1.2.0",
            "_view_name": "LayoutView",
            "align_content": null,
            "align_items": null,
            "align_self": null,
            "border": null,
            "bottom": null,
            "display": null,
            "flex": null,
            "flex_flow": null,
            "grid_area": null,
            "grid_auto_columns": null,
            "grid_auto_flow": null,
            "grid_auto_rows": null,
            "grid_column": null,
            "grid_gap": null,
            "grid_row": null,
            "grid_template_areas": null,
            "grid_template_columns": null,
            "grid_template_rows": null,
            "height": null,
            "justify_content": null,
            "justify_items": null,
            "left": null,
            "margin": null,
            "max_height": null,
            "max_width": null,
            "min_height": null,
            "min_width": null,
            "object_fit": null,
            "object_position": null,
            "order": null,
            "overflow": null,
            "overflow_x": null,
            "overflow_y": null,
            "padding": null,
            "right": null,
            "top": null,
            "visibility": null,
            "width": null
          }
        },
        "e08130b00f4742ecacb2c1ce54e76bd9": {
          "model_module": "@jupyter-widgets/base",
          "model_module_version": "1.2.0",
          "model_name": "LayoutModel",
          "state": {
            "_model_module": "@jupyter-widgets/base",
            "_model_module_version": "1.2.0",
            "_model_name": "LayoutModel",
            "_view_count": null,
            "_view_module": "@jupyter-widgets/base",
            "_view_module_version": "1.2.0",
            "_view_name": "LayoutView",
            "align_content": null,
            "align_items": null,
            "align_self": null,
            "border": null,
            "bottom": null,
            "display": null,
            "flex": null,
            "flex_flow": null,
            "grid_area": null,
            "grid_auto_columns": null,
            "grid_auto_flow": null,
            "grid_auto_rows": null,
            "grid_column": null,
            "grid_gap": null,
            "grid_row": null,
            "grid_template_areas": null,
            "grid_template_columns": null,
            "grid_template_rows": null,
            "height": null,
            "justify_content": null,
            "justify_items": null,
            "left": null,
            "margin": null,
            "max_height": null,
            "max_width": null,
            "min_height": null,
            "min_width": null,
            "object_fit": null,
            "object_position": null,
            "order": null,
            "overflow": null,
            "overflow_x": null,
            "overflow_y": null,
            "padding": null,
            "right": null,
            "top": null,
            "visibility": null,
            "width": null
          }
        },
        "e0b0d654f9ba4dd1afe8e9830f9bff43": {
          "model_module": "@jupyter-widgets/base",
          "model_module_version": "1.2.0",
          "model_name": "LayoutModel",
          "state": {
            "_model_module": "@jupyter-widgets/base",
            "_model_module_version": "1.2.0",
            "_model_name": "LayoutModel",
            "_view_count": null,
            "_view_module": "@jupyter-widgets/base",
            "_view_module_version": "1.2.0",
            "_view_name": "LayoutView",
            "align_content": null,
            "align_items": null,
            "align_self": null,
            "border": null,
            "bottom": null,
            "display": null,
            "flex": null,
            "flex_flow": null,
            "grid_area": null,
            "grid_auto_columns": null,
            "grid_auto_flow": null,
            "grid_auto_rows": null,
            "grid_column": null,
            "grid_gap": null,
            "grid_row": null,
            "grid_template_areas": null,
            "grid_template_columns": null,
            "grid_template_rows": null,
            "height": null,
            "justify_content": null,
            "justify_items": null,
            "left": null,
            "margin": null,
            "max_height": null,
            "max_width": null,
            "min_height": null,
            "min_width": null,
            "object_fit": null,
            "object_position": null,
            "order": null,
            "overflow": null,
            "overflow_x": null,
            "overflow_y": null,
            "padding": null,
            "right": null,
            "top": null,
            "visibility": null,
            "width": null
          }
        },
        "e0fbbf982bfc46aca3b219be2939fb5a": {
          "model_module": "@jupyter-widgets/base",
          "model_module_version": "1.2.0",
          "model_name": "LayoutModel",
          "state": {
            "_model_module": "@jupyter-widgets/base",
            "_model_module_version": "1.2.0",
            "_model_name": "LayoutModel",
            "_view_count": null,
            "_view_module": "@jupyter-widgets/base",
            "_view_module_version": "1.2.0",
            "_view_name": "LayoutView",
            "align_content": null,
            "align_items": null,
            "align_self": null,
            "border": null,
            "bottom": null,
            "display": null,
            "flex": null,
            "flex_flow": null,
            "grid_area": null,
            "grid_auto_columns": null,
            "grid_auto_flow": null,
            "grid_auto_rows": null,
            "grid_column": null,
            "grid_gap": null,
            "grid_row": null,
            "grid_template_areas": null,
            "grid_template_columns": null,
            "grid_template_rows": null,
            "height": null,
            "justify_content": null,
            "justify_items": null,
            "left": null,
            "margin": null,
            "max_height": null,
            "max_width": null,
            "min_height": null,
            "min_width": null,
            "object_fit": null,
            "object_position": null,
            "order": null,
            "overflow": null,
            "overflow_x": null,
            "overflow_y": null,
            "padding": null,
            "right": null,
            "top": null,
            "visibility": null,
            "width": null
          }
        },
        "e36ae1de00464708859c612b68958534": {
          "model_module": "@jupyter-widgets/controls",
          "model_module_version": "1.5.0",
          "model_name": "HTMLModel",
          "state": {
            "_dom_classes": [],
            "_model_module": "@jupyter-widgets/controls",
            "_model_module_version": "1.5.0",
            "_model_name": "HTMLModel",
            "_view_count": null,
            "_view_module": "@jupyter-widgets/controls",
            "_view_module_version": "1.5.0",
            "_view_name": "HTMLView",
            "description": "",
            "description_tooltip": null,
            "layout": "IPY_MODEL_e0501e7208cf418bb65162ac2d562142",
            "placeholder": "​",
            "style": "IPY_MODEL_ddcfa3b563aa46d1b75628cc745a21a9",
            "value": " 646/646 [03:41&lt;00:00,  3.12it/s]"
          }
        },
        "e41bef74ea9545308be3eb5a8c91a763": {
          "model_module": "@jupyter-widgets/controls",
          "model_module_version": "1.5.0",
          "model_name": "DescriptionStyleModel",
          "state": {
            "_model_module": "@jupyter-widgets/controls",
            "_model_module_version": "1.5.0",
            "_model_name": "DescriptionStyleModel",
            "_view_count": null,
            "_view_module": "@jupyter-widgets/base",
            "_view_module_version": "1.2.0",
            "_view_name": "StyleView",
            "description_width": ""
          }
        },
        "e494cb1bcd764873bd5f5e930e251e67": {
          "model_module": "@jupyter-widgets/controls",
          "model_module_version": "1.5.0",
          "model_name": "FloatProgressModel",
          "state": {
            "_dom_classes": [],
            "_model_module": "@jupyter-widgets/controls",
            "_model_module_version": "1.5.0",
            "_model_name": "FloatProgressModel",
            "_view_count": null,
            "_view_module": "@jupyter-widgets/controls",
            "_view_module_version": "1.5.0",
            "_view_name": "ProgressView",
            "bar_style": "success",
            "description": "",
            "description_tooltip": null,
            "layout": "IPY_MODEL_a31ae84181e34c4e891c7b7b63e5139d",
            "max": 734,
            "min": 0,
            "orientation": "horizontal",
            "style": "IPY_MODEL_2f86b5eeedb5419a9c5c526ec6f7fc21",
            "value": 734
          }
        },
        "e4f1a08671eb4ffeb9c5d162c27439a8": {
          "model_module": "@jupyter-widgets/controls",
          "model_module_version": "1.5.0",
          "model_name": "FloatProgressModel",
          "state": {
            "_dom_classes": [],
            "_model_module": "@jupyter-widgets/controls",
            "_model_module_version": "1.5.0",
            "_model_name": "FloatProgressModel",
            "_view_count": null,
            "_view_module": "@jupyter-widgets/controls",
            "_view_module_version": "1.5.0",
            "_view_name": "ProgressView",
            "bar_style": "success",
            "description": "",
            "description_tooltip": null,
            "layout": "IPY_MODEL_4dfa2b21c8cb4b99b6b7c2d1d0ae9aeb",
            "max": 3281,
            "min": 0,
            "orientation": "horizontal",
            "style": "IPY_MODEL_eb259842bcbe41aeb8716103170b64b7",
            "value": 3281
          }
        },
        "e55e61b37f9444daba71845a363770eb": {
          "model_module": "@jupyter-widgets/controls",
          "model_module_version": "1.5.0",
          "model_name": "DescriptionStyleModel",
          "state": {
            "_model_module": "@jupyter-widgets/controls",
            "_model_module_version": "1.5.0",
            "_model_name": "DescriptionStyleModel",
            "_view_count": null,
            "_view_module": "@jupyter-widgets/base",
            "_view_module_version": "1.2.0",
            "_view_name": "StyleView",
            "description_width": ""
          }
        },
        "e5a4bad0b8934f308238e69cf6fbc481": {
          "model_module": "@jupyter-widgets/controls",
          "model_module_version": "1.5.0",
          "model_name": "FloatProgressModel",
          "state": {
            "_dom_classes": [],
            "_model_module": "@jupyter-widgets/controls",
            "_model_module_version": "1.5.0",
            "_model_name": "FloatProgressModel",
            "_view_count": null,
            "_view_module": "@jupyter-widgets/controls",
            "_view_module_version": "1.5.0",
            "_view_name": "ProgressView",
            "bar_style": "success",
            "description": "",
            "description_tooltip": null,
            "layout": "IPY_MODEL_15a1b9b1b5a44a4da0005d575bd28e72",
            "max": 646,
            "min": 0,
            "orientation": "horizontal",
            "style": "IPY_MODEL_b08bdedcb1774296a1ff77d5488fb7e7",
            "value": 646
          }
        },
        "e79e1b2a91e64bd0beea033184fcb9ce": {
          "model_module": "@jupyter-widgets/controls",
          "model_module_version": "1.5.0",
          "model_name": "DescriptionStyleModel",
          "state": {
            "_model_module": "@jupyter-widgets/controls",
            "_model_module_version": "1.5.0",
            "_model_name": "DescriptionStyleModel",
            "_view_count": null,
            "_view_module": "@jupyter-widgets/base",
            "_view_module_version": "1.2.0",
            "_view_name": "StyleView",
            "description_width": ""
          }
        },
        "e7dd9f811af54db7ae1657b14318941a": {
          "model_module": "@jupyter-widgets/controls",
          "model_module_version": "1.5.0",
          "model_name": "HTMLModel",
          "state": {
            "_dom_classes": [],
            "_model_module": "@jupyter-widgets/controls",
            "_model_module_version": "1.5.0",
            "_model_name": "HTMLModel",
            "_view_count": null,
            "_view_module": "@jupyter-widgets/controls",
            "_view_module_version": "1.5.0",
            "_view_name": "HTMLView",
            "description": "",
            "description_tooltip": null,
            "layout": "IPY_MODEL_d39e8007be3647e2aecc744a3b33ad97",
            "placeholder": "​",
            "style": "IPY_MODEL_9b2b0251b6c44019a6f166d7df46e885",
            "value": "100%"
          }
        },
        "e8fac9858bfd42d3a8bce1fed862a599": {
          "model_module": "@jupyter-widgets/controls",
          "model_module_version": "1.5.0",
          "model_name": "DescriptionStyleModel",
          "state": {
            "_model_module": "@jupyter-widgets/controls",
            "_model_module_version": "1.5.0",
            "_model_name": "DescriptionStyleModel",
            "_view_count": null,
            "_view_module": "@jupyter-widgets/base",
            "_view_module_version": "1.2.0",
            "_view_name": "StyleView",
            "description_width": ""
          }
        },
        "e9b51439db3545038b276314cccfd356": {
          "model_module": "@jupyter-widgets/base",
          "model_module_version": "1.2.0",
          "model_name": "LayoutModel",
          "state": {
            "_model_module": "@jupyter-widgets/base",
            "_model_module_version": "1.2.0",
            "_model_name": "LayoutModel",
            "_view_count": null,
            "_view_module": "@jupyter-widgets/base",
            "_view_module_version": "1.2.0",
            "_view_name": "LayoutView",
            "align_content": null,
            "align_items": null,
            "align_self": null,
            "border": null,
            "bottom": null,
            "display": null,
            "flex": null,
            "flex_flow": null,
            "grid_area": null,
            "grid_auto_columns": null,
            "grid_auto_flow": null,
            "grid_auto_rows": null,
            "grid_column": null,
            "grid_gap": null,
            "grid_row": null,
            "grid_template_areas": null,
            "grid_template_columns": null,
            "grid_template_rows": null,
            "height": null,
            "justify_content": null,
            "justify_items": null,
            "left": null,
            "margin": null,
            "max_height": null,
            "max_width": null,
            "min_height": null,
            "min_width": null,
            "object_fit": null,
            "object_position": null,
            "order": null,
            "overflow": null,
            "overflow_x": null,
            "overflow_y": null,
            "padding": null,
            "right": null,
            "top": null,
            "visibility": null,
            "width": null
          }
        },
        "eae3e9c5fd4d4eafb4a60a37a9bf03fc": {
          "model_module": "@jupyter-widgets/controls",
          "model_module_version": "1.5.0",
          "model_name": "HBoxModel",
          "state": {
            "_dom_classes": [],
            "_model_module": "@jupyter-widgets/controls",
            "_model_module_version": "1.5.0",
            "_model_name": "HBoxModel",
            "_view_count": null,
            "_view_module": "@jupyter-widgets/controls",
            "_view_module_version": "1.5.0",
            "_view_name": "HBoxView",
            "box_style": "",
            "children": [
              "IPY_MODEL_4dc7f21a8e694c119772a41eb71fa6c3",
              "IPY_MODEL_7209b7aa457f455aaf5cd9a8df7f8197",
              "IPY_MODEL_b686337f804343eea79352dd8de48132"
            ],
            "layout": "IPY_MODEL_5138b30885fc4a9cbca188ae9b4bd68b"
          }
        },
        "eb259842bcbe41aeb8716103170b64b7": {
          "model_module": "@jupyter-widgets/controls",
          "model_module_version": "1.5.0",
          "model_name": "ProgressStyleModel",
          "state": {
            "_model_module": "@jupyter-widgets/controls",
            "_model_module_version": "1.5.0",
            "_model_name": "ProgressStyleModel",
            "_view_count": null,
            "_view_module": "@jupyter-widgets/base",
            "_view_module_version": "1.2.0",
            "_view_name": "StyleView",
            "bar_color": null,
            "description_width": ""
          }
        },
        "ebbfb97670364db2a327f4341899ad76": {
          "model_module": "@jupyter-widgets/controls",
          "model_module_version": "1.5.0",
          "model_name": "DescriptionStyleModel",
          "state": {
            "_model_module": "@jupyter-widgets/controls",
            "_model_module_version": "1.5.0",
            "_model_name": "DescriptionStyleModel",
            "_view_count": null,
            "_view_module": "@jupyter-widgets/base",
            "_view_module_version": "1.2.0",
            "_view_name": "StyleView",
            "description_width": ""
          }
        },
        "ec0808427f6441bfb968ab9312b2191c": {
          "model_module": "@jupyter-widgets/controls",
          "model_module_version": "1.5.0",
          "model_name": "ProgressStyleModel",
          "state": {
            "_model_module": "@jupyter-widgets/controls",
            "_model_module_version": "1.5.0",
            "_model_name": "ProgressStyleModel",
            "_view_count": null,
            "_view_module": "@jupyter-widgets/base",
            "_view_module_version": "1.2.0",
            "_view_name": "StyleView",
            "bar_color": null,
            "description_width": ""
          }
        },
        "ec0a1f6591c742219938c2fdfff56d48": {
          "model_module": "@jupyter-widgets/controls",
          "model_module_version": "1.5.0",
          "model_name": "DescriptionStyleModel",
          "state": {
            "_model_module": "@jupyter-widgets/controls",
            "_model_module_version": "1.5.0",
            "_model_name": "DescriptionStyleModel",
            "_view_count": null,
            "_view_module": "@jupyter-widgets/base",
            "_view_module_version": "1.2.0",
            "_view_name": "StyleView",
            "description_width": ""
          }
        },
        "ec84fca9374c49efaba0f263c27440a2": {
          "model_module": "@jupyter-widgets/controls",
          "model_module_version": "1.5.0",
          "model_name": "HBoxModel",
          "state": {
            "_dom_classes": [],
            "_model_module": "@jupyter-widgets/controls",
            "_model_module_version": "1.5.0",
            "_model_name": "HBoxModel",
            "_view_count": null,
            "_view_module": "@jupyter-widgets/controls",
            "_view_module_version": "1.5.0",
            "_view_name": "HBoxView",
            "box_style": "",
            "children": [
              "IPY_MODEL_3b80fc2ae2fa4d8dbde71e64291b2170",
              "IPY_MODEL_bc081b9aaacc4b4cafda6ef3338bf215",
              "IPY_MODEL_85ca2a70907a44899de23be250d3e8fe"
            ],
            "layout": "IPY_MODEL_bae9775d1d0f455fb7bce195636b26a4"
          }
        },
        "ec867fbb6d8d430186d839967ea905af": {
          "model_module": "@jupyter-widgets/controls",
          "model_module_version": "1.5.0",
          "model_name": "FloatProgressModel",
          "state": {
            "_dom_classes": [],
            "_model_module": "@jupyter-widgets/controls",
            "_model_module_version": "1.5.0",
            "_model_name": "FloatProgressModel",
            "_view_count": null,
            "_view_module": "@jupyter-widgets/controls",
            "_view_module_version": "1.5.0",
            "_view_name": "ProgressView",
            "bar_style": "success",
            "description": "",
            "description_tooltip": null,
            "layout": "IPY_MODEL_87eff8e0f56f4bafba27cf6300810972",
            "max": 734,
            "min": 0,
            "orientation": "horizontal",
            "style": "IPY_MODEL_37883047939a48c596734ba088367ee3",
            "value": 734
          }
        },
        "ecbb16b366d44874acd6c5df5178dba3": {
          "model_module": "@jupyter-widgets/base",
          "model_module_version": "1.2.0",
          "model_name": "LayoutModel",
          "state": {
            "_model_module": "@jupyter-widgets/base",
            "_model_module_version": "1.2.0",
            "_model_name": "LayoutModel",
            "_view_count": null,
            "_view_module": "@jupyter-widgets/base",
            "_view_module_version": "1.2.0",
            "_view_name": "LayoutView",
            "align_content": null,
            "align_items": null,
            "align_self": null,
            "border": null,
            "bottom": null,
            "display": null,
            "flex": null,
            "flex_flow": null,
            "grid_area": null,
            "grid_auto_columns": null,
            "grid_auto_flow": null,
            "grid_auto_rows": null,
            "grid_column": null,
            "grid_gap": null,
            "grid_row": null,
            "grid_template_areas": null,
            "grid_template_columns": null,
            "grid_template_rows": null,
            "height": null,
            "justify_content": null,
            "justify_items": null,
            "left": null,
            "margin": null,
            "max_height": null,
            "max_width": null,
            "min_height": null,
            "min_width": null,
            "object_fit": null,
            "object_position": null,
            "order": null,
            "overflow": null,
            "overflow_x": null,
            "overflow_y": null,
            "padding": null,
            "right": null,
            "top": null,
            "visibility": null,
            "width": null
          }
        },
        "ed87699f9e99418491a8b1aaedc8b0d5": {
          "model_module": "@jupyter-widgets/controls",
          "model_module_version": "1.5.0",
          "model_name": "ProgressStyleModel",
          "state": {
            "_model_module": "@jupyter-widgets/controls",
            "_model_module_version": "1.5.0",
            "_model_name": "ProgressStyleModel",
            "_view_count": null,
            "_view_module": "@jupyter-widgets/base",
            "_view_module_version": "1.2.0",
            "_view_name": "StyleView",
            "bar_color": null,
            "description_width": ""
          }
        },
        "ee24047449ad4d2892891af645687f0e": {
          "model_module": "@jupyter-widgets/controls",
          "model_module_version": "1.5.0",
          "model_name": "HTMLModel",
          "state": {
            "_dom_classes": [],
            "_model_module": "@jupyter-widgets/controls",
            "_model_module_version": "1.5.0",
            "_model_name": "HTMLModel",
            "_view_count": null,
            "_view_module": "@jupyter-widgets/controls",
            "_view_module_version": "1.5.0",
            "_view_name": "HTMLView",
            "description": "",
            "description_tooltip": null,
            "layout": "IPY_MODEL_c50d880230294fa39f1e570ec622eb11",
            "placeholder": "​",
            "style": "IPY_MODEL_95aca52ebf4940e79febcd4c055975e3",
            "value": "100%"
          }
        },
        "eed222e09fcb4be2b568574091886785": {
          "model_module": "@jupyter-widgets/controls",
          "model_module_version": "1.5.0",
          "model_name": "HTMLModel",
          "state": {
            "_dom_classes": [],
            "_model_module": "@jupyter-widgets/controls",
            "_model_module_version": "1.5.0",
            "_model_name": "HTMLModel",
            "_view_count": null,
            "_view_module": "@jupyter-widgets/controls",
            "_view_module_version": "1.5.0",
            "_view_name": "HTMLView",
            "description": "",
            "description_tooltip": null,
            "layout": "IPY_MODEL_cd79ab3c335b419c8104bb6b846e8a90",
            "placeholder": "​",
            "style": "IPY_MODEL_e41bef74ea9545308be3eb5a8c91a763",
            "value": "100%"
          }
        },
        "f0c92531b03f4373babe9349dff6603b": {
          "model_module": "@jupyter-widgets/base",
          "model_module_version": "1.2.0",
          "model_name": "LayoutModel",
          "state": {
            "_model_module": "@jupyter-widgets/base",
            "_model_module_version": "1.2.0",
            "_model_name": "LayoutModel",
            "_view_count": null,
            "_view_module": "@jupyter-widgets/base",
            "_view_module_version": "1.2.0",
            "_view_name": "LayoutView",
            "align_content": null,
            "align_items": null,
            "align_self": null,
            "border": null,
            "bottom": null,
            "display": null,
            "flex": null,
            "flex_flow": null,
            "grid_area": null,
            "grid_auto_columns": null,
            "grid_auto_flow": null,
            "grid_auto_rows": null,
            "grid_column": null,
            "grid_gap": null,
            "grid_row": null,
            "grid_template_areas": null,
            "grid_template_columns": null,
            "grid_template_rows": null,
            "height": null,
            "justify_content": null,
            "justify_items": null,
            "left": null,
            "margin": null,
            "max_height": null,
            "max_width": null,
            "min_height": null,
            "min_width": null,
            "object_fit": null,
            "object_position": null,
            "order": null,
            "overflow": null,
            "overflow_x": null,
            "overflow_y": null,
            "padding": null,
            "right": null,
            "top": null,
            "visibility": null,
            "width": null
          }
        },
        "f189bd914d7e40439ec5f20cd5e584dc": {
          "model_module": "@jupyter-widgets/controls",
          "model_module_version": "1.5.0",
          "model_name": "HTMLModel",
          "state": {
            "_dom_classes": [],
            "_model_module": "@jupyter-widgets/controls",
            "_model_module_version": "1.5.0",
            "_model_name": "HTMLModel",
            "_view_count": null,
            "_view_module": "@jupyter-widgets/controls",
            "_view_module_version": "1.5.0",
            "_view_name": "HTMLView",
            "description": "",
            "description_tooltip": null,
            "layout": "IPY_MODEL_d6f1637f9a34435a80602b6081575ad9",
            "placeholder": "​",
            "style": "IPY_MODEL_b24b6a82338e4e61b084044e44ffd81f",
            "value": "100%"
          }
        },
        "f2f486aa3e854ffeba0bb05b3aff7cda": {
          "model_module": "@jupyter-widgets/base",
          "model_module_version": "1.2.0",
          "model_name": "LayoutModel",
          "state": {
            "_model_module": "@jupyter-widgets/base",
            "_model_module_version": "1.2.0",
            "_model_name": "LayoutModel",
            "_view_count": null,
            "_view_module": "@jupyter-widgets/base",
            "_view_module_version": "1.2.0",
            "_view_name": "LayoutView",
            "align_content": null,
            "align_items": null,
            "align_self": null,
            "border": null,
            "bottom": null,
            "display": null,
            "flex": null,
            "flex_flow": null,
            "grid_area": null,
            "grid_auto_columns": null,
            "grid_auto_flow": null,
            "grid_auto_rows": null,
            "grid_column": null,
            "grid_gap": null,
            "grid_row": null,
            "grid_template_areas": null,
            "grid_template_columns": null,
            "grid_template_rows": null,
            "height": null,
            "justify_content": null,
            "justify_items": null,
            "left": null,
            "margin": null,
            "max_height": null,
            "max_width": null,
            "min_height": null,
            "min_width": null,
            "object_fit": null,
            "object_position": null,
            "order": null,
            "overflow": null,
            "overflow_x": null,
            "overflow_y": null,
            "padding": null,
            "right": null,
            "top": null,
            "visibility": null,
            "width": null
          }
        },
        "f50192bd94df467bb11222872b6bfaa1": {
          "model_module": "@jupyter-widgets/controls",
          "model_module_version": "1.5.0",
          "model_name": "HBoxModel",
          "state": {
            "_dom_classes": [],
            "_model_module": "@jupyter-widgets/controls",
            "_model_module_version": "1.5.0",
            "_model_name": "HBoxModel",
            "_view_count": null,
            "_view_module": "@jupyter-widgets/controls",
            "_view_module_version": "1.5.0",
            "_view_name": "HBoxView",
            "box_style": "",
            "children": [
              "IPY_MODEL_5bf5c22cb0244a1d86706f0d6213603f",
              "IPY_MODEL_c0265c48b3104a10b629c5b844b4cfae",
              "IPY_MODEL_533892765bb34382ad749477933878c1"
            ],
            "layout": "IPY_MODEL_c209bd2f83444ebe99ffd8fcd8f3bd2e"
          }
        },
        "f54e3539a1a54224b779d8478032df16": {
          "model_module": "@jupyter-widgets/base",
          "model_module_version": "1.2.0",
          "model_name": "LayoutModel",
          "state": {
            "_model_module": "@jupyter-widgets/base",
            "_model_module_version": "1.2.0",
            "_model_name": "LayoutModel",
            "_view_count": null,
            "_view_module": "@jupyter-widgets/base",
            "_view_module_version": "1.2.0",
            "_view_name": "LayoutView",
            "align_content": null,
            "align_items": null,
            "align_self": null,
            "border": null,
            "bottom": null,
            "display": null,
            "flex": null,
            "flex_flow": null,
            "grid_area": null,
            "grid_auto_columns": null,
            "grid_auto_flow": null,
            "grid_auto_rows": null,
            "grid_column": null,
            "grid_gap": null,
            "grid_row": null,
            "grid_template_areas": null,
            "grid_template_columns": null,
            "grid_template_rows": null,
            "height": null,
            "justify_content": null,
            "justify_items": null,
            "left": null,
            "margin": null,
            "max_height": null,
            "max_width": null,
            "min_height": null,
            "min_width": null,
            "object_fit": null,
            "object_position": null,
            "order": null,
            "overflow": null,
            "overflow_x": null,
            "overflow_y": null,
            "padding": null,
            "right": null,
            "top": null,
            "visibility": null,
            "width": null
          }
        },
        "fa282d5059234965b2d0e96d3c800830": {
          "model_module": "@jupyter-widgets/controls",
          "model_module_version": "1.5.0",
          "model_name": "HBoxModel",
          "state": {
            "_dom_classes": [],
            "_model_module": "@jupyter-widgets/controls",
            "_model_module_version": "1.5.0",
            "_model_name": "HBoxModel",
            "_view_count": null,
            "_view_module": "@jupyter-widgets/controls",
            "_view_module_version": "1.5.0",
            "_view_name": "HBoxView",
            "box_style": "",
            "children": [
              "IPY_MODEL_49314b8925924bbda913b4320f41ac5c",
              "IPY_MODEL_c912a2b81f82412aa9e63feb8ef465a2",
              "IPY_MODEL_7c0037bbb2274035885a03ebf414a3c5"
            ],
            "layout": "IPY_MODEL_8efccc304c4c4bba9af205710ce8b226"
          }
        },
        "fb7075dc8a03492f89588071c6fa4765": {
          "model_module": "@jupyter-widgets/controls",
          "model_module_version": "1.5.0",
          "model_name": "ProgressStyleModel",
          "state": {
            "_model_module": "@jupyter-widgets/controls",
            "_model_module_version": "1.5.0",
            "_model_name": "ProgressStyleModel",
            "_view_count": null,
            "_view_module": "@jupyter-widgets/base",
            "_view_module_version": "1.2.0",
            "_view_name": "StyleView",
            "bar_color": null,
            "description_width": ""
          }
        },
        "fcb18986e00c4b1d80863d10a6e45f83": {
          "model_module": "@jupyter-widgets/controls",
          "model_module_version": "1.5.0",
          "model_name": "FloatProgressModel",
          "state": {
            "_dom_classes": [],
            "_model_module": "@jupyter-widgets/controls",
            "_model_module_version": "1.5.0",
            "_model_name": "FloatProgressModel",
            "_view_count": null,
            "_view_module": "@jupyter-widgets/controls",
            "_view_module_version": "1.5.0",
            "_view_name": "ProgressView",
            "bar_style": "success",
            "description": "",
            "description_tooltip": null,
            "layout": "IPY_MODEL_782d11f240784a45a39d56b2970a90eb",
            "max": 1230,
            "min": 0,
            "orientation": "horizontal",
            "style": "IPY_MODEL_a5ce6782c97c4375b88621d998d13e0e",
            "value": 1230
          }
        },
        "fe75eaa4360b454e92f85ffefc8357e2": {
          "model_module": "@jupyter-widgets/controls",
          "model_module_version": "1.5.0",
          "model_name": "HTMLModel",
          "state": {
            "_dom_classes": [],
            "_model_module": "@jupyter-widgets/controls",
            "_model_module_version": "1.5.0",
            "_model_name": "HTMLModel",
            "_view_count": null,
            "_view_module": "@jupyter-widgets/controls",
            "_view_module_version": "1.5.0",
            "_view_name": "HTMLView",
            "description": "",
            "description_tooltip": null,
            "layout": "IPY_MODEL_7686426bb1fa474d96789981e95d3529",
            "placeholder": "​",
            "style": "IPY_MODEL_b21bee780a214ecd906c96f02f7de618",
            "value": "100%"
          }
        },
        "fe8b6e8cedaa45af9729fe1723781537": {
          "model_module": "@jupyter-widgets/controls",
          "model_module_version": "1.5.0",
          "model_name": "HBoxModel",
          "state": {
            "_dom_classes": [],
            "_model_module": "@jupyter-widgets/controls",
            "_model_module_version": "1.5.0",
            "_model_name": "HBoxModel",
            "_view_count": null,
            "_view_module": "@jupyter-widgets/controls",
            "_view_module_version": "1.5.0",
            "_view_name": "HBoxView",
            "box_style": "",
            "children": [
              "IPY_MODEL_fe75eaa4360b454e92f85ffefc8357e2",
              "IPY_MODEL_09ab4bde97204916a369cfb85d5d7e67",
              "IPY_MODEL_d781c99d668e418e9f1156db8478adca"
            ],
            "layout": "IPY_MODEL_565a280efb27496db71f4fd9ad5dc9b0"
          }
        },
        "ff5cb10218314419bcb72a7107468325": {
          "model_module": "@jupyter-widgets/controls",
          "model_module_version": "1.5.0",
          "model_name": "ProgressStyleModel",
          "state": {
            "_model_module": "@jupyter-widgets/controls",
            "_model_module_version": "1.5.0",
            "_model_name": "ProgressStyleModel",
            "_view_count": null,
            "_view_module": "@jupyter-widgets/base",
            "_view_module_version": "1.2.0",
            "_view_name": "StyleView",
            "bar_color": null,
            "description_width": ""
          }
        },
        "ff7c0b4ee41f40aa909c8f8b62bc7d19": {
          "model_module": "@jupyter-widgets/controls",
          "model_module_version": "1.5.0",
          "model_name": "HBoxModel",
          "state": {
            "_dom_classes": [],
            "_model_module": "@jupyter-widgets/controls",
            "_model_module_version": "1.5.0",
            "_model_name": "HBoxModel",
            "_view_count": null,
            "_view_module": "@jupyter-widgets/controls",
            "_view_module_version": "1.5.0",
            "_view_name": "HBoxView",
            "box_style": "",
            "children": [
              "IPY_MODEL_62b0809f6e474e9285d402ce420624f4",
              "IPY_MODEL_a7e67b3faa97440496d64afcc43ef84e",
              "IPY_MODEL_51a40fceb8c44655837ccfecd6f5bcdd"
            ],
            "layout": "IPY_MODEL_ac1b73cb0f544f908936bd0f48c04d6c"
          }
        }
      }
    }
  },
  "nbformat": 4,
  "nbformat_minor": 0
}
